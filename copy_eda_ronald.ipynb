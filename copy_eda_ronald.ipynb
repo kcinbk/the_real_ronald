{
 "cells": [
  {
   "cell_type": "code",
   "execution_count": 2,
   "metadata": {},
   "outputs": [],
   "source": [
    "import pandas as pd\n",
    "pd.set_option(\"display.max_colwidth\", None)\n",
    "pd.set_option(\"display.max_rows\", 50)\n",
    "\n",
    "import json\n",
    "import numpy as np\n",
    "import matplotlib.pyplot as plt\n",
    "import seaborn as sns\n",
    "\n",
    "import datetime\n",
    "from datetime import datetime as dt\n",
    "import glob\n",
    "import os"
   ]
  },
  {
   "cell_type": "code",
   "execution_count": 3,
   "metadata": {},
   "outputs": [],
   "source": [
    "# importing json files\n",
    "\n",
    "dfs=[]\n",
    "for file in glob.glob(\"data/*.json\"):\n",
    "    dataframe = pd.read_json(file)['posts']\n",
    "    # flatten the structure\n",
    "    dataframe = pd.json_normalize(dataframe)\n",
    "    # insert file names\n",
    "    dataframe['file_name'] = os.path.basename(file)\n",
    "    dfs.append(dataframe)\n",
    "\n",
    "# concatenate all data and drop repeated entries\n",
    "df=pd.concat(dfs).drop_duplicates(subset='uuid', keep='last')"
   ]
  },
  {
   "cell_type": "code",
   "execution_count": 4,
   "metadata": {},
   "outputs": [
    {
     "name": "stderr",
     "output_type": "stream",
     "text": [
      "/var/folders/f2/xbsrplkj23z71l_fw6890_hr0000gn/T/ipykernel_75165/4060232883.py:24: FutureWarning: Downcasting behavior in `replace` is deprecated and will be removed in a future version. To retain the old behavior, explicitly call `result.infer_objects(copy=False)`. To opt-in to the future behavior, set `pd.set_option('future.no_silent_downcasting', True)`\n",
      "  dataframe = dataframe.replace(r'^\\s*$', np.nan, regex=True)\n"
     ]
    },
    {
     "data": {
      "text/plain": [
       "created_date\n",
       "2024-07-21     31\n",
       "2024-07-22    500\n",
       "2024-07-23    615\n",
       "2024-07-24    585\n",
       "2024-07-25    631\n",
       "2024-07-26    596\n",
       "2024-07-27    611\n",
       "2024-07-28    619\n",
       "2024-07-29    647\n",
       "2024-07-30    585\n",
       "2024-07-31    628\n",
       "2024-08-01    591\n",
       "2024-08-02    615\n",
       "2024-08-03    638\n",
       "2024-08-04    631\n",
       "2024-08-05    651\n",
       "2024-08-06    596\n",
       "2024-08-07    601\n",
       "2024-08-08    609\n",
       "2024-08-09    599\n",
       "2024-08-10    584\n",
       "2024-08-11    630\n",
       "2024-08-12    611\n",
       "2024-08-13    656\n",
       "2024-08-14    632\n",
       "2024-08-15    605\n",
       "2024-08-16    609\n",
       "2024-08-17    611\n",
       "2024-08-18    587\n",
       "2024-08-19    637\n",
       "2024-08-20    608\n",
       "2024-08-21    619\n",
       "2024-08-22    616\n",
       "2024-08-23    618\n",
       "2024-08-24    588\n",
       "2024-08-25    595\n",
       "2024-08-26    607\n",
       "2024-08-27    614\n",
       "2024-08-28    601\n",
       "2024-08-29    594\n",
       "2024-08-30    619\n",
       "2024-08-31    589\n",
       "2024-09-01    588\n",
       "2024-09-02    605\n",
       "2024-09-03    614\n",
       "2024-09-04    625\n",
       "2024-09-05    604\n",
       "2024-09-06    612\n",
       "2024-09-07    407\n",
       "Name: count, dtype: int64"
      ]
     },
     "execution_count": 4,
     "metadata": {},
     "output_type": "execute_result"
    }
   ],
   "source": [
    "# slicing out only relevant columns \n",
    "\n",
    "selected_columns = [\n",
    "    'file_name',\n",
    "    'uuid', \n",
    "    'title',\n",
    "    'content',\n",
    "    'post_flair_text',\n",
    "    'author',\n",
    "    'author_flair_text',\n",
    "    'created',\n",
    "    'comments',\n",
    "    'score_up',\n",
    "    'preview',\n",
    "    'link',\n",
    "    'domain',\n",
    "    'is_image',\n",
    "    'is_video',\n",
    "    'video_link'\n",
    "    ]\t\n",
    "df = df[selected_columns]\n",
    "\n",
    "# Replace empty cell with Nan\n",
    "dataframe = dataframe.replace(r'^\\s*$', np.nan, regex=True)\n",
    "\n",
    "# Format datetime\n",
    "df['created'] = pd.to_datetime(df.created, unit='ms').dt.tz_localize('US/Eastern')\n",
    "# crate a column storing \"date\" \n",
    "df['created_date'] = df['created'].dt.date\n",
    "df['created_date'] = pd.to_datetime(df['created_date'])\n",
    "\n",
    "\n",
    "# Fix empty or ill-formed domain column\n",
    "selfpost_mask = df.domain.str.match('^$')\n",
    "df.loc[selfpost_mask, 'domain'] = 'self_post'\n",
    "\n",
    "df.created_date.value_counts().sort_index()"
   ]
  },
  {
   "cell_type": "code",
   "execution_count": 5,
   "metadata": {},
   "outputs": [
    {
     "data": {
      "text/plain": [
       "created_date\n",
       "2024-07-22    500\n",
       "2024-07-23    615\n",
       "2024-07-24    585\n",
       "2024-07-25    631\n",
       "2024-07-26    596\n",
       "2024-07-27    611\n",
       "2024-07-28    619\n",
       "2024-07-29    647\n",
       "2024-07-30    585\n",
       "2024-07-31    628\n",
       "2024-08-01    591\n",
       "2024-08-02    615\n",
       "2024-08-03    638\n",
       "2024-08-04    631\n",
       "2024-08-05    651\n",
       "2024-08-06    596\n",
       "2024-08-07    601\n",
       "2024-08-08    609\n",
       "2024-08-09    599\n",
       "2024-08-10    584\n",
       "2024-08-11    630\n",
       "2024-08-12    611\n",
       "2024-08-13    656\n",
       "2024-08-14    632\n",
       "2024-08-15    605\n",
       "2024-08-16    609\n",
       "2024-08-17    611\n",
       "2024-08-18    587\n",
       "2024-08-19    637\n",
       "2024-08-20    608\n",
       "2024-08-21    619\n",
       "2024-08-22    616\n",
       "2024-08-23    618\n",
       "2024-08-24    588\n",
       "2024-08-25    595\n",
       "2024-08-26    607\n",
       "2024-08-27    614\n",
       "2024-08-28    601\n",
       "2024-08-29    594\n",
       "2024-08-30    619\n",
       "2024-08-31    589\n",
       "2024-09-01    588\n",
       "2024-09-02    605\n",
       "2024-09-03    614\n",
       "2024-09-04    625\n",
       "2024-09-05    604\n",
       "2024-09-06    612\n",
       "2024-09-07    407\n",
       "Name: count, dtype: int64"
      ]
     },
     "execution_count": 5,
     "metadata": {},
     "output_type": "execute_result"
    }
   ],
   "source": [
    "# Due to the lack of data, removing all posts from 2024-07-21\n",
    "\n",
    "df = df[df['created_date'] != '2024-07-21']\n",
    "\n",
    "df.value_counts('created_date').sort_index()"
   ]
  },
  {
   "cell_type": "code",
   "execution_count": 6,
   "metadata": {},
   "outputs": [
    {
     "name": "stderr",
     "output_type": "stream",
     "text": [
      "/var/folders/f2/xbsrplkj23z71l_fw6890_hr0000gn/T/ipykernel_75165/3108082903.py:2: DeprecationWarning: DataFrameGroupBy.apply operated on the grouping columns. This behavior is deprecated, and in a future version of pandas the grouping columns will be excluded from the operation. Either pass `include_groups=False` to exclude the groupings or explicitly select the grouping columns after groupby to silence this warning.\n",
      "  df = df.groupby('created_date').apply(lambda x: x.nlargest(500, 'score_up')).reset_index(drop=True)\n"
     ]
    },
    {
     "data": {
      "text/plain": [
       "created_date\n",
       "2024-07-22    500\n",
       "2024-07-23    500\n",
       "2024-07-24    500\n",
       "2024-07-25    500\n",
       "2024-07-26    500\n",
       "2024-07-27    500\n",
       "2024-07-28    500\n",
       "2024-07-29    500\n",
       "2024-07-30    500\n",
       "2024-07-31    500\n",
       "2024-08-01    500\n",
       "2024-08-02    500\n",
       "2024-08-03    500\n",
       "2024-08-04    500\n",
       "2024-08-05    500\n",
       "2024-08-06    500\n",
       "2024-08-07    500\n",
       "2024-08-08    500\n",
       "2024-08-09    500\n",
       "2024-08-10    500\n",
       "2024-08-11    500\n",
       "2024-08-12    500\n",
       "2024-08-13    500\n",
       "2024-08-14    500\n",
       "2024-08-15    500\n",
       "2024-08-16    500\n",
       "2024-08-17    500\n",
       "2024-08-18    500\n",
       "2024-08-19    500\n",
       "2024-08-20    500\n",
       "2024-08-21    500\n",
       "2024-08-22    500\n",
       "2024-08-23    500\n",
       "2024-08-24    500\n",
       "2024-08-25    500\n",
       "2024-08-26    500\n",
       "2024-08-27    500\n",
       "2024-08-28    500\n",
       "2024-08-29    500\n",
       "2024-08-30    500\n",
       "2024-08-31    500\n",
       "2024-09-01    500\n",
       "2024-09-02    500\n",
       "2024-09-03    500\n",
       "2024-09-04    500\n",
       "2024-09-05    500\n",
       "2024-09-06    500\n",
       "2024-09-07    407\n",
       "Name: count, dtype: int64"
      ]
     },
     "execution_count": 6,
     "metadata": {},
     "output_type": "execute_result"
    }
   ],
   "source": [
    "# Keep only the top 500 posts by \"score_up\" from each date so that the playing field is more leveled\n",
    "df = df.groupby('created_date').apply(lambda x: x.nlargest(500, 'score_up')).reset_index(drop=True)\n",
    "\n",
    "df.value_counts(\"created_date\").sort_index()"
   ]
  },
  {
   "cell_type": "code",
   "execution_count": 7,
   "metadata": {},
   "outputs": [
    {
     "name": "stderr",
     "output_type": "stream",
     "text": [
      "/var/folders/f2/xbsrplkj23z71l_fw6890_hr0000gn/T/ipykernel_75165/3006735851.py:4: FutureWarning: A value is trying to be set on a copy of a DataFrame or Series through chained assignment using an inplace method.\n",
      "The behavior will change in pandas 3.0. This inplace method will never work because the intermediate object on which we are setting values always behaves as a copy.\n",
      "\n",
      "For example, when doing 'df[col].method(value, inplace=True)', try using 'df.method({col: value}, inplace=True)' or df[col] = df[col].method(value) instead, to perform the operation inplace on the original object.\n",
      "\n",
      "\n",
      "  df['twitter_handle'].fillna(np.nan, inplace=True)\n"
     ]
    },
    {
     "data": {
      "text/plain": [
       "twitter_handle\n",
       "elonmusk        333\n",
       "behizytweets    309\n",
       "endwokeness     217\n",
       "libsoftiktok    181\n",
       "bennyjohnson    129\n",
       "catturd2        121\n",
       "dc_draino       120\n",
       "immeme0         114\n",
       "nicksortor      113\n",
       "trumpwarroom    112\n",
       "Name: count, dtype: int64"
      ]
     },
     "execution_count": 7,
     "metadata": {},
     "output_type": "execute_result"
    }
   ],
   "source": [
    "# Extract twitter handles \n",
    "df[df.domain =='twitter.com'].link.str.split('/').str[3].str.lower()\n",
    "df.loc[df.domain == 'twitter.com', 'twitter_handle'] = df[df.domain == 'twitter.com'].link.str.split('/').str[3].str.lower()\n",
    "df['twitter_handle'].fillna(np.nan, inplace=True)\n",
    "\n",
    "# Top twitter handles mentioned\n",
    "df.value_counts('twitter_handle', ascending=False).head(10)"
   ]
  },
  {
   "cell_type": "code",
   "execution_count": 8,
   "metadata": {},
   "outputs": [
    {
     "name": "stdout",
     "output_type": "stream",
     "text": [
      "/Users/keenansmacbookairm3/.pyenv/versions/3.12.0/lib/python3.12/site-packages/transformers/utils/generic.py:441: UserWarning: torch.utils._pytree._register_pytree_node is deprecated. Please use torch.utils._pytree.register_pytree_node instead.\n",
      "  _torch_pytree._register_pytree_node(\n",
      "Collecting en-core-web-trf==3.7.3\n",
      "  Downloading https://github.com/explosion/spacy-models/releases/download/en_core_web_trf-3.7.3/en_core_web_trf-3.7.3-py3-none-any.whl (457.4 MB)\n",
      "\u001b[2K     \u001b[90m━━━━━━━━━━━━━━━━━━━━━━━━━━━━━━━━━━━━━━\u001b[0m \u001b[32m457.4/457.4 MB\u001b[0m \u001b[31m24.2 MB/s\u001b[0m eta \u001b[36m0:00:00\u001b[0m00:01\u001b[0m00:01\u001b[0m\n",
      "\u001b[?25hRequirement already satisfied: spacy<3.8.0,>=3.7.2 in /Users/keenansmacbookairm3/.pyenv/versions/3.12.0/lib/python3.12/site-packages (from en-core-web-trf==3.7.3) (3.7.4)\n",
      "Requirement already satisfied: spacy-curated-transformers<0.3.0,>=0.2.0 in /Users/keenansmacbookairm3/.pyenv/versions/3.12.0/lib/python3.12/site-packages (from en-core-web-trf==3.7.3) (0.2.2)\n",
      "Requirement already satisfied: spacy-legacy<3.1.0,>=3.0.11 in /Users/keenansmacbookairm3/.pyenv/versions/3.12.0/lib/python3.12/site-packages (from spacy<3.8.0,>=3.7.2->en-core-web-trf==3.7.3) (3.0.12)\n",
      "Requirement already satisfied: spacy-loggers<2.0.0,>=1.0.0 in /Users/keenansmacbookairm3/.pyenv/versions/3.12.0/lib/python3.12/site-packages (from spacy<3.8.0,>=3.7.2->en-core-web-trf==3.7.3) (1.0.5)\n",
      "Requirement already satisfied: murmurhash<1.1.0,>=0.28.0 in /Users/keenansmacbookairm3/.pyenv/versions/3.12.0/lib/python3.12/site-packages (from spacy<3.8.0,>=3.7.2->en-core-web-trf==3.7.3) (1.0.10)\n",
      "Requirement already satisfied: cymem<2.1.0,>=2.0.2 in /Users/keenansmacbookairm3/.pyenv/versions/3.12.0/lib/python3.12/site-packages (from spacy<3.8.0,>=3.7.2->en-core-web-trf==3.7.3) (2.0.8)\n",
      "Requirement already satisfied: preshed<3.1.0,>=3.0.2 in /Users/keenansmacbookairm3/.pyenv/versions/3.12.0/lib/python3.12/site-packages (from spacy<3.8.0,>=3.7.2->en-core-web-trf==3.7.3) (3.0.9)\n",
      "Requirement already satisfied: thinc<8.3.0,>=8.2.2 in /Users/keenansmacbookairm3/.pyenv/versions/3.12.0/lib/python3.12/site-packages (from spacy<3.8.0,>=3.7.2->en-core-web-trf==3.7.3) (8.2.3)\n",
      "Requirement already satisfied: wasabi<1.2.0,>=0.9.1 in /Users/keenansmacbookairm3/.pyenv/versions/3.12.0/lib/python3.12/site-packages (from spacy<3.8.0,>=3.7.2->en-core-web-trf==3.7.3) (1.1.2)\n",
      "Requirement already satisfied: srsly<3.0.0,>=2.4.3 in /Users/keenansmacbookairm3/.pyenv/versions/3.12.0/lib/python3.12/site-packages (from spacy<3.8.0,>=3.7.2->en-core-web-trf==3.7.3) (2.4.8)\n",
      "Requirement already satisfied: catalogue<2.1.0,>=2.0.6 in /Users/keenansmacbookairm3/.pyenv/versions/3.12.0/lib/python3.12/site-packages (from spacy<3.8.0,>=3.7.2->en-core-web-trf==3.7.3) (2.0.10)\n",
      "Requirement already satisfied: weasel<0.4.0,>=0.1.0 in /Users/keenansmacbookairm3/.pyenv/versions/3.12.0/lib/python3.12/site-packages (from spacy<3.8.0,>=3.7.2->en-core-web-trf==3.7.3) (0.3.4)\n",
      "Requirement already satisfied: typer<0.10.0,>=0.3.0 in /Users/keenansmacbookairm3/.pyenv/versions/3.12.0/lib/python3.12/site-packages (from spacy<3.8.0,>=3.7.2->en-core-web-trf==3.7.3) (0.9.4)\n",
      "Requirement already satisfied: smart-open<7.0.0,>=5.2.1 in /Users/keenansmacbookairm3/.pyenv/versions/3.12.0/lib/python3.12/site-packages (from spacy<3.8.0,>=3.7.2->en-core-web-trf==3.7.3) (6.4.0)\n",
      "Requirement already satisfied: tqdm<5.0.0,>=4.38.0 in /Users/keenansmacbookairm3/.pyenv/versions/3.12.0/lib/python3.12/site-packages (from spacy<3.8.0,>=3.7.2->en-core-web-trf==3.7.3) (4.66.4)\n",
      "Requirement already satisfied: requests<3.0.0,>=2.13.0 in /Users/keenansmacbookairm3/.pyenv/versions/3.12.0/lib/python3.12/site-packages (from spacy<3.8.0,>=3.7.2->en-core-web-trf==3.7.3) (2.32.2)\n",
      "Requirement already satisfied: pydantic!=1.8,!=1.8.1,<3.0.0,>=1.7.4 in /Users/keenansmacbookairm3/.pyenv/versions/3.12.0/lib/python3.12/site-packages (from spacy<3.8.0,>=3.7.2->en-core-web-trf==3.7.3) (2.7.1)\n",
      "Requirement already satisfied: jinja2 in /Users/keenansmacbookairm3/.pyenv/versions/3.12.0/lib/python3.12/site-packages (from spacy<3.8.0,>=3.7.2->en-core-web-trf==3.7.3) (3.1.3)\n",
      "Requirement already satisfied: setuptools in /Users/keenansmacbookairm3/.pyenv/versions/3.12.0/lib/python3.12/site-packages (from spacy<3.8.0,>=3.7.2->en-core-web-trf==3.7.3) (69.5.1)\n",
      "Requirement already satisfied: packaging>=20.0 in /Users/keenansmacbookairm3/.pyenv/versions/3.12.0/lib/python3.12/site-packages (from spacy<3.8.0,>=3.7.2->en-core-web-trf==3.7.3) (23.2)\n",
      "Requirement already satisfied: langcodes<4.0.0,>=3.2.0 in /Users/keenansmacbookairm3/.pyenv/versions/3.12.0/lib/python3.12/site-packages (from spacy<3.8.0,>=3.7.2->en-core-web-trf==3.7.3) (3.4.0)\n",
      "Requirement already satisfied: numpy>=1.19.0 in /Users/keenansmacbookairm3/.pyenv/versions/3.12.0/lib/python3.12/site-packages (from spacy<3.8.0,>=3.7.2->en-core-web-trf==3.7.3) (1.26.4)\n",
      "Requirement already satisfied: curated-transformers<0.2.0,>=0.1.0 in /Users/keenansmacbookairm3/.pyenv/versions/3.12.0/lib/python3.12/site-packages (from spacy-curated-transformers<0.3.0,>=0.2.0->en-core-web-trf==3.7.3) (0.1.1)\n",
      "Requirement already satisfied: curated-tokenizers<0.1.0,>=0.0.9 in /Users/keenansmacbookairm3/.pyenv/versions/3.12.0/lib/python3.12/site-packages (from spacy-curated-transformers<0.3.0,>=0.2.0->en-core-web-trf==3.7.3) (0.0.9)\n",
      "Requirement already satisfied: torch>=1.12.0 in /Users/keenansmacbookairm3/.pyenv/versions/3.12.0/lib/python3.12/site-packages (from spacy-curated-transformers<0.3.0,>=0.2.0->en-core-web-trf==3.7.3) (2.3.0)\n",
      "Requirement already satisfied: regex>=2022 in /Users/keenansmacbookairm3/.pyenv/versions/3.12.0/lib/python3.12/site-packages (from curated-tokenizers<0.1.0,>=0.0.9->spacy-curated-transformers<0.3.0,>=0.2.0->en-core-web-trf==3.7.3) (2023.12.25)\n",
      "Requirement already satisfied: language-data>=1.2 in /Users/keenansmacbookairm3/.pyenv/versions/3.12.0/lib/python3.12/site-packages (from langcodes<4.0.0,>=3.2.0->spacy<3.8.0,>=3.7.2->en-core-web-trf==3.7.3) (1.2.0)\n",
      "Requirement already satisfied: annotated-types>=0.4.0 in /Users/keenansmacbookairm3/.pyenv/versions/3.12.0/lib/python3.12/site-packages (from pydantic!=1.8,!=1.8.1,<3.0.0,>=1.7.4->spacy<3.8.0,>=3.7.2->en-core-web-trf==3.7.3) (0.6.0)\n",
      "Requirement already satisfied: pydantic-core==2.18.2 in /Users/keenansmacbookairm3/.pyenv/versions/3.12.0/lib/python3.12/site-packages (from pydantic!=1.8,!=1.8.1,<3.0.0,>=1.7.4->spacy<3.8.0,>=3.7.2->en-core-web-trf==3.7.3) (2.18.2)\n",
      "Requirement already satisfied: typing-extensions>=4.6.1 in /Users/keenansmacbookairm3/.pyenv/versions/3.12.0/lib/python3.12/site-packages (from pydantic!=1.8,!=1.8.1,<3.0.0,>=1.7.4->spacy<3.8.0,>=3.7.2->en-core-web-trf==3.7.3) (4.11.0)\n",
      "Requirement already satisfied: charset-normalizer<4,>=2 in /Users/keenansmacbookairm3/.pyenv/versions/3.12.0/lib/python3.12/site-packages (from requests<3.0.0,>=2.13.0->spacy<3.8.0,>=3.7.2->en-core-web-trf==3.7.3) (3.3.2)\n",
      "Requirement already satisfied: idna<4,>=2.5 in /Users/keenansmacbookairm3/.pyenv/versions/3.12.0/lib/python3.12/site-packages (from requests<3.0.0,>=2.13.0->spacy<3.8.0,>=3.7.2->en-core-web-trf==3.7.3) (3.7)\n",
      "Requirement already satisfied: urllib3<3,>=1.21.1 in /Users/keenansmacbookairm3/.pyenv/versions/3.12.0/lib/python3.12/site-packages (from requests<3.0.0,>=2.13.0->spacy<3.8.0,>=3.7.2->en-core-web-trf==3.7.3) (2.2.1)\n",
      "Requirement already satisfied: certifi>=2017.4.17 in /Users/keenansmacbookairm3/.pyenv/versions/3.12.0/lib/python3.12/site-packages (from requests<3.0.0,>=2.13.0->spacy<3.8.0,>=3.7.2->en-core-web-trf==3.7.3) (2024.2.2)\n",
      "Requirement already satisfied: blis<0.8.0,>=0.7.8 in /Users/keenansmacbookairm3/.pyenv/versions/3.12.0/lib/python3.12/site-packages (from thinc<8.3.0,>=8.2.2->spacy<3.8.0,>=3.7.2->en-core-web-trf==3.7.3) (0.7.11)\n",
      "Requirement already satisfied: confection<1.0.0,>=0.0.1 in /Users/keenansmacbookairm3/.pyenv/versions/3.12.0/lib/python3.12/site-packages (from thinc<8.3.0,>=8.2.2->spacy<3.8.0,>=3.7.2->en-core-web-trf==3.7.3) (0.1.4)\n",
      "Requirement already satisfied: filelock in /Users/keenansmacbookairm3/.pyenv/versions/3.12.0/lib/python3.12/site-packages (from torch>=1.12.0->spacy-curated-transformers<0.3.0,>=0.2.0->en-core-web-trf==3.7.3) (3.14.0)\n",
      "Requirement already satisfied: sympy in /Users/keenansmacbookairm3/.pyenv/versions/3.12.0/lib/python3.12/site-packages (from torch>=1.12.0->spacy-curated-transformers<0.3.0,>=0.2.0->en-core-web-trf==3.7.3) (1.12)\n",
      "Requirement already satisfied: networkx in /Users/keenansmacbookairm3/.pyenv/versions/3.12.0/lib/python3.12/site-packages (from torch>=1.12.0->spacy-curated-transformers<0.3.0,>=0.2.0->en-core-web-trf==3.7.3) (3.3)\n",
      "Requirement already satisfied: fsspec in /Users/keenansmacbookairm3/.pyenv/versions/3.12.0/lib/python3.12/site-packages (from torch>=1.12.0->spacy-curated-transformers<0.3.0,>=0.2.0->en-core-web-trf==3.7.3) (2024.3.1)\n",
      "Requirement already satisfied: click<9.0.0,>=7.1.1 in /Users/keenansmacbookairm3/.pyenv/versions/3.12.0/lib/python3.12/site-packages (from typer<0.10.0,>=0.3.0->spacy<3.8.0,>=3.7.2->en-core-web-trf==3.7.3) (8.1.7)\n",
      "Requirement already satisfied: cloudpathlib<0.17.0,>=0.7.0 in /Users/keenansmacbookairm3/.pyenv/versions/3.12.0/lib/python3.12/site-packages (from weasel<0.4.0,>=0.1.0->spacy<3.8.0,>=3.7.2->en-core-web-trf==3.7.3) (0.16.0)\n",
      "Requirement already satisfied: MarkupSafe>=2.0 in /Users/keenansmacbookairm3/.pyenv/versions/3.12.0/lib/python3.12/site-packages (from jinja2->spacy<3.8.0,>=3.7.2->en-core-web-trf==3.7.3) (2.1.5)\n",
      "Requirement already satisfied: marisa-trie>=0.7.7 in /Users/keenansmacbookairm3/.pyenv/versions/3.12.0/lib/python3.12/site-packages (from language-data>=1.2->langcodes<4.0.0,>=3.2.0->spacy<3.8.0,>=3.7.2->en-core-web-trf==3.7.3) (1.1.1)\n",
      "Requirement already satisfied: mpmath>=0.19 in /Users/keenansmacbookairm3/.pyenv/versions/3.12.0/lib/python3.12/site-packages (from sympy->torch>=1.12.0->spacy-curated-transformers<0.3.0,>=0.2.0->en-core-web-trf==3.7.3) (1.3.0)\n",
      "\n",
      "\u001b[1m[\u001b[0m\u001b[34;49mnotice\u001b[0m\u001b[1;39;49m]\u001b[0m\u001b[39;49m A new release of pip is available: \u001b[0m\u001b[31;49m24.1\u001b[0m\u001b[39;49m -> \u001b[0m\u001b[32;49m24.2\u001b[0m\n",
      "\u001b[1m[\u001b[0m\u001b[34;49mnotice\u001b[0m\u001b[1;39;49m]\u001b[0m\u001b[39;49m To update, run: \u001b[0m\u001b[32;49mpip install --upgrade pip\u001b[0m\n",
      "\u001b[38;5;2m✔ Download and installation successful\u001b[0m\n",
      "You can now load the package via spacy.load('en_core_web_trf')\n"
     ]
    }
   ],
   "source": [
    "!python -m spacy download en_core_web_trf"
   ]
  },
  {
   "cell_type": "code",
   "execution_count": 9,
   "metadata": {},
   "outputs": [
    {
     "name": "stderr",
     "output_type": "stream",
     "text": [
      "/Users/keenansmacbookairm3/.pyenv/versions/3.12.0/lib/python3.12/site-packages/transformers/utils/generic.py:441: UserWarning: torch.utils._pytree._register_pytree_node is deprecated. Please use torch.utils._pytree.register_pytree_node instead.\n",
      "  _torch_pytree._register_pytree_node(\n",
      "/Users/keenansmacbookairm3/.pyenv/versions/3.12.0/lib/python3.12/site-packages/transformers/utils/generic.py:309: UserWarning: torch.utils._pytree._register_pytree_node is deprecated. Please use torch.utils._pytree.register_pytree_node instead.\n",
      "  _torch_pytree._register_pytree_node(\n",
      "[nltk_data] Downloading package wordnet to\n",
      "[nltk_data]     /Users/keenansmacbookairm3/nltk_data...\n",
      "[nltk_data]   Package wordnet is already up-to-date!\n"
     ]
    }
   ],
   "source": [
    "import spacy\n",
    "import spacy_transformers\n",
    "import nltk\n",
    "nltk.download('wordnet')\n",
    "from nltk import bigrams, trigrams\n",
    "nlp = spacy.load(\"en_core_web_lg\")\n",
    "stopwords = list(nlp.Defaults.stop_words) \n",
    "stopwords.extend([\"ago\", 'old'])\n",
    "\n",
    "import contractions\n",
    "import emoji\n",
    "import re\n",
    "\n",
    "\n",
    "\n",
    "def clean_it_all_up (text, extra_stops):\n",
    "    text = emoji.replace_emoji(text)\n",
    "    text = contractions.fix(text)\n",
    "    text = re.sub(r'\\W+', ' ', text)\n",
    "    doc = nlp(text)\n",
    "    lemmatized_tokens = []\n",
    "    \n",
    "    for token in doc:\n",
    "        if (\n",
    "            token.text.lower() not in stopwords \n",
    "            and (extra_stops is None or token.text.lower() not in extra_stops) \n",
    "            # and token.pos_ in {'NOUN', 'PROPN', 'VERB', 'ADJ'} \n",
    "            # and token.ent_type_ not in {'GPE', 'LOC'}\n",
    "            and token.pos_ not in {\"AUX\",\n",
    "                                   \"ADP\",\n",
    "                                   \"CONJ\", \n",
    "                                   \"CCONJ\", \n",
    "                                   \"DET\", \n",
    "                                   \"INTJ\", \n",
    "                                   \"PART\", \n",
    "                                   \"PUNCT\",\n",
    "                                   \"SCONJ\", \n",
    "                                   \"SYM\", \n",
    "                                   \"X\", \n",
    "                                   \"SPACE\"}\n",
    "        ):\n",
    "          \n",
    "            \n",
    "            lemmatized_tokens.append(token.lemma_.lower())\n",
    "            \n",
    "    return \" \".join(lemmatized_tokens)   \n"
   ]
  },
  {
   "cell_type": "code",
   "execution_count": 10,
   "metadata": {},
   "outputs": [
    {
     "data": {
      "text/plain": [
       "'donald love pancake'"
      ]
     },
     "execution_count": 10,
     "metadata": {},
     "output_type": "execute_result"
    }
   ],
   "source": [
    "text = \"Donald Trump loves pancakes. So do I.\"\n",
    "extra_stops=['trump']\n",
    "\n",
    "clean_it_all_up(text, extra_stops)"
   ]
  },
  {
   "cell_type": "code",
   "execution_count": 11,
   "metadata": {},
   "outputs": [],
   "source": [
    "def date_selection(start_date, end_date):\n",
    "    start_date = datetime.datetime.strptime(start_date, \"%Y-%m-%d\")\n",
    "    end_date = end_date = datetime.datetime.strptime(end_date, \"%Y-%m-%d\")\n",
    "\n",
    "    date_list = []\n",
    "    current_date = start_date\n",
    "    date_list.append(current_date.strftime('%Y-%m-%d'))\n",
    "\n",
    "    while current_date < end_date:\n",
    "        next_date = current_date + datetime.timedelta(days=1)\n",
    "        next_date = next_date\n",
    "        if next_date >= end_date:\n",
    "            next_date = end_date\n",
    "        date_list.append(next_date.strftime('%Y-%m-%d'))\n",
    "        current_date = next_date\n",
    "\n",
    "    return date_list\n"
   ]
  },
  {
   "cell_type": "code",
   "execution_count": 12,
   "metadata": {},
   "outputs": [],
   "source": [
    "def ngram_generator(dataframe, num, start_date, end_date, extra_stops, top_n=None):\n",
    "    \n",
    "    date_list = date_selection(start_date, end_date)\n",
    "\n",
    "    cleaned_tokens = ' '.join(dataframe[dataframe.created_date.isin(date_list)]['title'].apply(lambda x: clean_it_all_up(x, extra_stops)).tolist())\n",
    "\n",
    "    if num == 1:\n",
    "        ngram = pd.Series(cleaned_tokens.split()).value_counts()\n",
    "    elif num == 2:\n",
    "        ngram = pd.Series(list(bigrams(cleaned_tokens.split()))).value_counts()\n",
    "    elif num == 3:\n",
    "        ngram = pd.Series(list(trigrams(cleaned_tokens.split()))).value_counts()\n",
    "    else:\n",
    "        raise ValueError('Invalid number. Must choose between 1, 2, or 3.')\n",
    "    \n",
    "    ngram = ngram[ngram > 1].head(top_n)\n",
    "    return ngram\n"
   ]
  },
  {
   "cell_type": "code",
   "execution_count": 13,
   "metadata": {},
   "outputs": [],
   "source": [
    "# Function of returning top ngrams from the past 24 hours\n",
    "\n",
    "def ngram_generator_24hrs(dataframe, num, extra_stops, top_n=None):\n",
    "    end_date = datetime.datetime.now()\n",
    "    start_date = end_date - datetime.timedelta(days=1)\n",
    "    \n",
    "    start_date = start_date.strftime(\"%Y-%m-%d\")\n",
    "    end_date = end_date.strftime(\"%Y-%m-%d\")\n",
    "    \n",
    "    return ngram_generator(dataframe, num, start_date, end_date, extra_stops, top_n)"
   ]
  },
  {
   "cell_type": "code",
   "execution_count": 14,
   "metadata": {},
   "outputs": [],
   "source": [
    "# A date-based n-gram generator\n",
    "# useful for making time-series charts \n",
    "\n",
    "def new_ngram_generator(dataframe, num, start_date, end_date, extra_stops, top_n=None):\n",
    "    # Filter dates\n",
    "    date_list = date_selection(start_date, end_date)\n",
    "    \n",
    "    # Filter and process data\n",
    "    filtered_df = dataframe[dataframe.created_date.isin(date_list)]\n",
    "    filtered_df['cleaned_title'] = filtered_df['title'].apply(lambda x: clean_it_all_up(x, extra_stops))\n",
    "\n",
    "    \n",
    "    ngrams_with_dates = []\n",
    "    \n",
    "    for index, row in filtered_df.iterrows():\n",
    "        tokens = row['cleaned_title'].split()\n",
    "        if num ==1:\n",
    "            unigrams_list = list(tokens)\n",
    "            for unigram in unigrams_list:\n",
    "                ngrams_with_dates.append((unigram, row['created_date']))\n",
    "        elif num == 2:\n",
    "            bigrams_list = list(bigrams(tokens))\n",
    "            for bigram in bigrams_list:\n",
    "                ngrams_with_dates.append((bigram, row['created_date']))\n",
    "        elif num == 3:\n",
    "            trigrams_list = list(trigrams(tokens))\n",
    "            for trigram in trigrams_list:\n",
    "                ngrams_with_dates.append((trigram, row['created_date']))\n",
    "        else:\n",
    "            raise ValueError('Invalid number. Must choose between 2 or 3.')\n",
    "    \n",
    "    ngram_df = pd.DataFrame(ngrams_with_dates, columns=['ngram', 'date']).head(top_n)\n",
    "    return ngram_df\n"
   ]
  },
  {
   "cell_type": "code",
   "execution_count": 15,
   "metadata": {},
   "outputs": [
    {
     "data": {
      "text/plain": [
       "0.1438072531057849"
      ]
     },
     "execution_count": 15,
     "metadata": {},
     "output_type": "execute_result"
    }
   ],
   "source": [
    "kamala_harris = ['kamala', \"harris\"]\n",
    "\n",
    "kamala_harris_df = df[df.title.str.contains('|'.join(kamala_harris),case=False, na=False)]\n",
    "\n",
    "kamala_harris_df.shape[0]/df.shape[0]"
   ]
  },
  {
   "cell_type": "code",
   "execution_count": 16,
   "metadata": {},
   "outputs": [
    {
     "name": "stdout",
     "output_type": "stream",
     "text": [
      "Help on function new_ngram_generator in module __main__:\n",
      "\n",
      "new_ngram_generator(dataframe, num, start_date, end_date, extra_stops, top_n=None)\n",
      "\n"
     ]
    }
   ],
   "source": [
    "help(new_ngram_generator)"
   ]
  },
  {
   "cell_type": "code",
   "execution_count": 17,
   "metadata": {},
   "outputs": [
    {
     "name": "stderr",
     "output_type": "stream",
     "text": [
      "/var/folders/f2/xbsrplkj23z71l_fw6890_hr0000gn/T/ipykernel_75165/1221168534.py:9: FutureWarning: The behavior of 'isin' with dtype=datetime64[ns] and castable values (e.g. strings) is deprecated. In a future version, these will not be considered matching by isin. Explicitly cast to the appropriate dtype before calling isin instead.\n",
      "  filtered_df = dataframe[dataframe.created_date.isin(date_list)]\n",
      "/var/folders/f2/xbsrplkj23z71l_fw6890_hr0000gn/T/ipykernel_75165/1221168534.py:10: SettingWithCopyWarning: \n",
      "A value is trying to be set on a copy of a slice from a DataFrame.\n",
      "Try using .loc[row_indexer,col_indexer] = value instead\n",
      "\n",
      "See the caveats in the documentation: https://pandas.pydata.org/pandas-docs/stable/user_guide/indexing.html#returning-a-view-versus-a-copy\n",
      "  filtered_df['cleaned_title'] = filtered_df['title'].apply(lambda x: clean_it_all_up(x, extra_stops))\n"
     ]
    },
    {
     "data": {
      "text/html": [
       "<div>\n",
       "<style scoped>\n",
       "    .dataframe tbody tr th:only-of-type {\n",
       "        vertical-align: middle;\n",
       "    }\n",
       "\n",
       "    .dataframe tbody tr th {\n",
       "        vertical-align: top;\n",
       "    }\n",
       "\n",
       "    .dataframe thead th {\n",
       "        text-align: right;\n",
       "    }\n",
       "</style>\n",
       "<table border=\"1\" class=\"dataframe\">\n",
       "  <thead>\n",
       "    <tr style=\"text-align: right;\">\n",
       "      <th></th>\n",
       "      <th>ngram</th>\n",
       "      <th>date</th>\n",
       "    </tr>\n",
       "  </thead>\n",
       "  <tbody>\n",
       "    <tr>\n",
       "      <th>0</th>\n",
       "      <td>(trump, claim)</td>\n",
       "      <td>2024-08-15</td>\n",
       "    </tr>\n",
       "    <tr>\n",
       "      <th>1</th>\n",
       "      <td>(claim, evidence)</td>\n",
       "      <td>2024-08-15</td>\n",
       "    </tr>\n",
       "    <tr>\n",
       "      <th>2</th>\n",
       "      <td>(evidence, kamala)</td>\n",
       "      <td>2024-08-15</td>\n",
       "    </tr>\n",
       "    <tr>\n",
       "      <th>3</th>\n",
       "      <td>(kamala, harris)</td>\n",
       "      <td>2024-08-15</td>\n",
       "    </tr>\n",
       "    <tr>\n",
       "      <th>4</th>\n",
       "      <td>(harris, tie)</td>\n",
       "      <td>2024-08-15</td>\n",
       "    </tr>\n",
       "    <tr>\n",
       "      <th>5</th>\n",
       "      <td>(tie, joe)</td>\n",
       "      <td>2024-08-15</td>\n",
       "    </tr>\n",
       "    <tr>\n",
       "      <th>6</th>\n",
       "      <td>(joe, biden)</td>\n",
       "      <td>2024-08-15</td>\n",
       "    </tr>\n",
       "    <tr>\n",
       "      <th>7</th>\n",
       "      <td>(reporter, ally)</td>\n",
       "      <td>2024-08-15</td>\n",
       "    </tr>\n",
       "    <tr>\n",
       "      <th>8</th>\n",
       "      <td>(ally, need)</td>\n",
       "      <td>2024-08-15</td>\n",
       "    </tr>\n",
       "    <tr>\n",
       "      <th>9</th>\n",
       "      <td>(need, stop)</td>\n",
       "      <td>2024-08-15</td>\n",
       "    </tr>\n",
       "    <tr>\n",
       "      <th>10</th>\n",
       "      <td>(stop, personal)</td>\n",
       "      <td>2024-08-15</td>\n",
       "    </tr>\n",
       "    <tr>\n",
       "      <th>11</th>\n",
       "      <td>(personal, attack)</td>\n",
       "      <td>2024-08-15</td>\n",
       "    </tr>\n",
       "    <tr>\n",
       "      <th>12</th>\n",
       "      <td>(attack, kamala)</td>\n",
       "      <td>2024-08-15</td>\n",
       "    </tr>\n",
       "    <tr>\n",
       "      <th>13</th>\n",
       "      <td>(kamala, harris)</td>\n",
       "      <td>2024-08-15</td>\n",
       "    </tr>\n",
       "    <tr>\n",
       "      <th>14</th>\n",
       "      <td>(harris, trump)</td>\n",
       "      <td>2024-08-15</td>\n",
       "    </tr>\n",
       "  </tbody>\n",
       "</table>\n",
       "</div>"
      ],
      "text/plain": [
       "                 ngram       date\n",
       "0       (trump, claim) 2024-08-15\n",
       "1    (claim, evidence) 2024-08-15\n",
       "2   (evidence, kamala) 2024-08-15\n",
       "3     (kamala, harris) 2024-08-15\n",
       "4        (harris, tie) 2024-08-15\n",
       "5           (tie, joe) 2024-08-15\n",
       "6         (joe, biden) 2024-08-15\n",
       "7     (reporter, ally) 2024-08-15\n",
       "8         (ally, need) 2024-08-15\n",
       "9         (need, stop) 2024-08-15\n",
       "10    (stop, personal) 2024-08-15\n",
       "11  (personal, attack) 2024-08-15\n",
       "12    (attack, kamala) 2024-08-15\n",
       "13    (kamala, harris) 2024-08-15\n",
       "14     (harris, trump) 2024-08-15"
      ]
     },
     "execution_count": 17,
     "metadata": {},
     "output_type": "execute_result"
    }
   ],
   "source": [
    "new_ngram_generator(dataframe=kamala_harris_df, \n",
    "                    num=2, \n",
    "                    start_date='2024-08-15', \n",
    "                    end_date='2024-09-06', \n",
    "                    extra_stops=None, \n",
    "                    top_n=15)"
   ]
  },
  {
   "cell_type": "code",
   "execution_count": 18,
   "metadata": {},
   "outputs": [],
   "source": [
    "# create interactive charts with Plotly\n",
    "\n",
    "import plotly.graph_objs as go\n",
    "\n",
    "def ngram_time_series_interactive(dataframe, num, start_date, end_date, save_viz, extra_stops, top_n=None):\n",
    "    ngrams_df = new_ngram_generator(dataframe, num, start_date, end_date, extra_stops)\n",
    "\n",
    "    ngrams_df['date'] = pd.to_datetime(ngrams_df['date'])\n",
    "\n",
    "    ngrams_counts = ngrams_df.groupby([ngrams_df['date'].dt.to_period('d'), 'ngram']).size().reset_index(name='count')\n",
    "\n",
    "    top_ngrams = ngrams_counts.groupby('ngram')['count'].sum().nlargest(top_n).index\n",
    "\n",
    "    top_ngrams_counts = ngrams_counts[ngrams_counts['ngram'].isin(top_ngrams)]\n",
    "\n",
    "    top_ngram_pivot = top_ngrams_counts.pivot(index='date', columns='ngram', values='count').fillna(0)\n",
    "\n",
    "    top_ngram_pivot.index = top_ngram_pivot.index.to_timestamp()\n",
    "\n",
    "    fig = go.Figure()\n",
    "\n",
    "    for ngram in top_ngram_pivot.columns:\n",
    "        fig.add_trace(go.Scatter(\n",
    "            x=top_ngram_pivot.index, \n",
    "            y=top_ngram_pivot[ngram], \n",
    "            mode='lines', \n",
    "            name=str(ngram)))\n",
    "\n",
    "    fig.update_layout(\n",
    "        width=1400,\n",
    "        height=800,\n",
    "        title=f'Top bigrams on the landing page of The Ronald between {start_date} and {end_date}',\n",
    "        xaxis_title='Date',\n",
    "        yaxis_title='Frequency',\n",
    "        \n",
    "        xaxis=dict(tickangle=45),\n",
    "        legend_title_text='Top Bigrams'\n",
    "    )\n",
    "\n",
    "    if save_viz is not None:\n",
    "        fig.savefig(f\"viz/{save_viz}.jpeg\",\n",
    "                    dpi=600\n",
    "                    )\n",
    "        fig.show()\n",
    "    else:\n",
    "        fig.show()"
   ]
  },
  {
   "cell_type": "code",
   "execution_count": 19,
   "metadata": {},
   "outputs": [],
   "source": [
    "# This function would only cover the past n days\n",
    "\n",
    "def ngram_time_last_n_days_interactive(dataframe, num, last_ndays, extra_stops, set_title, save_filename, top_n=None):\n",
    "    end_date = pd.to_datetime(dataframe['created_date'].max())\n",
    "    start_date = end_date - pd.Timedelta(days=last_ndays)\n",
    "    start_date = start_date.strftime(\"%Y-%m-%d\")\n",
    "    end_date = end_date.strftime(\"%Y-%m-%d\")\n",
    "\n",
    "    ngrams_df = new_ngram_generator(dataframe, num, start_date, end_date, extra_stops)\n",
    "\n",
    "    # Prepare the data for plotting\n",
    "    ngrams_df['date'] = pd.to_datetime(ngrams_df['date'])\n",
    "    ngrams_counts = ngrams_df.groupby([ngrams_df['date'].dt.to_period('d'), 'ngram']).size().reset_index(name='count')\n",
    "    \n",
    "    top_ngrams = ngrams_counts.groupby('ngram')['count'].sum().nlargest(top_n).index\n",
    "    top_ngrams_counts = ngrams_counts[ngrams_counts['ngram'].isin(top_ngrams)]\n",
    "\n",
    "    top_ngram_pivot = top_ngrams_counts.pivot(index='date', columns='ngram', values='count').fillna(0)\n",
    "    top_ngram_pivot.index = top_ngram_pivot.index.to_timestamp()\n",
    "\n",
    "    y_max = top_ngram_pivot.values.max()\n",
    "    y_range = [0, y_max * 1.1]\n",
    "\n",
    "    fig = go.Figure()\n",
    "\n",
    "    # Add traces for each n-gram\n",
    "    for ngram in top_ngram_pivot.columns:\n",
    "        fig.add_trace(go.Scatter(\n",
    "            x=top_ngram_pivot.index, \n",
    "            y=top_ngram_pivot[ngram], \n",
    "            mode='lines', \n",
    "            name=str(ngram)\n",
    "        ))\n",
    "\n",
    "    fig.update_traces(line={'width': 5})\n",
    "\n",
    "    layout = dict(\n",
    "        width=1000,\n",
    "        height=800,\n",
    "        xaxis=dict(\n",
    "            title='Date',\n",
    "            tickangle=45\n",
    "        ),\n",
    "        yaxis=dict(\n",
    "            title='Frequency',\n",
    "            range=y_range\n",
    "        ),\n",
    "        legend_title=dict(\n",
    "            text='<b>Popular Bigrams<br>',\n",
    "            font=dict(\n",
    "                family=\"Courier\",\n",
    "                color='firebrick',\n",
    "                size=15\n",
    "            )\n",
    "        )\n",
    "    )\n",
    "    \n",
    "\n",
    "    if set_title:\n",
    "        layout['title'] = dict(\n",
    "            text= f\"The chart was last updated on {datetime.datetime.now():%Y-%m-%d %H:%M}\",\n",
    "            font=dict(\n",
    "                family=\"Arial\",\n",
    "                size=20\n",
    "            ),\n",
    "            pad=dict(t=20)\n",
    "        )\n",
    "\n",
    "    fig.update_layout(layout)\n",
    "\n",
    "    if save_filename:\n",
    "        fig.write_html(f\"viz/{save_filename}.html\")\n",
    "    \n",
    "    fig.show()"
   ]
  },
  {
   "cell_type": "code",
   "execution_count": 20,
   "metadata": {},
   "outputs": [
    {
     "name": "stderr",
     "output_type": "stream",
     "text": [
      "/var/folders/f2/xbsrplkj23z71l_fw6890_hr0000gn/T/ipykernel_75165/1221168534.py:9: FutureWarning: The behavior of 'isin' with dtype=datetime64[ns] and castable values (e.g. strings) is deprecated. In a future version, these will not be considered matching by isin. Explicitly cast to the appropriate dtype before calling isin instead.\n",
      "  filtered_df = dataframe[dataframe.created_date.isin(date_list)]\n",
      "/var/folders/f2/xbsrplkj23z71l_fw6890_hr0000gn/T/ipykernel_75165/1221168534.py:10: SettingWithCopyWarning: \n",
      "A value is trying to be set on a copy of a slice from a DataFrame.\n",
      "Try using .loc[row_indexer,col_indexer] = value instead\n",
      "\n",
      "See the caveats in the documentation: https://pandas.pydata.org/pandas-docs/stable/user_guide/indexing.html#returning-a-view-versus-a-copy\n",
      "  filtered_df['cleaned_title'] = filtered_df['title'].apply(lambda x: clean_it_all_up(x, extra_stops))\n"
     ]
    },
    {
     "data": {
      "application/vnd.plotly.v1+json": {
       "config": {
        "plotlyServerURL": "https://plot.ly"
       },
       "data": [
        {
         "line": {
          "width": 5
         },
         "mode": "lines",
         "name": "('biden', 'admin')",
         "type": "scatter",
         "x": [
          "2024-08-24T00:00:00",
          "2024-08-25T00:00:00",
          "2024-08-26T00:00:00",
          "2024-08-27T00:00:00",
          "2024-08-28T00:00:00",
          "2024-08-29T00:00:00",
          "2024-08-30T00:00:00",
          "2024-08-31T00:00:00",
          "2024-09-01T00:00:00",
          "2024-09-02T00:00:00",
          "2024-09-03T00:00:00",
          "2024-09-04T00:00:00",
          "2024-09-05T00:00:00",
          "2024-09-06T00:00:00",
          "2024-09-07T00:00:00"
         ],
         "y": [
          0,
          1,
          6,
          1,
          0,
          1,
          2,
          0,
          0,
          1,
          1,
          0,
          2,
          1,
          0
         ]
        },
        {
         "line": {
          "width": 5
         },
         "mode": "lines",
         "name": "('biden', 'administration')",
         "type": "scatter",
         "x": [
          "2024-08-24T00:00:00",
          "2024-08-25T00:00:00",
          "2024-08-26T00:00:00",
          "2024-08-27T00:00:00",
          "2024-08-28T00:00:00",
          "2024-08-29T00:00:00",
          "2024-08-30T00:00:00",
          "2024-08-31T00:00:00",
          "2024-09-01T00:00:00",
          "2024-09-02T00:00:00",
          "2024-09-03T00:00:00",
          "2024-09-04T00:00:00",
          "2024-09-05T00:00:00",
          "2024-09-06T00:00:00",
          "2024-09-07T00:00:00"
         ],
         "y": [
          0,
          0,
          2,
          2,
          2,
          3,
          0,
          3,
          0,
          0,
          4,
          0,
          1,
          0,
          0
         ]
        },
        {
         "line": {
          "width": 5
         },
         "mode": "lines",
         "name": "('border', 'wall')",
         "type": "scatter",
         "x": [
          "2024-08-24T00:00:00",
          "2024-08-25T00:00:00",
          "2024-08-26T00:00:00",
          "2024-08-27T00:00:00",
          "2024-08-28T00:00:00",
          "2024-08-29T00:00:00",
          "2024-08-30T00:00:00",
          "2024-08-31T00:00:00",
          "2024-09-01T00:00:00",
          "2024-09-02T00:00:00",
          "2024-09-03T00:00:00",
          "2024-09-04T00:00:00",
          "2024-09-05T00:00:00",
          "2024-09-06T00:00:00",
          "2024-09-07T00:00:00"
         ],
         "y": [
          0,
          1,
          5,
          4,
          4,
          1,
          0,
          0,
          0,
          0,
          0,
          0,
          2,
          2,
          0
         ]
        },
        {
         "line": {
          "width": 5
         },
         "mode": "lines",
         "name": "('cnn', 'interview')",
         "type": "scatter",
         "x": [
          "2024-08-24T00:00:00",
          "2024-08-25T00:00:00",
          "2024-08-26T00:00:00",
          "2024-08-27T00:00:00",
          "2024-08-28T00:00:00",
          "2024-08-29T00:00:00",
          "2024-08-30T00:00:00",
          "2024-08-31T00:00:00",
          "2024-09-01T00:00:00",
          "2024-09-02T00:00:00",
          "2024-09-03T00:00:00",
          "2024-09-04T00:00:00",
          "2024-09-05T00:00:00",
          "2024-09-06T00:00:00",
          "2024-09-07T00:00:00"
         ],
         "y": [
          0,
          0,
          0,
          0,
          2,
          5,
          9,
          1,
          1,
          0,
          1,
          0,
          0,
          0,
          0
         ]
        },
        {
         "line": {
          "width": 5
         },
         "mode": "lines",
         "name": "('donald', 'trump')",
         "type": "scatter",
         "x": [
          "2024-08-24T00:00:00",
          "2024-08-25T00:00:00",
          "2024-08-26T00:00:00",
          "2024-08-27T00:00:00",
          "2024-08-28T00:00:00",
          "2024-08-29T00:00:00",
          "2024-08-30T00:00:00",
          "2024-08-31T00:00:00",
          "2024-09-01T00:00:00",
          "2024-09-02T00:00:00",
          "2024-09-03T00:00:00",
          "2024-09-04T00:00:00",
          "2024-09-05T00:00:00",
          "2024-09-06T00:00:00",
          "2024-09-07T00:00:00"
         ],
         "y": [
          0,
          1,
          3,
          1,
          2,
          0,
          2,
          4,
          2,
          0,
          1,
          4,
          1,
          1,
          0
         ]
        },
        {
         "line": {
          "width": 5
         },
         "mode": "lines",
         "name": "('free', 'speech')",
         "type": "scatter",
         "x": [
          "2024-08-24T00:00:00",
          "2024-08-25T00:00:00",
          "2024-08-26T00:00:00",
          "2024-08-27T00:00:00",
          "2024-08-28T00:00:00",
          "2024-08-29T00:00:00",
          "2024-08-30T00:00:00",
          "2024-08-31T00:00:00",
          "2024-09-01T00:00:00",
          "2024-09-02T00:00:00",
          "2024-09-03T00:00:00",
          "2024-09-04T00:00:00",
          "2024-09-05T00:00:00",
          "2024-09-06T00:00:00",
          "2024-09-07T00:00:00"
         ],
         "y": [
          0,
          0,
          1,
          0,
          3,
          0,
          2,
          3,
          0,
          0,
          1,
          0,
          1,
          2,
          0
         ]
        },
        {
         "line": {
          "width": 5
         },
         "mode": "lines",
         "name": "('gold', 'star')",
         "type": "scatter",
         "x": [
          "2024-08-24T00:00:00",
          "2024-08-25T00:00:00",
          "2024-08-26T00:00:00",
          "2024-08-27T00:00:00",
          "2024-08-28T00:00:00",
          "2024-08-29T00:00:00",
          "2024-08-30T00:00:00",
          "2024-08-31T00:00:00",
          "2024-09-01T00:00:00",
          "2024-09-02T00:00:00",
          "2024-09-03T00:00:00",
          "2024-09-04T00:00:00",
          "2024-09-05T00:00:00",
          "2024-09-06T00:00:00",
          "2024-09-07T00:00:00"
         ],
         "y": [
          0,
          0,
          0,
          1,
          0,
          0,
          1,
          2,
          12,
          10,
          1,
          0,
          0,
          0,
          1
         ]
        },
        {
         "line": {
          "width": 5
         },
         "mode": "lines",
         "name": "('illegal', 'alien')",
         "type": "scatter",
         "x": [
          "2024-08-24T00:00:00",
          "2024-08-25T00:00:00",
          "2024-08-26T00:00:00",
          "2024-08-27T00:00:00",
          "2024-08-28T00:00:00",
          "2024-08-29T00:00:00",
          "2024-08-30T00:00:00",
          "2024-08-31T00:00:00",
          "2024-09-01T00:00:00",
          "2024-09-02T00:00:00",
          "2024-09-03T00:00:00",
          "2024-09-04T00:00:00",
          "2024-09-05T00:00:00",
          "2024-09-06T00:00:00",
          "2024-09-07T00:00:00"
         ],
         "y": [
          0,
          0,
          3,
          2,
          1,
          0,
          0,
          2,
          1,
          3,
          1,
          1,
          0,
          0,
          1
         ]
        },
        {
         "line": {
          "width": 5
         },
         "mode": "lines",
         "name": "('jd', 'vance')",
         "type": "scatter",
         "x": [
          "2024-08-24T00:00:00",
          "2024-08-25T00:00:00",
          "2024-08-26T00:00:00",
          "2024-08-27T00:00:00",
          "2024-08-28T00:00:00",
          "2024-08-29T00:00:00",
          "2024-08-30T00:00:00",
          "2024-08-31T00:00:00",
          "2024-09-01T00:00:00",
          "2024-09-02T00:00:00",
          "2024-09-03T00:00:00",
          "2024-09-04T00:00:00",
          "2024-09-05T00:00:00",
          "2024-09-06T00:00:00",
          "2024-09-07T00:00:00"
         ],
         "y": [
          0,
          2,
          0,
          1,
          3,
          2,
          1,
          2,
          0,
          1,
          0,
          0,
          1,
          2,
          0
         ]
        },
        {
         "line": {
          "width": 5
         },
         "mode": "lines",
         "name": "('joe', 'biden')",
         "type": "scatter",
         "x": [
          "2024-08-24T00:00:00",
          "2024-08-25T00:00:00",
          "2024-08-26T00:00:00",
          "2024-08-27T00:00:00",
          "2024-08-28T00:00:00",
          "2024-08-29T00:00:00",
          "2024-08-30T00:00:00",
          "2024-08-31T00:00:00",
          "2024-09-01T00:00:00",
          "2024-09-02T00:00:00",
          "2024-09-03T00:00:00",
          "2024-09-04T00:00:00",
          "2024-09-05T00:00:00",
          "2024-09-06T00:00:00",
          "2024-09-07T00:00:00"
         ],
         "y": [
          0,
          0,
          4,
          1,
          3,
          0,
          1,
          0,
          2,
          3,
          2,
          0,
          0,
          0,
          1
         ]
        },
        {
         "line": {
          "width": 5
         },
         "mode": "lines",
         "name": "('president', 'trump')",
         "type": "scatter",
         "x": [
          "2024-08-24T00:00:00",
          "2024-08-25T00:00:00",
          "2024-08-26T00:00:00",
          "2024-08-27T00:00:00",
          "2024-08-28T00:00:00",
          "2024-08-29T00:00:00",
          "2024-08-30T00:00:00",
          "2024-08-31T00:00:00",
          "2024-09-01T00:00:00",
          "2024-09-02T00:00:00",
          "2024-09-03T00:00:00",
          "2024-09-04T00:00:00",
          "2024-09-05T00:00:00",
          "2024-09-06T00:00:00",
          "2024-09-07T00:00:00"
         ],
         "y": [
          1,
          2,
          13,
          2,
          4,
          1,
          2,
          3,
          3,
          2,
          3,
          1,
          3,
          1,
          2
         ]
        },
        {
         "line": {
          "width": 5
         },
         "mode": "lines",
         "name": "('rfk', 'jr')",
         "type": "scatter",
         "x": [
          "2024-08-24T00:00:00",
          "2024-08-25T00:00:00",
          "2024-08-26T00:00:00",
          "2024-08-27T00:00:00",
          "2024-08-28T00:00:00",
          "2024-08-29T00:00:00",
          "2024-08-30T00:00:00",
          "2024-08-31T00:00:00",
          "2024-09-01T00:00:00",
          "2024-09-02T00:00:00",
          "2024-09-03T00:00:00",
          "2024-09-04T00:00:00",
          "2024-09-05T00:00:00",
          "2024-09-06T00:00:00",
          "2024-09-07T00:00:00"
         ],
         "y": [
          4,
          1,
          4,
          4,
          1,
          0,
          0,
          1,
          0,
          0,
          0,
          2,
          2,
          1,
          0
         ]
        },
        {
         "line": {
          "width": 5
         },
         "mode": "lines",
         "name": "('united', 'states')",
         "type": "scatter",
         "x": [
          "2024-08-24T00:00:00",
          "2024-08-25T00:00:00",
          "2024-08-26T00:00:00",
          "2024-08-27T00:00:00",
          "2024-08-28T00:00:00",
          "2024-08-29T00:00:00",
          "2024-08-30T00:00:00",
          "2024-08-31T00:00:00",
          "2024-09-01T00:00:00",
          "2024-09-02T00:00:00",
          "2024-09-03T00:00:00",
          "2024-09-04T00:00:00",
          "2024-09-05T00:00:00",
          "2024-09-06T00:00:00",
          "2024-09-07T00:00:00"
         ],
         "y": [
          0,
          0,
          3,
          0,
          1,
          2,
          0,
          2,
          0,
          0,
          1,
          1,
          1,
          1,
          0
         ]
        },
        {
         "line": {
          "width": 5
         },
         "mode": "lines",
         "name": "('vice', 'president')",
         "type": "scatter",
         "x": [
          "2024-08-24T00:00:00",
          "2024-08-25T00:00:00",
          "2024-08-26T00:00:00",
          "2024-08-27T00:00:00",
          "2024-08-28T00:00:00",
          "2024-08-29T00:00:00",
          "2024-08-30T00:00:00",
          "2024-08-31T00:00:00",
          "2024-09-01T00:00:00",
          "2024-09-02T00:00:00",
          "2024-09-03T00:00:00",
          "2024-09-04T00:00:00",
          "2024-09-05T00:00:00",
          "2024-09-06T00:00:00",
          "2024-09-07T00:00:00"
         ],
         "y": [
          0,
          2,
          3,
          2,
          2,
          0,
          2,
          1,
          0,
          1,
          0,
          3,
          0,
          0,
          3
         ]
        },
        {
         "line": {
          "width": 5
         },
         "mode": "lines",
         "name": "('white', 'house')",
         "type": "scatter",
         "x": [
          "2024-08-24T00:00:00",
          "2024-08-25T00:00:00",
          "2024-08-26T00:00:00",
          "2024-08-27T00:00:00",
          "2024-08-28T00:00:00",
          "2024-08-29T00:00:00",
          "2024-08-30T00:00:00",
          "2024-08-31T00:00:00",
          "2024-09-01T00:00:00",
          "2024-09-02T00:00:00",
          "2024-09-03T00:00:00",
          "2024-09-04T00:00:00",
          "2024-09-05T00:00:00",
          "2024-09-06T00:00:00",
          "2024-09-07T00:00:00"
         ],
         "y": [
          0,
          0,
          0,
          0,
          4,
          1,
          3,
          1,
          1,
          0,
          1,
          1,
          1,
          0,
          1
         ]
        }
       ],
       "layout": {
        "height": 800,
        "legend": {
         "title": {
          "font": {
           "color": "firebrick",
           "family": "Courier",
           "size": 15
          },
          "text": "<b>Popular Bigrams<br>"
         }
        },
        "template": {
         "data": {
          "bar": [
           {
            "error_x": {
             "color": "#2a3f5f"
            },
            "error_y": {
             "color": "#2a3f5f"
            },
            "marker": {
             "line": {
              "color": "#E5ECF6",
              "width": 0.5
             },
             "pattern": {
              "fillmode": "overlay",
              "size": 10,
              "solidity": 0.2
             }
            },
            "type": "bar"
           }
          ],
          "barpolar": [
           {
            "marker": {
             "line": {
              "color": "#E5ECF6",
              "width": 0.5
             },
             "pattern": {
              "fillmode": "overlay",
              "size": 10,
              "solidity": 0.2
             }
            },
            "type": "barpolar"
           }
          ],
          "carpet": [
           {
            "aaxis": {
             "endlinecolor": "#2a3f5f",
             "gridcolor": "white",
             "linecolor": "white",
             "minorgridcolor": "white",
             "startlinecolor": "#2a3f5f"
            },
            "baxis": {
             "endlinecolor": "#2a3f5f",
             "gridcolor": "white",
             "linecolor": "white",
             "minorgridcolor": "white",
             "startlinecolor": "#2a3f5f"
            },
            "type": "carpet"
           }
          ],
          "choropleth": [
           {
            "colorbar": {
             "outlinewidth": 0,
             "ticks": ""
            },
            "type": "choropleth"
           }
          ],
          "contour": [
           {
            "colorbar": {
             "outlinewidth": 0,
             "ticks": ""
            },
            "colorscale": [
             [
              0,
              "#0d0887"
             ],
             [
              0.1111111111111111,
              "#46039f"
             ],
             [
              0.2222222222222222,
              "#7201a8"
             ],
             [
              0.3333333333333333,
              "#9c179e"
             ],
             [
              0.4444444444444444,
              "#bd3786"
             ],
             [
              0.5555555555555556,
              "#d8576b"
             ],
             [
              0.6666666666666666,
              "#ed7953"
             ],
             [
              0.7777777777777778,
              "#fb9f3a"
             ],
             [
              0.8888888888888888,
              "#fdca26"
             ],
             [
              1,
              "#f0f921"
             ]
            ],
            "type": "contour"
           }
          ],
          "contourcarpet": [
           {
            "colorbar": {
             "outlinewidth": 0,
             "ticks": ""
            },
            "type": "contourcarpet"
           }
          ],
          "heatmap": [
           {
            "colorbar": {
             "outlinewidth": 0,
             "ticks": ""
            },
            "colorscale": [
             [
              0,
              "#0d0887"
             ],
             [
              0.1111111111111111,
              "#46039f"
             ],
             [
              0.2222222222222222,
              "#7201a8"
             ],
             [
              0.3333333333333333,
              "#9c179e"
             ],
             [
              0.4444444444444444,
              "#bd3786"
             ],
             [
              0.5555555555555556,
              "#d8576b"
             ],
             [
              0.6666666666666666,
              "#ed7953"
             ],
             [
              0.7777777777777778,
              "#fb9f3a"
             ],
             [
              0.8888888888888888,
              "#fdca26"
             ],
             [
              1,
              "#f0f921"
             ]
            ],
            "type": "heatmap"
           }
          ],
          "heatmapgl": [
           {
            "colorbar": {
             "outlinewidth": 0,
             "ticks": ""
            },
            "colorscale": [
             [
              0,
              "#0d0887"
             ],
             [
              0.1111111111111111,
              "#46039f"
             ],
             [
              0.2222222222222222,
              "#7201a8"
             ],
             [
              0.3333333333333333,
              "#9c179e"
             ],
             [
              0.4444444444444444,
              "#bd3786"
             ],
             [
              0.5555555555555556,
              "#d8576b"
             ],
             [
              0.6666666666666666,
              "#ed7953"
             ],
             [
              0.7777777777777778,
              "#fb9f3a"
             ],
             [
              0.8888888888888888,
              "#fdca26"
             ],
             [
              1,
              "#f0f921"
             ]
            ],
            "type": "heatmapgl"
           }
          ],
          "histogram": [
           {
            "marker": {
             "pattern": {
              "fillmode": "overlay",
              "size": 10,
              "solidity": 0.2
             }
            },
            "type": "histogram"
           }
          ],
          "histogram2d": [
           {
            "colorbar": {
             "outlinewidth": 0,
             "ticks": ""
            },
            "colorscale": [
             [
              0,
              "#0d0887"
             ],
             [
              0.1111111111111111,
              "#46039f"
             ],
             [
              0.2222222222222222,
              "#7201a8"
             ],
             [
              0.3333333333333333,
              "#9c179e"
             ],
             [
              0.4444444444444444,
              "#bd3786"
             ],
             [
              0.5555555555555556,
              "#d8576b"
             ],
             [
              0.6666666666666666,
              "#ed7953"
             ],
             [
              0.7777777777777778,
              "#fb9f3a"
             ],
             [
              0.8888888888888888,
              "#fdca26"
             ],
             [
              1,
              "#f0f921"
             ]
            ],
            "type": "histogram2d"
           }
          ],
          "histogram2dcontour": [
           {
            "colorbar": {
             "outlinewidth": 0,
             "ticks": ""
            },
            "colorscale": [
             [
              0,
              "#0d0887"
             ],
             [
              0.1111111111111111,
              "#46039f"
             ],
             [
              0.2222222222222222,
              "#7201a8"
             ],
             [
              0.3333333333333333,
              "#9c179e"
             ],
             [
              0.4444444444444444,
              "#bd3786"
             ],
             [
              0.5555555555555556,
              "#d8576b"
             ],
             [
              0.6666666666666666,
              "#ed7953"
             ],
             [
              0.7777777777777778,
              "#fb9f3a"
             ],
             [
              0.8888888888888888,
              "#fdca26"
             ],
             [
              1,
              "#f0f921"
             ]
            ],
            "type": "histogram2dcontour"
           }
          ],
          "mesh3d": [
           {
            "colorbar": {
             "outlinewidth": 0,
             "ticks": ""
            },
            "type": "mesh3d"
           }
          ],
          "parcoords": [
           {
            "line": {
             "colorbar": {
              "outlinewidth": 0,
              "ticks": ""
             }
            },
            "type": "parcoords"
           }
          ],
          "pie": [
           {
            "automargin": true,
            "type": "pie"
           }
          ],
          "scatter": [
           {
            "fillpattern": {
             "fillmode": "overlay",
             "size": 10,
             "solidity": 0.2
            },
            "type": "scatter"
           }
          ],
          "scatter3d": [
           {
            "line": {
             "colorbar": {
              "outlinewidth": 0,
              "ticks": ""
             }
            },
            "marker": {
             "colorbar": {
              "outlinewidth": 0,
              "ticks": ""
             }
            },
            "type": "scatter3d"
           }
          ],
          "scattercarpet": [
           {
            "marker": {
             "colorbar": {
              "outlinewidth": 0,
              "ticks": ""
             }
            },
            "type": "scattercarpet"
           }
          ],
          "scattergeo": [
           {
            "marker": {
             "colorbar": {
              "outlinewidth": 0,
              "ticks": ""
             }
            },
            "type": "scattergeo"
           }
          ],
          "scattergl": [
           {
            "marker": {
             "colorbar": {
              "outlinewidth": 0,
              "ticks": ""
             }
            },
            "type": "scattergl"
           }
          ],
          "scattermapbox": [
           {
            "marker": {
             "colorbar": {
              "outlinewidth": 0,
              "ticks": ""
             }
            },
            "type": "scattermapbox"
           }
          ],
          "scatterpolar": [
           {
            "marker": {
             "colorbar": {
              "outlinewidth": 0,
              "ticks": ""
             }
            },
            "type": "scatterpolar"
           }
          ],
          "scatterpolargl": [
           {
            "marker": {
             "colorbar": {
              "outlinewidth": 0,
              "ticks": ""
             }
            },
            "type": "scatterpolargl"
           }
          ],
          "scatterternary": [
           {
            "marker": {
             "colorbar": {
              "outlinewidth": 0,
              "ticks": ""
             }
            },
            "type": "scatterternary"
           }
          ],
          "surface": [
           {
            "colorbar": {
             "outlinewidth": 0,
             "ticks": ""
            },
            "colorscale": [
             [
              0,
              "#0d0887"
             ],
             [
              0.1111111111111111,
              "#46039f"
             ],
             [
              0.2222222222222222,
              "#7201a8"
             ],
             [
              0.3333333333333333,
              "#9c179e"
             ],
             [
              0.4444444444444444,
              "#bd3786"
             ],
             [
              0.5555555555555556,
              "#d8576b"
             ],
             [
              0.6666666666666666,
              "#ed7953"
             ],
             [
              0.7777777777777778,
              "#fb9f3a"
             ],
             [
              0.8888888888888888,
              "#fdca26"
             ],
             [
              1,
              "#f0f921"
             ]
            ],
            "type": "surface"
           }
          ],
          "table": [
           {
            "cells": {
             "fill": {
              "color": "#EBF0F8"
             },
             "line": {
              "color": "white"
             }
            },
            "header": {
             "fill": {
              "color": "#C8D4E3"
             },
             "line": {
              "color": "white"
             }
            },
            "type": "table"
           }
          ]
         },
         "layout": {
          "annotationdefaults": {
           "arrowcolor": "#2a3f5f",
           "arrowhead": 0,
           "arrowwidth": 1
          },
          "autotypenumbers": "strict",
          "coloraxis": {
           "colorbar": {
            "outlinewidth": 0,
            "ticks": ""
           }
          },
          "colorscale": {
           "diverging": [
            [
             0,
             "#8e0152"
            ],
            [
             0.1,
             "#c51b7d"
            ],
            [
             0.2,
             "#de77ae"
            ],
            [
             0.3,
             "#f1b6da"
            ],
            [
             0.4,
             "#fde0ef"
            ],
            [
             0.5,
             "#f7f7f7"
            ],
            [
             0.6,
             "#e6f5d0"
            ],
            [
             0.7,
             "#b8e186"
            ],
            [
             0.8,
             "#7fbc41"
            ],
            [
             0.9,
             "#4d9221"
            ],
            [
             1,
             "#276419"
            ]
           ],
           "sequential": [
            [
             0,
             "#0d0887"
            ],
            [
             0.1111111111111111,
             "#46039f"
            ],
            [
             0.2222222222222222,
             "#7201a8"
            ],
            [
             0.3333333333333333,
             "#9c179e"
            ],
            [
             0.4444444444444444,
             "#bd3786"
            ],
            [
             0.5555555555555556,
             "#d8576b"
            ],
            [
             0.6666666666666666,
             "#ed7953"
            ],
            [
             0.7777777777777778,
             "#fb9f3a"
            ],
            [
             0.8888888888888888,
             "#fdca26"
            ],
            [
             1,
             "#f0f921"
            ]
           ],
           "sequentialminus": [
            [
             0,
             "#0d0887"
            ],
            [
             0.1111111111111111,
             "#46039f"
            ],
            [
             0.2222222222222222,
             "#7201a8"
            ],
            [
             0.3333333333333333,
             "#9c179e"
            ],
            [
             0.4444444444444444,
             "#bd3786"
            ],
            [
             0.5555555555555556,
             "#d8576b"
            ],
            [
             0.6666666666666666,
             "#ed7953"
            ],
            [
             0.7777777777777778,
             "#fb9f3a"
            ],
            [
             0.8888888888888888,
             "#fdca26"
            ],
            [
             1,
             "#f0f921"
            ]
           ]
          },
          "colorway": [
           "#636efa",
           "#EF553B",
           "#00cc96",
           "#ab63fa",
           "#FFA15A",
           "#19d3f3",
           "#FF6692",
           "#B6E880",
           "#FF97FF",
           "#FECB52"
          ],
          "font": {
           "color": "#2a3f5f"
          },
          "geo": {
           "bgcolor": "white",
           "lakecolor": "white",
           "landcolor": "#E5ECF6",
           "showlakes": true,
           "showland": true,
           "subunitcolor": "white"
          },
          "hoverlabel": {
           "align": "left"
          },
          "hovermode": "closest",
          "mapbox": {
           "style": "light"
          },
          "paper_bgcolor": "white",
          "plot_bgcolor": "#E5ECF6",
          "polar": {
           "angularaxis": {
            "gridcolor": "white",
            "linecolor": "white",
            "ticks": ""
           },
           "bgcolor": "#E5ECF6",
           "radialaxis": {
            "gridcolor": "white",
            "linecolor": "white",
            "ticks": ""
           }
          },
          "scene": {
           "xaxis": {
            "backgroundcolor": "#E5ECF6",
            "gridcolor": "white",
            "gridwidth": 2,
            "linecolor": "white",
            "showbackground": true,
            "ticks": "",
            "zerolinecolor": "white"
           },
           "yaxis": {
            "backgroundcolor": "#E5ECF6",
            "gridcolor": "white",
            "gridwidth": 2,
            "linecolor": "white",
            "showbackground": true,
            "ticks": "",
            "zerolinecolor": "white"
           },
           "zaxis": {
            "backgroundcolor": "#E5ECF6",
            "gridcolor": "white",
            "gridwidth": 2,
            "linecolor": "white",
            "showbackground": true,
            "ticks": "",
            "zerolinecolor": "white"
           }
          },
          "shapedefaults": {
           "line": {
            "color": "#2a3f5f"
           }
          },
          "ternary": {
           "aaxis": {
            "gridcolor": "white",
            "linecolor": "white",
            "ticks": ""
           },
           "baxis": {
            "gridcolor": "white",
            "linecolor": "white",
            "ticks": ""
           },
           "bgcolor": "#E5ECF6",
           "caxis": {
            "gridcolor": "white",
            "linecolor": "white",
            "ticks": ""
           }
          },
          "title": {
           "x": 0.05
          },
          "xaxis": {
           "automargin": true,
           "gridcolor": "white",
           "linecolor": "white",
           "ticks": "",
           "title": {
            "standoff": 15
           },
           "zerolinecolor": "white",
           "zerolinewidth": 2
          },
          "yaxis": {
           "automargin": true,
           "gridcolor": "white",
           "linecolor": "white",
           "ticks": "",
           "title": {
            "standoff": 15
           },
           "zerolinecolor": "white",
           "zerolinewidth": 2
          }
         }
        },
        "width": 1000,
        "xaxis": {
         "tickangle": 45,
         "title": {
          "text": "Date"
         }
        },
        "yaxis": {
         "range": [
          0,
          14.3
         ],
         "title": {
          "text": "Frequency"
         }
        }
       }
      }
     },
     "metadata": {},
     "output_type": "display_data"
    }
   ],
   "source": [
    "ngram_time_last_n_days_interactive(dataframe=kamala_harris_df, \n",
    "                    num=2, \n",
    "                    last_ndays=14,\n",
    "                    extra_stops=kamala_harris, \n",
    "                    top_n=15,\n",
    "                    set_title=False,\n",
    "                    save_filename=False)"
   ]
  },
  {
   "cell_type": "code",
   "execution_count": 23,
   "metadata": {},
   "outputs": [],
   "source": [
    "# A function that returns the top posts in interactive format\n",
    "    \n",
    "def top_posts_lastNdays(dataframe, num, Ndays, save_table=False):\n",
    "    end_date = datetime.datetime.now()\n",
    "    start_date = end_date - datetime.timedelta(days=Ndays)\n",
    "    top_posts = dataframe[dataframe.created_date >= start_date].nlargest(num,'score_up')\n",
    "    top_posts['post_link'] = \"https://patriots.win/p/\" + top_posts['uuid']\n",
    "    top_posts['title'] = top_posts.apply(lambda row: f'<a href=\"{row[\"post_link\"]}\">{row[\"title\"]}</a>', axis=1)\n",
    "    top_posts = top_posts[['title', \n",
    "                           'score_up', \n",
    "                           'comments', \n",
    "                           'author'\n",
    "                           ]]\n",
    "    \n",
    "    \n",
    "    top_posts = top_posts.reset_index().drop(columns='index')\n",
    "    top_posts.index = np.arange(1, len(top_posts)+1)\n",
    "\n",
    "    if save_table:\n",
    "        html_content = top_posts.to_html(render_links=True, \n",
    "                                         justify='center', \n",
    "                                         escape=False,\n",
    "                                         classes='table table-striped table-hover', \n",
    "                                         table_id='my_table')\n",
    "        \n",
    "        with open(f'viz/most_popular_posts_in_the_last_day(s).html', \"w\") as html_file:\n",
    "            html_file.write(f\"\"\"\n",
    "                <html>\n",
    "                <head>\n",
    "                <link rel=\"stylesheet\" type=\"text/css\" href=\"https://cdn.datatables.net/1.10.21/css/jquery.dataTables.css\">\n",
    "                <script type=\"text/javascript\" charset=\"utf8\" src=\"https://code.jquery.com/jquery-3.5.1.js\"></script>\n",
    "                <script type=\"text/javascript\" charset=\"utf8\" src=\"https://cdn.datatables.net/1.10.21/js/jquery.dataTables.js\"></script>\n",
    "                <script>\n",
    "                $(document).ready( function () {{\n",
    "                    $('#my_table').DataTable();\n",
    "                }} );\n",
    "                </script>\n",
    "                </head>\n",
    "                <body>\n",
    "                {html_content}\n",
    "                </body>\n",
    "                </html>\n",
    "            \"\"\")\n",
    "                                         \n",
    "    return top_posts"
   ]
  },
  {
   "cell_type": "code",
   "execution_count": 24,
   "metadata": {},
   "outputs": [
    {
     "data": {
      "text/html": [
       "<div>\n",
       "<style scoped>\n",
       "    .dataframe tbody tr th:only-of-type {\n",
       "        vertical-align: middle;\n",
       "    }\n",
       "\n",
       "    .dataframe tbody tr th {\n",
       "        vertical-align: top;\n",
       "    }\n",
       "\n",
       "    .dataframe thead th {\n",
       "        text-align: right;\n",
       "    }\n",
       "</style>\n",
       "<table border=\"1\" class=\"dataframe\">\n",
       "  <thead>\n",
       "    <tr style=\"text-align: right;\">\n",
       "      <th></th>\n",
       "      <th>title</th>\n",
       "      <th>score_up</th>\n",
       "      <th>comments</th>\n",
       "      <th>author</th>\n",
       "    </tr>\n",
       "  </thead>\n",
       "  <tbody>\n",
       "    <tr>\n",
       "      <th>1</th>\n",
       "      <td>&lt;a href=\"https://patriots.win/p/1994kIBkb0\"&gt;🚨 BREAKING: Donald Trump sentencing postponed until after the election&lt;/a&gt;</td>\n",
       "      <td>1909</td>\n",
       "      <td>280</td>\n",
       "      <td>hocuspocusfocusjeep</td>\n",
       "    </tr>\n",
       "    <tr>\n",
       "      <th>2</th>\n",
       "      <td>&lt;a href=\"https://patriots.win/p/1994kH5HY8\"&gt;Scott Presler is HIRING full time field staff positions for voter registration and door knocking in the crucial state of Pennsylvania!&lt;/a&gt;</td>\n",
       "      <td>1736</td>\n",
       "      <td>127</td>\n",
       "      <td>TheAttackTitan</td>\n",
       "    </tr>\n",
       "    <tr>\n",
       "      <th>3</th>\n",
       "      <td>&lt;a href=\"https://patriots.win/p/1994kH3uNA\"&gt;He hasn't realized it yet but you do. He's going to be voting Trump. Get your ass in here Chunky Yogurt, we got a world to save! LET'S GO!!!&lt;/a&gt;</td>\n",
       "      <td>1722</td>\n",
       "      <td>218</td>\n",
       "      <td>flp999</td>\n",
       "    </tr>\n",
       "    <tr>\n",
       "      <th>4</th>\n",
       "      <td>&lt;a href=\"https://patriots.win/p/1994kICa0a\"&gt;BREAKING: The Attorney General of Georgia has blocked an effort by Election Fraudsters to overthrow three duly appointed members of the Election Board, who have been implementing significant election integrity reforms.&lt;/a&gt;</td>\n",
       "      <td>1544</td>\n",
       "      <td>45</td>\n",
       "      <td>no_comment</td>\n",
       "    </tr>\n",
       "    <tr>\n",
       "      <th>5</th>\n",
       "      <td>&lt;a href=\"https://patriots.win/p/1994kIDwvA\"&gt;Democrats Are Terrified Of GOP Plan To Protect U.S. Election From Noncitizen Voting&lt;/a&gt;</td>\n",
       "      <td>1334</td>\n",
       "      <td>50</td>\n",
       "      <td>Sea_Still</td>\n",
       "    </tr>\n",
       "    <tr>\n",
       "      <th>6</th>\n",
       "      <td>&lt;a href=\"https://patriots.win/p/1994kFvVaQ\"&gt;RNC Battles Election Fraud in Another State, Files Suit on NC Absentee Ballot Policy That Breaks Law&lt;/a&gt;</td>\n",
       "      <td>1218</td>\n",
       "      <td>31</td>\n",
       "      <td>TateDemarcus</td>\n",
       "    </tr>\n",
       "    <tr>\n",
       "      <th>7</th>\n",
       "      <td>&lt;a href=\"https://patriots.win/p/1994kH3M4k\"&gt;Because not requiring ID, combined with mail in voting, makes it completely impossible to prove fraud (obviously)&lt;/a&gt;</td>\n",
       "      <td>774</td>\n",
       "      <td>11</td>\n",
       "      <td>MemeForTheWin</td>\n",
       "    </tr>\n",
       "    <tr>\n",
       "      <th>8</th>\n",
       "      <td>&lt;a href=\"https://patriots.win/p/1994kJLWMP\"&gt;Register voters, chase ballots, and get out the vote for Trump like your life depends on it.&lt;/a&gt;</td>\n",
       "      <td>616</td>\n",
       "      <td>25</td>\n",
       "      <td>trees65</td>\n",
       "    </tr>\n",
       "    <tr>\n",
       "      <th>9</th>\n",
       "      <td>&lt;a href=\"https://patriots.win/p/1994kH5YbH\"&gt;NEW: Fundraising email CONFRIMS Robert Kennedy Jr. is now urging his supporters in every state to vote for President Trump.&lt;/a&gt;</td>\n",
       "      <td>407</td>\n",
       "      <td>3</td>\n",
       "      <td>Looniz74</td>\n",
       "    </tr>\n",
       "    <tr>\n",
       "      <th>10</th>\n",
       "      <td>&lt;a href=\"https://patriots.win/p/1994kH3dG2\"&gt;CNN Points Out Trump Has Huge Advantage Over Harris With Male Voters.&lt;/a&gt;</td>\n",
       "      <td>390</td>\n",
       "      <td>13</td>\n",
       "      <td>rdvs34283</td>\n",
       "    </tr>\n",
       "    <tr>\n",
       "      <th>11</th>\n",
       "      <td>&lt;a href=\"https://patriots.win/p/1994kKSXVF\"&gt;How They Steal: Democrats are Using an Easy &amp; Almost Undetectable Way to Steal the Election From Trump: Americans Who Live or Are Stationed Outside the U.S. can vote without ID. Democrats claim there are 9 million, but government records show less than 3 million are citizens of voting age.&lt;/a&gt;</td>\n",
       "      <td>371</td>\n",
       "      <td>5</td>\n",
       "      <td>rdvs34283</td>\n",
       "    </tr>\n",
       "    <tr>\n",
       "      <th>12</th>\n",
       "      <td>&lt;a href=\"https://patriots.win/p/1994kID82b\"&gt; Texas AG Paxton sues Travis County for allegedly hiring third party for voter registration.\\n\\n\"Programs like this invite fraud and reduce public trust in our elections\"&lt;/a&gt;</td>\n",
       "      <td>312</td>\n",
       "      <td>0</td>\n",
       "      <td>Sea_Still</td>\n",
       "    </tr>\n",
       "    <tr>\n",
       "      <th>13</th>\n",
       "      <td>&lt;a href=\"https://patriots.win/p/1994kIBkf6\"&gt;BREAKING: Donald Trump sentencing postponed until after the election, new date set for November 26&lt;/a&gt;</td>\n",
       "      <td>299</td>\n",
       "      <td>10</td>\n",
       "      <td>Always-FreeUSA</td>\n",
       "    </tr>\n",
       "    <tr>\n",
       "      <th>14</th>\n",
       "      <td>&lt;a href=\"https://patriots.win/p/1994kKSXps\"&gt;Rep. Marjorie Taylor Greene:\\nThis CR is the perfect opportunity to also include election integrity measures like the SAVE Act, in addition to border security measures and a balanced budget amendment.&lt;/a&gt;</td>\n",
       "      <td>279</td>\n",
       "      <td>9</td>\n",
       "      <td>icehole3</td>\n",
       "    </tr>\n",
       "    <tr>\n",
       "      <th>15</th>\n",
       "      <td>&lt;a href=\"https://patriots.win/p/1994kH3uEt\"&gt;Why has Speaker Johnson decided not to release his ' committee findings about the assassination attempt until AFTER the election in December?\\n&lt;/a&gt;</td>\n",
       "      <td>275</td>\n",
       "      <td>14</td>\n",
       "      <td>kinbergfan</td>\n",
       "    </tr>\n",
       "    <tr>\n",
       "      <th>16</th>\n",
       "      <td>&lt;a href=\"https://patriots.win/p/1994kID7do\"&gt;No one is fighting to secure their State's voting like AG Ken Paxton. If every State did this, Trump would win quite literally EVERY STATE. &lt;/a&gt;</td>\n",
       "      <td>253</td>\n",
       "      <td>8</td>\n",
       "      <td>FBJ_WoodChipper</td>\n",
       "    </tr>\n",
       "    <tr>\n",
       "      <th>17</th>\n",
       "      <td>&lt;a href=\"https://patriots.win/p/1994kH4B5a\"&gt;They are refusing to remove noncitizens from the voter rolls&lt;/a&gt;</td>\n",
       "      <td>248</td>\n",
       "      <td>2</td>\n",
       "      <td>Looniz74</td>\n",
       "    </tr>\n",
       "    <tr>\n",
       "      <th>18</th>\n",
       "      <td>&lt;a href=\"https://patriots.win/p/1994kJM4SW\"&gt;Mike Tyson is voting for Trump.&lt;/a&gt;</td>\n",
       "      <td>240</td>\n",
       "      <td>2</td>\n",
       "      <td>wstml555</td>\n",
       "    </tr>\n",
       "    <tr>\n",
       "      <th>19</th>\n",
       "      <td>&lt;a href=\"https://patriots.win/p/1994kID86d\"&gt;SCOTT PRESLER: Very proud to announce that the @EarlyVoteAction\\n team will be at the Penn State University game this weekend to register everyone to vote. We will be at EVERY single game.&lt;/a&gt;</td>\n",
       "      <td>220</td>\n",
       "      <td>40</td>\n",
       "      <td>FBJ_WoodChipper</td>\n",
       "    </tr>\n",
       "    <tr>\n",
       "      <th>20</th>\n",
       "      <td>&lt;a href=\"https://patriots.win/p/1994kKT5X9\"&gt;Dick Cheney, a man who Joe Biden once called \"the most dangerous VP ... in American history,\" is going to vote for Kamala Harris&lt;/a&gt;</td>\n",
       "      <td>218</td>\n",
       "      <td>4</td>\n",
       "      <td>TateDemarcus</td>\n",
       "    </tr>\n",
       "  </tbody>\n",
       "</table>\n",
       "</div>"
      ],
      "text/plain": [
       "                                                                                                                                                                                                                                                                                                                                                 title  \\\n",
       "1                                                                                                                                                                                                                               <a href=\"https://patriots.win/p/1994kIBkb0\">🚨 BREAKING: Donald Trump sentencing postponed until after the election</a>   \n",
       "2                                                                                                                                                               <a href=\"https://patriots.win/p/1994kH5HY8\">Scott Presler is HIRING full time field staff positions for voter registration and door knocking in the crucial state of Pennsylvania!</a>   \n",
       "3                                                                                                                                                         <a href=\"https://patriots.win/p/1994kH3uNA\">He hasn't realized it yet but you do. He's going to be voting Trump. Get your ass in here Chunky Yogurt, we got a world to save! LET'S GO!!!</a>   \n",
       "4                                                                           <a href=\"https://patriots.win/p/1994kICa0a\">BREAKING: The Attorney General of Georgia has blocked an effort by Election Fraudsters to overthrow three duly appointed members of the Election Board, who have been implementing significant election integrity reforms.</a>   \n",
       "5                                                                                                                                                                                                                  <a href=\"https://patriots.win/p/1994kIDwvA\">Democrats Are Terrified Of GOP Plan To Protect U.S. Election From Noncitizen Voting</a>   \n",
       "6                                                                                                                                                                                                 <a href=\"https://patriots.win/p/1994kFvVaQ\">RNC Battles Election Fraud in Another State, Files Suit on NC Absentee Ballot Policy That Breaks Law</a>   \n",
       "7                                                                                                                                                                                    <a href=\"https://patriots.win/p/1994kH3M4k\">Because not requiring ID, combined with mail in voting, makes it completely impossible to prove fraud (obviously)</a>   \n",
       "8                                                                                                                                                                                                         <a href=\"https://patriots.win/p/1994kJLWMP\">Register voters, chase ballots, and get out the vote for Trump like your life depends on it.</a>   \n",
       "9                                                                                                                                                                          <a href=\"https://patriots.win/p/1994kH5YbH\">NEW: Fundraising email CONFRIMS Robert Kennedy Jr. is now urging his supporters in every state to vote for President Trump.</a>   \n",
       "10                                                                                                                                                                                                                               <a href=\"https://patriots.win/p/1994kH3dG2\">CNN Points Out Trump Has Huge Advantage Over Harris With Male Voters.</a>   \n",
       "11  <a href=\"https://patriots.win/p/1994kKSXVF\">How They Steal: Democrats are Using an Easy & Almost Undetectable Way to Steal the Election From Trump: Americans Who Live or Are Stationed Outside the U.S. can vote without ID. Democrats claim there are 9 million, but government records show less than 3 million are citizens of voting age.</a>   \n",
       "12                                                                                                                          <a href=\"https://patriots.win/p/1994kID82b\"> Texas AG Paxton sues Travis County for allegedly hiring third party for voter registration.\\n\\n\"Programs like this invite fraud and reduce public trust in our elections\"</a>   \n",
       "13                                                                                                                                                                                                  <a href=\"https://patriots.win/p/1994kIBkf6\">BREAKING: Donald Trump sentencing postponed until after the election, new date set for November 26</a>   \n",
       "14                                                                                            <a href=\"https://patriots.win/p/1994kKSXps\">Rep. Marjorie Taylor Greene:\\nThis CR is the perfect opportunity to also include election integrity measures like the SAVE Act, in addition to border security measures and a balanced budget amendment.</a>   \n",
       "15                                                                                                                                                     <a href=\"https://patriots.win/p/1994kH3uEt\">Why has Speaker Johnson decided not to release his ' committee findings about the assassination attempt until AFTER the election in December?\\n</a>   \n",
       "16                                                                                                                                                        <a href=\"https://patriots.win/p/1994kID7do\">No one is fighting to secure their State's voting like AG Ken Paxton. If every State did this, Trump would win quite literally EVERY STATE. </a>   \n",
       "17                                                                                                                                                                                                                                        <a href=\"https://patriots.win/p/1994kH4B5a\">They are refusing to remove noncitizens from the voter rolls</a>   \n",
       "18                                                                                                                                                                                                                                                                     <a href=\"https://patriots.win/p/1994kJM4SW\">Mike Tyson is voting for Trump.</a>   \n",
       "19                                                                                                        <a href=\"https://patriots.win/p/1994kID86d\">SCOTT PRESLER: Very proud to announce that the @EarlyVoteAction\\n team will be at the Penn State University game this weekend to register everyone to vote. We will be at EVERY single game.</a>   \n",
       "20                                                                                                                                                                    <a href=\"https://patriots.win/p/1994kKT5X9\">Dick Cheney, a man who Joe Biden once called \"the most dangerous VP ... in American history,\" is going to vote for Kamala Harris</a>   \n",
       "\n",
       "    score_up  comments               author  \n",
       "1       1909       280  hocuspocusfocusjeep  \n",
       "2       1736       127       TheAttackTitan  \n",
       "3       1722       218               flp999  \n",
       "4       1544        45           no_comment  \n",
       "5       1334        50            Sea_Still  \n",
       "6       1218        31         TateDemarcus  \n",
       "7        774        11        MemeForTheWin  \n",
       "8        616        25              trees65  \n",
       "9        407         3             Looniz74  \n",
       "10       390        13            rdvs34283  \n",
       "11       371         5            rdvs34283  \n",
       "12       312         0            Sea_Still  \n",
       "13       299        10       Always-FreeUSA  \n",
       "14       279         9             icehole3  \n",
       "15       275        14           kinbergfan  \n",
       "16       253         8      FBJ_WoodChipper  \n",
       "17       248         2             Looniz74  \n",
       "18       240         2             wstml555  \n",
       "19       220        40      FBJ_WoodChipper  \n",
       "20       218         4         TateDemarcus  "
      ]
     },
     "execution_count": 24,
     "metadata": {},
     "output_type": "execute_result"
    }
   ],
   "source": [
    "top_posts_lastNdays(dataframe=election_df, num=20, Ndays=2, save_table=False)"
   ]
  },
  {
   "cell_type": "code",
   "execution_count": null,
   "metadata": {},
   "outputs": [],
   "source": [
    "election = ['election', 'votes', 'voter', 'ballot']\n",
    "election_df = df.title.str.contains(\"}\".join(election), case=False, na=False)\n",
    "\n",
    "election_fraud = "
   ]
  },
  {
   "cell_type": "code",
   "execution_count": 51,
   "metadata": {},
   "outputs": [
    {
     "data": {
      "image/png": "[encoded data removed]",
      "text/plain": [
       "<Figure size 1000x600 with 1 Axes>"
      ]
     },
     "metadata": {},
     "output_type": "display_data"
    }
   ],
   "source": [
    "fraud_counts = fraud_df.created_date.value_counts().sort_index()\n",
    "election_counts = election_df.created_date.value_counts().sort_index()\n",
    "\n",
    "# Combine both dataframes into one for seaborn plotting\n",
    "combined_df = pd.DataFrame({\n",
    "    'Created Date': fraud_counts.index.union(election_counts.index),  # Union of all dates\n",
    "    'Fraud Data': fraud_counts.reindex(fraud_counts.index.union(election_counts.index), fill_value=0),\n",
    "    'Election Data': election_counts.reindex(fraud_counts.index.union(election_counts.index), fill_value=0)\n",
    "})\n",
    "\n",
    "# Melt the dataframe for seaborn\n",
    "combined_df = combined_df.melt(id_vars='Created Date', value_vars=['Fraud Data', 'Election Data'], \n",
    "                               var_name='Dataset', value_name='Counts')\n",
    "\n",
    "# Plot using seaborn\n",
    "plt.figure(figsize=(10, 6))\n",
    "sns.lineplot(data=combined_df, x='Created Date', y='Counts', hue='Dataset', marker='o')\n",
    "\n",
    "# Add titles and labels\n",
    "plt.xticks(rotation=45)  # Rotate x-axis labels if necessary\n",
    "plt.tight_layout()\n",
    "\n",
    "# Show the plot\n",
    "plt.show()"
   ]
  },
  {
   "cell_type": "code",
   "execution_count": null,
   "metadata": {},
   "outputs": [],
   "source": []
  },
  {
   "cell_type": "code",
   "execution_count": null,
   "metadata": {},
   "outputs": [],
   "source": []
  },
  {
   "cell_type": "code",
   "execution_count": null,
   "metadata": {},
   "outputs": [],
   "source": []
  },
  {
   "cell_type": "code",
   "execution_count": 41,
   "metadata": {},
   "outputs": [
    {
     "data": {
      "text/plain": [
       "<Axes: xlabel='created_date'>"
      ]
     },
     "execution_count": 41,
     "metadata": {},
     "output_type": "execute_result"
    },
    {
     "data": {
      "image/png": "[encoded data removed]",
      "text/plain": [
       "<Figure size 640x480 with 1 Axes>"
      ]
     },
     "metadata": {},
     "output_type": "display_data"
    }
   ],
   "source": [
    "election_df.created_date.value_counts().sort_index().plot(kind='line')"
   ]
  },
  {
   "cell_type": "code",
   "execution_count": null,
   "metadata": {},
   "outputs": [],
   "source": []
  },
  {
   "cell_type": "code",
   "execution_count": 110,
   "metadata": {},
   "outputs": [
    {
     "name": "stderr",
     "output_type": "stream",
     "text": [
      "/var/folders/f2/xbsrplkj23z71l_fw6890_hr0000gn/T/ipykernel_74286/1221168534.py:9: FutureWarning:\n",
      "\n",
      "The behavior of 'isin' with dtype=datetime64[ns] and castable values (e.g. strings) is deprecated. In a future version, these will not be considered matching by isin. Explicitly cast to the appropriate dtype before calling isin instead.\n",
      "\n",
      "/var/folders/f2/xbsrplkj23z71l_fw6890_hr0000gn/T/ipykernel_74286/1221168534.py:10: SettingWithCopyWarning:\n",
      "\n",
      "\n",
      "A value is trying to be set on a copy of a slice from a DataFrame.\n",
      "Try using .loc[row_indexer,col_indexer] = value instead\n",
      "\n",
      "See the caveats in the documentation: https://pandas.pydata.org/pandas-docs/stable/user_guide/indexing.html#returning-a-view-versus-a-copy\n",
      "\n"
     ]
    },
    {
     "data": {
      "application/vnd.plotly.v1+json": {
       "config": {
        "plotlyServerURL": "https://plot.ly"
       },
       "data": [
        {
         "line": {
          "width": 5
         },
         "mode": "lines",
         "name": "('2020', 'election')",
         "type": "scatter",
         "x": [
          "2024-08-24T00:00:00",
          "2024-08-25T00:00:00",
          "2024-08-26T00:00:00",
          "2024-08-27T00:00:00",
          "2024-08-28T00:00:00",
          "2024-08-29T00:00:00",
          "2024-08-30T00:00:00",
          "2024-08-31T00:00:00",
          "2024-09-01T00:00:00",
          "2024-09-02T00:00:00",
          "2024-09-03T00:00:00",
          "2024-09-04T00:00:00",
          "2024-09-05T00:00:00",
          "2024-09-06T00:00:00",
          "2024-09-07T00:00:00"
         ],
         "y": [
          2,
          1,
          0,
          1,
          3,
          2,
          5,
          2,
          1,
          0,
          1,
          0,
          0,
          1,
          0
         ]
        },
        {
         "line": {
          "width": 5
         },
         "mode": "lines",
         "name": "('2024', 'election')",
         "type": "scatter",
         "x": [
          "2024-08-24T00:00:00",
          "2024-08-25T00:00:00",
          "2024-08-26T00:00:00",
          "2024-08-27T00:00:00",
          "2024-08-28T00:00:00",
          "2024-08-29T00:00:00",
          "2024-08-30T00:00:00",
          "2024-08-31T00:00:00",
          "2024-09-01T00:00:00",
          "2024-09-02T00:00:00",
          "2024-09-03T00:00:00",
          "2024-09-04T00:00:00",
          "2024-09-05T00:00:00",
          "2024-09-06T00:00:00",
          "2024-09-07T00:00:00"
         ],
         "y": [
          2,
          7,
          3,
          2,
          1,
          5,
          2,
          0,
          1,
          0,
          0,
          9,
          2,
          3,
          1
         ]
        },
        {
         "line": {
          "width": 5
         },
         "mode": "lines",
         "name": "('donald', 'trump')",
         "type": "scatter",
         "x": [
          "2024-08-24T00:00:00",
          "2024-08-25T00:00:00",
          "2024-08-26T00:00:00",
          "2024-08-27T00:00:00",
          "2024-08-28T00:00:00",
          "2024-08-29T00:00:00",
          "2024-08-30T00:00:00",
          "2024-08-31T00:00:00",
          "2024-09-01T00:00:00",
          "2024-09-02T00:00:00",
          "2024-09-03T00:00:00",
          "2024-09-04T00:00:00",
          "2024-09-05T00:00:00",
          "2024-09-06T00:00:00",
          "2024-09-07T00:00:00"
         ],
         "y": [
          4,
          2,
          1,
          0,
          2,
          2,
          1,
          6,
          1,
          0,
          2,
          4,
          3,
          6,
          1
         ]
        },
        {
         "line": {
          "width": 5
         },
         "mode": "lines",
         "name": "('election', 'board')",
         "type": "scatter",
         "x": [
          "2024-08-24T00:00:00",
          "2024-08-25T00:00:00",
          "2024-08-26T00:00:00",
          "2024-08-27T00:00:00",
          "2024-08-28T00:00:00",
          "2024-08-29T00:00:00",
          "2024-08-30T00:00:00",
          "2024-08-31T00:00:00",
          "2024-09-01T00:00:00",
          "2024-09-02T00:00:00",
          "2024-09-03T00:00:00",
          "2024-09-04T00:00:00",
          "2024-09-05T00:00:00",
          "2024-09-06T00:00:00",
          "2024-09-07T00:00:00"
         ],
         "y": [
          0,
          0,
          2,
          4,
          2,
          2,
          4,
          0,
          0,
          0,
          0,
          0,
          0,
          2,
          0
         ]
        },
        {
         "line": {
          "width": 5
         },
         "mode": "lines",
         "name": "('election', 'fraud')",
         "type": "scatter",
         "x": [
          "2024-08-24T00:00:00",
          "2024-08-25T00:00:00",
          "2024-08-26T00:00:00",
          "2024-08-27T00:00:00",
          "2024-08-28T00:00:00",
          "2024-08-29T00:00:00",
          "2024-08-30T00:00:00",
          "2024-08-31T00:00:00",
          "2024-09-01T00:00:00",
          "2024-09-02T00:00:00",
          "2024-09-03T00:00:00",
          "2024-09-04T00:00:00",
          "2024-09-05T00:00:00",
          "2024-09-06T00:00:00",
          "2024-09-07T00:00:00"
         ],
         "y": [
          0,
          0,
          0,
          3,
          1,
          2,
          2,
          3,
          1,
          1,
          1,
          0,
          0,
          3,
          0
         ]
        },
        {
         "line": {
          "width": 5
         },
         "mode": "lines",
         "name": "('election', 'integrity')",
         "type": "scatter",
         "x": [
          "2024-08-24T00:00:00",
          "2024-08-25T00:00:00",
          "2024-08-26T00:00:00",
          "2024-08-27T00:00:00",
          "2024-08-28T00:00:00",
          "2024-08-29T00:00:00",
          "2024-08-30T00:00:00",
          "2024-08-31T00:00:00",
          "2024-09-01T00:00:00",
          "2024-09-02T00:00:00",
          "2024-09-03T00:00:00",
          "2024-09-04T00:00:00",
          "2024-09-05T00:00:00",
          "2024-09-06T00:00:00",
          "2024-09-07T00:00:00"
         ],
         "y": [
          1,
          0,
          1,
          1,
          4,
          2,
          2,
          0,
          0,
          0,
          0,
          1,
          0,
          2,
          2
         ]
        },
        {
         "line": {
          "width": 5
         },
         "mode": "lines",
         "name": "('election', 'interference')",
         "type": "scatter",
         "x": [
          "2024-08-24T00:00:00",
          "2024-08-25T00:00:00",
          "2024-08-26T00:00:00",
          "2024-08-27T00:00:00",
          "2024-08-28T00:00:00",
          "2024-08-29T00:00:00",
          "2024-08-30T00:00:00",
          "2024-08-31T00:00:00",
          "2024-09-01T00:00:00",
          "2024-09-02T00:00:00",
          "2024-09-03T00:00:00",
          "2024-09-04T00:00:00",
          "2024-09-05T00:00:00",
          "2024-09-06T00:00:00",
          "2024-09-07T00:00:00"
         ],
         "y": [
          0,
          2,
          2,
          1,
          6,
          1,
          1,
          3,
          2,
          0,
          3,
          3,
          6,
          0,
          3
         ]
        },
        {
         "line": {
          "width": 5
         },
         "mode": "lines",
         "name": "('kamala', 'harris')",
         "type": "scatter",
         "x": [
          "2024-08-24T00:00:00",
          "2024-08-25T00:00:00",
          "2024-08-26T00:00:00",
          "2024-08-27T00:00:00",
          "2024-08-28T00:00:00",
          "2024-08-29T00:00:00",
          "2024-08-30T00:00:00",
          "2024-08-31T00:00:00",
          "2024-09-01T00:00:00",
          "2024-09-02T00:00:00",
          "2024-09-03T00:00:00",
          "2024-09-04T00:00:00",
          "2024-09-05T00:00:00",
          "2024-09-06T00:00:00",
          "2024-09-07T00:00:00"
         ],
         "y": [
          1,
          1,
          5,
          2,
          10,
          1,
          2,
          5,
          2,
          3,
          3,
          9,
          1,
          0,
          2
         ]
        },
        {
         "line": {
          "width": 5
         },
         "mode": "lines",
         "name": "('presidential', 'election')",
         "type": "scatter",
         "x": [
          "2024-08-24T00:00:00",
          "2024-08-25T00:00:00",
          "2024-08-26T00:00:00",
          "2024-08-27T00:00:00",
          "2024-08-28T00:00:00",
          "2024-08-29T00:00:00",
          "2024-08-30T00:00:00",
          "2024-08-31T00:00:00",
          "2024-09-01T00:00:00",
          "2024-09-02T00:00:00",
          "2024-09-03T00:00:00",
          "2024-09-04T00:00:00",
          "2024-09-05T00:00:00",
          "2024-09-06T00:00:00",
          "2024-09-07T00:00:00"
         ],
         "y": [
          0,
          0,
          1,
          4,
          5,
          0,
          1,
          2,
          3,
          2,
          3,
          0,
          0,
          0,
          1
         ]
        },
        {
         "line": {
          "width": 5
         },
         "mode": "lines",
         "name": "('register', 'vote')",
         "type": "scatter",
         "x": [
          "2024-08-24T00:00:00",
          "2024-08-25T00:00:00",
          "2024-08-26T00:00:00",
          "2024-08-27T00:00:00",
          "2024-08-28T00:00:00",
          "2024-08-29T00:00:00",
          "2024-08-30T00:00:00",
          "2024-08-31T00:00:00",
          "2024-09-01T00:00:00",
          "2024-09-02T00:00:00",
          "2024-09-03T00:00:00",
          "2024-09-04T00:00:00",
          "2024-09-05T00:00:00",
          "2024-09-06T00:00:00",
          "2024-09-07T00:00:00"
         ],
         "y": [
          0,
          0,
          2,
          2,
          0,
          0,
          2,
          1,
          0,
          2,
          3,
          2,
          1,
          1,
          1
         ]
        },
        {
         "line": {
          "width": 5
         },
         "mode": "lines",
         "name": "('rfk', 'jr')",
         "type": "scatter",
         "x": [
          "2024-08-24T00:00:00",
          "2024-08-25T00:00:00",
          "2024-08-26T00:00:00",
          "2024-08-27T00:00:00",
          "2024-08-28T00:00:00",
          "2024-08-29T00:00:00",
          "2024-08-30T00:00:00",
          "2024-08-31T00:00:00",
          "2024-09-01T00:00:00",
          "2024-09-02T00:00:00",
          "2024-09-03T00:00:00",
          "2024-09-04T00:00:00",
          "2024-09-05T00:00:00",
          "2024-09-06T00:00:00",
          "2024-09-07T00:00:00"
         ],
         "y": [
          3,
          3,
          4,
          8,
          2,
          0,
          0,
          1,
          1,
          1,
          0,
          0,
          1,
          10,
          0
         ]
        },
        {
         "line": {
          "width": 5
         },
         "mode": "lines",
         "name": "('vote', 'kamala')",
         "type": "scatter",
         "x": [
          "2024-08-24T00:00:00",
          "2024-08-25T00:00:00",
          "2024-08-26T00:00:00",
          "2024-08-27T00:00:00",
          "2024-08-28T00:00:00",
          "2024-08-29T00:00:00",
          "2024-08-30T00:00:00",
          "2024-08-31T00:00:00",
          "2024-09-01T00:00:00",
          "2024-09-02T00:00:00",
          "2024-09-03T00:00:00",
          "2024-09-04T00:00:00",
          "2024-09-05T00:00:00",
          "2024-09-06T00:00:00",
          "2024-09-07T00:00:00"
         ],
         "y": [
          0,
          1,
          2,
          2,
          6,
          1,
          0,
          0,
          1,
          0,
          0,
          1,
          2,
          1,
          2
         ]
        },
        {
         "line": {
          "width": 5
         },
         "mode": "lines",
         "name": "('vote', 'trump')",
         "type": "scatter",
         "x": [
          "2024-08-24T00:00:00",
          "2024-08-25T00:00:00",
          "2024-08-26T00:00:00",
          "2024-08-27T00:00:00",
          "2024-08-28T00:00:00",
          "2024-08-29T00:00:00",
          "2024-08-30T00:00:00",
          "2024-08-31T00:00:00",
          "2024-09-01T00:00:00",
          "2024-09-02T00:00:00",
          "2024-09-03T00:00:00",
          "2024-09-04T00:00:00",
          "2024-09-05T00:00:00",
          "2024-09-06T00:00:00",
          "2024-09-07T00:00:00"
         ],
         "y": [
          5,
          3,
          4,
          3,
          3,
          3,
          0,
          1,
          0,
          1,
          7,
          6,
          5,
          6,
          4
         ]
        },
        {
         "line": {
          "width": 5
         },
         "mode": "lines",
         "name": "('voter', 'registration')",
         "type": "scatter",
         "x": [
          "2024-08-24T00:00:00",
          "2024-08-25T00:00:00",
          "2024-08-26T00:00:00",
          "2024-08-27T00:00:00",
          "2024-08-28T00:00:00",
          "2024-08-29T00:00:00",
          "2024-08-30T00:00:00",
          "2024-08-31T00:00:00",
          "2024-09-01T00:00:00",
          "2024-09-02T00:00:00",
          "2024-09-03T00:00:00",
          "2024-09-04T00:00:00",
          "2024-09-05T00:00:00",
          "2024-09-06T00:00:00",
          "2024-09-07T00:00:00"
         ],
         "y": [
          1,
          0,
          1,
          1,
          1,
          3,
          0,
          1,
          0,
          1,
          1,
          0,
          2,
          2,
          1
         ]
        },
        {
         "line": {
          "width": 5
         },
         "mode": "lines",
         "name": "('voter', 'rolls')",
         "type": "scatter",
         "x": [
          "2024-08-24T00:00:00",
          "2024-08-25T00:00:00",
          "2024-08-26T00:00:00",
          "2024-08-27T00:00:00",
          "2024-08-28T00:00:00",
          "2024-08-29T00:00:00",
          "2024-08-30T00:00:00",
          "2024-08-31T00:00:00",
          "2024-09-01T00:00:00",
          "2024-09-02T00:00:00",
          "2024-09-03T00:00:00",
          "2024-09-04T00:00:00",
          "2024-09-05T00:00:00",
          "2024-09-06T00:00:00",
          "2024-09-07T00:00:00"
         ],
         "y": [
          0,
          0,
          3,
          2,
          2,
          2,
          1,
          2,
          0,
          0,
          3,
          1,
          2,
          1,
          0
         ]
        }
       ],
       "layout": {
        "height": 800,
        "legend": {
         "title": {
          "font": {
           "color": "firebrick",
           "family": "Courier",
           "size": 15
          },
          "text": "<b>Popular Bigrams<br>"
         }
        },
        "template": {
         "data": {
          "bar": [
           {
            "error_x": {
             "color": "#2a3f5f"
            },
            "error_y": {
             "color": "#2a3f5f"
            },
            "marker": {
             "line": {
              "color": "#E5ECF6",
              "width": 0.5
             },
             "pattern": {
              "fillmode": "overlay",
              "size": 10,
              "solidity": 0.2
             }
            },
            "type": "bar"
           }
          ],
          "barpolar": [
           {
            "marker": {
             "line": {
              "color": "#E5ECF6",
              "width": 0.5
             },
             "pattern": {
              "fillmode": "overlay",
              "size": 10,
              "solidity": 0.2
             }
            },
            "type": "barpolar"
           }
          ],
          "carpet": [
           {
            "aaxis": {
             "endlinecolor": "#2a3f5f",
             "gridcolor": "white",
             "linecolor": "white",
             "minorgridcolor": "white",
             "startlinecolor": "#2a3f5f"
            },
            "baxis": {
             "endlinecolor": "#2a3f5f",
             "gridcolor": "white",
             "linecolor": "white",
             "minorgridcolor": "white",
             "startlinecolor": "#2a3f5f"
            },
            "type": "carpet"
           }
          ],
          "choropleth": [
           {
            "colorbar": {
             "outlinewidth": 0,
             "ticks": ""
            },
            "type": "choropleth"
           }
          ],
          "contour": [
           {
            "colorbar": {
             "outlinewidth": 0,
             "ticks": ""
            },
            "colorscale": [
             [
              0,
              "#0d0887"
             ],
             [
              0.1111111111111111,
              "#46039f"
             ],
             [
              0.2222222222222222,
              "#7201a8"
             ],
             [
              0.3333333333333333,
              "#9c179e"
             ],
             [
              0.4444444444444444,
              "#bd3786"
             ],
             [
              0.5555555555555556,
              "#d8576b"
             ],
             [
              0.6666666666666666,
              "#ed7953"
             ],
             [
              0.7777777777777778,
              "#fb9f3a"
             ],
             [
              0.8888888888888888,
              "#fdca26"
             ],
             [
              1,
              "#f0f921"
             ]
            ],
            "type": "contour"
           }
          ],
          "contourcarpet": [
           {
            "colorbar": {
             "outlinewidth": 0,
             "ticks": ""
            },
            "type": "contourcarpet"
           }
          ],
          "heatmap": [
           {
            "colorbar": {
             "outlinewidth": 0,
             "ticks": ""
            },
            "colorscale": [
             [
              0,
              "#0d0887"
             ],
             [
              0.1111111111111111,
              "#46039f"
             ],
             [
              0.2222222222222222,
              "#7201a8"
             ],
             [
              0.3333333333333333,
              "#9c179e"
             ],
             [
              0.4444444444444444,
              "#bd3786"
             ],
             [
              0.5555555555555556,
              "#d8576b"
             ],
             [
              0.6666666666666666,
              "#ed7953"
             ],
             [
              0.7777777777777778,
              "#fb9f3a"
             ],
             [
              0.8888888888888888,
              "#fdca26"
             ],
             [
              1,
              "#f0f921"
             ]
            ],
            "type": "heatmap"
           }
          ],
          "heatmapgl": [
           {
            "colorbar": {
             "outlinewidth": 0,
             "ticks": ""
            },
            "colorscale": [
             [
              0,
              "#0d0887"
             ],
             [
              0.1111111111111111,
              "#46039f"
             ],
             [
              0.2222222222222222,
              "#7201a8"
             ],
             [
              0.3333333333333333,
              "#9c179e"
             ],
             [
              0.4444444444444444,
              "#bd3786"
             ],
             [
              0.5555555555555556,
              "#d8576b"
             ],
             [
              0.6666666666666666,
              "#ed7953"
             ],
             [
              0.7777777777777778,
              "#fb9f3a"
             ],
             [
              0.8888888888888888,
              "#fdca26"
             ],
             [
              1,
              "#f0f921"
             ]
            ],
            "type": "heatmapgl"
           }
          ],
          "histogram": [
           {
            "marker": {
             "pattern": {
              "fillmode": "overlay",
              "size": 10,
              "solidity": 0.2
             }
            },
            "type": "histogram"
           }
          ],
          "histogram2d": [
           {
            "colorbar": {
             "outlinewidth": 0,
             "ticks": ""
            },
            "colorscale": [
             [
              0,
              "#0d0887"
             ],
             [
              0.1111111111111111,
              "#46039f"
             ],
             [
              0.2222222222222222,
              "#7201a8"
             ],
             [
              0.3333333333333333,
              "#9c179e"
             ],
             [
              0.4444444444444444,
              "#bd3786"
             ],
             [
              0.5555555555555556,
              "#d8576b"
             ],
             [
              0.6666666666666666,
              "#ed7953"
             ],
             [
              0.7777777777777778,
              "#fb9f3a"
             ],
             [
              0.8888888888888888,
              "#fdca26"
             ],
             [
              1,
              "#f0f921"
             ]
            ],
            "type": "histogram2d"
           }
          ],
          "histogram2dcontour": [
           {
            "colorbar": {
             "outlinewidth": 0,
             "ticks": ""
            },
            "colorscale": [
             [
              0,
              "#0d0887"
             ],
             [
              0.1111111111111111,
              "#46039f"
             ],
             [
              0.2222222222222222,
              "#7201a8"
             ],
             [
              0.3333333333333333,
              "#9c179e"
             ],
             [
              0.4444444444444444,
              "#bd3786"
             ],
             [
              0.5555555555555556,
              "#d8576b"
             ],
             [
              0.6666666666666666,
              "#ed7953"
             ],
             [
              0.7777777777777778,
              "#fb9f3a"
             ],
             [
              0.8888888888888888,
              "#fdca26"
             ],
             [
              1,
              "#f0f921"
             ]
            ],
            "type": "histogram2dcontour"
           }
          ],
          "mesh3d": [
           {
            "colorbar": {
             "outlinewidth": 0,
             "ticks": ""
            },
            "type": "mesh3d"
           }
          ],
          "parcoords": [
           {
            "line": {
             "colorbar": {
              "outlinewidth": 0,
              "ticks": ""
             }
            },
            "type": "parcoords"
           }
          ],
          "pie": [
           {
            "automargin": true,
            "type": "pie"
           }
          ],
          "scatter": [
           {
            "fillpattern": {
             "fillmode": "overlay",
             "size": 10,
             "solidity": 0.2
            },
            "type": "scatter"
           }
          ],
          "scatter3d": [
           {
            "line": {
             "colorbar": {
              "outlinewidth": 0,
              "ticks": ""
             }
            },
            "marker": {
             "colorbar": {
              "outlinewidth": 0,
              "ticks": ""
             }
            },
            "type": "scatter3d"
           }
          ],
          "scattercarpet": [
           {
            "marker": {
             "colorbar": {
              "outlinewidth": 0,
              "ticks": ""
             }
            },
            "type": "scattercarpet"
           }
          ],
          "scattergeo": [
           {
            "marker": {
             "colorbar": {
              "outlinewidth": 0,
              "ticks": ""
             }
            },
            "type": "scattergeo"
           }
          ],
          "scattergl": [
           {
            "marker": {
             "colorbar": {
              "outlinewidth": 0,
              "ticks": ""
             }
            },
            "type": "scattergl"
           }
          ],
          "scattermapbox": [
           {
            "marker": {
             "colorbar": {
              "outlinewidth": 0,
              "ticks": ""
             }
            },
            "type": "scattermapbox"
           }
          ],
          "scatterpolar": [
           {
            "marker": {
             "colorbar": {
              "outlinewidth": 0,
              "ticks": ""
             }
            },
            "type": "scatterpolar"
           }
          ],
          "scatterpolargl": [
           {
            "marker": {
             "colorbar": {
              "outlinewidth": 0,
              "ticks": ""
             }
            },
            "type": "scatterpolargl"
           }
          ],
          "scatterternary": [
           {
            "marker": {
             "colorbar": {
              "outlinewidth": 0,
              "ticks": ""
             }
            },
            "type": "scatterternary"
           }
          ],
          "surface": [
           {
            "colorbar": {
             "outlinewidth": 0,
             "ticks": ""
            },
            "colorscale": [
             [
              0,
              "#0d0887"
             ],
             [
              0.1111111111111111,
              "#46039f"
             ],
             [
              0.2222222222222222,
              "#7201a8"
             ],
             [
              0.3333333333333333,
              "#9c179e"
             ],
             [
              0.4444444444444444,
              "#bd3786"
             ],
             [
              0.5555555555555556,
              "#d8576b"
             ],
             [
              0.6666666666666666,
              "#ed7953"
             ],
             [
              0.7777777777777778,
              "#fb9f3a"
             ],
             [
              0.8888888888888888,
              "#fdca26"
             ],
             [
              1,
              "#f0f921"
             ]
            ],
            "type": "surface"
           }
          ],
          "table": [
           {
            "cells": {
             "fill": {
              "color": "#EBF0F8"
             },
             "line": {
              "color": "white"
             }
            },
            "header": {
             "fill": {
              "color": "#C8D4E3"
             },
             "line": {
              "color": "white"
             }
            },
            "type": "table"
           }
          ]
         },
         "layout": {
          "annotationdefaults": {
           "arrowcolor": "#2a3f5f",
           "arrowhead": 0,
           "arrowwidth": 1
          },
          "autotypenumbers": "strict",
          "coloraxis": {
           "colorbar": {
            "outlinewidth": 0,
            "ticks": ""
           }
          },
          "colorscale": {
           "diverging": [
            [
             0,
             "#8e0152"
            ],
            [
             0.1,
             "#c51b7d"
            ],
            [
             0.2,
             "#de77ae"
            ],
            [
             0.3,
             "#f1b6da"
            ],
            [
             0.4,
             "#fde0ef"
            ],
            [
             0.5,
             "#f7f7f7"
            ],
            [
             0.6,
             "#e6f5d0"
            ],
            [
             0.7,
             "#b8e186"
            ],
            [
             0.8,
             "#7fbc41"
            ],
            [
             0.9,
             "#4d9221"
            ],
            [
             1,
             "#276419"
            ]
           ],
           "sequential": [
            [
             0,
             "#0d0887"
            ],
            [
             0.1111111111111111,
             "#46039f"
            ],
            [
             0.2222222222222222,
             "#7201a8"
            ],
            [
             0.3333333333333333,
             "#9c179e"
            ],
            [
             0.4444444444444444,
             "#bd3786"
            ],
            [
             0.5555555555555556,
             "#d8576b"
            ],
            [
             0.6666666666666666,
             "#ed7953"
            ],
            [
             0.7777777777777778,
             "#fb9f3a"
            ],
            [
             0.8888888888888888,
             "#fdca26"
            ],
            [
             1,
             "#f0f921"
            ]
           ],
           "sequentialminus": [
            [
             0,
             "#0d0887"
            ],
            [
             0.1111111111111111,
             "#46039f"
            ],
            [
             0.2222222222222222,
             "#7201a8"
            ],
            [
             0.3333333333333333,
             "#9c179e"
            ],
            [
             0.4444444444444444,
             "#bd3786"
            ],
            [
             0.5555555555555556,
             "#d8576b"
            ],
            [
             0.6666666666666666,
             "#ed7953"
            ],
            [
             0.7777777777777778,
             "#fb9f3a"
            ],
            [
             0.8888888888888888,
             "#fdca26"
            ],
            [
             1,
             "#f0f921"
            ]
           ]
          },
          "colorway": [
           "#636efa",
           "#EF553B",
           "#00cc96",
           "#ab63fa",
           "#FFA15A",
           "#19d3f3",
           "#FF6692",
           "#B6E880",
           "#FF97FF",
           "#FECB52"
          ],
          "font": {
           "color": "#2a3f5f"
          },
          "geo": {
           "bgcolor": "white",
           "lakecolor": "white",
           "landcolor": "#E5ECF6",
           "showlakes": true,
           "showland": true,
           "subunitcolor": "white"
          },
          "hoverlabel": {
           "align": "left"
          },
          "hovermode": "closest",
          "mapbox": {
           "style": "light"
          },
          "paper_bgcolor": "white",
          "plot_bgcolor": "#E5ECF6",
          "polar": {
           "angularaxis": {
            "gridcolor": "white",
            "linecolor": "white",
            "ticks": ""
           },
           "bgcolor": "#E5ECF6",
           "radialaxis": {
            "gridcolor": "white",
            "linecolor": "white",
            "ticks": ""
           }
          },
          "scene": {
           "xaxis": {
            "backgroundcolor": "#E5ECF6",
            "gridcolor": "white",
            "gridwidth": 2,
            "linecolor": "white",
            "showbackground": true,
            "ticks": "",
            "zerolinecolor": "white"
           },
           "yaxis": {
            "backgroundcolor": "#E5ECF6",
            "gridcolor": "white",
            "gridwidth": 2,
            "linecolor": "white",
            "showbackground": true,
            "ticks": "",
            "zerolinecolor": "white"
           },
           "zaxis": {
            "backgroundcolor": "#E5ECF6",
            "gridcolor": "white",
            "gridwidth": 2,
            "linecolor": "white",
            "showbackground": true,
            "ticks": "",
            "zerolinecolor": "white"
           }
          },
          "shapedefaults": {
           "line": {
            "color": "#2a3f5f"
           }
          },
          "ternary": {
           "aaxis": {
            "gridcolor": "white",
            "linecolor": "white",
            "ticks": ""
           },
           "baxis": {
            "gridcolor": "white",
            "linecolor": "white",
            "ticks": ""
           },
           "bgcolor": "#E5ECF6",
           "caxis": {
            "gridcolor": "white",
            "linecolor": "white",
            "ticks": ""
           }
          },
          "title": {
           "x": 0.05
          },
          "xaxis": {
           "automargin": true,
           "gridcolor": "white",
           "linecolor": "white",
           "ticks": "",
           "title": {
            "standoff": 15
           },
           "zerolinecolor": "white",
           "zerolinewidth": 2
          },
          "yaxis": {
           "automargin": true,
           "gridcolor": "white",
           "linecolor": "white",
           "ticks": "",
           "title": {
            "standoff": 15
           },
           "zerolinecolor": "white",
           "zerolinewidth": 2
          }
         }
        },
        "width": 1000,
        "xaxis": {
         "tickangle": 45,
         "title": {
          "text": "Date"
         }
        },
        "yaxis": {
         "range": [
          0,
          11
         ],
         "title": {
          "text": "Frequency"
         }
        }
       }
      }
     },
     "metadata": {},
     "output_type": "display_data"
    }
   ],
   "source": [
    "\n",
    "\n",
    "ngram_time_last_n_days_interactive(dataframe=election_df, \n",
    "                    num=2, \n",
    "                    last_ndays=14,\n",
    "                    extra_stops=None, \n",
    "                    top_n=15,\n",
    "                    set_title=False,\n",
    "                    save_filename=False)"
   ]
  },
  {
   "cell_type": "code",
   "execution_count": 51,
   "metadata": {},
   "outputs": [],
   "source": [
    "def find_persons(text):\n",
    "    # Create Doc object\n",
    "    doc2 = nlp(text)\n",
    "\n",
    "    # Identify the persons\n",
    "    persons = [ent.text for ent in doc2.ents if ent.label_ == 'PERSON']\n",
    "\n",
    "    # Return persons\n",
    "    return persons"
   ]
  },
  {
   "cell_type": "code",
   "execution_count": 54,
   "metadata": {},
   "outputs": [
    {
     "data": {
      "text/plain": [
       "['Donald Trump', 'Larry Ellison', 'Kamala Harris']"
      ]
     },
     "execution_count": 54,
     "metadata": {},
     "output_type": "execute_result"
    }
   ],
   "source": [
    "text= 'Donald Trump is married to Larry Ellison and Kamala Harris.'\n",
    "\n",
    "find_persons(text)"
   ]
  },
  {
   "cell_type": "code",
   "execution_count": 57,
   "metadata": {},
   "outputs": [
    {
     "data": {
      "text/plain": [
       "2                                                                                                                 🚽 Only 17% of Americans View Radical-Left Tim Walz Positively 💩\n",
       "3                                                                                                                                Gwen Walz is just as crazy left as her husband 🤪\n",
       "4                                                                              Felony charges against teen who rode scooter, left skid marks on Spokane Pride crosswalk dismissed\n",
       "5                                                                                                      Donald Trump:  17 million primary votes    Kamala Harris:  0 primary votes\n",
       "6                                                                                                                                                                 Break the Cycle\n",
       "9                                                                                                                      Tim Walz admits he’s a socialist and calls it “neighborly”\n",
       "10                                                                       Democrats Worried Choosing Jewish Vice President May Cost Them The All-Important \"Death To America\" Vote\n",
       "11                                             British prosecutor now talks about EXTRADITING social media influences abroad that they deem to have a role in inciting the riots.\n",
       "12                                                                               Here's Tim Walz hanging out with little Asian boys wearing an \"Up The Ying Yang\" shirt... WEIRD.\n",
       "17    Minnesota National Guard Leaders publish letter exposing Tim Walz for Stolen Valor. Walz lied about his rank, and quit when he heard his unit was going to mobilize to Iraq\n",
       "Name: title, dtype: object"
      ]
     },
     "execution_count": 57,
     "metadata": {},
     "output_type": "execute_result"
    }
   ],
   "source": [
    "df.title.head(10)"
   ]
  },
  {
   "cell_type": "code",
   "execution_count": 60,
   "metadata": {},
   "outputs": [
    {
     "data": {
      "text/plain": [
       "title\n",
       "[]                               4\n",
       "[Tim Walz]                       2\n",
       "[Gwen Walz]                      1\n",
       "[Donald Trump, Kamala Harris]    1\n",
       "[Tim Walz, Ying Yang]            1\n",
       "[Tim Walz, Walz]                 1\n",
       "Name: count, dtype: int64"
      ]
     },
     "execution_count": 60,
     "metadata": {},
     "output_type": "execute_result"
    }
   ],
   "source": [
    "df.title.head(10).apply(find_persons).value_counts(dropna=True)"
   ]
  },
  {
   "cell_type": "code",
   "execution_count": 94,
   "metadata": {},
   "outputs": [
    {
     "ename": "TypeError",
     "evalue": "sequence item 0: expected str instance, tuple found",
     "output_type": "error",
     "traceback": [
      "\u001b[0;31m---------------------------------------------------------------------------\u001b[0m",
      "\u001b[0;31mTypeError\u001b[0m                                 Traceback (most recent call last)",
      "Cell \u001b[0;32mIn[94], line 1\u001b[0m\n\u001b[0;32m----> 1\u001b[0m names \u001b[38;5;241m=\u001b[39m pd\u001b[38;5;241m.\u001b[39mDataFrame(find_persons(\u001b[38;5;124;43m'\u001b[39;49m\u001b[38;5;124;43m \u001b[39;49m\u001b[38;5;124;43m'\u001b[39;49m\u001b[38;5;241;43m.\u001b[39;49m\u001b[43mjoin\u001b[49m\u001b[43m(\u001b[49m\u001b[43mdf\u001b[49m\u001b[38;5;241;43m.\u001b[39;49m\u001b[43mgroupby\u001b[49m\u001b[43m(\u001b[49m\u001b[38;5;124;43m'\u001b[39;49m\u001b[38;5;124;43mcreated_date\u001b[39;49m\u001b[38;5;124;43m'\u001b[39;49m\u001b[43m)\u001b[49m\u001b[38;5;241;43m.\u001b[39;49m\u001b[43mtitle\u001b[49m\u001b[43m)\u001b[49m))\n",
      "\u001b[0;31mTypeError\u001b[0m: sequence item 0: expected str instance, tuple found"
     ]
    }
   ],
   "source": [
    "names = pd.DataFrame(find_persons(' '.join(df.groupby('created_date').title)))"
   ]
  },
  {
   "cell_type": "code",
   "execution_count": 102,
   "metadata": {},
   "outputs": [
    {
     "data": {
      "text/plain": [
       "0            \n",
       "Trump            59\n",
       "Biden            18\n",
       "Kamala           16\n",
       "Harris           13\n",
       "Kamala Harris     9\n",
       "                 ..\n",
       "Hunter            1\n",
       "Hunter Biden      1\n",
       "ICYMI             1\n",
       "IDK               1\n",
       "🤔hmmmmm           1\n",
       "Name: count, Length: 170, dtype: int64"
      ]
     },
     "execution_count": 102,
     "metadata": {},
     "output_type": "execute_result"
    }
   ],
   "source": [
    " pd.DataFrame(find_persons(' '.join(df[df.created_date=='2024-09-06'].title))).value_counts()"
   ]
  },
  {
   "cell_type": "code",
   "execution_count": null,
   "metadata": {},
   "outputs": [],
   "source": []
  },
  {
   "cell_type": "code",
   "execution_count": null,
   "metadata": {},
   "outputs": [],
   "source": []
  },
  {
   "cell_type": "code",
   "execution_count": 91,
   "metadata": {},
   "outputs": [
    {
     "data": {
      "text/plain": [
       "<pandas.core.groupby.generic.SeriesGroupBy object at 0x39a1bc1d0>"
      ]
     },
     "execution_count": 91,
     "metadata": {},
     "output_type": "execute_result"
    }
   ],
   "source": [
    "df.groupby('created_date').title"
   ]
  },
  {
   "cell_type": "code",
   "execution_count": 89,
   "metadata": {},
   "outputs": [
    {
     "name": "stdout",
     "output_type": "stream",
     "text": [
      "<class 'pandas.core.frame.DataFrame'>\n",
      "Index: 29033 entries, 2 to 24\n",
      "Data columns (total 18 columns):\n",
      " #   Column             Non-Null Count  Dtype                     \n",
      "---  ------             --------------  -----                     \n",
      " 0   file_name          29033 non-null  object                    \n",
      " 1   uuid               29033 non-null  object                    \n",
      " 2   title              29033 non-null  object                    \n",
      " 3   content            29033 non-null  object                    \n",
      " 4   post_flair_text    29033 non-null  object                    \n",
      " 5   author             29033 non-null  object                    \n",
      " 6   author_flair_text  29033 non-null  object                    \n",
      " 7   created            29033 non-null  datetime64[ns, US/Eastern]\n",
      " 8   comments           29033 non-null  int64                     \n",
      " 9   score_up           29033 non-null  int64                     \n",
      " 10  preview            29033 non-null  object                    \n",
      " 11  link               29033 non-null  object                    \n",
      " 12  domain             29033 non-null  object                    \n",
      " 13  is_image           29033 non-null  bool                      \n",
      " 14  is_video           29033 non-null  bool                      \n",
      " 15  video_link         29033 non-null  object                    \n",
      " 16  created_date       29033 non-null  datetime64[ns]            \n",
      " 17  twitter_handle     10536 non-null  object                    \n",
      "dtypes: bool(2), datetime64[ns, US/Eastern](1), datetime64[ns](1), int64(2), object(12)\n",
      "memory usage: 3.8+ MB\n"
     ]
    }
   ],
   "source": [
    "df.info()"
   ]
  },
  {
   "cell_type": "code",
   "execution_count": null,
   "metadata": {},
   "outputs": [],
   "source": []
  }
 ],
 "metadata": {
  "kernelspec": {
   "display_name": "Python 3",
   "language": "python",
   "name": "python3"
  },
  "language_info": {
   "codemirror_mode": {
    "name": "ipython",
    "version": 3
   },
   "file_extension": ".py",
   "mimetype": "text/x-python",
   "name": "python",
   "nbconvert_exporter": "python",
   "pygments_lexer": "ipython3",
   "version": "3.12.0"
  }
 },
 "nbformat": 4,
 "nbformat_minor": 2
}
