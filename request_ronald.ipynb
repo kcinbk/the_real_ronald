{
 "cells": [
  {
   "cell_type": "code",
   "execution_count": 6,
   "metadata": {},
   "outputs": [],
   "source": [
    "import requests\n",
    "from requests.adapters import HTTPAdapter\n",
    "from requests.packages.urllib3.util.retry import Retry\n",
    "import logging\n",
    "import json\n",
    "from datetime import datetime\n",
    "import pytz\n",
    "from time import sleep\n",
    "import os"
   ]
  },
  {
   "cell_type": "code",
   "execution_count": 7,
   "metadata": {},
   "outputs": [],
   "source": [
    "# This function returns the landing page of patriots.win\n",
    "\n",
    "def request_ronald(num_page):\n",
    "    cookies = {\n",
    "        'abgroup': '10',\n",
    "        'aboptin': '1',\n",
    "        'preferredPlatform': 'desktop',\n",
    "        '_ga': 'GA1.1.1551574057.1713978854',\n",
    "        'XSRF-TOKEN': '37844f1d-05f6-4f16-abc2-c09e82595630',\n",
    "        'WSID01': 'MGIwNTI0MGItNGNjNS00MGVhLTg2YWMtYmYxNzA1MTQ0NTgw',\n",
    "        '_ga_Z9WBZVFLPZ': 'GS1.1.1721654025.20.1.1721655139.0.0.0',\n",
    "    }\n",
    "\n",
    "    headers = {\n",
    "        'accept': 'application/json, text/plain, */*',\n",
    "        'accept-language': 'en-US,en;q=0.9,zh-TW;q=0.8,zh;q=0.7',\n",
    "        # 'cookie': 'abgroup=10; aboptin=1; preferredPlatform=desktop; _ga=GA1.1.1551574057.1713978854; XSRF-TOKEN=37844f1d-05f6-4f16-abc2-c09e82595630; WSID01=MGIwNTI0MGItNGNjNS00MGVhLTg2YWMtYmYxNzA1MTQ0NTgw; _ga_Z9WBZVFLPZ=GS1.1.1721654025.20.1.1721655139.0.0.0',\n",
    "        'dnt': '1',\n",
    "        'priority': 'u=1, i',\n",
    "        'referer': 'https://patriots.win/',\n",
    "        'sec-ch-ua': '\"Not/A)Brand\";v=\"8\", \"Chromium\";v=\"126\", \"Google Chrome\";v=\"126\"',\n",
    "        'sec-ch-ua-mobile': '?0',\n",
    "        'sec-ch-ua-platform': '\"macOS\"',\n",
    "        'sec-fetch-dest': 'empty',\n",
    "        'sec-fetch-mode': 'cors',\n",
    "        'sec-fetch-site': 'same-origin',\n",
    "        'user-agent': 'Mozilla/5.0 (Macintosh; Intel Mac OS X 10_15_7) AppleWebKit/537.36 (KHTML, like Gecko) Chrome/126.0.0.0 Safari/537.36',\n",
    "        'x-api-platform': 'Scored-Desktop',\n",
    "        'x-xsrf-token': '37844f1d-05f6-4f16-abc2-c09e82595630',\n",
    "    }\n",
    "\n",
    "    params = {\n",
    "        'community': 'thedonald',\n",
    "        'from': None\n",
    "    }\n",
    "\n",
    "    i = 0\n",
    "    timestamp = datetime.now(pytz.timezone('US/Eastern')).strftime(\"%Y%m%d-%H%M%S\")\n",
    "\n",
    "\n",
    "    logging.basicConfig(level=logging.DEBUG)\n",
    "\n",
    "    s = requests.Session()\n",
    "    retries = Retry(total=4, backoff_factor=1)\n",
    "    s.mount('https://patriots.win/', HTTPAdapter(max_retries=retries))\n",
    "\n",
    "    try:\n",
    "        response = s.get(\n",
    "            'https://patriots.win/api/v2/post/hotv2.json',\n",
    "            headers=headers,\n",
    "            cookies=cookies,\n",
    "            params=params\n",
    "        )\n",
    "        if response.status_code == 200:\n",
    "            data = response.json()\n",
    "            last_uuid = data['posts'][-1]['uuid']\n",
    "            timestamp = datetime.now(pytz.timezone('US/Eastern')).strftime(\"%Y%m%d-%H%M%S\")\n",
    "\n",
    "            with open(f\"data/{timestamp}_page{i}.json\", 'w') as file:\n",
    "                json.dump(data, file)\n",
    "        else:\n",
    "            logging.error(f\"Request failed with status code {response.status_code}\")\n",
    "            response.raise_for_status()\n",
    "    except requests.exceptions.RequestException as e:\n",
    "        logging.error(f\"An error occurred: {e}\")\n",
    "        return\n",
    "\n",
    "    while i <= num_page:\n",
    "        print('I am sleeping')\n",
    "        sleep(2)\n",
    "        params['from'] = last_uuid\n",
    "        try:\n",
    "            response = s.get(\n",
    "                'https://patriots.win/api/v2/post/hotv2.json',\n",
    "                headers=headers,\n",
    "                cookies=cookies,\n",
    "                params=params\n",
    "            )\n",
    "            if response.status_code == 200:\n",
    "                i += 1\n",
    "                data = response.json()\n",
    "                last_uuid = data['posts'][-1]['uuid']\n",
    "                \n",
    "                with open(f\"data/{timestamp}_page{i}.json\", 'w') as file:\n",
    "                    json.dump(data, file)\n",
    "            else:\n",
    "                logging.error(f\"Request failed with status code {response.status_code}\")\n",
    "                response.raise_for_status()\n",
    "        except requests.exceptions.RequestException as e:\n",
    "            logging.error(f\"An error occurred: {e}\")\n",
    "            break\n",
    "\n",
    "if __name__ == \"__main__\":\n",
    "    num_page = 5\n",
    "\n"
   ]
  },
  {
   "cell_type": "code",
   "execution_count": 8,
   "metadata": {},
   "outputs": [
    {
     "name": "stderr",
     "output_type": "stream",
     "text": [
      "DEBUG:urllib3.connectionpool:Starting new HTTPS connection (1): patriots.win:443\n",
      "DEBUG:urllib3.connectionpool:https://patriots.win:443 \"GET /api/v2/post/hotv2.json?community=thedonald HTTP/1.1\" 200 None\n"
     ]
    },
    {
     "name": "stdout",
     "output_type": "stream",
     "text": [
      "I am sleeping\n"
     ]
    },
    {
     "name": "stderr",
     "output_type": "stream",
     "text": [
      "DEBUG:urllib3.connectionpool:https://patriots.win:443 \"GET /api/v2/post/hotv2.json?community=thedonald&from=17teXAxzs5 HTTP/1.1\" 200 None\n"
     ]
    },
    {
     "name": "stdout",
     "output_type": "stream",
     "text": [
      "I am sleeping\n"
     ]
    },
    {
     "name": "stderr",
     "output_type": "stream",
     "text": [
      "DEBUG:urllib3.connectionpool:https://patriots.win:443 \"GET /api/v2/post/hotv2.json?community=thedonald&from=17teX9psCT HTTP/1.1\" 200 None\n"
     ]
    },
    {
     "name": "stdout",
     "output_type": "stream",
     "text": [
      "I am sleeping\n"
     ]
    },
    {
     "name": "stderr",
     "output_type": "stream",
     "text": [
      "DEBUG:urllib3.connectionpool:https://patriots.win:443 \"GET /api/v2/post/hotv2.json?community=thedonald&from=17teXC5IOW HTTP/1.1\" 200 None\n"
     ]
    },
    {
     "name": "stdout",
     "output_type": "stream",
     "text": [
      "I am sleeping\n"
     ]
    },
    {
     "name": "stderr",
     "output_type": "stream",
     "text": [
      "DEBUG:urllib3.connectionpool:https://patriots.win:443 \"GET /api/v2/post/hotv2.json?community=thedonald&from=17teXC5ICH HTTP/1.1\" 200 None\n"
     ]
    },
    {
     "name": "stdout",
     "output_type": "stream",
     "text": [
      "I am sleeping\n"
     ]
    },
    {
     "name": "stderr",
     "output_type": "stream",
     "text": [
      "DEBUG:urllib3.connectionpool:https://patriots.win:443 \"GET /api/v2/post/hotv2.json?community=thedonald&from=17teXC5IWt HTTP/1.1\" 200 None\n"
     ]
    },
    {
     "name": "stdout",
     "output_type": "stream",
     "text": [
      "I am sleeping\n"
     ]
    },
    {
     "name": "stderr",
     "output_type": "stream",
     "text": [
      "DEBUG:urllib3.connectionpool:https://patriots.win:443 \"GET /api/v2/post/hotv2.json?community=thedonald&from=17teX7YXGJ HTTP/1.1\" 200 None\n"
     ]
    },
    {
     "name": "stdout",
     "output_type": "stream",
     "text": [
      "I am sleeping\n"
     ]
    },
    {
     "name": "stderr",
     "output_type": "stream",
     "text": [
      "DEBUG:urllib3.connectionpool:https://patriots.win:443 \"GET /api/v2/post/hotv2.json?community=thedonald&from=17teXAyYIi HTTP/1.1\" 200 None\n"
     ]
    },
    {
     "name": "stdout",
     "output_type": "stream",
     "text": [
      "I am sleeping\n"
     ]
    },
    {
     "name": "stderr",
     "output_type": "stream",
     "text": [
      "DEBUG:urllib3.connectionpool:https://patriots.win:443 \"GET /api/v2/post/hotv2.json?community=thedonald&from=17teXAz5vt HTTP/1.1\" 200 None\n"
     ]
    }
   ],
   "source": [
    "num_page = 7\n",
    "request_ronald(num_page)"
   ]
  },
  {
   "cell_type": "code",
   "execution_count": null,
   "metadata": {},
   "outputs": [],
   "source": []
  }
 ],
 "metadata": {
  "kernelspec": {
   "display_name": "Python 3",
   "language": "python",
   "name": "python3"
  },
  "language_info": {
   "codemirror_mode": {
    "name": "ipython",
    "version": 3
   },
   "file_extension": ".py",
   "mimetype": "text/x-python",
   "name": "python",
   "nbconvert_exporter": "python",
   "pygments_lexer": "ipython3",
   "version": "3.12.0"
  }
 },
 "nbformat": 4,
 "nbformat_minor": 2
}
