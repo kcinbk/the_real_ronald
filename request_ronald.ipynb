{
 "cells": [
  {
   "cell_type": "code",
   "execution_count": 6,
   "metadata": {},
   "outputs": [],
   "source": [
    "import requests\n",
    "import logging\n",
    "from requests.adapters import HTTPAdapter, Retry\n",
    "import time\n",
    "import json\n",
    "import os"
   ]
  },
  {
   "cell_type": "code",
   "execution_count": 5,
   "metadata": {},
   "outputs": [
    {
     "name": "stderr",
     "output_type": "stream",
     "text": [
      "DEBUG:urllib3.connectionpool:Starting new HTTPS connection (1): patriots.win:443\n",
      "DEBUG:urllib3.connectionpool:https://patriots.win:443 \"GET /api/v2/post/hotv2.json?community=thedonald HTTP/1.1\" 200 None\n"
     ]
    }
   ],
   "source": [
    "cookies = {\n",
    "    'abgroup': '10',\n",
    "    'aboptin': '1',\n",
    "    'preferredPlatform': 'desktop',\n",
    "    '_ga': 'GA1.1.1551574057.1713978854',\n",
    "    'XSRF-TOKEN': '3d29f144-9992-4589-b768-829ac740c5ed',\n",
    "    'WSID01': 'OTA1MmE3ZGYtZjRhOC00ODYzLTg2ZmQtZTZhODI3NjQ5NzBi',\n",
    "    '_ga_Z9WBZVFLPZ': 'GS1.1.1721242365.8.1.1721243013.0.0.0',\n",
    "}\n",
    "\n",
    "headers = {\n",
    "    'accept': 'application/json, text/plain, */*',\n",
    "    'accept-language': 'en-US,en;q=0.9,zh-TW;q=0.8,zh;q=0.7',\n",
    "    # 'cookie': 'abgroup=10; aboptin=1; preferredPlatform=desktop; _ga=GA1.1.1551574057.1713978854; XSRF-TOKEN=3d29f144-9992-4589-b768-829ac740c5ed; WSID01=OTA1MmE3ZGYtZjRhOC00ODYzLTg2ZmQtZTZhODI3NjQ5NzBi; _ga_Z9WBZVFLPZ=GS1.1.1721242365.8.1.1721243013.0.0.0',\n",
    "    'dnt': '1',\n",
    "    'priority': 'u=1, i',\n",
    "    'referer': 'https://patriots.win/',\n",
    "    'sec-ch-ua': '\"Not/A)Brand\";v=\"8\", \"Chromium\";v=\"126\", \"Google Chrome\";v=\"126\"',\n",
    "    'sec-ch-ua-mobile': '?0',\n",
    "    'sec-ch-ua-platform': '\"macOS\"',\n",
    "    'sec-fetch-dest': 'empty',\n",
    "    'sec-fetch-mode': 'cors',\n",
    "    'sec-fetch-site': 'same-origin',\n",
    "    'user-agent': 'Mozilla/5.0 (Macintosh; Intel Mac OS X 10_15_7) AppleWebKit/537.36 (KHTML, like Gecko) Chrome/126.0.0.0 Safari/537.36',\n",
    "    'x-api-platform': 'Scored-Desktop',\n",
    "    'x-xsrf-token': '3d29f144-9992-4589-b768-829ac740c5ed',\n",
    "}\n",
    "\n",
    "params = {\n",
    "    'community': 'thedonald',\n",
    "}\n",
    "\n",
    "\n",
    "\n",
    "logging.basicConfig(level=logging.DEBUG)\n",
    "\n",
    "s = requests.Session()\n",
    "retries = Retry(total=5, backoff_factor=1)\n",
    "s.mount('https://patriots.win/', HTTPAdapter(max_retries=retries))\n",
    "\n",
    "try:\n",
    "    response = s.get(\n",
    "        'https://patriots.win/api/v2/post/hotv2.json',\n",
    "        headers=headers,\n",
    "        cookies=cookies,\n",
    "        params=params\n",
    "    )\n",
    "    if response.status_code == 200:\n",
    "        data = response.json()\n",
    "        #create a 15-character timestamp\n",
    "        timestamp = time.strftime(\"%Y%m%d-%H%M%S\")\n",
    "        with open(f\"{timestamp}.json\", 'w') as file:\n",
    "            json.dump(data, file)\n",
    "    else:\n",
    "        logging.error(f\"Request failed with status code {response.status_code}\")\n",
    "        response.raise_for_status()  # Raise an HTTPError for bad responses (4xx and 5xx)\n",
    "except requests.exceptions.RequestException as e:\n",
    "    logging.error(f\"An error occurred: {e}\")"
   ]
  },
  {
   "cell_type": "code",
   "execution_count": null,
   "metadata": {},
   "outputs": [],
   "source": []
  }
 ],
 "metadata": {
  "kernelspec": {
   "display_name": "Python 3",
   "language": "python",
   "name": "python3"
  },
  "language_info": {
   "codemirror_mode": {
    "name": "ipython",
    "version": 3
   },
   "file_extension": ".py",
   "mimetype": "text/x-python",
   "name": "python",
   "nbconvert_exporter": "python",
   "pygments_lexer": "ipython3",
   "version": "3.12.0"
  }
 },
 "nbformat": 4,
 "nbformat_minor": 2
}
