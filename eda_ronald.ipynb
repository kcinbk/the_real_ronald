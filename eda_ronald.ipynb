{
 "cells": [
  {
   "cell_type": "code",
   "execution_count": 8,
   "metadata": {},
   "outputs": [],
   "source": [
    "import pandas as pd\n",
    "pd.set_option(\"display.max_colwidth\", None)\n",
    "pd.set_option(\"display.max_rows\", 50)\n",
    "\n",
    "import json\n",
    "import numpy as np\n",
    "import matplotlib.pyplot as plt\n",
    "import seaborn as sns\n",
    "\n",
    "import datetime\n",
    "from datetime import datetime as dt\n",
    "import glob\n",
    "import os"
   ]
  },
  {
   "cell_type": "code",
   "execution_count": 9,
   "metadata": {},
   "outputs": [
    {
     "data": {
      "text/html": [
       "<div>\n",
       "<style scoped>\n",
       "    .dataframe tbody tr th:only-of-type {\n",
       "        vertical-align: middle;\n",
       "    }\n",
       "\n",
       "    .dataframe tbody tr th {\n",
       "        vertical-align: top;\n",
       "    }\n",
       "\n",
       "    .dataframe thead th {\n",
       "        text-align: right;\n",
       "    }\n",
       "</style>\n",
       "<table border=\"1\" class=\"dataframe\">\n",
       "  <thead>\n",
       "    <tr style=\"text-align: right;\">\n",
       "      <th></th>\n",
       "      <th>preview</th>\n",
       "      <th>is_locked</th>\n",
       "      <th>tweet_id</th>\n",
       "      <th>sticky_comment</th>\n",
       "      <th>removal_source</th>\n",
       "      <th>link</th>\n",
       "      <th>author_flair_class</th>\n",
       "      <th>is_video_mp4</th>\n",
       "      <th>is_removed</th>\n",
       "      <th>title</th>\n",
       "      <th>...</th>\n",
       "      <th>link_metadata.twitter.parentTweet.quotedTweet.video</th>\n",
       "      <th>link_metadata.twitter.poll.options</th>\n",
       "      <th>link_metadata.twitter.poll.votes</th>\n",
       "      <th>link_metadata.twitter.poll.endTime</th>\n",
       "      <th>link_metadata.twitter.poll.winningPercentage</th>\n",
       "      <th>link_metadata.twitter.parentTweet.linkEmbed.image</th>\n",
       "      <th>link_metadata.twitter.parentTweet.linkEmbed.domain</th>\n",
       "      <th>link_metadata.twitter.parentTweet.linkEmbed.description</th>\n",
       "      <th>link_metadata.twitter.parentTweet.linkEmbed.title</th>\n",
       "      <th>link_metadata.twitter.parentTweet.linkEmbed.url</th>\n",
       "    </tr>\n",
       "  </thead>\n",
       "  <tbody>\n",
       "    <tr>\n",
       "      <th>2</th>\n",
       "      <td>https://media.patriots.win/preview/17txVxLh4h.png</td>\n",
       "      <td>False</td>\n",
       "      <td></td>\n",
       "      <td>0</td>\n",
       "      <td></td>\n",
       "      <td>https://media.scored.co/post/Te1QiisbCGPR.png</td>\n",
       "      <td></td>\n",
       "      <td>False</td>\n",
       "      <td>False</td>\n",
       "      <td>🚽 Only 17% of Americans View Radical-Left Tim Walz Positively 💩</td>\n",
       "      <td>...</td>\n",
       "      <td>NaN</td>\n",
       "      <td>NaN</td>\n",
       "      <td>NaN</td>\n",
       "      <td>NaN</td>\n",
       "      <td>NaN</td>\n",
       "      <td>NaN</td>\n",
       "      <td>NaN</td>\n",
       "      <td>NaN</td>\n",
       "      <td>NaN</td>\n",
       "      <td>NaN</td>\n",
       "    </tr>\n",
       "    <tr>\n",
       "      <th>3</th>\n",
       "      <td>https://media.patriots.win/preview/17txVxL8ye.png</td>\n",
       "      <td>False</td>\n",
       "      <td>1820837157554041212</td>\n",
       "      <td>0</td>\n",
       "      <td></td>\n",
       "      <td>https://twitter.com/LauraLoomer/status/1820837157554041212</td>\n",
       "      <td></td>\n",
       "      <td>False</td>\n",
       "      <td>False</td>\n",
       "      <td>Gwen Walz is just as crazy left as her husband 🤪</td>\n",
       "      <td>...</td>\n",
       "      <td>NaN</td>\n",
       "      <td>NaN</td>\n",
       "      <td>NaN</td>\n",
       "      <td>NaN</td>\n",
       "      <td>NaN</td>\n",
       "      <td>NaN</td>\n",
       "      <td>NaN</td>\n",
       "      <td>NaN</td>\n",
       "      <td>NaN</td>\n",
       "      <td>NaN</td>\n",
       "    </tr>\n",
       "    <tr>\n",
       "      <th>4</th>\n",
       "      <td>https://media.patriots.win/preview/17txVxKasX.png</td>\n",
       "      <td>False</td>\n",
       "      <td></td>\n",
       "      <td>0</td>\n",
       "      <td></td>\n",
       "      <td>https://thepostmillennial.com/felony-charges-against-teen-who-rode-scooter-left-skid-marks-on-spokane-pride-crosswalk-dismissed?utm_campaign=64466</td>\n",
       "      <td></td>\n",
       "      <td>False</td>\n",
       "      <td>False</td>\n",
       "      <td>Felony charges against teen who rode scooter, left skid marks on Spokane Pride crosswalk dismissed</td>\n",
       "      <td>...</td>\n",
       "      <td>NaN</td>\n",
       "      <td>NaN</td>\n",
       "      <td>NaN</td>\n",
       "      <td>NaN</td>\n",
       "      <td>NaN</td>\n",
       "      <td>NaN</td>\n",
       "      <td>NaN</td>\n",
       "      <td>NaN</td>\n",
       "      <td>NaN</td>\n",
       "      <td>NaN</td>\n",
       "    </tr>\n",
       "    <tr>\n",
       "      <th>5</th>\n",
       "      <td>https://media.patriots.win/preview/17txVxLhCw.png</td>\n",
       "      <td>False</td>\n",
       "      <td></td>\n",
       "      <td>0</td>\n",
       "      <td></td>\n",
       "      <td>https://media.patriots.win/post/cS4ZO2P9yD7f.jpeg</td>\n",
       "      <td></td>\n",
       "      <td>False</td>\n",
       "      <td>False</td>\n",
       "      <td>Donald Trump:  17 million primary votes    Kamala Harris:  0 primary votes</td>\n",
       "      <td>...</td>\n",
       "      <td>NaN</td>\n",
       "      <td>NaN</td>\n",
       "      <td>NaN</td>\n",
       "      <td>NaN</td>\n",
       "      <td>NaN</td>\n",
       "      <td>NaN</td>\n",
       "      <td>NaN</td>\n",
       "      <td>NaN</td>\n",
       "      <td>NaN</td>\n",
       "      <td>NaN</td>\n",
       "    </tr>\n",
       "    <tr>\n",
       "      <th>6</th>\n",
       "      <td>https://media.patriots.win/preview/17txVxKs3q.png</td>\n",
       "      <td>False</td>\n",
       "      <td></td>\n",
       "      <td>0</td>\n",
       "      <td></td>\n",
       "      <td>https://media.scored.co/post/Xej4O0IbECnu.jpeg</td>\n",
       "      <td></td>\n",
       "      <td>False</td>\n",
       "      <td>False</td>\n",
       "      <td>Break the Cycle</td>\n",
       "      <td>...</td>\n",
       "      <td>NaN</td>\n",
       "      <td>NaN</td>\n",
       "      <td>NaN</td>\n",
       "      <td>NaN</td>\n",
       "      <td>NaN</td>\n",
       "      <td>NaN</td>\n",
       "      <td>NaN</td>\n",
       "      <td>NaN</td>\n",
       "      <td>NaN</td>\n",
       "      <td>NaN</td>\n",
       "    </tr>\n",
       "  </tbody>\n",
       "</table>\n",
       "<p>5 rows × 149 columns</p>\n",
       "</div>"
      ],
      "text/plain": [
       "                                             preview  is_locked  \\\n",
       "2  https://media.patriots.win/preview/17txVxLh4h.png      False   \n",
       "3  https://media.patriots.win/preview/17txVxL8ye.png      False   \n",
       "4  https://media.patriots.win/preview/17txVxKasX.png      False   \n",
       "5  https://media.patriots.win/preview/17txVxLhCw.png      False   \n",
       "6  https://media.patriots.win/preview/17txVxKs3q.png      False   \n",
       "\n",
       "              tweet_id  sticky_comment removal_source  \\\n",
       "2                                    0                  \n",
       "3  1820837157554041212               0                  \n",
       "4                                    0                  \n",
       "5                                    0                  \n",
       "6                                    0                  \n",
       "\n",
       "                                                                                                                                                 link  \\\n",
       "2                                                                                                       https://media.scored.co/post/Te1QiisbCGPR.png   \n",
       "3                                                                                          https://twitter.com/LauraLoomer/status/1820837157554041212   \n",
       "4  https://thepostmillennial.com/felony-charges-against-teen-who-rode-scooter-left-skid-marks-on-spokane-pride-crosswalk-dismissed?utm_campaign=64466   \n",
       "5                                                                                                   https://media.patriots.win/post/cS4ZO2P9yD7f.jpeg   \n",
       "6                                                                                                      https://media.scored.co/post/Xej4O0IbECnu.jpeg   \n",
       "\n",
       "  author_flair_class  is_video_mp4  is_removed  \\\n",
       "2                            False       False   \n",
       "3                            False       False   \n",
       "4                            False       False   \n",
       "5                            False       False   \n",
       "6                            False       False   \n",
       "\n",
       "                                                                                                title  \\\n",
       "2                                     🚽 Only 17% of Americans View Radical-Left Tim Walz Positively 💩   \n",
       "3                                                    Gwen Walz is just as crazy left as her husband 🤪   \n",
       "4  Felony charges against teen who rode scooter, left skid marks on Spokane Pride crosswalk dismissed   \n",
       "5                          Donald Trump:  17 million primary votes    Kamala Harris:  0 primary votes   \n",
       "6                                                                                     Break the Cycle   \n",
       "\n",
       "   ... link_metadata.twitter.parentTweet.quotedTweet.video  \\\n",
       "2  ...                                                 NaN   \n",
       "3  ...                                                 NaN   \n",
       "4  ...                                                 NaN   \n",
       "5  ...                                                 NaN   \n",
       "6  ...                                                 NaN   \n",
       "\n",
       "   link_metadata.twitter.poll.options link_metadata.twitter.poll.votes  \\\n",
       "2                                 NaN                              NaN   \n",
       "3                                 NaN                              NaN   \n",
       "4                                 NaN                              NaN   \n",
       "5                                 NaN                              NaN   \n",
       "6                                 NaN                              NaN   \n",
       "\n",
       "  link_metadata.twitter.poll.endTime  \\\n",
       "2                                NaN   \n",
       "3                                NaN   \n",
       "4                                NaN   \n",
       "5                                NaN   \n",
       "6                                NaN   \n",
       "\n",
       "   link_metadata.twitter.poll.winningPercentage  \\\n",
       "2                                           NaN   \n",
       "3                                           NaN   \n",
       "4                                           NaN   \n",
       "5                                           NaN   \n",
       "6                                           NaN   \n",
       "\n",
       "  link_metadata.twitter.parentTweet.linkEmbed.image  \\\n",
       "2                                               NaN   \n",
       "3                                               NaN   \n",
       "4                                               NaN   \n",
       "5                                               NaN   \n",
       "6                                               NaN   \n",
       "\n",
       "   link_metadata.twitter.parentTweet.linkEmbed.domain  \\\n",
       "2                                                 NaN   \n",
       "3                                                 NaN   \n",
       "4                                                 NaN   \n",
       "5                                                 NaN   \n",
       "6                                                 NaN   \n",
       "\n",
       "   link_metadata.twitter.parentTweet.linkEmbed.description  \\\n",
       "2                                                      NaN   \n",
       "3                                                      NaN   \n",
       "4                                                      NaN   \n",
       "5                                                      NaN   \n",
       "6                                                      NaN   \n",
       "\n",
       "   link_metadata.twitter.parentTweet.linkEmbed.title  \\\n",
       "2                                                NaN   \n",
       "3                                                NaN   \n",
       "4                                                NaN   \n",
       "5                                                NaN   \n",
       "6                                                NaN   \n",
       "\n",
       "   link_metadata.twitter.parentTweet.linkEmbed.url  \n",
       "2                                              NaN  \n",
       "3                                              NaN  \n",
       "4                                              NaN  \n",
       "5                                              NaN  \n",
       "6                                              NaN  \n",
       "\n",
       "[5 rows x 149 columns]"
      ]
     },
     "execution_count": 9,
     "metadata": {},
     "output_type": "execute_result"
    }
   ],
   "source": [
    "# importing json files\n",
    "\n",
    "dfs=[]\n",
    "for file in glob.glob(\"data/*.json\"):\n",
    "    dataframe = pd.read_json(file)['posts']\n",
    "    # flatten the structure\n",
    "    dataframe = pd.json_normalize(dataframe)\n",
    "    # insert file names\n",
    "    dataframe['file_name'] = os.path.basename(file)\n",
    "    dfs.append(dataframe)\n",
    "\n",
    "# concatenate all data and drop repeated entries\n",
    "df=pd.concat(dfs).drop_duplicates(subset='uuid', keep='last')\n",
    "\n",
    "df.head()"
   ]
  },
  {
   "cell_type": "code",
   "execution_count": 10,
   "metadata": {},
   "outputs": [
    {
     "name": "stderr",
     "output_type": "stream",
     "text": [
      "/var/folders/f2/xbsrplkj23z71l_fw6890_hr0000gn/T/ipykernel_57757/4060232883.py:24: FutureWarning: Downcasting behavior in `replace` is deprecated and will be removed in a future version. To retain the old behavior, explicitly call `result.infer_objects(copy=False)`. To opt-in to the future behavior, set `pd.set_option('future.no_silent_downcasting', True)`\n",
      "  dataframe = dataframe.replace(r'^\\s*$', np.nan, regex=True)\n"
     ]
    },
    {
     "data": {
      "text/plain": [
       "created_date\n",
       "2024-07-21     31\n",
       "2024-07-22    500\n",
       "2024-07-23    615\n",
       "2024-07-24    585\n",
       "2024-07-25    631\n",
       "2024-07-26    596\n",
       "2024-07-27    611\n",
       "2024-07-28    619\n",
       "2024-07-29    647\n",
       "2024-07-30    585\n",
       "2024-07-31    628\n",
       "2024-08-01    591\n",
       "2024-08-02    615\n",
       "2024-08-03    638\n",
       "2024-08-04    631\n",
       "2024-08-05    651\n",
       "2024-08-06    596\n",
       "2024-08-07    601\n",
       "2024-08-08    609\n",
       "2024-08-09    599\n",
       "2024-08-10    584\n",
       "2024-08-11    630\n",
       "2024-08-12    611\n",
       "2024-08-13    656\n",
       "2024-08-14    632\n",
       "2024-08-15    605\n",
       "2024-08-16    609\n",
       "2024-08-17    611\n",
       "2024-08-18    587\n",
       "2024-08-19    637\n",
       "2024-08-20    608\n",
       "2024-08-21    619\n",
       "2024-08-22    616\n",
       "2024-08-23    618\n",
       "2024-08-24    588\n",
       "2024-08-25    595\n",
       "2024-08-26    607\n",
       "2024-08-27    614\n",
       "2024-08-28    601\n",
       "2024-08-29    594\n",
       "2024-08-30    619\n",
       "2024-08-31    589\n",
       "2024-09-01    588\n",
       "2024-09-02    605\n",
       "2024-09-03    614\n",
       "2024-09-04    625\n",
       "2024-09-05    244\n",
       "Name: count, dtype: int64"
      ]
     },
     "execution_count": 10,
     "metadata": {},
     "output_type": "execute_result"
    }
   ],
   "source": [
    "# slicing out only relevant columns \n",
    "\n",
    "selected_columns = [\n",
    "    'file_name',\n",
    "    'uuid', \n",
    "    'title',\n",
    "    'content',\n",
    "    'post_flair_text',\n",
    "    'author',\n",
    "    'author_flair_text',\n",
    "    'created',\n",
    "    'comments',\n",
    "    'score_up',\n",
    "    'preview',\n",
    "    'link',\n",
    "    'domain',\n",
    "    'is_image',\n",
    "    'is_video',\n",
    "    'video_link'\n",
    "    ]\t\n",
    "df = df[selected_columns]\n",
    "\n",
    "# Replace empty cell with Nan\n",
    "dataframe = dataframe.replace(r'^\\s*$', np.nan, regex=True)\n",
    "\n",
    "# Format datetime\n",
    "df['created'] = pd.to_datetime(df.created, unit='ms').dt.tz_localize('US/Eastern')\n",
    "# crate a column storing \"date\" \n",
    "df['created_date'] = df['created'].dt.date\n",
    "df['created_date'] = pd.to_datetime(df['created_date'])\n",
    "\n",
    "\n",
    "# Fix empty or ill-formed domain column\n",
    "selfpost_mask = df.domain.str.match('^$')\n",
    "df.loc[selfpost_mask, 'domain'] = 'self_post'\n",
    "\n",
    "df.created_date.value_counts().sort_index()"
   ]
  },
  {
   "cell_type": "code",
   "execution_count": 11,
   "metadata": {},
   "outputs": [
    {
     "data": {
      "text/html": [
       "<div>\n",
       "<style scoped>\n",
       "    .dataframe tbody tr th:only-of-type {\n",
       "        vertical-align: middle;\n",
       "    }\n",
       "\n",
       "    .dataframe tbody tr th {\n",
       "        vertical-align: top;\n",
       "    }\n",
       "\n",
       "    .dataframe thead th {\n",
       "        text-align: right;\n",
       "    }\n",
       "</style>\n",
       "<table border=\"1\" class=\"dataframe\">\n",
       "  <thead>\n",
       "    <tr style=\"text-align: right;\">\n",
       "      <th></th>\n",
       "      <th>file_name</th>\n",
       "      <th>uuid</th>\n",
       "      <th>title</th>\n",
       "      <th>content</th>\n",
       "      <th>post_flair_text</th>\n",
       "      <th>author</th>\n",
       "      <th>author_flair_text</th>\n",
       "      <th>created</th>\n",
       "      <th>comments</th>\n",
       "      <th>score_up</th>\n",
       "      <th>preview</th>\n",
       "      <th>link</th>\n",
       "      <th>domain</th>\n",
       "      <th>is_image</th>\n",
       "      <th>is_video</th>\n",
       "      <th>video_link</th>\n",
       "      <th>created_date</th>\n",
       "    </tr>\n",
       "  </thead>\n",
       "  <tbody>\n",
       "    <tr>\n",
       "      <th>2</th>\n",
       "      <td>20240806-141246_page6.json</td>\n",
       "      <td>17txVxLh4h</td>\n",
       "      <td>🚽 Only 17% of Americans View Radical-Left Tim Walz Positively 💩</td>\n",
       "      <td></td>\n",
       "      <td>THE  BADDIES</td>\n",
       "      <td>MythArcana</td>\n",
       "      <td></td>\n",
       "      <td>2024-08-06 16:16:27.731000-04:00</td>\n",
       "      <td>9</td>\n",
       "      <td>74</td>\n",
       "      <td>https://media.patriots.win/preview/17txVxLh4h.png</td>\n",
       "      <td>https://media.scored.co/post/Te1QiisbCGPR.png</td>\n",
       "      <td>media.scored.co</td>\n",
       "      <td>True</td>\n",
       "      <td>False</td>\n",
       "      <td></td>\n",
       "      <td>2024-08-06</td>\n",
       "    </tr>\n",
       "    <tr>\n",
       "      <th>3</th>\n",
       "      <td>20240806-141246_page6.json</td>\n",
       "      <td>17txVxL8ye</td>\n",
       "      <td>Gwen Walz is just as crazy left as her husband 🤪</td>\n",
       "      <td></td>\n",
       "      <td></td>\n",
       "      <td>AZDesertRat</td>\n",
       "      <td></td>\n",
       "      <td>2024-08-06 15:10:45.696000-04:00</td>\n",
       "      <td>10</td>\n",
       "      <td>88</td>\n",
       "      <td>https://media.patriots.win/preview/17txVxL8ye.png</td>\n",
       "      <td>https://twitter.com/LauraLoomer/status/1820837157554041212</td>\n",
       "      <td>twitter.com</td>\n",
       "      <td>False</td>\n",
       "      <td>False</td>\n",
       "      <td></td>\n",
       "      <td>2024-08-06</td>\n",
       "    </tr>\n",
       "    <tr>\n",
       "      <th>4</th>\n",
       "      <td>20240806-141246_page6.json</td>\n",
       "      <td>17txVxKasX</td>\n",
       "      <td>Felony charges against teen who rode scooter, left skid marks on Spokane Pride crosswalk dismissed</td>\n",
       "      <td></td>\n",
       "      <td></td>\n",
       "      <td>Sea_Still</td>\n",
       "      <td></td>\n",
       "      <td>2024-08-06 14:11:14.820000-04:00</td>\n",
       "      <td>10</td>\n",
       "      <td>105</td>\n",
       "      <td>https://media.patriots.win/preview/17txVxKasX.png</td>\n",
       "      <td>https://thepostmillennial.com/felony-charges-against-teen-who-rode-scooter-left-skid-marks-on-spokane-pride-crosswalk-dismissed?utm_campaign=64466</td>\n",
       "      <td>thepostmillennial.com</td>\n",
       "      <td>False</td>\n",
       "      <td>False</td>\n",
       "      <td></td>\n",
       "      <td>2024-08-06</td>\n",
       "    </tr>\n",
       "    <tr>\n",
       "      <th>5</th>\n",
       "      <td>20240806-141246_page6.json</td>\n",
       "      <td>17txVxLhCw</td>\n",
       "      <td>Donald Trump:  17 million primary votes    Kamala Harris:  0 primary votes</td>\n",
       "      <td></td>\n",
       "      <td></td>\n",
       "      <td>biden_didnt_win</td>\n",
       "      <td></td>\n",
       "      <td>2024-08-06 16:21:04.849000-04:00</td>\n",
       "      <td>3</td>\n",
       "      <td>69</td>\n",
       "      <td>https://media.patriots.win/preview/17txVxLhCw.png</td>\n",
       "      <td>https://media.patriots.win/post/cS4ZO2P9yD7f.jpeg</td>\n",
       "      <td>media.patriots.win</td>\n",
       "      <td>True</td>\n",
       "      <td>False</td>\n",
       "      <td></td>\n",
       "      <td>2024-08-06</td>\n",
       "    </tr>\n",
       "    <tr>\n",
       "      <th>6</th>\n",
       "      <td>20240806-141246_page6.json</td>\n",
       "      <td>17txVxKs3q</td>\n",
       "      <td>Break the Cycle</td>\n",
       "      <td></td>\n",
       "      <td></td>\n",
       "      <td>foxhound</td>\n",
       "      <td></td>\n",
       "      <td>2024-08-06 14:50:11.440000-04:00</td>\n",
       "      <td>3</td>\n",
       "      <td>92</td>\n",
       "      <td>https://media.patriots.win/preview/17txVxKs3q.png</td>\n",
       "      <td>https://media.scored.co/post/Xej4O0IbECnu.jpeg</td>\n",
       "      <td>media.scored.co</td>\n",
       "      <td>True</td>\n",
       "      <td>False</td>\n",
       "      <td></td>\n",
       "      <td>2024-08-06</td>\n",
       "    </tr>\n",
       "  </tbody>\n",
       "</table>\n",
       "</div>"
      ],
      "text/plain": [
       "                    file_name        uuid  \\\n",
       "2  20240806-141246_page6.json  17txVxLh4h   \n",
       "3  20240806-141246_page6.json  17txVxL8ye   \n",
       "4  20240806-141246_page6.json  17txVxKasX   \n",
       "5  20240806-141246_page6.json  17txVxLhCw   \n",
       "6  20240806-141246_page6.json  17txVxKs3q   \n",
       "\n",
       "                                                                                                title  \\\n",
       "2                                     🚽 Only 17% of Americans View Radical-Left Tim Walz Positively 💩   \n",
       "3                                                    Gwen Walz is just as crazy left as her husband 🤪   \n",
       "4  Felony charges against teen who rode scooter, left skid marks on Spokane Pride crosswalk dismissed   \n",
       "5                          Donald Trump:  17 million primary votes    Kamala Harris:  0 primary votes   \n",
       "6                                                                                     Break the Cycle   \n",
       "\n",
       "  content post_flair_text           author author_flair_text  \\\n",
       "2            THE  BADDIES       MythArcana                     \n",
       "3                              AZDesertRat                     \n",
       "4                                Sea_Still                     \n",
       "5                          biden_didnt_win                     \n",
       "6                                 foxhound                     \n",
       "\n",
       "                           created  comments  score_up  \\\n",
       "2 2024-08-06 16:16:27.731000-04:00         9        74   \n",
       "3 2024-08-06 15:10:45.696000-04:00        10        88   \n",
       "4 2024-08-06 14:11:14.820000-04:00        10       105   \n",
       "5 2024-08-06 16:21:04.849000-04:00         3        69   \n",
       "6 2024-08-06 14:50:11.440000-04:00         3        92   \n",
       "\n",
       "                                             preview  \\\n",
       "2  https://media.patriots.win/preview/17txVxLh4h.png   \n",
       "3  https://media.patriots.win/preview/17txVxL8ye.png   \n",
       "4  https://media.patriots.win/preview/17txVxKasX.png   \n",
       "5  https://media.patriots.win/preview/17txVxLhCw.png   \n",
       "6  https://media.patriots.win/preview/17txVxKs3q.png   \n",
       "\n",
       "                                                                                                                                                 link  \\\n",
       "2                                                                                                       https://media.scored.co/post/Te1QiisbCGPR.png   \n",
       "3                                                                                          https://twitter.com/LauraLoomer/status/1820837157554041212   \n",
       "4  https://thepostmillennial.com/felony-charges-against-teen-who-rode-scooter-left-skid-marks-on-spokane-pride-crosswalk-dismissed?utm_campaign=64466   \n",
       "5                                                                                                   https://media.patriots.win/post/cS4ZO2P9yD7f.jpeg   \n",
       "6                                                                                                      https://media.scored.co/post/Xej4O0IbECnu.jpeg   \n",
       "\n",
       "                  domain  is_image  is_video video_link created_date  \n",
       "2        media.scored.co      True     False              2024-08-06  \n",
       "3            twitter.com     False     False              2024-08-06  \n",
       "4  thepostmillennial.com     False     False              2024-08-06  \n",
       "5     media.patriots.win      True     False              2024-08-06  \n",
       "6        media.scored.co      True     False              2024-08-06  "
      ]
     },
     "execution_count": 11,
     "metadata": {},
     "output_type": "execute_result"
    }
   ],
   "source": [
    "df.head()"
   ]
  },
  {
   "cell_type": "code",
   "execution_count": 12,
   "metadata": {},
   "outputs": [],
   "source": [
    "# Unpack shortened domains\n",
    "import requests\n",
    "from requests.adapters import HTTPAdapter\n",
    "from urllib3.util.retry import Retry\n",
    "import tldextract\n",
    "\n",
    "common_shorts = [\n",
    "    \"adf.ly\", \"adfoc.us\", \"amzn.to\", \"atominik.com\", \"ay.gy\", \"b.link\", \"bhpho.to\", \"bit.ly\", \"bit.do\", \n",
    "    \"bn.gy\", \"branch.io\", \"buff.ly\", \"ceesty.com\", \"chollo.to\", \"cli.re\", \"cli.fm\", \"cutt.ly\", \"cutt.us\", \n",
    "    \"db.tt\", \"f.ls\", \"fa.by\", \"fb.me\", \"flip.it\", \"fumacrom.com\", \"git.io\", \"geni.us\", \"goo.gl\", \"gns.io\", \n",
    "    \"hmm.rs\", \"ht.ly\", \"hyperurl.co\", \"ity.im\", \"intamema.com\", \"is.gd\", \"j.gs\", \"j.mp\", \"kutt.it\", \"ldn.im\", \n",
    "    \"linklyhq.com\", \"microify.com\", \"mzl.la\", \"nmc.sg\", \"nowlinks.net\", \"ow.ly\", \"prf.hn\", \"plu.sh\", \"q.gs\", \n",
    "    \"qr.ae\", \"qr.net\", \"rebrand.ly\", \"rb.gy\", \"rlu.ru\", \"rotf.lol\", \"s.coop\", \"s.id\", \"sh.st\", \"soo.gd\", \n",
    "    \"shortcm.xyz\", \"short.gy\", \"shortcm.xyz\", \"shorturl.at\", \"smu.sg\", \"smq.tc\", \"snip.ly\", \"snipr.com\", \n",
    "    \"snipurl.com\", \"snurl.com\", \"split.to\", \"surl.li\", \"t.co\", \"t.ly\", \"t2m.io\", \"tiny.cc\", \"tiny.pl\", \n",
    "    \"tinyium.com\", \"tinyurl.com\", \"tiny.one\", \"tny.im\", \"tny.sh\", \"tr.im\", \"trib.al\", \"u.to\", \"v.gd\", \n",
    "    \"virg.in\", \"vzturl.com\", \"waa.ai\", \"washex.am\", \"x.co\", \"y2u.be\", \"yourwish.es\", \"zpr.io\", \"1url.com\", \n",
    "    \"2.gp\", \"3.ly\", \"4sq.com\", \"6url.com\", \"7.ly\", \"9.bb\", \"amp.gs\", \"atz.bz\", \"binged.it\",\n",
    "    \"budurl.com\", \"cort.as\", \"decenturl.com\", \"dft.ba\", \"goo.gl\", \"inbound.org\", \"itsh.bo\", \"mcaf.ee\",\n",
    "    \"n.pr\", \"nyti.ms\", \"on.fb.me\", \"prsm.tc\", \"redd.it\", \"tnw.to\", \"twt.fi\", \"u.nu\", \"virl.io\", \"wapo.st\",\n",
    "    \"wp.me\", \"xrl.us\",  \"zurl.ws\", \"dlvr.it\", 'msft.it', \"lnkd.in \", 'spr.ly', 'rebelne.ws', 'scroll.in', 'ab.co',\n",
    "    'hubs.li', 'bbc.in', 'nature.ly', 'cbsn.ws' , 'brnw.ch', 'youtu.be'\n",
    "                ]\n",
    "\n",
    "# Set up a Requests session with retries\n",
    "session = requests.Session()\n",
    "headers = {\n",
    "    'User-Agent':'Mozilla/5.0 (Macintosh; Intel Mac OS X 10_14_6) AppleWebKit/537.36 (KHTML, like Gecko) Chrome/109.0.0.0 Safari/537.36',\n",
    "    'Accept': 'text/html,application/xhtml+xml,application/xml;q=0.9,image/webp,*/*;q=0.8',\n",
    "    'Accept-Encoding': 'gzip, deflate, br',\n",
    "    'Accept-Language': 'en-US,en;q=0.5',\n",
    "    'Connection': 'keep-alive',\n",
    "    'Upgrade-Insecure-Requests': '1',\n",
    "    'DNT': '1',\n",
    "    'referer': 'https://www.google.com/'\n",
    "}\n",
    "\n",
    "headers = {\n",
    "        'User-Agent':'Mozilla/5.0 (Macintosh; Intel Mac OS X 10_14_6) AppleWebKit/537.36 (KHTML, like Gecko) Chrome/109.0.0.0 Safari/537.36',\n",
    "        'referer':'https://google.com',\n",
    "        'DNT':'1'\n",
    "    }\n",
    "\n",
    "# session.headers.update(headers)\n",
    "retries = Retry(total=4, backoff_factor=1, status_forcelist=[502, 503, 504])\n",
    "session.mount('http://', HTTPAdapter(max_retries=retries))\n",
    "session.mount('https://', HTTPAdapter(max_retries=retries))\n",
    "\n",
    "def check_connection(host='http://www.google.com'):\n",
    "    try:\n",
    "        session.get(host, timeout=1)\n",
    "        return True\n",
    "    except (requests.ConnectionError, requests.Timeout):\n",
    "        return False\n",
    "\n",
    "def wait_for_connection(interval=30, max_attempts=10):\n",
    "    attempts = 0\n",
    "    while not check_connection() and attempts < max_attempts:\n",
    "        time.sleep(interval)\n",
    "        attempts += 1\n",
    "    return attempts < max_attempts\n",
    "\n",
    "def resolve_url_head(short_url):\n",
    "    if not wait_for_connection():\n",
    "        raise ConnectionError(\"Internet connection could not be re-established.\")\n",
    "    try:\n",
    "        response = requests.head(short_url, allow_redirects=True, timeout=1)\n",
    "        return response.url if response.status_code == 200 else short_url\n",
    "    except requests.RequestException:\n",
    "        return short_url\n",
    "    \n",
    "def resolve_url_get(short_url):\n",
    "    if not wait_for_connection():\n",
    "        raise ConnectionError(\"Internet connection could not be re-established.\")\n",
    "    try:\n",
    "        response = session.get(short_url, allow_redirects=True, timeout=5)\n",
    "        return response.url if response.status_code == 200 else short_url\n",
    "    except requests.RequestException:\n",
    "        return short_url\n",
    "    if not wait_for_connection():\n",
    "        raise ConnectionError(\"Internet connection could not be re-established.\")\n",
    "    try:\n",
    "        response = session.get(url=shortend_url, allow_redirects=True, timeout=1)        \n",
    "   \n",
    "    except requests.RequestException:\n",
    "        return None    \n",
    "    \n",
    "df['domain'] = df['domain'].apply(lambda x: tldextract.extract(x).domain + \".\" + tldextract.extract(x).suffix if x != 'self_post' else 'self_post')\n",
    "short_mask = df['domain'].isin(common_shorts)\n",
    "df.loc[short_mask, 'domain'] = df.loc[short_mask, 'link'].apply(lambda x: resolve_url_get(x)).apply(lambda x: tldextract.extract(x).domain + \".\" + tldextract.extract(x).suffix)"
   ]
  },
  {
   "cell_type": "code",
   "execution_count": 13,
   "metadata": {},
   "outputs": [
    {
     "data": {
      "text/plain": [
       "domain\n",
       "twitter.com             0.364782\n",
       "scored.co               0.263861\n",
       "patriots.win            0.160087\n",
       "self_post               0.033881\n",
       "thegatewaypundit.com    0.020408\n",
       "youtube.com             0.016724\n",
       "videy.co                0.009969\n",
       "rumble.com              0.009247\n",
       "breitbart.com           0.008813\n",
       "zerohedge.com           0.007694\n",
       "Name: proportion, dtype: float64"
      ]
     },
     "execution_count": 13,
     "metadata": {},
     "output_type": "execute_result"
    }
   ],
   "source": [
    "# The top 10 most-shared domains on The Ronald's landing page\n",
    "df.domain.value_counts(normalize=True).head(10)"
   ]
  },
  {
   "cell_type": "code",
   "execution_count": 14,
   "metadata": {},
   "outputs": [
    {
     "name": "stderr",
     "output_type": "stream",
     "text": [
      "/var/folders/f2/xbsrplkj23z71l_fw6890_hr0000gn/T/ipykernel_57757/1070751727.py:5: DeprecationWarning: DataFrameGroupBy.apply operated on the grouping columns. This behavior is deprecated, and in a future version of pandas the grouping columns will be excluded from the operation. Either pass `include_groups=False` to exclude the groupings or explicitly select the grouping columns after groupby to silence this warning.\n",
      "  df = df.groupby('created_date').apply(lambda x: x.nlargest(500, 'score_up')).reset_index(drop=True)\n"
     ]
    }
   ],
   "source": [
    "# Drop posts from 2024-07-21\n",
    "df = df[df['created_date'] != '2024-07-21']\n",
    "\n",
    "# Keep only the top 500 posts by \"score_up\" from each date so that the playing field is more leveled\n",
    "df = df.groupby('created_date').apply(lambda x: x.nlargest(500, 'score_up')).reset_index(drop=True)"
   ]
  },
  {
   "cell_type": "code",
   "execution_count": 15,
   "metadata": {},
   "outputs": [
    {
     "name": "stderr",
     "output_type": "stream",
     "text": [
      "/var/folders/f2/xbsrplkj23z71l_fw6890_hr0000gn/T/ipykernel_57757/3006735851.py:4: FutureWarning: A value is trying to be set on a copy of a DataFrame or Series through chained assignment using an inplace method.\n",
      "The behavior will change in pandas 3.0. This inplace method will never work because the intermediate object on which we are setting values always behaves as a copy.\n",
      "\n",
      "For example, when doing 'df[col].method(value, inplace=True)', try using 'df.method({col: value}, inplace=True)' or df[col] = df[col].method(value) instead, to perform the operation inplace on the original object.\n",
      "\n",
      "\n",
      "  df['twitter_handle'].fillna(np.nan, inplace=True)\n"
     ]
    },
    {
     "data": {
      "text/plain": [
       "twitter_handle\n",
       "elonmusk        312\n",
       "behizytweets    298\n",
       "endwokeness     201\n",
       "libsoftiktok    164\n",
       "bennyjohnson    121\n",
       "catturd2        120\n",
       "dc_draino       115\n",
       "immeme0         110\n",
       "trumpwarroom    110\n",
       "nicksortor      110\n",
       "Name: count, dtype: int64"
      ]
     },
     "execution_count": 15,
     "metadata": {},
     "output_type": "execute_result"
    }
   ],
   "source": [
    "# Extract twitter handles \n",
    "df[df.domain =='twitter.com'].link.str.split('/').str[3].str.lower()\n",
    "df.loc[df.domain == 'twitter.com', 'twitter_handle'] = df[df.domain == 'twitter.com'].link.str.split('/').str[3].str.lower()\n",
    "df['twitter_handle'].fillna(np.nan, inplace=True)\n",
    "\n",
    "# Top twitter handles mentioned\n",
    "df.value_counts('twitter_handle', ascending=False).head(10)"
   ]
  },
  {
   "cell_type": "code",
   "execution_count": 16,
   "metadata": {},
   "outputs": [
    {
     "data": {
      "text/plain": [
       "0       2024-07-22 21:37:08.297000-04:00\n",
       "1       2024-07-22 14:07:56.522000-04:00\n",
       "2       2024-07-22 02:27:55.264000-04:00\n",
       "3       2024-07-22 13:41:37.980000-04:00\n",
       "4       2024-07-22 01:18:06.352000-04:00\n",
       "                      ...               \n",
       "22739   2024-09-05 11:25:36.891000-04:00\n",
       "22740   2024-09-05 11:24:06.813000-04:00\n",
       "22741   2024-09-05 11:31:29.784000-04:00\n",
       "22742   2024-09-05 11:25:04.077000-04:00\n",
       "22743   2024-09-05 12:04:47.592000-04:00\n",
       "Name: created, Length: 22744, dtype: datetime64[ns, US/Eastern]"
      ]
     },
     "execution_count": 16,
     "metadata": {},
     "output_type": "execute_result"
    }
   ],
   "source": [
    "df.created"
   ]
  },
  {
   "cell_type": "code",
   "execution_count": 17,
   "metadata": {},
   "outputs": [
    {
     "data": {
      "text/html": [
       "<div>\n",
       "<style scoped>\n",
       "    .dataframe tbody tr th:only-of-type {\n",
       "        vertical-align: middle;\n",
       "    }\n",
       "\n",
       "    .dataframe tbody tr th {\n",
       "        vertical-align: top;\n",
       "    }\n",
       "\n",
       "    .dataframe thead th {\n",
       "        text-align: right;\n",
       "    }\n",
       "</style>\n",
       "<table border=\"1\" class=\"dataframe\">\n",
       "  <thead>\n",
       "    <tr style=\"text-align: right;\">\n",
       "      <th></th>\n",
       "      <th>title</th>\n",
       "      <th>score_up</th>\n",
       "      <th>comments</th>\n",
       "      <th>author</th>\n",
       "    </tr>\n",
       "  </thead>\n",
       "  <tbody>\n",
       "    <tr>\n",
       "      <th>1</th>\n",
       "      <td>&lt;a href=\"https://patriots.win/p/1994kCXhbT\"&gt;Elon Musk: I have never been materially active in politics before, but this time I think civilization as we know it is on the line. \\r\\n\\r\\nIf we want to preserve freedom and a meritocracy in America, then Trump must win.&lt;/a&gt;</td>\n",
       "      <td>2146</td>\n",
       "      <td>152</td>\n",
       "      <td>I-am-Orlando</td>\n",
       "    </tr>\n",
       "    <tr>\n",
       "      <th>2</th>\n",
       "      <td>&lt;a href=\"https://patriots.win/p/1994kDdtGY\"&gt;Kevin Sorbo: The media forgot about Biden so fast you’d think... 🔥&lt;/a&gt;</td>\n",
       "      <td>1758</td>\n",
       "      <td>58</td>\n",
       "      <td>I-am-Orlando</td>\n",
       "    </tr>\n",
       "    <tr>\n",
       "      <th>3</th>\n",
       "      <td>&lt;a href=\"https://patriots.win/p/1994kCXQ9a\"&gt;BREAKING: FBI says alleged Apalachee school shooter Colt Gray was investigated last year for making online threats to commit a school shooting.\\n\\n\"There was no probable cause for arrest.\"&lt;/a&gt;</td>\n",
       "      <td>1538</td>\n",
       "      <td>149</td>\n",
       "      <td>hocuspocusfocusjeep</td>\n",
       "    </tr>\n",
       "    <tr>\n",
       "      <th>4</th>\n",
       "      <td>&lt;a href=\"https://patriots.win/p/1994kCXQ9d\"&gt;Every. Single. Time.&lt;/a&gt;</td>\n",
       "      <td>1517</td>\n",
       "      <td>57</td>\n",
       "      <td>no_comment</td>\n",
       "    </tr>\n",
       "    <tr>\n",
       "      <th>5</th>\n",
       "      <td>&lt;a href=\"https://patriots.win/p/1994kCXymg\"&gt;“THERE IS NO CRIME.” I DID NOTHING WRONG. WITCH HUNT. RELEASE THE GAG ORDER!!!&lt;/a&gt;</td>\n",
       "      <td>1415</td>\n",
       "      <td>36</td>\n",
       "      <td>Trump_Is_My_Daddy</td>\n",
       "    </tr>\n",
       "    <tr>\n",
       "      <th>6</th>\n",
       "      <td>&lt;a href=\"https://patriots.win/p/1994kDeAeH\"&gt;Trump just formally accepted the endorsement from Tim Walz's entire family. “I was so honored today. His brother endorsed me.. and his whole family.\"&lt;/a&gt;</td>\n",
       "      <td>1257</td>\n",
       "      <td>66</td>\n",
       "      <td>no_comment</td>\n",
       "    </tr>\n",
       "    <tr>\n",
       "      <th>7</th>\n",
       "      <td>&lt;a href=\"https://patriots.win/p/1994kDeARm\"&gt;Wow. MASSIVE turnout for Tucker Carlson's Live show in Phoenix, AZ. People are more engaged now than ever. &lt;/a&gt;</td>\n",
       "      <td>1203</td>\n",
       "      <td>81</td>\n",
       "      <td>SALTYinSeattle</td>\n",
       "    </tr>\n",
       "    <tr>\n",
       "      <th>8</th>\n",
       "      <td>&lt;a href=\"https://patriots.win/p/1994kCXh8b\"&gt;Illegal Alien Arrested After Attacking Tennessee Man with Pickaxe – Victim Found “With Pickaxe Embedded in His Skull”&lt;/a&gt;</td>\n",
       "      <td>1113</td>\n",
       "      <td>69</td>\n",
       "      <td>rdvs34283</td>\n",
       "    </tr>\n",
       "    <tr>\n",
       "      <th>9</th>\n",
       "      <td>&lt;a href=\"https://patriots.win/p/1994kCXyaI\"&gt;Troon shooter questioned by FBI last year over threats. &lt;/a&gt;</td>\n",
       "      <td>1062</td>\n",
       "      <td>90</td>\n",
       "      <td>Pederella</td>\n",
       "    </tr>\n",
       "    <tr>\n",
       "      <th>10</th>\n",
       "      <td>&lt;a href=\"https://patriots.win/p/1994kCXhTC\"&gt;LIVE: Trump Town Hall With Sean Hannity &lt;/a&gt;</td>\n",
       "      <td>759</td>\n",
       "      <td>126</td>\n",
       "      <td>I-am-Orlando</td>\n",
       "    </tr>\n",
       "    <tr>\n",
       "      <th>11</th>\n",
       "      <td>&lt;a href=\"https://patriots.win/p/1994kCXQQ8\"&gt;I don’t remember Democrats calling for gun control and red flag laws after Trump was shot. \\n\\nDid I miss that?&lt;/a&gt;</td>\n",
       "      <td>692</td>\n",
       "      <td>13</td>\n",
       "      <td>blue5707</td>\n",
       "    </tr>\n",
       "    <tr>\n",
       "      <th>12</th>\n",
       "      <td>&lt;a href=\"https://patriots.win/p/1994kCXyWD\"&gt;How do you explain that?&lt;/a&gt;</td>\n",
       "      <td>670</td>\n",
       "      <td>41</td>\n",
       "      <td>rdvs34283</td>\n",
       "    </tr>\n",
       "    <tr>\n",
       "      <th>13</th>\n",
       "      <td>&lt;a href=\"https://patriots.win/p/1994kDeRlN\"&gt;JD Vance Reacts To Liz Cheney Endorsing Kamala Harris&lt;/a&gt;</td>\n",
       "      <td>643</td>\n",
       "      <td>28</td>\n",
       "      <td>no_comment</td>\n",
       "    </tr>\n",
       "    <tr>\n",
       "      <th>14</th>\n",
       "      <td>&lt;a href=\"https://patriots.win/p/1994kDfGi2\"&gt;Kamala announces her plan to tax capital gains at a rate higher than communist China (she'll also tax unrealized gains, expand the death tax, and add ANOTHER death tax — among many other tax hikes).\\n\\nAmericans can't afford Kamala Harris!&lt;/a&gt;</td>\n",
       "      <td>597</td>\n",
       "      <td>42</td>\n",
       "      <td>icehole3</td>\n",
       "    </tr>\n",
       "    <tr>\n",
       "      <th>15</th>\n",
       "      <td>&lt;a href=\"https://patriots.win/p/1994kDeioR\"&gt;LMAO we got the wrong Obama &lt;/a&gt;</td>\n",
       "      <td>569</td>\n",
       "      <td>40</td>\n",
       "      <td>BasedCostanza91</td>\n",
       "    </tr>\n",
       "    <tr>\n",
       "      <th>16</th>\n",
       "      <td>&lt;a href=\"https://patriots.win/p/1994kDfGZl\"&gt;CHILLING.......\\n&lt;/a&gt;</td>\n",
       "      <td>522</td>\n",
       "      <td>31</td>\n",
       "      <td>kinbergfan</td>\n",
       "    </tr>\n",
       "    <tr>\n",
       "      <th>17</th>\n",
       "      <td>&lt;a href=\"https://patriots.win/p/1994kCXQYO\"&gt;Omg! I love Mel Gibson! He fixes a strangers tire. What a man, what a man, what a mighty good man....&lt;/a&gt;</td>\n",
       "      <td>516</td>\n",
       "      <td>29</td>\n",
       "      <td>Patriotsrock4ever</td>\n",
       "    </tr>\n",
       "    <tr>\n",
       "      <th>18</th>\n",
       "      <td>&lt;a href=\"https://patriots.win/p/1994kDfGi4\"&gt;ABC Blackout May Prevent Over 11 Million People from Watching Trump and Kamala’s First Presidential Debate. DirectTV has blocked Walt Disney Company content, including ABC, as part of ongoing dispute. &lt;/a&gt;</td>\n",
       "      <td>510</td>\n",
       "      <td>54</td>\n",
       "      <td>rdvs34283</td>\n",
       "    </tr>\n",
       "    <tr>\n",
       "      <th>19</th>\n",
       "      <td>&lt;a href=\"https://patriots.win/p/1994kCXyNz\"&gt;Bret Weinstein: I've been a Democrat my whole life. I'm voting for Trump. Democratic Party is the party of war, racism, &amp; censorship.&lt;/a&gt;</td>\n",
       "      <td>435</td>\n",
       "      <td>14</td>\n",
       "      <td>rdvs34283</td>\n",
       "    </tr>\n",
       "    <tr>\n",
       "      <th>20</th>\n",
       "      <td>&lt;a href=\"https://patriots.win/p/1994kDezWp\"&gt;NOW - Shots fired outside Israeli consulate in Munich, Germany.&lt;/a&gt;</td>\n",
       "      <td>420</td>\n",
       "      <td>51</td>\n",
       "      <td>trees65</td>\n",
       "    </tr>\n",
       "  </tbody>\n",
       "</table>\n",
       "</div>"
      ],
      "text/plain": [
       "                                                                                                                                                                                                                                                                                              title  \\\n",
       "1                     <a href=\"https://patriots.win/p/1994kCXhbT\">Elon Musk: I have never been materially active in politics before, but this time I think civilization as we know it is on the line. \\r\\n\\r\\nIf we want to preserve freedom and a meritocracy in America, then Trump must win.</a>   \n",
       "2                                                                                                                                                                                <a href=\"https://patriots.win/p/1994kDdtGY\">Kevin Sorbo: The media forgot about Biden so fast you’d think... 🔥</a>   \n",
       "3                                                      <a href=\"https://patriots.win/p/1994kCXQ9a\">BREAKING: FBI says alleged Apalachee school shooter Colt Gray was investigated last year for making online threats to commit a school shooting.\\n\\n\"There was no probable cause for arrest.\"</a>   \n",
       "4                                                                                                                                                                                                                              <a href=\"https://patriots.win/p/1994kCXQ9d\">Every. Single. Time.</a>   \n",
       "5                                                                                                                                                                    <a href=\"https://patriots.win/p/1994kCXymg\">“THERE IS NO CRIME.” I DID NOTHING WRONG. WITCH HUNT. RELEASE THE GAG ORDER!!!</a>   \n",
       "6                                                                                             <a href=\"https://patriots.win/p/1994kDeAeH\">Trump just formally accepted the endorsement from Tim Walz's entire family. “I was so honored today. His brother endorsed me.. and his whole family.\"</a>   \n",
       "7                                                                                                                                       <a href=\"https://patriots.win/p/1994kDeARm\">Wow. MASSIVE turnout for Tucker Carlson's Live show in Phoenix, AZ. People are more engaged now than ever. </a>   \n",
       "8                                                                                                                             <a href=\"https://patriots.win/p/1994kCXh8b\">Illegal Alien Arrested After Attacking Tennessee Man with Pickaxe – Victim Found “With Pickaxe Embedded in His Skull”</a>   \n",
       "9                                                                                                                                                                                          <a href=\"https://patriots.win/p/1994kCXyaI\">Troon shooter questioned by FBI last year over threats. </a>   \n",
       "10                                                                                                                                                                                                         <a href=\"https://patriots.win/p/1994kCXhTC\">LIVE: Trump Town Hall With Sean Hannity </a>   \n",
       "11                                                                                                                                  <a href=\"https://patriots.win/p/1994kCXQQ8\">I don’t remember Democrats calling for gun control and red flag laws after Trump was shot. \\n\\nDid I miss that?</a>   \n",
       "12                                                                                                                                                                                                                         <a href=\"https://patriots.win/p/1994kCXyWD\">How do you explain that?</a>   \n",
       "13                                                                                                                                                                                            <a href=\"https://patriots.win/p/1994kDeRlN\">JD Vance Reacts To Liz Cheney Endorsing Kamala Harris</a>   \n",
       "14  <a href=\"https://patriots.win/p/1994kDfGi2\">Kamala announces her plan to tax capital gains at a rate higher than communist China (she'll also tax unrealized gains, expand the death tax, and add ANOTHER death tax — among many other tax hikes).\\n\\nAmericans can't afford Kamala Harris!</a>   \n",
       "15                                                                                                                                                                                                                     <a href=\"https://patriots.win/p/1994kDeioR\">LMAO we got the wrong Obama </a>   \n",
       "16                                                                                                                                                                                                                                <a href=\"https://patriots.win/p/1994kDfGZl\">CHILLING.......\\n</a>   \n",
       "17                                                                                                                                            <a href=\"https://patriots.win/p/1994kCXQYO\">Omg! I love Mel Gibson! He fixes a strangers tire. What a man, what a man, what a mighty good man....</a>   \n",
       "18                                        <a href=\"https://patriots.win/p/1994kDfGi4\">ABC Blackout May Prevent Over 11 Million People from Watching Trump and Kamala’s First Presidential Debate. DirectTV has blocked Walt Disney Company content, including ABC, as part of ongoing dispute. </a>   \n",
       "19                                                                                                            <a href=\"https://patriots.win/p/1994kCXyNz\">Bret Weinstein: I've been a Democrat my whole life. I'm voting for Trump. Democratic Party is the party of war, racism, & censorship.</a>   \n",
       "20                                                                                                                                                                                  <a href=\"https://patriots.win/p/1994kDezWp\">NOW - Shots fired outside Israeli consulate in Munich, Germany.</a>   \n",
       "\n",
       "    score_up  comments               author  \n",
       "1       2146       152         I-am-Orlando  \n",
       "2       1758        58         I-am-Orlando  \n",
       "3       1538       149  hocuspocusfocusjeep  \n",
       "4       1517        57           no_comment  \n",
       "5       1415        36    Trump_Is_My_Daddy  \n",
       "6       1257        66           no_comment  \n",
       "7       1203        81       SALTYinSeattle  \n",
       "8       1113        69            rdvs34283  \n",
       "9       1062        90            Pederella  \n",
       "10       759       126         I-am-Orlando  \n",
       "11       692        13             blue5707  \n",
       "12       670        41            rdvs34283  \n",
       "13       643        28           no_comment  \n",
       "14       597        42             icehole3  \n",
       "15       569        40      BasedCostanza91  \n",
       "16       522        31           kinbergfan  \n",
       "17       516        29    Patriotsrock4ever  \n",
       "18       510        54            rdvs34283  \n",
       "19       435        14            rdvs34283  \n",
       "20       420        51              trees65  "
      ]
     },
     "execution_count": 17,
     "metadata": {},
     "output_type": "execute_result"
    }
   ],
   "source": [
    "# A function that returns the top posts in interactive format\n",
    "    \n",
    "def top_posts_lastNdays(num, Ndays, save_table=False):\n",
    "    end_date = datetime.datetime.now()\n",
    "    start_date = end_date - datetime.timedelta(days=Ndays)\n",
    "    top_posts = df[df.created_date >= start_date].nlargest(num,'score_up')\n",
    "    top_posts['post_link'] = \"https://patriots.win/p/\" + top_posts['uuid']\n",
    "    top_posts['title'] = top_posts.apply(lambda row: f'<a href=\"{row[\"post_link\"]}\">{row[\"title\"]}</a>', axis=1)\n",
    "    top_posts = top_posts[['title', \n",
    "                           'score_up', \n",
    "                           'comments', \n",
    "                           'author'\n",
    "                           ]]\n",
    "    \n",
    "    \n",
    "    top_posts = top_posts.reset_index().drop(columns='index')\n",
    "    top_posts.index = np.arange(1, len(top_posts)+1)\n",
    "\n",
    "    if save_table:\n",
    "        html_content = top_posts.to_html(render_links=True, \n",
    "                                         justify='center', \n",
    "                                         escape=False,\n",
    "                                         classes='table table-striped table-hover', \n",
    "                                         table_id='my_table')\n",
    "        \n",
    "        with open(f'viz/most_popular_posts_in_the_last_day(s).html', \"w\") as html_file:\n",
    "            html_file.write(f\"\"\"\n",
    "                <html>\n",
    "                <head>\n",
    "                <link rel=\"stylesheet\" type=\"text/css\" href=\"https://cdn.datatables.net/1.10.21/css/jquery.dataTables.css\">\n",
    "                <script type=\"text/javascript\" charset=\"utf8\" src=\"https://code.jquery.com/jquery-3.5.1.js\"></script>\n",
    "                <script type=\"text/javascript\" charset=\"utf8\" src=\"https://cdn.datatables.net/1.10.21/js/jquery.dataTables.js\"></script>\n",
    "                <script>\n",
    "                $(document).ready( function () {{\n",
    "                    $('#my_table').DataTable();\n",
    "                }} );\n",
    "                </script>\n",
    "                </head>\n",
    "                <body>\n",
    "                {html_content}\n",
    "                </body>\n",
    "                </html>\n",
    "            \"\"\")\n",
    "                                         \n",
    "    return top_posts\n",
    "\n",
    "\n",
    "top_posts_lastNdays(num=20, Ndays=1, save_table=True)"
   ]
  },
  {
   "cell_type": "code",
   "execution_count": 18,
   "metadata": {},
   "outputs": [
    {
     "data": {
      "text/plain": [
       "author\n",
       "rdvs34283              25\n",
       "kinbergfan             19\n",
       "icehole3               15\n",
       "TheOne1                 7\n",
       "JTIM                    6\n",
       "SirThinksAlot           6\n",
       "I-am-Orlando            6\n",
       "FBJ_WoodChipper         5\n",
       "kek_saved_the_world     4\n",
       "perma-maga              4\n",
       "Name: count, dtype: int64"
      ]
     },
     "execution_count": 18,
     "metadata": {},
     "output_type": "execute_result"
    }
   ],
   "source": [
    "def top_authors_lastNdays(num, Ndays):\n",
    "    end_date = datetime.datetime.now()\n",
    "    start_date = end_date - datetime.timedelta(days=Ndays)\n",
    "\n",
    "    return df[df.created_date >=  start_date].author.value_counts().head(num)\n",
    "\n",
    "top_authors_lastNdays(num=10, Ndays=1)"
   ]
  },
  {
   "cell_type": "code",
   "execution_count": 19,
   "metadata": {},
   "outputs": [
    {
     "name": "stderr",
     "output_type": "stream",
     "text": [
      "[nltk_data] Downloading package wordnet to\n",
      "[nltk_data]     /Users/keenansmacbookairm3/nltk_data...\n",
      "[nltk_data]   Package wordnet is already up-to-date!\n"
     ]
    }
   ],
   "source": [
    "import spacy\n",
    "import nltk\n",
    "nltk.download('wordnet')\n",
    "from nltk import bigrams, trigrams\n",
    "nlp = spacy.load('en_core_web_lg')\n",
    "stopwords = list(nlp.Defaults.stop_words) \n",
    "stopwords.extend([\"ago\", 'old'])\n",
    "\n",
    "import contractions\n",
    "import emoji\n",
    "import re\n",
    "\n",
    "\n",
    "\n",
    "def clean_it_all_up (text, extra_stops):\n",
    "    text = emoji.replace_emoji(text)\n",
    "    text = contractions.fix(text)\n",
    "    text = re.sub(r'\\W+', ' ', text)\n",
    "    doc = nlp(text)\n",
    "    lemmatized_tokens = []\n",
    "    \n",
    "    for token in doc:\n",
    "        if (\n",
    "            token.text.lower() not in stopwords \n",
    "            and (extra_stops is None or token.text.lower() not in extra_stops) \n",
    "            # and token.pos_ in {'NOUN', 'PROPN', 'VERB', 'ADJ'} \n",
    "            # and token.ent_type_ not in {'GPE', 'LOC'}\n",
    "            and token.pos_ not in {\"AUX\",\n",
    "                                   \"ADP\",\n",
    "                                   \"CONJ\", \n",
    "                                   \"CCONJ\", \n",
    "                                   \"DET\", \n",
    "                                   \"INTJ\", \n",
    "                                   \"PART\", \n",
    "                                   \"PUNCT\",\n",
    "                                   \"SCONJ\", \n",
    "                                   \"SYM\", \n",
    "                                   \"X\", \n",
    "                                   \"SPACE\"}\n",
    "        ):\n",
    "          \n",
    "            \n",
    "            lemmatized_tokens.append(token.lemma_.lower())\n",
    "            \n",
    "    return \" \".join(lemmatized_tokens)   \n"
   ]
  },
  {
   "cell_type": "code",
   "execution_count": 20,
   "metadata": {},
   "outputs": [],
   "source": [
    "def date_selection(start_date, end_date):\n",
    "    start_date = datetime.datetime.strptime(start_date, \"%Y-%m-%d\")\n",
    "    end_date = end_date = datetime.datetime.strptime(end_date, \"%Y-%m-%d\")\n",
    "\n",
    "    date_list = []\n",
    "    current_date = start_date\n",
    "    date_list.append(current_date.strftime('%Y-%m-%d'))\n",
    "\n",
    "    while current_date < end_date:\n",
    "        next_date = current_date + datetime.timedelta(days=1)\n",
    "        next_date = next_date\n",
    "        if next_date >= end_date:\n",
    "            next_date = end_date\n",
    "        date_list.append(next_date.strftime('%Y-%m-%d'))\n",
    "        current_date = next_date\n",
    "\n",
    "    return date_list\n"
   ]
  },
  {
   "cell_type": "code",
   "execution_count": 21,
   "metadata": {},
   "outputs": [],
   "source": [
    "def ngram_generator(dataframe, num, start_date, end_date, extra_stops, top_n=None):\n",
    "    \n",
    "    date_list = date_selection(start_date, end_date)\n",
    "\n",
    "    cleaned_tokens = ' '.join(dataframe[dataframe.created_date.isin(date_list)]['title'].apply(lambda x: clean_it_all_up(x, extra_stops)).tolist())\n",
    "\n",
    "    if num == 1:\n",
    "        ngram = pd.Series(cleaned_tokens.split()).value_counts()\n",
    "    elif num == 2:\n",
    "        ngram = pd.Series(list(bigrams(cleaned_tokens.split()))).value_counts()\n",
    "    elif num == 3:\n",
    "        ngram = pd.Series(list(trigrams(cleaned_tokens.split()))).value_counts()\n",
    "    else:\n",
    "        raise ValueError('Invalid number. Must choose between 1, 2, or 3.')\n",
    "    \n",
    "    ngram = ngram[ngram > 1].head(top_n)\n",
    "    return ngram\n"
   ]
  },
  {
   "cell_type": "code",
   "execution_count": 22,
   "metadata": {},
   "outputs": [],
   "source": [
    "# Function of returning top ngrams from the past 24 hours\n",
    "\n",
    "def ngram_generator_24hrs(dataframe, num, extra_stops, top_n=None):\n",
    "    end_date = datetime.datetime.now()\n",
    "    start_date = end_date - datetime.timedelta(days=1)\n",
    "    \n",
    "    start_date = start_date.strftime(\"%Y-%m-%d\")\n",
    "    end_date = end_date.strftime(\"%Y-%m-%d\")\n",
    "    \n",
    "    return ngram_generator(dataframe, num, start_date, end_date, extra_stops, top_n)"
   ]
  },
  {
   "cell_type": "code",
   "execution_count": 23,
   "metadata": {},
   "outputs": [
    {
     "name": "stderr",
     "output_type": "stream",
     "text": [
      "/var/folders/f2/xbsrplkj23z71l_fw6890_hr0000gn/T/ipykernel_57757/2951235605.py:5: FutureWarning: The behavior of 'isin' with dtype=datetime64[ns] and castable values (e.g. strings) is deprecated. In a future version, these will not be considered matching by isin. Explicitly cast to the appropriate dtype before calling isin instead.\n",
      "  cleaned_tokens = ' '.join(dataframe[dataframe.created_date.isin(date_list)]['title'].apply(lambda x: clean_it_all_up(x, extra_stops)).tolist())\n"
     ]
    },
    {
     "data": {
      "text/plain": [
       "(kamala, harris)            39\n",
       "(tim, walz)                 20\n",
       "(secret, service)           10\n",
       "(biden, harris)              9\n",
       "(fani, willis)               8\n",
       "(paul, harrell)              8\n",
       "(illegal, alien)             7\n",
       "(2024, election)             7\n",
       "(liz, cheney)                7\n",
       "(social, medium)             6\n",
       "(high, school)               6\n",
       "(school, shooter)            6\n",
       "(rfk, jr)                    6\n",
       "(elon, musk)                 6\n",
       "(united, states)             6\n",
       "(new, york)                  6\n",
       "(assassination, attempt)     6\n",
       "(suspend, license)           5\n",
       "(supreme, court)             5\n",
       "(election, interference)     5\n",
       "(chinese, spy)               4\n",
       "(malik, obama)               4\n",
       "(white, house)               4\n",
       "(republican, vote)           4\n",
       "(covid, 19)                  4\n",
       "(nathan, wade)               4\n",
       "(venezuelan, gang)           4\n",
       "(fake, news)                 4\n",
       "(taylor, swift)              4\n",
       "(rip, paul)                  4\n",
       "(whistleblower, tell)        4\n",
       "(tax, dollar)                4\n",
       "(hour, online)               4\n",
       "(2, hour)                    4\n",
       "(georgia, school)            4\n",
       "(250, million)               4\n",
       "(vice, president)            4\n",
       "(school, shooting)           4\n",
       "(daughter, kinaya)           4\n",
       "(entire, family)             4\n",
       "(drive, suspend)             4\n",
       "(russian, influence)         4\n",
       "(colt, gray)                 3\n",
       "(drop, box)                  3\n",
       "(willis, daughter)           3\n",
       "(take, money)                3\n",
       "(support, kamala)            3\n",
       "(de, moraes)                 3\n",
       "(biden, administration)      3\n",
       "(receive, 2)                 3\n",
       "Name: count, dtype: int64"
      ]
     },
     "execution_count": 23,
     "metadata": {},
     "output_type": "execute_result"
    }
   ],
   "source": [
    "dataframe = df\n",
    "num = 2\n",
    "top_n = 50\n",
    "extra_stops=['trump']\n",
    "\n",
    "top_50_bigrams_24hours = ngram_generator_24hrs(dataframe= dataframe, num=num, top_n=top_n, extra_stops=extra_stops )\n",
    "top_50_bigrams_24hours"
   ]
  },
  {
   "cell_type": "code",
   "execution_count": 24,
   "metadata": {},
   "outputs": [
    {
     "data": {
      "text/html": [
       "<div>\n",
       "<style scoped>\n",
       "    .dataframe tbody tr th:only-of-type {\n",
       "        vertical-align: middle;\n",
       "    }\n",
       "\n",
       "    .dataframe tbody tr th {\n",
       "        vertical-align: top;\n",
       "    }\n",
       "\n",
       "    .dataframe thead th {\n",
       "        text-align: right;\n",
       "    }\n",
       "</style>\n",
       "<table border=\"1\" class=\"dataframe\">\n",
       "  <thead>\n",
       "    <tr style=\"text-align: right;\">\n",
       "      <th></th>\n",
       "      <th>bigrams</th>\n",
       "      <th>frequncy</th>\n",
       "    </tr>\n",
       "  </thead>\n",
       "  <tbody>\n",
       "    <tr>\n",
       "      <th>1</th>\n",
       "      <td>(kamala, harris)</td>\n",
       "      <td>39</td>\n",
       "    </tr>\n",
       "    <tr>\n",
       "      <th>2</th>\n",
       "      <td>(tim, walz)</td>\n",
       "      <td>20</td>\n",
       "    </tr>\n",
       "    <tr>\n",
       "      <th>3</th>\n",
       "      <td>(secret, service)</td>\n",
       "      <td>10</td>\n",
       "    </tr>\n",
       "    <tr>\n",
       "      <th>4</th>\n",
       "      <td>(biden, harris)</td>\n",
       "      <td>9</td>\n",
       "    </tr>\n",
       "    <tr>\n",
       "      <th>5</th>\n",
       "      <td>(fani, willis)</td>\n",
       "      <td>8</td>\n",
       "    </tr>\n",
       "    <tr>\n",
       "      <th>6</th>\n",
       "      <td>(paul, harrell)</td>\n",
       "      <td>8</td>\n",
       "    </tr>\n",
       "    <tr>\n",
       "      <th>7</th>\n",
       "      <td>(illegal, alien)</td>\n",
       "      <td>7</td>\n",
       "    </tr>\n",
       "    <tr>\n",
       "      <th>8</th>\n",
       "      <td>(2024, election)</td>\n",
       "      <td>7</td>\n",
       "    </tr>\n",
       "    <tr>\n",
       "      <th>9</th>\n",
       "      <td>(liz, cheney)</td>\n",
       "      <td>7</td>\n",
       "    </tr>\n",
       "    <tr>\n",
       "      <th>10</th>\n",
       "      <td>(social, medium)</td>\n",
       "      <td>6</td>\n",
       "    </tr>\n",
       "    <tr>\n",
       "      <th>11</th>\n",
       "      <td>(high, school)</td>\n",
       "      <td>6</td>\n",
       "    </tr>\n",
       "    <tr>\n",
       "      <th>12</th>\n",
       "      <td>(school, shooter)</td>\n",
       "      <td>6</td>\n",
       "    </tr>\n",
       "    <tr>\n",
       "      <th>13</th>\n",
       "      <td>(rfk, jr)</td>\n",
       "      <td>6</td>\n",
       "    </tr>\n",
       "    <tr>\n",
       "      <th>14</th>\n",
       "      <td>(elon, musk)</td>\n",
       "      <td>6</td>\n",
       "    </tr>\n",
       "    <tr>\n",
       "      <th>15</th>\n",
       "      <td>(united, states)</td>\n",
       "      <td>6</td>\n",
       "    </tr>\n",
       "    <tr>\n",
       "      <th>16</th>\n",
       "      <td>(new, york)</td>\n",
       "      <td>6</td>\n",
       "    </tr>\n",
       "    <tr>\n",
       "      <th>17</th>\n",
       "      <td>(assassination, attempt)</td>\n",
       "      <td>6</td>\n",
       "    </tr>\n",
       "    <tr>\n",
       "      <th>18</th>\n",
       "      <td>(suspend, license)</td>\n",
       "      <td>5</td>\n",
       "    </tr>\n",
       "    <tr>\n",
       "      <th>19</th>\n",
       "      <td>(supreme, court)</td>\n",
       "      <td>5</td>\n",
       "    </tr>\n",
       "    <tr>\n",
       "      <th>20</th>\n",
       "      <td>(election, interference)</td>\n",
       "      <td>5</td>\n",
       "    </tr>\n",
       "    <tr>\n",
       "      <th>21</th>\n",
       "      <td>(chinese, spy)</td>\n",
       "      <td>4</td>\n",
       "    </tr>\n",
       "    <tr>\n",
       "      <th>22</th>\n",
       "      <td>(malik, obama)</td>\n",
       "      <td>4</td>\n",
       "    </tr>\n",
       "    <tr>\n",
       "      <th>23</th>\n",
       "      <td>(white, house)</td>\n",
       "      <td>4</td>\n",
       "    </tr>\n",
       "    <tr>\n",
       "      <th>24</th>\n",
       "      <td>(republican, vote)</td>\n",
       "      <td>4</td>\n",
       "    </tr>\n",
       "    <tr>\n",
       "      <th>25</th>\n",
       "      <td>(covid, 19)</td>\n",
       "      <td>4</td>\n",
       "    </tr>\n",
       "    <tr>\n",
       "      <th>26</th>\n",
       "      <td>(nathan, wade)</td>\n",
       "      <td>4</td>\n",
       "    </tr>\n",
       "    <tr>\n",
       "      <th>27</th>\n",
       "      <td>(venezuelan, gang)</td>\n",
       "      <td>4</td>\n",
       "    </tr>\n",
       "    <tr>\n",
       "      <th>28</th>\n",
       "      <td>(fake, news)</td>\n",
       "      <td>4</td>\n",
       "    </tr>\n",
       "    <tr>\n",
       "      <th>29</th>\n",
       "      <td>(taylor, swift)</td>\n",
       "      <td>4</td>\n",
       "    </tr>\n",
       "    <tr>\n",
       "      <th>30</th>\n",
       "      <td>(rip, paul)</td>\n",
       "      <td>4</td>\n",
       "    </tr>\n",
       "    <tr>\n",
       "      <th>31</th>\n",
       "      <td>(whistleblower, tell)</td>\n",
       "      <td>4</td>\n",
       "    </tr>\n",
       "    <tr>\n",
       "      <th>32</th>\n",
       "      <td>(tax, dollar)</td>\n",
       "      <td>4</td>\n",
       "    </tr>\n",
       "    <tr>\n",
       "      <th>33</th>\n",
       "      <td>(hour, online)</td>\n",
       "      <td>4</td>\n",
       "    </tr>\n",
       "    <tr>\n",
       "      <th>34</th>\n",
       "      <td>(2, hour)</td>\n",
       "      <td>4</td>\n",
       "    </tr>\n",
       "    <tr>\n",
       "      <th>35</th>\n",
       "      <td>(georgia, school)</td>\n",
       "      <td>4</td>\n",
       "    </tr>\n",
       "    <tr>\n",
       "      <th>36</th>\n",
       "      <td>(250, million)</td>\n",
       "      <td>4</td>\n",
       "    </tr>\n",
       "    <tr>\n",
       "      <th>37</th>\n",
       "      <td>(vice, president)</td>\n",
       "      <td>4</td>\n",
       "    </tr>\n",
       "    <tr>\n",
       "      <th>38</th>\n",
       "      <td>(school, shooting)</td>\n",
       "      <td>4</td>\n",
       "    </tr>\n",
       "    <tr>\n",
       "      <th>39</th>\n",
       "      <td>(daughter, kinaya)</td>\n",
       "      <td>4</td>\n",
       "    </tr>\n",
       "    <tr>\n",
       "      <th>40</th>\n",
       "      <td>(entire, family)</td>\n",
       "      <td>4</td>\n",
       "    </tr>\n",
       "    <tr>\n",
       "      <th>41</th>\n",
       "      <td>(drive, suspend)</td>\n",
       "      <td>4</td>\n",
       "    </tr>\n",
       "    <tr>\n",
       "      <th>42</th>\n",
       "      <td>(russian, influence)</td>\n",
       "      <td>4</td>\n",
       "    </tr>\n",
       "    <tr>\n",
       "      <th>43</th>\n",
       "      <td>(colt, gray)</td>\n",
       "      <td>3</td>\n",
       "    </tr>\n",
       "    <tr>\n",
       "      <th>44</th>\n",
       "      <td>(drop, box)</td>\n",
       "      <td>3</td>\n",
       "    </tr>\n",
       "    <tr>\n",
       "      <th>45</th>\n",
       "      <td>(willis, daughter)</td>\n",
       "      <td>3</td>\n",
       "    </tr>\n",
       "    <tr>\n",
       "      <th>46</th>\n",
       "      <td>(take, money)</td>\n",
       "      <td>3</td>\n",
       "    </tr>\n",
       "    <tr>\n",
       "      <th>47</th>\n",
       "      <td>(support, kamala)</td>\n",
       "      <td>3</td>\n",
       "    </tr>\n",
       "    <tr>\n",
       "      <th>48</th>\n",
       "      <td>(de, moraes)</td>\n",
       "      <td>3</td>\n",
       "    </tr>\n",
       "    <tr>\n",
       "      <th>49</th>\n",
       "      <td>(biden, administration)</td>\n",
       "      <td>3</td>\n",
       "    </tr>\n",
       "    <tr>\n",
       "      <th>50</th>\n",
       "      <td>(receive, 2)</td>\n",
       "      <td>3</td>\n",
       "    </tr>\n",
       "  </tbody>\n",
       "</table>\n",
       "</div>"
      ],
      "text/plain": [
       "                     bigrams  frequncy\n",
       "1           (kamala, harris)        39\n",
       "2                (tim, walz)        20\n",
       "3          (secret, service)        10\n",
       "4            (biden, harris)         9\n",
       "5             (fani, willis)         8\n",
       "6            (paul, harrell)         8\n",
       "7           (illegal, alien)         7\n",
       "8           (2024, election)         7\n",
       "9              (liz, cheney)         7\n",
       "10          (social, medium)         6\n",
       "11            (high, school)         6\n",
       "12         (school, shooter)         6\n",
       "13                 (rfk, jr)         6\n",
       "14              (elon, musk)         6\n",
       "15          (united, states)         6\n",
       "16               (new, york)         6\n",
       "17  (assassination, attempt)         6\n",
       "18        (suspend, license)         5\n",
       "19          (supreme, court)         5\n",
       "20  (election, interference)         5\n",
       "21            (chinese, spy)         4\n",
       "22            (malik, obama)         4\n",
       "23            (white, house)         4\n",
       "24        (republican, vote)         4\n",
       "25               (covid, 19)         4\n",
       "26            (nathan, wade)         4\n",
       "27        (venezuelan, gang)         4\n",
       "28              (fake, news)         4\n",
       "29           (taylor, swift)         4\n",
       "30               (rip, paul)         4\n",
       "31     (whistleblower, tell)         4\n",
       "32             (tax, dollar)         4\n",
       "33            (hour, online)         4\n",
       "34                 (2, hour)         4\n",
       "35         (georgia, school)         4\n",
       "36            (250, million)         4\n",
       "37         (vice, president)         4\n",
       "38        (school, shooting)         4\n",
       "39        (daughter, kinaya)         4\n",
       "40          (entire, family)         4\n",
       "41          (drive, suspend)         4\n",
       "42      (russian, influence)         4\n",
       "43              (colt, gray)         3\n",
       "44               (drop, box)         3\n",
       "45        (willis, daughter)         3\n",
       "46             (take, money)         3\n",
       "47         (support, kamala)         3\n",
       "48              (de, moraes)         3\n",
       "49   (biden, administration)         3\n",
       "50              (receive, 2)         3"
      ]
     },
     "execution_count": 24,
     "metadata": {},
     "output_type": "execute_result"
    }
   ],
   "source": [
    "top_50_bigrams_24hours_df = pd.DataFrame(top_50_bigrams_24hours).reset_index()\n",
    "\n",
    "top_50_bigrams_24hours_df.index = np.arange(1, len(top_50_bigrams_24hours_df)+1)\n",
    "\n",
    "top_50_bigrams_24hours_df.rename(columns={\"index\":'bigrams', 'count':'frequncy'}, inplace=True)\n",
    "\n",
    "top_50_bigrams_24hours_df"
   ]
  },
  {
   "cell_type": "code",
   "execution_count": 25,
   "metadata": {},
   "outputs": [],
   "source": [
    "def save_interactive_table(dataframe, save_filename):\n",
    "    html_content = dataframe.to_html(render_links=True, \n",
    "                                         justify='center', \n",
    "                                         escape=False,\n",
    "                                         classes='table table-striped table-hover', \n",
    "                                         table_id='my_table')\n",
    "    with open(f'viz/{save_filename}.html', \"w\") as html_file:\n",
    "         html_file.write(f\"\"\"\n",
    "                <html>\n",
    "                <head>\n",
    "                <link rel=\"stylesheet\" type=\"text/css\" href=\"https://cdn.datatables.net/1.10.21/css/jquery.dataTables.css\">\n",
    "                <script type=\"text/javascript\" charset=\"utf8\" src=\"https://code.jquery.com/jquery-3.5.1.js\"></script>\n",
    "                <script type=\"text/javascript\" charset=\"utf8\" src=\"https://cdn.datatables.net/1.10.21/js/jquery.dataTables.js\"></script>\n",
    "                <script>\n",
    "                $(document).ready( function () {{\n",
    "                    $('#my_table').DataTable();\n",
    "                }} );\n",
    "                </script>\n",
    "                </head>\n",
    "                <body>\n",
    "                {html_content}\n",
    "                </body>\n",
    "                </html>\n",
    "            \"\"\")\n",
    "         \n",
    "         return html_content"
   ]
  },
  {
   "cell_type": "code",
   "execution_count": 26,
   "metadata": {},
   "outputs": [
    {
     "data": {
      "text/plain": [
       "'<table border=\"1\" class=\"dataframe table table-striped table-hover\" id=\"my_table\">\\n  <thead>\\n    <tr style=\"text-align: center;\">\\n      <th></th>\\n      <th>bigrams</th>\\n      <th>frequncy</th>\\n    </tr>\\n  </thead>\\n  <tbody>\\n    <tr>\\n      <th>1</th>\\n      <td>(kamala, harris)</td>\\n      <td>39</td>\\n    </tr>\\n    <tr>\\n      <th>2</th>\\n      <td>(tim, walz)</td>\\n      <td>20</td>\\n    </tr>\\n    <tr>\\n      <th>3</th>\\n      <td>(secret, service)</td>\\n      <td>10</td>\\n    </tr>\\n    <tr>\\n      <th>4</th>\\n      <td>(biden, harris)</td>\\n      <td>9</td>\\n    </tr>\\n    <tr>\\n      <th>5</th>\\n      <td>(fani, willis)</td>\\n      <td>8</td>\\n    </tr>\\n    <tr>\\n      <th>6</th>\\n      <td>(paul, harrell)</td>\\n      <td>8</td>\\n    </tr>\\n    <tr>\\n      <th>7</th>\\n      <td>(illegal, alien)</td>\\n      <td>7</td>\\n    </tr>\\n    <tr>\\n      <th>8</th>\\n      <td>(2024, election)</td>\\n      <td>7</td>\\n    </tr>\\n    <tr>\\n      <th>9</th>\\n      <td>(liz, cheney)</td>\\n      <td>7</td>\\n    </tr>\\n    <tr>\\n      <th>10</th>\\n      <td>(social, medium)</td>\\n      <td>6</td>\\n    </tr>\\n    <tr>\\n      <th>11</th>\\n      <td>(high, school)</td>\\n      <td>6</td>\\n    </tr>\\n    <tr>\\n      <th>12</th>\\n      <td>(school, shooter)</td>\\n      <td>6</td>\\n    </tr>\\n    <tr>\\n      <th>13</th>\\n      <td>(rfk, jr)</td>\\n      <td>6</td>\\n    </tr>\\n    <tr>\\n      <th>14</th>\\n      <td>(elon, musk)</td>\\n      <td>6</td>\\n    </tr>\\n    <tr>\\n      <th>15</th>\\n      <td>(united, states)</td>\\n      <td>6</td>\\n    </tr>\\n    <tr>\\n      <th>16</th>\\n      <td>(new, york)</td>\\n      <td>6</td>\\n    </tr>\\n    <tr>\\n      <th>17</th>\\n      <td>(assassination, attempt)</td>\\n      <td>6</td>\\n    </tr>\\n    <tr>\\n      <th>18</th>\\n      <td>(suspend, license)</td>\\n      <td>5</td>\\n    </tr>\\n    <tr>\\n      <th>19</th>\\n      <td>(supreme, court)</td>\\n      <td>5</td>\\n    </tr>\\n    <tr>\\n      <th>20</th>\\n      <td>(election, interference)</td>\\n      <td>5</td>\\n    </tr>\\n    <tr>\\n      <th>21</th>\\n      <td>(chinese, spy)</td>\\n      <td>4</td>\\n    </tr>\\n    <tr>\\n      <th>22</th>\\n      <td>(malik, obama)</td>\\n      <td>4</td>\\n    </tr>\\n    <tr>\\n      <th>23</th>\\n      <td>(white, house)</td>\\n      <td>4</td>\\n    </tr>\\n    <tr>\\n      <th>24</th>\\n      <td>(republican, vote)</td>\\n      <td>4</td>\\n    </tr>\\n    <tr>\\n      <th>25</th>\\n      <td>(covid, 19)</td>\\n      <td>4</td>\\n    </tr>\\n    <tr>\\n      <th>26</th>\\n      <td>(nathan, wade)</td>\\n      <td>4</td>\\n    </tr>\\n    <tr>\\n      <th>27</th>\\n      <td>(venezuelan, gang)</td>\\n      <td>4</td>\\n    </tr>\\n    <tr>\\n      <th>28</th>\\n      <td>(fake, news)</td>\\n      <td>4</td>\\n    </tr>\\n    <tr>\\n      <th>29</th>\\n      <td>(taylor, swift)</td>\\n      <td>4</td>\\n    </tr>\\n    <tr>\\n      <th>30</th>\\n      <td>(rip, paul)</td>\\n      <td>4</td>\\n    </tr>\\n    <tr>\\n      <th>31</th>\\n      <td>(whistleblower, tell)</td>\\n      <td>4</td>\\n    </tr>\\n    <tr>\\n      <th>32</th>\\n      <td>(tax, dollar)</td>\\n      <td>4</td>\\n    </tr>\\n    <tr>\\n      <th>33</th>\\n      <td>(hour, online)</td>\\n      <td>4</td>\\n    </tr>\\n    <tr>\\n      <th>34</th>\\n      <td>(2, hour)</td>\\n      <td>4</td>\\n    </tr>\\n    <tr>\\n      <th>35</th>\\n      <td>(georgia, school)</td>\\n      <td>4</td>\\n    </tr>\\n    <tr>\\n      <th>36</th>\\n      <td>(250, million)</td>\\n      <td>4</td>\\n    </tr>\\n    <tr>\\n      <th>37</th>\\n      <td>(vice, president)</td>\\n      <td>4</td>\\n    </tr>\\n    <tr>\\n      <th>38</th>\\n      <td>(school, shooting)</td>\\n      <td>4</td>\\n    </tr>\\n    <tr>\\n      <th>39</th>\\n      <td>(daughter, kinaya)</td>\\n      <td>4</td>\\n    </tr>\\n    <tr>\\n      <th>40</th>\\n      <td>(entire, family)</td>\\n      <td>4</td>\\n    </tr>\\n    <tr>\\n      <th>41</th>\\n      <td>(drive, suspend)</td>\\n      <td>4</td>\\n    </tr>\\n    <tr>\\n      <th>42</th>\\n      <td>(russian, influence)</td>\\n      <td>4</td>\\n    </tr>\\n    <tr>\\n      <th>43</th>\\n      <td>(colt, gray)</td>\\n      <td>3</td>\\n    </tr>\\n    <tr>\\n      <th>44</th>\\n      <td>(drop, box)</td>\\n      <td>3</td>\\n    </tr>\\n    <tr>\\n      <th>45</th>\\n      <td>(willis, daughter)</td>\\n      <td>3</td>\\n    </tr>\\n    <tr>\\n      <th>46</th>\\n      <td>(take, money)</td>\\n      <td>3</td>\\n    </tr>\\n    <tr>\\n      <th>47</th>\\n      <td>(support, kamala)</td>\\n      <td>3</td>\\n    </tr>\\n    <tr>\\n      <th>48</th>\\n      <td>(de, moraes)</td>\\n      <td>3</td>\\n    </tr>\\n    <tr>\\n      <th>49</th>\\n      <td>(biden, administration)</td>\\n      <td>3</td>\\n    </tr>\\n    <tr>\\n      <th>50</th>\\n      <td>(receive, 2)</td>\\n      <td>3</td>\\n    </tr>\\n  </tbody>\\n</table>'"
      ]
     },
     "execution_count": 26,
     "metadata": {},
     "output_type": "execute_result"
    }
   ],
   "source": [
    "html_content = save_interactive_table(top_50_bigrams_24hours_df, 'top_bigrams_24hrs_table')\n",
    "\n",
    "html_content"
   ]
  },
  {
   "cell_type": "code",
   "execution_count": null,
   "metadata": {},
   "outputs": [],
   "source": []
  },
  {
   "cell_type": "code",
   "execution_count": 27,
   "metadata": {},
   "outputs": [],
   "source": [
    "# A function of returning top ngrams from the past 7 days\n",
    "\n",
    "def ngram_generator_7days(dataframe, num, extra_stops, top_n=None):\n",
    "    end_date = datetime.datetime.now()\n",
    "    start_date = end_date - datetime.timedelta(days=7)\n",
    "    \n",
    "    start_date = start_date.strftime(\"%Y-%m-%d\")\n",
    "    end_date = end_date.strftime(\"%Y-%m-%d\")\n",
    "    \n",
    "    return ngram_generator(dataframe, num, start_date, end_date, extra_stops, top_n)"
   ]
  },
  {
   "cell_type": "code",
   "execution_count": 28,
   "metadata": {},
   "outputs": [],
   "source": [
    "# A function to return a wordcloud chart covering a specific period of dates\n",
    "from wordcloud import WordCloud\n",
    "\n",
    "def ngram_cloud(dataframe, num, start_date, end_date, extra_stops, top_n=None):\n",
    "    ngram = ngram_generator(dataframe, num, start_date, end_date, extra_stops, top_n)\n",
    "    words_cloud = pd.DataFrame(ngram, columns=['count']).reset_index().rename(columns={'index': 'phrases'})\n",
    "    words_cloud['phrases'] = words_cloud['phrases'].apply(lambda x: ', '.join(x) if isinstance(x,tuple) else x)\n",
    "    words_cloud['phrases'] = words_cloud['phrases'].str.replace(',', '')\n",
    "    wordcloud = WordCloud(width=800, height=400, background_color='white', colormap='gist_stern').\\\n",
    "    generate_from_frequencies(words_cloud.set_index('phrases')['count'].to_dict())\n",
    "    plt.figure(figsize=(10,8))\n",
    "    plt.imshow(wordcloud, interpolation='bilinear')\n",
    "    plt.axis('off')"
   ]
  },
  {
   "cell_type": "code",
   "execution_count": 29,
   "metadata": {},
   "outputs": [
    {
     "data": {
      "text/plain": [
       "'2024-09-05 10:25'"
      ]
     },
     "execution_count": 29,
     "metadata": {},
     "output_type": "execute_result"
    }
   ],
   "source": [
    "f\"{datetime.datetime.now():%Y-%m-%d %H:%M}\"\n"
   ]
  },
  {
   "cell_type": "code",
   "execution_count": 30,
   "metadata": {},
   "outputs": [],
   "source": [
    "# A function to return a wordcloud chart covering ONLY the past 24 hours\n",
    "\n",
    "def ngram_24hrs_cloud(dataframe, num, save_viz, extra_stops, set_title=False, top_n=None):\n",
    "    ngram = ngram_generator_24hrs(dataframe, num, extra_stops, top_n)\n",
    "    words_cloud = pd.DataFrame(ngram, columns=['count']).reset_index().rename(columns={'index': 'phrases'})\n",
    "    words_cloud['phrases'] = words_cloud['phrases'].apply(lambda x: ', '.join(x) if isinstance(x,tuple) else x)\n",
    "    words_cloud['phrases'] = words_cloud['phrases'].str.replace(',', '')\n",
    "    wordcloud = WordCloud(width=800, height=400, background_color='white', colormap='Dark2').\\\n",
    "    generate_from_frequencies(words_cloud.set_index('phrases')['count'].to_dict())\n",
    "    plt.figure(figsize=(10,8))\n",
    "    plt.imshow(wordcloud, \n",
    "               interpolation='nearest',\n",
    "               aspect=\"auto\"\n",
    "               )\n",
    "    \n",
    "    if set_title:\n",
    "        plt.title(f\"The chart was last updated on {datetime.datetime.now():%Y-%m-%d %H:%M}\",\n",
    "                fontsize=20,\n",
    "                pad=10,\n",
    "                style= \"italic\",\n",
    "                loc='center'\n",
    "                )\n",
    "    plt.axis('off')\n",
    "    plt.tight_layout()\n",
    "\n",
    "    if save_viz is not None:\n",
    "        plt.savefig(f\"viz/{save_viz}.jpeg\",\n",
    "                    dpi=600\n",
    "                    )\n",
    "        plt.show()\n",
    "    else:\n",
    "        plt.show()"
   ]
  },
  {
   "cell_type": "code",
   "execution_count": 31,
   "metadata": {},
   "outputs": [
    {
     "name": "stderr",
     "output_type": "stream",
     "text": [
      "/var/folders/f2/xbsrplkj23z71l_fw6890_hr0000gn/T/ipykernel_57757/2951235605.py:5: FutureWarning: The behavior of 'isin' with dtype=datetime64[ns] and castable values (e.g. strings) is deprecated. In a future version, these will not be considered matching by isin. Explicitly cast to the appropriate dtype before calling isin instead.\n",
      "  cleaned_tokens = ' '.join(dataframe[dataframe.created_date.isin(date_list)]['title'].apply(lambda x: clean_it_all_up(x, extra_stops)).tolist())\n"
     ]
    },
    {
     "data": {
      "image/png": "[encoded data removed]",
      "text/plain": [
       "<Figure size 1000x800 with 1 Axes>"
      ]
     },
     "metadata": {},
     "output_type": "display_data"
    }
   ],
   "source": [
    "# creating and saving the top 50 bigrams from the last 24 hours\n",
    "dataframe = df\n",
    "num = 2\n",
    "top_n = 50\n",
    "save_viz = 'bigrams_wordcloud_24hrs'\n",
    "extra_stops=['trump']\n",
    "set_title=True\n",
    "ngram_24hrs_cloud(dataframe = dataframe, num=num, top_n=top_n, save_viz=save_viz, set_title=set_title, extra_stops=extra_stops)\n",
    "\n"
   ]
  },
  {
   "cell_type": "code",
   "execution_count": 32,
   "metadata": {},
   "outputs": [],
   "source": [
    "# A function to return a wordcloud chart covering ONLY the past 7 days\n",
    "\n",
    "def ngram_7days_cloud(dataframe, num, save_viz, extra_stops, top_n=None):\n",
    "    ngram = ngram_generator_7days(dataframe, num, extra_stops, top_n=None)\n",
    "    words_cloud = pd.DataFrame(ngram, columns=['count']).reset_index().rename(columns={'index': 'phrases'})\n",
    "    words_cloud['phrases'] = words_cloud['phrases'].apply(lambda x: ', '.join(x) if isinstance(x,tuple) else x)\n",
    "    words_cloud['phrases'] = words_cloud['phrases'].str.replace(',', '')\n",
    "    wordcloud = WordCloud(width=800, height=400, background_color='white').\\\n",
    "    generate_from_frequencies(words_cloud.set_index('phrases')['count'].to_dict())\n",
    "    plt.figure(figsize=(10,8))\n",
    "    plt.imshow(wordcloud, interpolation='bilinear')\n",
    "    plt.axis('off')\n",
    "    plt.title(f\"Top {top_n} bigrams in the last 7 days\",\n",
    "              fontsize=20,\n",
    "              pad=25,\n",
    "              )\n",
    "\n",
    "    if save_viz is not None:\n",
    "        plt.savefig(f\"viz/{save_viz}.jpeg\",\n",
    "                    dpi=600\n",
    "                    )\n",
    "        plt.show()\n",
    "    else:\n",
    "        plt.show()"
   ]
  },
  {
   "cell_type": "code",
   "execution_count": 33,
   "metadata": {},
   "outputs": [],
   "source": [
    "# A summary table of authors based on a given date\n",
    "def top_acounts(dataframe, start_date, end_date, top_n=None):\n",
    "    date_list = date_selection(start_date, end_date)\n",
    "    top_authors = dataframe[dataframe['created_date'].isin(date_list)]['author'].value_counts().reset_index()\n",
    "    top_authors = top_authors[top_authors['count']>1]\n",
    "    comments_total = dataframe.groupby('author').comments.sum()\n",
    "    upvotes_total = dataframe.groupby('author').score_up.sum()\n",
    "    top_authors =  top_authors.merge(comments_total, on='author').merge(upvotes_total, on='author')\n",
    "    top_authors = top_authors.rename(columns={\n",
    "                                        'author': 'top_authors',\n",
    "                                        'count' : 'posts',\n",
    "                                        'comments': 'accumulated_comments',\n",
    "                                        'score_up': 'accumulated_upvotes'\n",
    "                                        })\n",
    "    top_authors = top_authors.sort_values('posts', ascending=False).head(top_n)\n",
    "    return  top_authors"
   ]
  },
  {
   "cell_type": "code",
   "execution_count": 34,
   "metadata": {},
   "outputs": [],
   "source": [
    "# This function returns the most posted domains from a specific period of time\n",
    "\n",
    "def top_domains(dataframe, start_date, end_date, top_n=None):\n",
    "    date_list = date_selection(start_date, end_date)\n",
    "    top_urls = dataframe[dataframe['created_date'].isin(date_list)]['domain'].value_counts(dropna=False, normalize=True).head(top_n)\n",
    "    return top_urls"
   ]
  },
  {
   "cell_type": "code",
   "execution_count": 35,
   "metadata": {},
   "outputs": [],
   "source": [
    "# This function returns the most posted domains from the last 7 days\n",
    "\n",
    "def top_domains_7days(dataframe, top_n=None):\n",
    "    end_date = datetime.datetime.now()\n",
    "    start_date = end_date - datetime.timedelta(days=7)\n",
    "    \n",
    "    start_date = start_date.strftime(\"%Y-%m-%d\")\n",
    "    end_date = end_date.strftime(\"%Y-%m-%d\")\n",
    "\n",
    "    date_list = date_selection(start_date, end_date)\n",
    "    top_urls = dataframe[dataframe['created_date'].isin(date_list)]['domain'].value_counts(dropna=False, normalize=True).head(top_n)\n",
    "    return top_urls"
   ]
  },
  {
   "cell_type": "code",
   "execution_count": 36,
   "metadata": {},
   "outputs": [],
   "source": [
    "# Popular Twitter accounts on The Ronald\n",
    "\n",
    "def top_xitter(dataframe, start_date, end_date, top_n=None):\n",
    "    date_list = date_selection(start_date, end_date)\n",
    "    xiter_accounts = dataframe[(dataframe.link.str.contains('twitter.com'))& (dataframe['created_date'].isin(date_list))]\n",
    "    top_xitter = xiter_accounts['link'].str.split('/').str[3].str.lower().value_counts(normalize=False, dropna=False).head(top_n)\n",
    "    return top_xitter"
   ]
  },
  {
   "cell_type": "code",
   "execution_count": 37,
   "metadata": {},
   "outputs": [],
   "source": [
    "# A date-based n-gram generator\n",
    "# useful for making time-series charts \n",
    "\n",
    "def new_ngram_generator(dataframe, num, start_date, end_date, extra_stops, top_n=None):\n",
    "    # Filter dates\n",
    "    date_list = date_selection(start_date, end_date)\n",
    "    \n",
    "    # Filter and process data\n",
    "    filtered_df = dataframe[dataframe.created_date.isin(date_list)]\n",
    "    filtered_df['cleaned_title'] = filtered_df['title'].apply(lambda x: clean_it_all_up(x, extra_stops))\n",
    "\n",
    "    \n",
    "    ngrams_with_dates = []\n",
    "    \n",
    "    for index, row in filtered_df.iterrows():\n",
    "        tokens = row['cleaned_title'].split()\n",
    "        if num ==1:\n",
    "            unigrams_list = list(tokens)\n",
    "            for unigram in unigrams_list:\n",
    "                ngrams_with_dates.append((unigram, row['created_date']))\n",
    "        elif num == 2:\n",
    "            bigrams_list = list(bigrams(tokens))\n",
    "            for bigram in bigrams_list:\n",
    "                ngrams_with_dates.append((bigram, row['created_date']))\n",
    "        elif num == 3:\n",
    "            trigrams_list = list(trigrams(tokens))\n",
    "            for trigram in trigrams_list:\n",
    "                ngrams_with_dates.append((trigram, row['created_date']))\n",
    "        else:\n",
    "            raise ValueError('Invalid number. Must choose between 2 or 3.')\n",
    "    \n",
    "    ngram_df = pd.DataFrame(ngrams_with_dates, columns=['ngram', 'date']).head(top_n)\n",
    "    return ngram_df\n"
   ]
  },
  {
   "cell_type": "code",
   "execution_count": 38,
   "metadata": {},
   "outputs": [],
   "source": [
    "def ngram_time_series(dataframe, num, start_date, end_date, save_viz, extra_stops, top_n=None):\n",
    "\n",
    "    ngrams_df = new_ngram_generator(dataframe, num, start_date, end_date, extra_stops)\n",
    "\n",
    "    ngrams_df['date'] = pd.to_datetime(ngrams_df['date'])\n",
    "\n",
    "    ngrams_counts = ngrams_df.groupby([ngrams_df['date'].dt.to_period('d'), 'ngram']).size().reset_index(name='count')\n",
    "\n",
    "    top_ngrams = ngrams_counts.groupby('ngram')['count'].sum().nlargest(top_n).index\n",
    "\n",
    "    top_ngrams_counts = ngrams_counts[ngrams_counts['ngram'].isin(top_ngrams)]\n",
    "\n",
    "    top_ngram_pivot = top_ngrams_counts.pivot(index='date', columns='ngram', values='count').fillna(0)\n",
    "\n",
    "    top_ngram_pivot.index = top_ngram_pivot.index.to_timestamp()\n",
    "\n",
    "    plt.figure(figsize=(10, 8))\n",
    "\n",
    "\n",
    "    top_ngram_plot = sns.lineplot(data=top_ngram_pivot)\n",
    "\n",
    "    plt.xlabel('')\n",
    "    plt.ylabel('Mention count')\n",
    "    plt.title(f'Top bigrams on the landing page of The Ronald between {start_date} and {end_date}')\n",
    "\n",
    "    plt.xticks(rotation=45) \n",
    "    plt.grid(True)\n",
    "\n",
    "    plt.legend(title='Top Bigrams', bbox_to_anchor=(1.3, 1), loc='upper right')\n",
    "    \n",
    "    if save_viz is not None:\n",
    "        plt.savefig(f\"viz/{save_viz}.jpeg\",\n",
    "                    dpi=600\n",
    "                    )\n",
    "        plt.show()\n",
    "    else:\n",
    "        plt.show()"
   ]
  },
  {
   "cell_type": "code",
   "execution_count": 39,
   "metadata": {},
   "outputs": [],
   "source": [
    "# create interactive charts with Plotly\n",
    "\n",
    "import plotly.graph_objs as go\n",
    "\n",
    "def ngram_time_series_interactive(dataframe, num, start_date, end_date, save_viz, extra_stops, top_n=None):\n",
    "    ngrams_df = new_ngram_generator(dataframe, num, start_date, end_date, extra_stops)\n",
    "\n",
    "    ngrams_df['date'] = pd.to_datetime(ngrams_df['date'])\n",
    "\n",
    "    ngrams_counts = ngrams_df.groupby([ngrams_df['date'].dt.to_period('d'), 'ngram']).size().reset_index(name='count')\n",
    "\n",
    "    top_ngrams = ngrams_counts.groupby('ngram')['count'].sum().nlargest(top_n).index\n",
    "\n",
    "    top_ngrams_counts = ngrams_counts[ngrams_counts['ngram'].isin(top_ngrams)]\n",
    "\n",
    "    top_ngram_pivot = top_ngrams_counts.pivot(index='date', columns='ngram', values='count').fillna(0)\n",
    "\n",
    "    top_ngram_pivot.index = top_ngram_pivot.index.to_timestamp()\n",
    "\n",
    "    fig = go.Figure()\n",
    "\n",
    "    for ngram in top_ngram_pivot.columns:\n",
    "        fig.add_trace(go.Scatter(\n",
    "            x=top_ngram_pivot.index, \n",
    "            y=top_ngram_pivot[ngram], \n",
    "            mode='lines', \n",
    "            name=str(ngram)))\n",
    "\n",
    "    fig.update_layout(\n",
    "        width=1400,\n",
    "        height=800,\n",
    "        title=f'Top bigrams on the landing page of The Ronald between {start_date} and {end_date}',\n",
    "        xaxis_title='Date',\n",
    "        yaxis_title='Frequency',\n",
    "        \n",
    "        xaxis=dict(tickangle=45),\n",
    "        legend_title_text='Top Bigrams'\n",
    "    )\n",
    "\n",
    "    if save_viz is not None:\n",
    "        fig.savefig(f\"viz/{save_viz}.jpeg\",\n",
    "                    dpi=600\n",
    "                    )\n",
    "        fig.show()\n",
    "    else:\n",
    "        fig.show()"
   ]
  },
  {
   "cell_type": "code",
   "execution_count": 40,
   "metadata": {},
   "outputs": [],
   "source": [
    "# This function would only cover the past n days\n",
    "\n",
    "def ngram_time_last_n_days_interactive(dataframe, num, last_ndays, extra_stops, save_filename, top_n=None):\n",
    "    end_date = pd.to_datetime(dataframe['created_date'].max())\n",
    "    start_date = end_date - pd.Timedelta(days=last_ndays)\n",
    "    start_date = start_date.strftime(\"%Y-%m-%d\")\n",
    "    end_date = end_date.strftime(\"%Y-%m-%d\")\n",
    "\n",
    "    ngrams_df = new_ngram_generator(dataframe, num, start_date, end_date, extra_stops)\n",
    "\n",
    "    # Prepare the data for plotting\n",
    "    ngrams_df['date'] = pd.to_datetime(ngrams_df['date'])\n",
    "    ngrams_counts = ngrams_df.groupby([ngrams_df['date'].dt.to_period('d'), 'ngram']).size().reset_index(name='count')\n",
    "    \n",
    "    top_ngrams = ngrams_counts.groupby('ngram')['count'].sum().nlargest(top_n).index\n",
    "    top_ngrams_counts = ngrams_counts[ngrams_counts['ngram'].isin(top_ngrams)]\n",
    "\n",
    "    top_ngram_pivot = top_ngrams_counts.pivot(index='date', columns='ngram', values='count').fillna(0)\n",
    "    top_ngram_pivot.index = top_ngram_pivot.index.to_timestamp()\n",
    "\n",
    "    y_max = top_ngram_pivot.values.max()\n",
    "    y_range = [0, y_max * 1.1]\n",
    "\n",
    "    fig = go.Figure()\n",
    "\n",
    "    # Add traces for each n-gram\n",
    "    for ngram in top_ngram_pivot.columns:\n",
    "        fig.add_trace(go.Scatter(\n",
    "            x=top_ngram_pivot.index, \n",
    "            y=top_ngram_pivot[ngram], \n",
    "            mode='lines', \n",
    "            name=str(ngram)\n",
    "        ))\n",
    "\n",
    "    fig.update_traces(line={'width': 5})\n",
    "\n",
    "    layout = dict(\n",
    "        width=1000,\n",
    "        height=800,\n",
    "        xaxis=dict(\n",
    "            title='Date',\n",
    "            tickangle=45\n",
    "        ),\n",
    "        yaxis=dict(\n",
    "            title='Frequency',\n",
    "            range=y_range\n",
    "        ),\n",
    "        legend_title=dict(\n",
    "            text='<b>Popular Bigrams<br>',\n",
    "            font=dict(\n",
    "                family=\"Courier\",\n",
    "                color='firebrick',\n",
    "                size=15\n",
    "            )\n",
    "        )\n",
    "    )\n",
    "    \n",
    "\n",
    "    if set_title:\n",
    "        layout['title'] = dict(\n",
    "            text= f\"The chart was last updated on {datetime.datetime.now():%Y-%m-%d %H:%M}\",\n",
    "            font=dict(\n",
    "                family=\"Arial\",\n",
    "                size=20\n",
    "            ),\n",
    "            pad=dict(t=20)\n",
    "        )\n",
    "\n",
    "    fig.update_layout(layout)\n",
    "\n",
    "    if save_filename:\n",
    "        fig.write_html(f\"viz/{save_filename}.html\")\n",
    "    \n",
    "    fig.show()"
   ]
  },
  {
   "cell_type": "code",
   "execution_count": 41,
   "metadata": {},
   "outputs": [],
   "source": [
    "def ngram_time_last_7_days_interactive(dataframe, num, extra_stops, save_filename, set_title=False, top_n=None):\n",
    "    end_date = pd.to_datetime(dataframe['created_date'].max())\n",
    "    start_date = end_date - pd.Timedelta(days=7)\n",
    "    start_date = start_date.strftime(\"%Y-%m-%d\")\n",
    "    end_date = end_date.strftime(\"%Y-%m-%d\")\n",
    "\n",
    "    ngrams_df = new_ngram_generator(dataframe, num, start_date, end_date, extra_stops)\n",
    "\n",
    "    # Prepare the data for plotting\n",
    "    ngrams_df['date'] = pd.to_datetime(ngrams_df['date'])\n",
    "    ngrams_counts = ngrams_df.groupby([ngrams_df['date'].dt.to_period('d'), 'ngram']).size().reset_index(name='count')\n",
    "    \n",
    "    top_ngrams = ngrams_counts.groupby('ngram')['count'].sum().nlargest(top_n).index\n",
    "    top_ngrams_counts = ngrams_counts[ngrams_counts['ngram'].isin(top_ngrams)]\n",
    "\n",
    "    top_ngram_pivot = top_ngrams_counts.pivot(index='date', columns='ngram', values='count').fillna(0)\n",
    "    top_ngram_pivot.index = top_ngram_pivot.index.to_timestamp()\n",
    "\n",
    "    y_max = top_ngram_pivot.values.max()\n",
    "    y_range = [0, y_max * 1.1]\n",
    "\n",
    "    fig = go.Figure()\n",
    "\n",
    "    # Add traces for each n-gram\n",
    "    for ngram in top_ngram_pivot.columns:\n",
    "        fig.add_trace(go.Scatter(\n",
    "            x=top_ngram_pivot.index, \n",
    "            y=top_ngram_pivot[ngram], \n",
    "            mode='lines', \n",
    "            name=str(ngram)\n",
    "        ))\n",
    "\n",
    "    fig.update_traces(line={'width': 5})\n",
    "\n",
    "    layout = dict(\n",
    "        width=1000,\n",
    "        height=800,\n",
    "        xaxis=dict(\n",
    "            title='Date',\n",
    "            tickangle=45\n",
    "        ),\n",
    "        yaxis=dict(\n",
    "            title='Frequency',\n",
    "            range=y_range\n",
    "        ),\n",
    "        legend_title=dict(\n",
    "            text='<b>Popular Bigrams<br>',\n",
    "            font=dict(\n",
    "                family=\"Courier\",\n",
    "                color='firebrick',\n",
    "                size=15\n",
    "            )\n",
    "        )\n",
    "    )\n",
    "\n",
    "    margin = dict(l=0,\n",
    "                  r=0,\n",
    "                  t=0,\n",
    "                  b=10)\n",
    "\n",
    "    if set_title:\n",
    "        layout['title'] = dict(\n",
    "            text= f\"The chart was last updated on {datetime.datetime.now():%Y-%m-%d %H:%M}\",\n",
    "            font=dict(\n",
    "                family=\"Arial\",\n",
    "                size=20\n",
    "            ),\n",
    "            pad=dict(t=20)\n",
    "        )\n",
    "\n",
    "    fig.update_layout(layout, margin)\n",
    "\n",
    "    if save_filename:\n",
    "        fig.write_html(f\"viz/{save_filename}.html\")\n",
    "    \n",
    "    fig.show()"
   ]
  },
  {
   "cell_type": "code",
   "execution_count": 42,
   "metadata": {},
   "outputs": [
    {
     "data": {
      "text/plain": [
       "(1274, 18)"
      ]
     },
     "execution_count": 42,
     "metadata": {},
     "output_type": "execute_result"
    }
   ],
   "source": [
    "election_keywords = ['fraud', 'rig', 'cheat', 'steal']\n",
    "\n",
    "election_keywords_df = df[df.title.str.contains('|'.join(election_keywords), case=False, na=False)]\n",
    "\n",
    "election_keywords_df.shape"
   ]
  },
  {
   "cell_type": "code",
   "execution_count": 43,
   "metadata": {},
   "outputs": [
    {
     "name": "stderr",
     "output_type": "stream",
     "text": [
      "/var/folders/f2/xbsrplkj23z71l_fw6890_hr0000gn/T/ipykernel_57757/1221168534.py:9: FutureWarning: The behavior of 'isin' with dtype=datetime64[ns] and castable values (e.g. strings) is deprecated. In a future version, these will not be considered matching by isin. Explicitly cast to the appropriate dtype before calling isin instead.\n",
      "  filtered_df = dataframe[dataframe.created_date.isin(date_list)]\n",
      "/var/folders/f2/xbsrplkj23z71l_fw6890_hr0000gn/T/ipykernel_57757/1221168534.py:10: SettingWithCopyWarning: \n",
      "A value is trying to be set on a copy of a slice from a DataFrame.\n",
      "Try using .loc[row_indexer,col_indexer] = value instead\n",
      "\n",
      "See the caveats in the documentation: https://pandas.pydata.org/pandas-docs/stable/user_guide/indexing.html#returning-a-view-versus-a-copy\n",
      "  filtered_df['cleaned_title'] = filtered_df['title'].apply(lambda x: clean_it_all_up(x, extra_stops))\n"
     ]
    },
    {
     "data": {
      "application/vnd.plotly.v1+json": {
       "config": {
        "plotlyServerURL": "https://plot.ly"
       },
       "data": [
        {
         "line": {
          "width": 5
         },
         "mode": "lines",
         "name": "('biden', 'harris')",
         "type": "scatter",
         "x": [
          "2024-08-29T00:00:00",
          "2024-08-30T00:00:00",
          "2024-08-31T00:00:00",
          "2024-09-01T00:00:00",
          "2024-09-02T00:00:00",
          "2024-09-03T00:00:00",
          "2024-09-04T00:00:00",
          "2024-09-05T00:00:00"
         ],
         "y": [
          7,
          5,
          4,
          1,
          3,
          8,
          6,
          3
         ]
        },
        {
         "line": {
          "width": 5
         },
         "mode": "lines",
         "name": "('elon', 'musk')",
         "type": "scatter",
         "x": [
          "2024-08-29T00:00:00",
          "2024-08-30T00:00:00",
          "2024-08-31T00:00:00",
          "2024-09-01T00:00:00",
          "2024-09-02T00:00:00",
          "2024-09-03T00:00:00",
          "2024-09-04T00:00:00",
          "2024-09-05T00:00:00"
         ],
         "y": [
          3,
          5,
          7,
          6,
          5,
          7,
          3,
          3
         ]
        },
        {
         "line": {
          "width": 5
         },
         "mode": "lines",
         "name": "('fake', 'news')",
         "type": "scatter",
         "x": [
          "2024-08-29T00:00:00",
          "2024-08-30T00:00:00",
          "2024-08-31T00:00:00",
          "2024-09-01T00:00:00",
          "2024-09-02T00:00:00",
          "2024-09-03T00:00:00",
          "2024-09-04T00:00:00",
          "2024-09-05T00:00:00"
         ],
         "y": [
          7,
          2,
          0,
          2,
          2,
          2,
          2,
          2
         ]
        },
        {
         "line": {
          "width": 5
         },
         "mode": "lines",
         "name": "('free', 'speech')",
         "type": "scatter",
         "x": [
          "2024-08-29T00:00:00",
          "2024-08-30T00:00:00",
          "2024-08-31T00:00:00",
          "2024-09-01T00:00:00",
          "2024-09-02T00:00:00",
          "2024-09-03T00:00:00",
          "2024-09-04T00:00:00",
          "2024-09-05T00:00:00"
         ],
         "y": [
          3,
          6,
          12,
          5,
          1,
          2,
          0,
          2
         ]
        },
        {
         "line": {
          "width": 5
         },
         "mode": "lines",
         "name": "('gold', 'star')",
         "type": "scatter",
         "x": [
          "2024-08-29T00:00:00",
          "2024-08-30T00:00:00",
          "2024-08-31T00:00:00",
          "2024-09-01T00:00:00",
          "2024-09-02T00:00:00",
          "2024-09-03T00:00:00",
          "2024-09-04T00:00:00",
          "2024-09-05T00:00:00"
         ],
         "y": [
          5,
          1,
          3,
          15,
          13,
          3,
          2,
          1
         ]
        },
        {
         "line": {
          "width": 5
         },
         "mode": "lines",
         "name": "('illegal', 'alien')",
         "type": "scatter",
         "x": [
          "2024-08-29T00:00:00",
          "2024-08-30T00:00:00",
          "2024-08-31T00:00:00",
          "2024-09-01T00:00:00",
          "2024-09-02T00:00:00",
          "2024-09-03T00:00:00",
          "2024-09-04T00:00:00",
          "2024-09-05T00:00:00"
         ],
         "y": [
          8,
          4,
          4,
          4,
          4,
          1,
          4,
          3
         ]
        },
        {
         "line": {
          "width": 5
         },
         "mode": "lines",
         "name": "('joe', 'biden')",
         "type": "scatter",
         "x": [
          "2024-08-29T00:00:00",
          "2024-08-30T00:00:00",
          "2024-08-31T00:00:00",
          "2024-09-01T00:00:00",
          "2024-09-02T00:00:00",
          "2024-09-03T00:00:00",
          "2024-09-04T00:00:00",
          "2024-09-05T00:00:00"
         ],
         "y": [
          4,
          2,
          0,
          2,
          5,
          6,
          1,
          0
         ]
        },
        {
         "line": {
          "width": 5
         },
         "mode": "lines",
         "name": "('kamala', 'harris')",
         "type": "scatter",
         "x": [
          "2024-08-29T00:00:00",
          "2024-08-30T00:00:00",
          "2024-08-31T00:00:00",
          "2024-09-01T00:00:00",
          "2024-09-02T00:00:00",
          "2024-09-03T00:00:00",
          "2024-09-04T00:00:00",
          "2024-09-05T00:00:00"
         ],
         "y": [
          25,
          23,
          29,
          15,
          25,
          28,
          25,
          14
         ]
        },
        {
         "line": {
          "width": 5
         },
         "mode": "lines",
         "name": "('new', 'york')",
         "type": "scatter",
         "x": [
          "2024-08-29T00:00:00",
          "2024-08-30T00:00:00",
          "2024-08-31T00:00:00",
          "2024-09-01T00:00:00",
          "2024-09-02T00:00:00",
          "2024-09-03T00:00:00",
          "2024-09-04T00:00:00",
          "2024-09-05T00:00:00"
         ],
         "y": [
          2,
          2,
          4,
          1,
          4,
          9,
          4,
          2
         ]
        },
        {
         "line": {
          "width": 5
         },
         "mode": "lines",
         "name": "('rfk', 'jr')",
         "type": "scatter",
         "x": [
          "2024-08-29T00:00:00",
          "2024-08-30T00:00:00",
          "2024-08-31T00:00:00",
          "2024-09-01T00:00:00",
          "2024-09-02T00:00:00",
          "2024-09-03T00:00:00",
          "2024-09-04T00:00:00",
          "2024-09-05T00:00:00"
         ],
         "y": [
          3,
          2,
          5,
          10,
          4,
          1,
          3,
          3
         ]
        },
        {
         "line": {
          "width": 5
         },
         "mode": "lines",
         "name": "('star', 'family')",
         "type": "scatter",
         "x": [
          "2024-08-29T00:00:00",
          "2024-08-30T00:00:00",
          "2024-08-31T00:00:00",
          "2024-09-01T00:00:00",
          "2024-09-02T00:00:00",
          "2024-09-03T00:00:00",
          "2024-09-04T00:00:00",
          "2024-09-05T00:00:00"
         ],
         "y": [
          5,
          1,
          1,
          7,
          7,
          0,
          2,
          0
         ]
        },
        {
         "line": {
          "width": 5
         },
         "mode": "lines",
         "name": "('supreme', 'court')",
         "type": "scatter",
         "x": [
          "2024-08-29T00:00:00",
          "2024-08-30T00:00:00",
          "2024-08-31T00:00:00",
          "2024-09-01T00:00:00",
          "2024-09-02T00:00:00",
          "2024-09-03T00:00:00",
          "2024-09-04T00:00:00",
          "2024-09-05T00:00:00"
         ],
         "y": [
          3,
          3,
          4,
          0,
          4,
          2,
          3,
          2
         ]
        },
        {
         "line": {
          "width": 5
         },
         "mode": "lines",
         "name": "('tim', 'walz')",
         "type": "scatter",
         "x": [
          "2024-08-29T00:00:00",
          "2024-08-30T00:00:00",
          "2024-08-31T00:00:00",
          "2024-09-01T00:00:00",
          "2024-09-02T00:00:00",
          "2024-09-03T00:00:00",
          "2024-09-04T00:00:00",
          "2024-09-05T00:00:00"
         ],
         "y": [
          2,
          6,
          11,
          11,
          8,
          13,
          14,
          6
         ]
        },
        {
         "line": {
          "width": 5
         },
         "mode": "lines",
         "name": "('united', 'states')",
         "type": "scatter",
         "x": [
          "2024-08-29T00:00:00",
          "2024-08-30T00:00:00",
          "2024-08-31T00:00:00",
          "2024-09-01T00:00:00",
          "2024-09-02T00:00:00",
          "2024-09-03T00:00:00",
          "2024-09-04T00:00:00",
          "2024-09-05T00:00:00"
         ],
         "y": [
          2,
          1,
          5,
          3,
          3,
          1,
          2,
          4
         ]
        },
        {
         "line": {
          "width": 5
         },
         "mode": "lines",
         "name": "('venezuelan', 'gang')",
         "type": "scatter",
         "x": [
          "2024-08-29T00:00:00",
          "2024-08-30T00:00:00",
          "2024-08-31T00:00:00",
          "2024-09-01T00:00:00",
          "2024-09-02T00:00:00",
          "2024-09-03T00:00:00",
          "2024-09-04T00:00:00",
          "2024-09-05T00:00:00"
         ],
         "y": [
          3,
          5,
          2,
          5,
          1,
          3,
          4,
          0
         ]
        }
       ],
       "layout": {
        "height": 800,
        "legend": {
         "title": {
          "font": {
           "color": "firebrick",
           "family": "Courier",
           "size": 15
          },
          "text": "<b>Popular Bigrams<br>"
         }
        },
        "template": {
         "data": {
          "bar": [
           {
            "error_x": {
             "color": "#2a3f5f"
            },
            "error_y": {
             "color": "#2a3f5f"
            },
            "marker": {
             "line": {
              "color": "#E5ECF6",
              "width": 0.5
             },
             "pattern": {
              "fillmode": "overlay",
              "size": 10,
              "solidity": 0.2
             }
            },
            "type": "bar"
           }
          ],
          "barpolar": [
           {
            "marker": {
             "line": {
              "color": "#E5ECF6",
              "width": 0.5
             },
             "pattern": {
              "fillmode": "overlay",
              "size": 10,
              "solidity": 0.2
             }
            },
            "type": "barpolar"
           }
          ],
          "carpet": [
           {
            "aaxis": {
             "endlinecolor": "#2a3f5f",
             "gridcolor": "white",
             "linecolor": "white",
             "minorgridcolor": "white",
             "startlinecolor": "#2a3f5f"
            },
            "baxis": {
             "endlinecolor": "#2a3f5f",
             "gridcolor": "white",
             "linecolor": "white",
             "minorgridcolor": "white",
             "startlinecolor": "#2a3f5f"
            },
            "type": "carpet"
           }
          ],
          "choropleth": [
           {
            "colorbar": {
             "outlinewidth": 0,
             "ticks": ""
            },
            "type": "choropleth"
           }
          ],
          "contour": [
           {
            "colorbar": {
             "outlinewidth": 0,
             "ticks": ""
            },
            "colorscale": [
             [
              0,
              "#0d0887"
             ],
             [
              0.1111111111111111,
              "#46039f"
             ],
             [
              0.2222222222222222,
              "#7201a8"
             ],
             [
              0.3333333333333333,
              "#9c179e"
             ],
             [
              0.4444444444444444,
              "#bd3786"
             ],
             [
              0.5555555555555556,
              "#d8576b"
             ],
             [
              0.6666666666666666,
              "#ed7953"
             ],
             [
              0.7777777777777778,
              "#fb9f3a"
             ],
             [
              0.8888888888888888,
              "#fdca26"
             ],
             [
              1,
              "#f0f921"
             ]
            ],
            "type": "contour"
           }
          ],
          "contourcarpet": [
           {
            "colorbar": {
             "outlinewidth": 0,
             "ticks": ""
            },
            "type": "contourcarpet"
           }
          ],
          "heatmap": [
           {
            "colorbar": {
             "outlinewidth": 0,
             "ticks": ""
            },
            "colorscale": [
             [
              0,
              "#0d0887"
             ],
             [
              0.1111111111111111,
              "#46039f"
             ],
             [
              0.2222222222222222,
              "#7201a8"
             ],
             [
              0.3333333333333333,
              "#9c179e"
             ],
             [
              0.4444444444444444,
              "#bd3786"
             ],
             [
              0.5555555555555556,
              "#d8576b"
             ],
             [
              0.6666666666666666,
              "#ed7953"
             ],
             [
              0.7777777777777778,
              "#fb9f3a"
             ],
             [
              0.8888888888888888,
              "#fdca26"
             ],
             [
              1,
              "#f0f921"
             ]
            ],
            "type": "heatmap"
           }
          ],
          "heatmapgl": [
           {
            "colorbar": {
             "outlinewidth": 0,
             "ticks": ""
            },
            "colorscale": [
             [
              0,
              "#0d0887"
             ],
             [
              0.1111111111111111,
              "#46039f"
             ],
             [
              0.2222222222222222,
              "#7201a8"
             ],
             [
              0.3333333333333333,
              "#9c179e"
             ],
             [
              0.4444444444444444,
              "#bd3786"
             ],
             [
              0.5555555555555556,
              "#d8576b"
             ],
             [
              0.6666666666666666,
              "#ed7953"
             ],
             [
              0.7777777777777778,
              "#fb9f3a"
             ],
             [
              0.8888888888888888,
              "#fdca26"
             ],
             [
              1,
              "#f0f921"
             ]
            ],
            "type": "heatmapgl"
           }
          ],
          "histogram": [
           {
            "marker": {
             "pattern": {
              "fillmode": "overlay",
              "size": 10,
              "solidity": 0.2
             }
            },
            "type": "histogram"
           }
          ],
          "histogram2d": [
           {
            "colorbar": {
             "outlinewidth": 0,
             "ticks": ""
            },
            "colorscale": [
             [
              0,
              "#0d0887"
             ],
             [
              0.1111111111111111,
              "#46039f"
             ],
             [
              0.2222222222222222,
              "#7201a8"
             ],
             [
              0.3333333333333333,
              "#9c179e"
             ],
             [
              0.4444444444444444,
              "#bd3786"
             ],
             [
              0.5555555555555556,
              "#d8576b"
             ],
             [
              0.6666666666666666,
              "#ed7953"
             ],
             [
              0.7777777777777778,
              "#fb9f3a"
             ],
             [
              0.8888888888888888,
              "#fdca26"
             ],
             [
              1,
              "#f0f921"
             ]
            ],
            "type": "histogram2d"
           }
          ],
          "histogram2dcontour": [
           {
            "colorbar": {
             "outlinewidth": 0,
             "ticks": ""
            },
            "colorscale": [
             [
              0,
              "#0d0887"
             ],
             [
              0.1111111111111111,
              "#46039f"
             ],
             [
              0.2222222222222222,
              "#7201a8"
             ],
             [
              0.3333333333333333,
              "#9c179e"
             ],
             [
              0.4444444444444444,
              "#bd3786"
             ],
             [
              0.5555555555555556,
              "#d8576b"
             ],
             [
              0.6666666666666666,
              "#ed7953"
             ],
             [
              0.7777777777777778,
              "#fb9f3a"
             ],
             [
              0.8888888888888888,
              "#fdca26"
             ],
             [
              1,
              "#f0f921"
             ]
            ],
            "type": "histogram2dcontour"
           }
          ],
          "mesh3d": [
           {
            "colorbar": {
             "outlinewidth": 0,
             "ticks": ""
            },
            "type": "mesh3d"
           }
          ],
          "parcoords": [
           {
            "line": {
             "colorbar": {
              "outlinewidth": 0,
              "ticks": ""
             }
            },
            "type": "parcoords"
           }
          ],
          "pie": [
           {
            "automargin": true,
            "type": "pie"
           }
          ],
          "scatter": [
           {
            "fillpattern": {
             "fillmode": "overlay",
             "size": 10,
             "solidity": 0.2
            },
            "type": "scatter"
           }
          ],
          "scatter3d": [
           {
            "line": {
             "colorbar": {
              "outlinewidth": 0,
              "ticks": ""
             }
            },
            "marker": {
             "colorbar": {
              "outlinewidth": 0,
              "ticks": ""
             }
            },
            "type": "scatter3d"
           }
          ],
          "scattercarpet": [
           {
            "marker": {
             "colorbar": {
              "outlinewidth": 0,
              "ticks": ""
             }
            },
            "type": "scattercarpet"
           }
          ],
          "scattergeo": [
           {
            "marker": {
             "colorbar": {
              "outlinewidth": 0,
              "ticks": ""
             }
            },
            "type": "scattergeo"
           }
          ],
          "scattergl": [
           {
            "marker": {
             "colorbar": {
              "outlinewidth": 0,
              "ticks": ""
             }
            },
            "type": "scattergl"
           }
          ],
          "scattermapbox": [
           {
            "marker": {
             "colorbar": {
              "outlinewidth": 0,
              "ticks": ""
             }
            },
            "type": "scattermapbox"
           }
          ],
          "scatterpolar": [
           {
            "marker": {
             "colorbar": {
              "outlinewidth": 0,
              "ticks": ""
             }
            },
            "type": "scatterpolar"
           }
          ],
          "scatterpolargl": [
           {
            "marker": {
             "colorbar": {
              "outlinewidth": 0,
              "ticks": ""
             }
            },
            "type": "scatterpolargl"
           }
          ],
          "scatterternary": [
           {
            "marker": {
             "colorbar": {
              "outlinewidth": 0,
              "ticks": ""
             }
            },
            "type": "scatterternary"
           }
          ],
          "surface": [
           {
            "colorbar": {
             "outlinewidth": 0,
             "ticks": ""
            },
            "colorscale": [
             [
              0,
              "#0d0887"
             ],
             [
              0.1111111111111111,
              "#46039f"
             ],
             [
              0.2222222222222222,
              "#7201a8"
             ],
             [
              0.3333333333333333,
              "#9c179e"
             ],
             [
              0.4444444444444444,
              "#bd3786"
             ],
             [
              0.5555555555555556,
              "#d8576b"
             ],
             [
              0.6666666666666666,
              "#ed7953"
             ],
             [
              0.7777777777777778,
              "#fb9f3a"
             ],
             [
              0.8888888888888888,
              "#fdca26"
             ],
             [
              1,
              "#f0f921"
             ]
            ],
            "type": "surface"
           }
          ],
          "table": [
           {
            "cells": {
             "fill": {
              "color": "#EBF0F8"
             },
             "line": {
              "color": "white"
             }
            },
            "header": {
             "fill": {
              "color": "#C8D4E3"
             },
             "line": {
              "color": "white"
             }
            },
            "type": "table"
           }
          ]
         },
         "layout": {
          "annotationdefaults": {
           "arrowcolor": "#2a3f5f",
           "arrowhead": 0,
           "arrowwidth": 1
          },
          "autotypenumbers": "strict",
          "coloraxis": {
           "colorbar": {
            "outlinewidth": 0,
            "ticks": ""
           }
          },
          "colorscale": {
           "diverging": [
            [
             0,
             "#8e0152"
            ],
            [
             0.1,
             "#c51b7d"
            ],
            [
             0.2,
             "#de77ae"
            ],
            [
             0.3,
             "#f1b6da"
            ],
            [
             0.4,
             "#fde0ef"
            ],
            [
             0.5,
             "#f7f7f7"
            ],
            [
             0.6,
             "#e6f5d0"
            ],
            [
             0.7,
             "#b8e186"
            ],
            [
             0.8,
             "#7fbc41"
            ],
            [
             0.9,
             "#4d9221"
            ],
            [
             1,
             "#276419"
            ]
           ],
           "sequential": [
            [
             0,
             "#0d0887"
            ],
            [
             0.1111111111111111,
             "#46039f"
            ],
            [
             0.2222222222222222,
             "#7201a8"
            ],
            [
             0.3333333333333333,
             "#9c179e"
            ],
            [
             0.4444444444444444,
             "#bd3786"
            ],
            [
             0.5555555555555556,
             "#d8576b"
            ],
            [
             0.6666666666666666,
             "#ed7953"
            ],
            [
             0.7777777777777778,
             "#fb9f3a"
            ],
            [
             0.8888888888888888,
             "#fdca26"
            ],
            [
             1,
             "#f0f921"
            ]
           ],
           "sequentialminus": [
            [
             0,
             "#0d0887"
            ],
            [
             0.1111111111111111,
             "#46039f"
            ],
            [
             0.2222222222222222,
             "#7201a8"
            ],
            [
             0.3333333333333333,
             "#9c179e"
            ],
            [
             0.4444444444444444,
             "#bd3786"
            ],
            [
             0.5555555555555556,
             "#d8576b"
            ],
            [
             0.6666666666666666,
             "#ed7953"
            ],
            [
             0.7777777777777778,
             "#fb9f3a"
            ],
            [
             0.8888888888888888,
             "#fdca26"
            ],
            [
             1,
             "#f0f921"
            ]
           ]
          },
          "colorway": [
           "#636efa",
           "#EF553B",
           "#00cc96",
           "#ab63fa",
           "#FFA15A",
           "#19d3f3",
           "#FF6692",
           "#B6E880",
           "#FF97FF",
           "#FECB52"
          ],
          "font": {
           "color": "#2a3f5f"
          },
          "geo": {
           "bgcolor": "white",
           "lakecolor": "white",
           "landcolor": "#E5ECF6",
           "showlakes": true,
           "showland": true,
           "subunitcolor": "white"
          },
          "hoverlabel": {
           "align": "left"
          },
          "hovermode": "closest",
          "mapbox": {
           "style": "light"
          },
          "paper_bgcolor": "white",
          "plot_bgcolor": "#E5ECF6",
          "polar": {
           "angularaxis": {
            "gridcolor": "white",
            "linecolor": "white",
            "ticks": ""
           },
           "bgcolor": "#E5ECF6",
           "radialaxis": {
            "gridcolor": "white",
            "linecolor": "white",
            "ticks": ""
           }
          },
          "scene": {
           "xaxis": {
            "backgroundcolor": "#E5ECF6",
            "gridcolor": "white",
            "gridwidth": 2,
            "linecolor": "white",
            "showbackground": true,
            "ticks": "",
            "zerolinecolor": "white"
           },
           "yaxis": {
            "backgroundcolor": "#E5ECF6",
            "gridcolor": "white",
            "gridwidth": 2,
            "linecolor": "white",
            "showbackground": true,
            "ticks": "",
            "zerolinecolor": "white"
           },
           "zaxis": {
            "backgroundcolor": "#E5ECF6",
            "gridcolor": "white",
            "gridwidth": 2,
            "linecolor": "white",
            "showbackground": true,
            "ticks": "",
            "zerolinecolor": "white"
           }
          },
          "shapedefaults": {
           "line": {
            "color": "#2a3f5f"
           }
          },
          "ternary": {
           "aaxis": {
            "gridcolor": "white",
            "linecolor": "white",
            "ticks": ""
           },
           "baxis": {
            "gridcolor": "white",
            "linecolor": "white",
            "ticks": ""
           },
           "bgcolor": "#E5ECF6",
           "caxis": {
            "gridcolor": "white",
            "linecolor": "white",
            "ticks": ""
           }
          },
          "title": {
           "x": 0.05
          },
          "xaxis": {
           "automargin": true,
           "gridcolor": "white",
           "linecolor": "white",
           "ticks": "",
           "title": {
            "standoff": 15
           },
           "zerolinecolor": "white",
           "zerolinewidth": 2
          },
          "yaxis": {
           "automargin": true,
           "gridcolor": "white",
           "linecolor": "white",
           "ticks": "",
           "title": {
            "standoff": 15
           },
           "zerolinecolor": "white",
           "zerolinewidth": 2
          }
         }
        },
        "title": {
         "font": {
          "family": "Arial",
          "size": 20
         },
         "pad": {
          "t": 20
         },
         "text": "The chart was last updated on 2024-09-05 10:25"
        },
        "width": 1000,
        "xaxis": {
         "tickangle": 45,
         "title": {
          "text": "Date"
         }
        },
        "yaxis": {
         "range": [
          0,
          31.900000000000002
         ],
         "title": {
          "text": "Frequency"
         }
        }
       }
      }
     },
     "metadata": {},
     "output_type": "display_data"
    }
   ],
   "source": [
    "dataframe= df\n",
    "num=2\n",
    "last_ndays=7\n",
    "extra_stops = ['trump']\n",
    "save_filename='interactive_bigrams_7days'\n",
    "top_n=15\n",
    "\n",
    "ngram_time_last_n_days_interactive(dataframe=dataframe, \n",
    "                                   num =num, \n",
    "                                   extra_stops=extra_stops, \n",
    "                                   last_ndays=last_ndays,\n",
    "                                   save_filename =save_filename, \n",
    "                                   top_n=top_n)"
   ]
  },
  {
   "cell_type": "code",
   "execution_count": null,
   "metadata": {},
   "outputs": [],
   "source": []
  }
 ],
 "metadata": {
  "kernelspec": {
   "display_name": "Python 3",
   "language": "python",
   "name": "python3"
  },
  "language_info": {
   "codemirror_mode": {
    "name": "ipython",
    "version": 3
   },
   "file_extension": ".py",
   "mimetype": "text/x-python",
   "name": "python",
   "nbconvert_exporter": "python",
   "pygments_lexer": "ipython3",
   "version": "3.12.0"
  }
 },
 "nbformat": 4,
 "nbformat_minor": 2
}
