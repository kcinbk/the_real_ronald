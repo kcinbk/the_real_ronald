{
 "cells": [
  {
   "cell_type": "code",
   "execution_count": 199,
   "metadata": {},
   "outputs": [],
   "source": [
    "import pandas as pd\n",
    "pd.set_option(\"display.max_colwidth\", None)\n",
    "pd.set_option(\"display.max_rows\", 50)\n",
    "\n",
    "import json\n",
    "import numpy as np\n",
    "import matplotlib.pyplot as plt\n",
    "import seaborn as sns\n",
    "\n",
    "import datetime\n",
    "from datetime import datetime as dt\n",
    "import glob\n",
    "import os"
   ]
  },
  {
   "cell_type": "code",
   "execution_count": 200,
   "metadata": {},
   "outputs": [
    {
     "data": {
      "text/plain": [
       "['index.html',\n",
       " '.DS_Store',\n",
       " 'request_ronald.ipynb',\n",
       " 'viz',\n",
       " '.github',\n",
       " '.gitattributes',\n",
       " 'eda_ronald.ipynb',\n",
       " '.git',\n",
       " 'data']"
      ]
     },
     "execution_count": 200,
     "metadata": {},
     "output_type": "execute_result"
    }
   ],
   "source": [
    "os.listdir()"
   ]
  },
  {
   "cell_type": "code",
   "execution_count": 201,
   "metadata": {},
   "outputs": [],
   "source": [
    "# importing json files\n",
    "\n",
    "dfs=[]\n",
    "for file in glob.glob(\"data/*.json\"):\n",
    "    dataframe = pd.read_json(file)['posts']\n",
    "    # flatten the structure\n",
    "    dataframe = pd.json_normalize(dataframe)\n",
    "    # insert file names\n",
    "    dataframe['file_name'] = os.path.basename(file)\n",
    "    dfs.append(dataframe)\n",
    "\n",
    "# concatenate all data and drop repeated entries\n",
    "df=pd.concat(dfs).drop_duplicates(subset='uuid', keep='last')"
   ]
  },
  {
   "cell_type": "code",
   "execution_count": 202,
   "metadata": {},
   "outputs": [
    {
     "name": "stdout",
     "output_type": "stream",
     "text": [
      "<class 'pandas.core.frame.DataFrame'>\n",
      "Index: 16929 entries, 2 to 24\n",
      "Data columns (total 17 columns):\n",
      " #   Column             Non-Null Count  Dtype                     \n",
      "---  ------             --------------  -----                     \n",
      " 0   file_name          16929 non-null  object                    \n",
      " 1   uuid               16929 non-null  object                    \n",
      " 2   title              16929 non-null  object                    \n",
      " 3   content            16929 non-null  object                    \n",
      " 4   post_flair_text    16929 non-null  object                    \n",
      " 5   author             16929 non-null  object                    \n",
      " 6   author_flair_text  16929 non-null  object                    \n",
      " 7   created            16929 non-null  datetime64[ns, US/Eastern]\n",
      " 8   comments           16929 non-null  int64                     \n",
      " 9   score_up           16929 non-null  int64                     \n",
      " 10  preview            16929 non-null  object                    \n",
      " 11  link               16929 non-null  object                    \n",
      " 12  domain             16929 non-null  object                    \n",
      " 13  is_image           16929 non-null  bool                      \n",
      " 14  is_video           16929 non-null  bool                      \n",
      " 15  video_link         16929 non-null  object                    \n",
      " 16  created_date       16929 non-null  object                    \n",
      "dtypes: bool(2), datetime64[ns, US/Eastern](1), int64(2), object(12)\n",
      "memory usage: 2.1+ MB\n"
     ]
    },
    {
     "name": "stderr",
     "output_type": "stream",
     "text": [
      "/var/folders/f2/xbsrplkj23z71l_fw6890_hr0000gn/T/ipykernel_30554/3768255955.py:24: FutureWarning:\n",
      "\n",
      "Downcasting behavior in `replace` is deprecated and will be removed in a future version. To retain the old behavior, explicitly call `result.infer_objects(copy=False)`. To opt-in to the future behavior, set `pd.set_option('future.no_silent_downcasting', True)`\n",
      "\n"
     ]
    }
   ],
   "source": [
    "# slicing out only relevant columns \n",
    "\n",
    "selected_columns = [\n",
    "    'file_name',\n",
    "    'uuid', \n",
    "    'title',\n",
    "    'content',\n",
    "    'post_flair_text',\n",
    "    'author',\n",
    "    'author_flair_text',\n",
    "    'created',\n",
    "    'comments',\n",
    "    'score_up',\n",
    "    'preview',\n",
    "    'link',\n",
    "    'domain',\n",
    "    'is_image',\n",
    "    'is_video',\n",
    "    'video_link'\n",
    "    ]\t\n",
    "df = df[selected_columns]\n",
    "\n",
    "# Replace empty cell with Nan\n",
    "dataframe = dataframe.replace(r'^\\s*$', np.nan, regex=True)\n",
    "\n",
    "# Format datetime\n",
    "df['created'] = pd.to_datetime(df.created, unit='ms').dt.tz_localize('UTC').dt.tz_convert('US/Eastern')\n",
    "# crate a column storing \"date\" \n",
    "df['created_date'] = df['created'].dt.date\n",
    "df['created_date'] = df['created_date'].astype(str)\n",
    "\n",
    "\n",
    "# Fix empty or ill-formed domain column\n",
    "selfpost_mask = df.domain.str.match('^$')\n",
    "df.loc[selfpost_mask, 'domain'] = 'self_post'\n",
    "\n",
    "df.info(verbose=True, show_counts=True)"
   ]
  },
  {
   "cell_type": "code",
   "execution_count": 203,
   "metadata": {},
   "outputs": [],
   "source": [
    "# Unpack shortened domains\n",
    "import requests\n",
    "from requests.adapters import HTTPAdapter\n",
    "from urllib3.util.retry import Retry\n",
    "import tldextract\n",
    "\n",
    "common_shorts = [\n",
    "    \"adf.ly\", \"adfoc.us\", \"amzn.to\", \"atominik.com\", \"ay.gy\", \"b.link\", \"bhpho.to\", \"bit.ly\", \"bit.do\", \n",
    "    \"bn.gy\", \"branch.io\", \"buff.ly\", \"ceesty.com\", \"chollo.to\", \"cli.re\", \"cli.fm\", \"cutt.ly\", \"cutt.us\", \n",
    "    \"db.tt\", \"f.ls\", \"fa.by\", \"fb.me\", \"flip.it\", \"fumacrom.com\", \"git.io\", \"geni.us\", \"goo.gl\", \"gns.io\", \n",
    "    \"hmm.rs\", \"ht.ly\", \"hyperurl.co\", \"ity.im\", \"intamema.com\", \"is.gd\", \"j.gs\", \"j.mp\", \"kutt.it\", \"ldn.im\", \n",
    "    \"linklyhq.com\", \"microify.com\", \"mzl.la\", \"nmc.sg\", \"nowlinks.net\", \"ow.ly\", \"prf.hn\", \"plu.sh\", \"q.gs\", \n",
    "    \"qr.ae\", \"qr.net\", \"rebrand.ly\", \"rb.gy\", \"rlu.ru\", \"rotf.lol\", \"s.coop\", \"s.id\", \"sh.st\", \"soo.gd\", \n",
    "    \"shortcm.xyz\", \"short.gy\", \"shortcm.xyz\", \"shorturl.at\", \"smu.sg\", \"smq.tc\", \"snip.ly\", \"snipr.com\", \n",
    "    \"snipurl.com\", \"snurl.com\", \"split.to\", \"surl.li\", \"t.co\", \"t.ly\", \"t2m.io\", \"tiny.cc\", \"tiny.pl\", \n",
    "    \"tinyium.com\", \"tinyurl.com\", \"tiny.one\", \"tny.im\", \"tny.sh\", \"tr.im\", \"trib.al\", \"u.to\", \"v.gd\", \n",
    "    \"virg.in\", \"vzturl.com\", \"waa.ai\", \"washex.am\", \"x.co\", \"y2u.be\", \"yourwish.es\", \"zpr.io\", \"1url.com\", \n",
    "    \"2.gp\", \"3.ly\", \"4sq.com\", \"6url.com\", \"7.ly\", \"9.bb\", \"amp.gs\", \"atz.bz\", \"binged.it\",\n",
    "    \"budurl.com\", \"cort.as\", \"decenturl.com\", \"dft.ba\", \"goo.gl\", \"inbound.org\", \"itsh.bo\", \"mcaf.ee\",\n",
    "    \"n.pr\", \"nyti.ms\", \"on.fb.me\", \"prsm.tc\", \"redd.it\", \"tnw.to\", \"twt.fi\", \"u.nu\", \"virl.io\", \"wapo.st\",\n",
    "    \"wp.me\", \"xrl.us\",  \"zurl.ws\", \"dlvr.it\", 'msft.it', \"lnkd.in \", 'spr.ly', 'rebelne.ws', 'scroll.in', 'ab.co',\n",
    "    'hubs.li', 'bbc.in', 'nature.ly', 'cbsn.ws' , 'brnw.ch', 'youtu.be'\n",
    "                ]\n",
    "\n",
    "# Set up a Requests session with retries\n",
    "session = requests.Session()\n",
    "headers = {\n",
    "    'User-Agent':'Mozilla/5.0 (Macintosh; Intel Mac OS X 10_14_6) AppleWebKit/537.36 (KHTML, like Gecko) Chrome/109.0.0.0 Safari/537.36',\n",
    "    'Accept': 'text/html,application/xhtml+xml,application/xml;q=0.9,image/webp,*/*;q=0.8',\n",
    "    'Accept-Encoding': 'gzip, deflate, br',\n",
    "    'Accept-Language': 'en-US,en;q=0.5',\n",
    "    'Connection': 'keep-alive',\n",
    "    'Upgrade-Insecure-Requests': '1',\n",
    "    'DNT': '1',\n",
    "    'referer': 'https://www.google.com/'\n",
    "}\n",
    "\n",
    "headers = {\n",
    "        'User-Agent':'Mozilla/5.0 (Macintosh; Intel Mac OS X 10_14_6) AppleWebKit/537.36 (KHTML, like Gecko) Chrome/109.0.0.0 Safari/537.36',\n",
    "        'referer':'https://google.com',\n",
    "        'DNT':'1'\n",
    "    }\n",
    "\n",
    "# session.headers.update(headers)\n",
    "retries = Retry(total=4, backoff_factor=1, status_forcelist=[502, 503, 504])\n",
    "session.mount('http://', HTTPAdapter(max_retries=retries))\n",
    "session.mount('https://', HTTPAdapter(max_retries=retries))\n",
    "\n",
    "def check_connection(host='http://www.google.com'):\n",
    "    try:\n",
    "        session.get(host, timeout=1)\n",
    "        return True\n",
    "    except (requests.ConnectionError, requests.Timeout):\n",
    "        return False\n",
    "\n",
    "def wait_for_connection(interval=30, max_attempts=10):\n",
    "    attempts = 0\n",
    "    while not check_connection() and attempts < max_attempts:\n",
    "        time.sleep(interval)\n",
    "        attempts += 1\n",
    "    return attempts < max_attempts\n",
    "\n",
    "def resolve_url_head(short_url):\n",
    "    if not wait_for_connection():\n",
    "        raise ConnectionError(\"Internet connection could not be re-established.\")\n",
    "    try:\n",
    "        response = requests.head(short_url, allow_redirects=True, timeout=1)\n",
    "        return response.url if response.status_code == 200 else short_url\n",
    "    except requests.RequestException:\n",
    "        return short_url\n",
    "    \n",
    "def resolve_url_get(short_url):\n",
    "    if not wait_for_connection():\n",
    "        raise ConnectionError(\"Internet connection could not be re-established.\")\n",
    "    try:\n",
    "        response = session.get(short_url, allow_redirects=True, timeout=5)\n",
    "        return response.url if response.status_code == 200 else short_url\n",
    "    except requests.RequestException:\n",
    "        return short_url\n",
    "    if not wait_for_connection():\n",
    "        raise ConnectionError(\"Internet connection could not be re-established.\")\n",
    "    try:\n",
    "        response = session.get(url=shortend_url, allow_redirects=True, timeout=1)        \n",
    "   \n",
    "    except requests.RequestException:\n",
    "        return None    \n",
    "    \n",
    "df['domain'] = df['domain'].apply(lambda x: tldextract.extract(x).domain + \".\" + tldextract.extract(x).suffix if x != 'self_post' else 'self_post')\n",
    "short_mask = df['domain'].isin(common_shorts)\n",
    "df.loc[short_mask, 'domain'] = df.loc[short_mask, 'link'].apply(lambda x: resolve_url_get(x)).apply(lambda x: tldextract.extract(x).domain + \".\" + tldextract.extract(x).suffix)"
   ]
  },
  {
   "cell_type": "code",
   "execution_count": 204,
   "metadata": {},
   "outputs": [
    {
     "data": {
      "text/plain": [
       "domain\n",
       "twitter.com             0.370429\n",
       "scored.co               0.272609\n",
       "patriots.win            0.164274\n",
       "self_post               0.033197\n",
       "thegatewaypundit.com    0.018194\n",
       "youtube.com             0.016008\n",
       "videy.co                0.008624\n",
       "rumble.com              0.007384\n",
       "zerohedge.com           0.007147\n",
       "breitbart.com           0.006852\n",
       "Name: proportion, dtype: float64"
      ]
     },
     "execution_count": 204,
     "metadata": {},
     "output_type": "execute_result"
    }
   ],
   "source": [
    "# The top 10 most-shared domains on The Ronald's landing page\n",
    "df.domain.value_counts(normalize=True).head(10)"
   ]
  },
  {
   "cell_type": "code",
   "execution_count": 205,
   "metadata": {},
   "outputs": [
    {
     "data": {
      "text/plain": [
       "created_date\n",
       "2024-07-21     62\n",
       "2024-07-22    576\n",
       "2024-07-23    615\n",
       "2024-07-24    599\n",
       "2024-07-25    620\n",
       "2024-07-26    586\n",
       "2024-07-27    629\n",
       "2024-07-28    623\n",
       "2024-07-29    646\n",
       "2024-07-30    581\n",
       "2024-07-31    622\n",
       "2024-08-01    582\n",
       "2024-08-02    624\n",
       "2024-08-03    636\n",
       "2024-08-04    635\n",
       "2024-08-05    647\n",
       "2024-08-06    614\n",
       "2024-08-07    584\n",
       "2024-08-08    608\n",
       "2024-08-09    604\n",
       "2024-08-10    585\n",
       "2024-08-11    622\n",
       "2024-08-12    674\n",
       "2024-08-13    605\n",
       "2024-08-14    612\n",
       "2024-08-15    618\n",
       "2024-08-16    609\n",
       "2024-08-17    616\n",
       "2024-08-18    295\n",
       "Name: count, dtype: int64"
      ]
     },
     "execution_count": 205,
     "metadata": {},
     "output_type": "execute_result"
    }
   ],
   "source": [
    "# Number of posts in our datasets by date\n",
    "df.value_counts('created_date').sort_index()"
   ]
  },
  {
   "cell_type": "code",
   "execution_count": 206,
   "metadata": {},
   "outputs": [
    {
     "data": {
      "text/plain": [
       "created_date\n",
       "2024-07-22    576\n",
       "2024-07-23    615\n",
       "2024-07-24    599\n",
       "2024-07-25    620\n",
       "2024-07-26    586\n",
       "2024-07-27    629\n",
       "2024-07-28    623\n",
       "2024-07-29    646\n",
       "2024-07-30    581\n",
       "2024-07-31    622\n",
       "2024-08-01    582\n",
       "2024-08-02    624\n",
       "2024-08-03    636\n",
       "2024-08-04    635\n",
       "2024-08-05    647\n",
       "2024-08-06    614\n",
       "2024-08-07    584\n",
       "2024-08-08    608\n",
       "2024-08-09    604\n",
       "2024-08-10    585\n",
       "2024-08-11    622\n",
       "2024-08-12    674\n",
       "2024-08-13    605\n",
       "2024-08-14    612\n",
       "2024-08-15    618\n",
       "2024-08-16    609\n",
       "2024-08-17    616\n",
       "2024-08-18    295\n",
       "Name: count, dtype: int64"
      ]
     },
     "execution_count": 206,
     "metadata": {},
     "output_type": "execute_result"
    }
   ],
   "source": [
    "# Due to the lack of data, removing all posts from 2024-07-21\n",
    "\n",
    "df = df[df['created_date'] != '2024-07-21']\n",
    "\n",
    "df.value_counts('created_date').sort_index()"
   ]
  },
  {
   "cell_type": "code",
   "execution_count": 207,
   "metadata": {},
   "outputs": [
    {
     "name": "stderr",
     "output_type": "stream",
     "text": [
      "/var/folders/f2/xbsrplkj23z71l_fw6890_hr0000gn/T/ipykernel_30554/3108082903.py:2: DeprecationWarning:\n",
      "\n",
      "DataFrameGroupBy.apply operated on the grouping columns. This behavior is deprecated, and in a future version of pandas the grouping columns will be excluded from the operation. Either pass `include_groups=False` to exclude the groupings or explicitly select the grouping columns after groupby to silence this warning.\n",
      "\n"
     ]
    },
    {
     "data": {
      "text/plain": [
       "created_date\n",
       "2024-07-22    500\n",
       "2024-07-23    500\n",
       "2024-07-24    500\n",
       "2024-07-25    500\n",
       "2024-07-26    500\n",
       "2024-07-27    500\n",
       "2024-07-28    500\n",
       "2024-07-29    500\n",
       "2024-07-30    500\n",
       "2024-07-31    500\n",
       "2024-08-01    500\n",
       "2024-08-02    500\n",
       "2024-08-03    500\n",
       "2024-08-04    500\n",
       "2024-08-05    500\n",
       "2024-08-06    500\n",
       "2024-08-07    500\n",
       "2024-08-08    500\n",
       "2024-08-09    500\n",
       "2024-08-10    500\n",
       "2024-08-11    500\n",
       "2024-08-12    500\n",
       "2024-08-13    500\n",
       "2024-08-14    500\n",
       "2024-08-15    500\n",
       "2024-08-16    500\n",
       "2024-08-17    500\n",
       "2024-08-18    295\n",
       "Name: count, dtype: int64"
      ]
     },
     "execution_count": 207,
     "metadata": {},
     "output_type": "execute_result"
    }
   ],
   "source": [
    "# Keep only the top 500 posts by \"score_up\" from each date so that the playing field is more leveled\n",
    "df = df.groupby('created_date').apply(lambda x: x.nlargest(500, 'score_up')).reset_index(drop=True)\n",
    "\n",
    "df.value_counts(\"created_date\").sort_index()"
   ]
  },
  {
   "cell_type": "code",
   "execution_count": 208,
   "metadata": {},
   "outputs": [
    {
     "name": "stderr",
     "output_type": "stream",
     "text": [
      "/var/folders/f2/xbsrplkj23z71l_fw6890_hr0000gn/T/ipykernel_30554/3006735851.py:4: FutureWarning:\n",
      "\n",
      "A value is trying to be set on a copy of a DataFrame or Series through chained assignment using an inplace method.\n",
      "The behavior will change in pandas 3.0. This inplace method will never work because the intermediate object on which we are setting values always behaves as a copy.\n",
      "\n",
      "For example, when doing 'df[col].method(value, inplace=True)', try using 'df.method({col: value}, inplace=True)' or df[col] = df[col].method(value) instead, to perform the operation inplace on the original object.\n",
      "\n",
      "\n",
      "\n"
     ]
    },
    {
     "data": {
      "text/plain": [
       "twitter_handle\n",
       "elonmusk        190\n",
       "behizytweets    188\n",
       "endwokeness     109\n",
       "libsoftiktok     98\n",
       "dc_draino        85\n",
       "immeme0          84\n",
       "rncresearch      80\n",
       "catturd2         75\n",
       "bennyjohnson     72\n",
       "nicksortor       58\n",
       "Name: count, dtype: int64"
      ]
     },
     "execution_count": 208,
     "metadata": {},
     "output_type": "execute_result"
    }
   ],
   "source": [
    "# Extract twitter handles \n",
    "df[df.domain =='twitter.com'].link.str.split('/').str[3].str.lower()\n",
    "df.loc[df.domain == 'twitter.com', 'twitter_handle'] = df[df.domain == 'twitter.com'].link.str.split('/').str[3].str.lower()\n",
    "df['twitter_handle'].fillna(np.nan, inplace=True)\n",
    "\n",
    "# Top twitter handles mentioned\n",
    "df.value_counts('twitter_handle', ascending=False).head(10)"
   ]
  },
  {
   "cell_type": "code",
   "execution_count": 218,
   "metadata": {},
   "outputs": [
    {
     "name": "stderr",
     "output_type": "stream",
     "text": [
      "[nltk_data] Downloading package wordnet to\n",
      "[nltk_data]     /Users/keenansmacbookairm3/nltk_data...\n",
      "[nltk_data]   Package wordnet is already up-to-date!\n"
     ]
    }
   ],
   "source": [
    "import spacy\n",
    "import nltk\n",
    "nltk.download('wordnet')\n",
    "from nltk import bigrams, trigrams\n",
    "nlp = spacy.load('en_core_web_lg')\n",
    "stopwords = list(nlp.Defaults.stop_words)\n",
    "\n",
    "\n",
    "import contractions\n",
    "import emoji\n",
    "import re\n",
    "\n",
    "\n",
    "\n",
    "def clean_it_all_up (text):\n",
    "    text = emoji.replace_emoji(text)\n",
    "    text = contractions.fix(text)\n",
    "    text = re.sub(r'\\W+', ' ', text)\n",
    "    doc = nlp(text)\n",
    "    lemmatized_tokens = []\n",
    "    \n",
    "    for token in doc:\n",
    "        if (\n",
    "            token.text.lower() not in stopwords\n",
    "            # and token.pos_ in {'NOUN', 'PROPN', 'VERB', 'ADJ'} \n",
    "            # and token.ent_type_ not in {'GPE', 'LOC'}\n",
    "            and token.pos_ not in {\"AUX\",\"CONJ\", \"CCONJ\", \"DET\", \"INTJ\", \"PART\", \"PUNCT\", \"SYM\", \"X\", \"SPACE\"}\n",
    "        ):\n",
    "          \n",
    "            \n",
    "            lemmatized_tokens.append(token.lemma_.lower())\n",
    "            \n",
    "    return \" \".join(lemmatized_tokens)   "
   ]
  },
  {
   "cell_type": "code",
   "execution_count": 219,
   "metadata": {},
   "outputs": [],
   "source": [
    "def date_selection(start_date, end_date):\n",
    "    start_date = datetime.datetime.strptime(start_date, \"%Y-%m-%d\")\n",
    "    end_date = end_date = datetime.datetime.strptime(end_date, \"%Y-%m-%d\")\n",
    "\n",
    "    date_list = []\n",
    "    current_date = start_date\n",
    "    date_list.append(current_date.strftime('%Y-%m-%d'))\n",
    "\n",
    "    while current_date < end_date:\n",
    "        next_date = current_date + datetime.timedelta(days=1)\n",
    "        next_date = next_date\n",
    "        if next_date >= end_date:\n",
    "            next_date = end_date\n",
    "        date_list.append(next_date.strftime('%Y-%m-%d'))\n",
    "        current_date = next_date\n",
    "\n",
    "    return date_list\n"
   ]
  },
  {
   "cell_type": "code",
   "execution_count": 220,
   "metadata": {},
   "outputs": [],
   "source": [
    "def ngram_generator(num, start_date, end_date, top_n=None):\n",
    "    \n",
    "    date_list = date_selection(start_date, end_date)\n",
    "\n",
    "    cleaned_tokens = ' '.join(df[df.created_date.isin(date_list)]['title'].apply(clean_it_all_up).tolist())\n",
    "    if num == 1:\n",
    "        ngram = pd.Series(cleaned_tokens.split()).value_counts()\n",
    "    elif num == 2:\n",
    "        ngram = pd.Series(list(bigrams(cleaned_tokens.split()))).value_counts()\n",
    "    elif num == 3:\n",
    "        ngram = pd.Series(list(trigrams(cleaned_tokens.split()))).value_counts()\n",
    "    else:\n",
    "        raise ValueError('Invalid number. Must choose between 1, 2, or 3.')\n",
    "    \n",
    "    ngram = ngram[ngram > 1].head(top_n)\n",
    "    return ngram\n"
   ]
  },
  {
   "cell_type": "code",
   "execution_count": 221,
   "metadata": {},
   "outputs": [],
   "source": [
    "# Function of returning top ngrams from the past 24 hours\n",
    "\n",
    "def ngram_generator_24hrs(num, top_n=None):\n",
    "    end_date = datetime.datetime.now()\n",
    "    start_date = end_date - datetime.timedelta(days=1)\n",
    "    \n",
    "    start_date = start_date.strftime(\"%Y-%m-%d\")\n",
    "    end_date = end_date.strftime(\"%Y-%m-%d\")\n",
    "    \n",
    "    return ngram_generator(num, start_date, end_date, top_n)"
   ]
  },
  {
   "cell_type": "code",
   "execution_count": 223,
   "metadata": {},
   "outputs": [
    {
     "data": {
      "text/plain": [
       "(kamala, harris)          38\n",
       "(wilkes, barre)           11\n",
       "(donald, trump)           11\n",
       "(biden, harris)           10\n",
       "(trump, rally)             9\n",
       "(president, trump)         9\n",
       "(tim, walz)                8\n",
       "(barre, pa)                7\n",
       "(look, like)               6\n",
       "(vote, trump)              6\n",
       "(sunday, gunday)           6\n",
       "(price, control)           6\n",
       "(year, old)                6\n",
       "(harris, say)              5\n",
       "(don, lemon)               5\n",
       "(year, prison)             5\n",
       "(fake, news)               5\n",
       "(rally, wilkes)            5\n",
       "(fight, fight)             4\n",
       "(business, board)          4\n",
       "(jd, vance)                4\n",
       "(price, gouging)           4\n",
       "(national, convention)     4\n",
       "(illegal, alien)           4\n",
       "(joy, slogan)              4\n",
       "(democratic, national)     4\n",
       "(register, vote)           4\n",
       "(washington, post)         4\n",
       "(secretary, state)         4\n",
       "(harris, campaign)         4\n",
       "(million, like)            4\n",
       "(hold, rally)              4\n",
       "(strength, joy)            4\n",
       "(3, year)                  4\n",
       "(taylor, swift)            3\n",
       "(descend, chicago)         3\n",
       "(cut, medicare)            3\n",
       "(operation, brazil)        3\n",
       "(trump, 2024)              3\n",
       "(new, jersey)              3\n",
       "(elon, musk)               3\n",
       "(south, dakota)            3\n",
       "(dakota, couple)           3\n",
       "(japanese, religion)       3\n",
       "(couple, face)             3\n",
       "(immigrant, go)            3\n",
       "(gen, z)                   3\n",
       "(nyc, black)               3\n",
       "(trump, lose)              3\n",
       "(sound, familiar)          3\n",
       "Name: count, dtype: int64"
      ]
     },
     "execution_count": 223,
     "metadata": {},
     "output_type": "execute_result"
    }
   ],
   "source": [
    "ngram_generator_24hrs(2,50)"
   ]
  },
  {
   "cell_type": "code",
   "execution_count": 226,
   "metadata": {},
   "outputs": [],
   "source": [
    "# A function of returning top ngrams from the past 7 days\n",
    "\n",
    "def ngram_generator_7days(num, top_n=None):\n",
    "    end_date = datetime.datetime.now()\n",
    "    start_date = end_date - datetime.timedelta(days=7)\n",
    "    \n",
    "    start_date = start_date.strftime(\"%Y-%m-%d\")\n",
    "    end_date = end_date.strftime(\"%Y-%m-%d\")\n",
    "    \n",
    "    return ngram_generator(num, start_date, end_date, top_n)"
   ]
  },
  {
   "cell_type": "code",
   "execution_count": 227,
   "metadata": {},
   "outputs": [
    {
     "data": {
      "text/plain": [
       "(kamala, harris)      178\n",
       "(tim, walz)            84\n",
       "(president, trump)     76\n",
       "(elon, musk)           60\n",
       "(donald, trump)        53\n",
       "(jd, vance)            43\n",
       "(year, old)            38\n",
       "(biden, harris)        38\n",
       "(secret, service)      36\n",
       "(harris, campaign)     32\n",
       "Name: count, dtype: int64"
      ]
     },
     "execution_count": 227,
     "metadata": {},
     "output_type": "execute_result"
    }
   ],
   "source": [
    "ngram_generator_7days(2,10)"
   ]
  },
  {
   "cell_type": "code",
   "execution_count": 228,
   "metadata": {},
   "outputs": [],
   "source": [
    "# A function to return a wordcloud chart covering a specific period of dates\n",
    "from wordcloud import WordCloud\n",
    "\n",
    "def ngram_cloud(num, start_date, end_date, top_n=None):\n",
    "    ngram = ngram_generator(num=num, start_date=start_date, end_date=end_date, top_n=top_n)\n",
    "    words_cloud = pd.DataFrame(ngram, columns=['count']).reset_index().rename(columns={'index': 'phrases'})\n",
    "    words_cloud['phrases'] = words_cloud['phrases'].apply(lambda x: ', '.join(x) if isinstance(x,tuple) else x)\n",
    "    words_cloud['phrases'] = words_cloud['phrases'].str.replace(',', '')\n",
    "    wordcloud = WordCloud(width=800, height=400, background_color='white').\\\n",
    "    generate_from_frequencies(words_cloud.set_index('phrases')['count'].to_dict())\n",
    "    plt.figure(figsize=(10,8))\n",
    "    plt.imshow(wordcloud, interpolation='bilinear')\n",
    "    plt.axis('off')"
   ]
  },
  {
   "cell_type": "code",
   "execution_count": 229,
   "metadata": {},
   "outputs": [],
   "source": [
    "# A function to return a wordcloud chart covering ONLY the past 24 hours\n",
    "\n",
    "def ngram_24hrs_cloud(num, save_viz, top_n=None):\n",
    "    ngram = ngram_generator_24hrs(num, top_n=None)\n",
    "    words_cloud = pd.DataFrame(ngram, columns=['count']).reset_index().rename(columns={'index': 'phrases'})\n",
    "    words_cloud['phrases'] = words_cloud['phrases'].apply(lambda x: ', '.join(x) if isinstance(x,tuple) else x)\n",
    "    words_cloud['phrases'] = words_cloud['phrases'].str.replace(',', '')\n",
    "    wordcloud = WordCloud(width=800, height=400, background_color='white').\\\n",
    "    generate_from_frequencies(words_cloud.set_index('phrases')['count'].to_dict())\n",
    "    plt.figure(figsize=(10,8))\n",
    "    plt.imshow(wordcloud, \n",
    "               interpolation='nearest',\n",
    "               aspect=\"auto\"\n",
    "               )\n",
    "    plt.title(f\"Top {top_n} bigrams in the last 24 hours\",\n",
    "              fontsize=20,\n",
    "              pad=25,\n",
    "              )\n",
    "    plt.axis('off')\n",
    "\n",
    "    if save_viz is not None:\n",
    "        plt.savefig(f\"viz/{save_viz}.jpeg\",\n",
    "                    dpi=600\n",
    "                    )\n",
    "        plt.show()\n",
    "    else:\n",
    "        plt.show()"
   ]
  },
  {
   "cell_type": "code",
   "execution_count": 230,
   "metadata": {},
   "outputs": [
    {
     "data": {
      "text/plain": [
       "(kamala, harris)      178\n",
       "(tim, walz)            84\n",
       "(president, trump)     76\n",
       "(elon, musk)           60\n",
       "(donald, trump)        53\n",
       "(jd, vance)            43\n",
       "(year, old)            38\n",
       "(biden, harris)        38\n",
       "(secret, service)      36\n",
       "(harris, campaign)     32\n",
       "Name: count, dtype: int64"
      ]
     },
     "execution_count": 230,
     "metadata": {},
     "output_type": "execute_result"
    }
   ],
   "source": [
    "ngram_generator_7days(num=2, top_n=10)"
   ]
  },
  {
   "cell_type": "code",
   "execution_count": 231,
   "metadata": {},
   "outputs": [
    {
     "data": {
      "image/png": "[encoded data removed]",
      "text/plain": [
       "<Figure size 1000x800 with 1 Axes>"
      ]
     },
     "metadata": {},
     "output_type": "display_data"
    }
   ],
   "source": [
    "# creating and saving the top 50 bigrams from the last 24 hours\n",
    "\n",
    "num = 2\n",
    "top_n = 50\n",
    "save_viz = 'bigrams_wordcloud_24hrs'\n",
    "ngram_24hrs_cloud(num, top_n=top_n, save_viz=save_viz)\n"
   ]
  },
  {
   "cell_type": "code",
   "execution_count": 232,
   "metadata": {},
   "outputs": [],
   "source": [
    "# A function to return a wordcloud chart covering ONLY the past 7 days\n",
    "\n",
    "\n",
    "def ngram_7days_cloud(num, save_viz, top_n=None):\n",
    "    ngram = ngram_generator_7days(num, top_n=None)\n",
    "    words_cloud = pd.DataFrame(ngram, columns=['count']).reset_index().rename(columns={'index': 'phrases'})\n",
    "    words_cloud['phrases'] = words_cloud['phrases'].apply(lambda x: ', '.join(x) if isinstance(x,tuple) else x)\n",
    "    words_cloud['phrases'] = words_cloud['phrases'].str.replace(',', '')\n",
    "    wordcloud = WordCloud(width=800, height=400, background_color='white').\\\n",
    "    generate_from_frequencies(words_cloud.set_index('phrases')['count'].to_dict())\n",
    "    plt.figure(figsize=(10,8))\n",
    "    plt.imshow(wordcloud, interpolation='bilinear')\n",
    "    plt.axis('off')\n",
    "\n",
    "    if save_viz is not None:\n",
    "        plt.savefig(f\"viz/{save_viz}.jpeg\",\n",
    "                    dpi=600\n",
    "                    )\n",
    "        plt.show()\n",
    "    else:\n",
    "        plt.show()"
   ]
  },
  {
   "cell_type": "code",
   "execution_count": 233,
   "metadata": {},
   "outputs": [],
   "source": [
    "# A summary table of authors based on a given date\n",
    "def top_acounts(start_date, end_date, top_n=None):\n",
    "    date_list = date_selection(start_date, end_date)\n",
    "    top_authors = df[df['created_date'].isin(date_list)]['author'].value_counts().reset_index()\n",
    "    top_authors = top_authors[top_authors['count']>1]\n",
    "    comments_total = df.groupby('author').comments.sum()\n",
    "    upvotes_total = df.groupby('author').score_up.sum()\n",
    "    top_authors =  top_authors.merge(comments_total, on='author').merge(upvotes_total, on='author')\n",
    "    top_authors = top_authors.rename(columns={\n",
    "                                        'author': 'top_authors',\n",
    "                                        'count' : 'posts',\n",
    "                                        'comments': 'accumulated_comments',\n",
    "                                        'score_up': 'accumulated_upvotes'\n",
    "                                        })\n",
    "    top_authors = top_authors.sort_values('posts', ascending=False).head(top_n)\n",
    "    return  top_authors"
   ]
  },
  {
   "cell_type": "code",
   "execution_count": 234,
   "metadata": {},
   "outputs": [],
   "source": [
    "# This function returns the most posted domains from a specific period of time\n",
    "\n",
    "def top_domains(start_date, end_date, top_n=None):\n",
    "    date_list = date_selection(start_date, end_date)\n",
    "    top_urls = df[df['created_date'].isin(date_list)]['domain'].value_counts(dropna=False, normalize=True).head(top_n)\n",
    "    return top_urls"
   ]
  },
  {
   "cell_type": "code",
   "execution_count": 235,
   "metadata": {},
   "outputs": [],
   "source": [
    "# This function returns the most posted domains from the last 7 days\n",
    "\n",
    "def top_domains_7days(top_n=None):\n",
    "    end_date = datetime.datetime.now()\n",
    "    start_date = end_date - datetime.timedelta(days=7)\n",
    "    \n",
    "    start_date = start_date.strftime(\"%Y-%m-%d\")\n",
    "    end_date = end_date.strftime(\"%Y-%m-%d\")\n",
    "\n",
    "    date_list = date_selection(start_date, end_date)\n",
    "    top_urls = df[df['created_date'].isin(date_list)]['domain'].value_counts(dropna=False, normalize=True).head(top_n)\n",
    "    return top_urls"
   ]
  },
  {
   "cell_type": "code",
   "execution_count": 236,
   "metadata": {},
   "outputs": [],
   "source": [
    "# Popular Twitter accounts on The Ronald\n",
    "\n",
    "def top_xitter(start_date, end_date, top_n=None):\n",
    "    date_list = date_selection(start_date, end_date)\n",
    "    xiter_accounts = df[(df.link.str.contains('twitter.com'))& (df['created_date'].isin(date_list))]\n",
    "    top_xitter = xiter_accounts['link'].str.split('/').str[3].str.lower().value_counts(normalize=False, dropna=False).head(top_n)\n",
    "    return top_xitter"
   ]
  },
  {
   "cell_type": "code",
   "execution_count": 237,
   "metadata": {},
   "outputs": [
    {
     "data": {
      "text/plain": [
       "author               twitter_handle\n",
       "DeusVult1096         behizytweets      42\n",
       "Trump_Is_My_Daddy    elonmusk          25\n",
       "I-am-Orlando         behizytweets      23\n",
       "Mr_Rightside         behizytweets      22\n",
       "kinbergfan           julie_kelly2      20\n",
       "PiratePatriotParrot  behizytweets      16\n",
       "MickHigan2           i                 16\n",
       "Patriotsrock4ever    i                 16\n",
       "KuzoKevin            saras76           15\n",
       "Trump_Is_My_Daddy    dc_draino         15\n",
       "Name: count, dtype: int64"
      ]
     },
     "execution_count": 237,
     "metadata": {},
     "output_type": "execute_result"
    }
   ],
   "source": [
    "df.groupby(['author', 'twitter_handle'])['twitter_handle'].value_counts().sort_values(ascending=False).head(10)"
   ]
  },
  {
   "cell_type": "code",
   "execution_count": 238,
   "metadata": {},
   "outputs": [],
   "source": [
    "# a ngram generator that returns date-based\n",
    "\n",
    "def new_ngram_generator(num, start_date, end_date, top_n=None):\n",
    "    # Filter dates\n",
    "    date_list = date_selection(start_date, end_date)\n",
    "    \n",
    "    # Filter and process data\n",
    "    filtered_df = df[df.created_date.isin(date_list)]\n",
    "    filtered_df['cleaned_title'] = filtered_df['title'].apply(clean_it_all_up)\n",
    "    \n",
    "    ngrams_with_dates = []\n",
    "    \n",
    "    for index, row in filtered_df.iterrows():\n",
    "        tokens = row['cleaned_title'].split()\n",
    "        if num ==1:\n",
    "            unigrams_list = list(tokens)\n",
    "            for unigram in unigrams_list:\n",
    "                ngrams_with_dates.append((unigram, row['created_date']))\n",
    "        elif num == 2:\n",
    "            bigrams_list = list(bigrams(tokens))\n",
    "            for bigram in bigrams_list:\n",
    "                ngrams_with_dates.append((bigram, row['created_date']))\n",
    "        elif num == 3:\n",
    "            trigrams_list = list(trigrams(tokens))\n",
    "            for trigram in trigrams_list:\n",
    "                ngrams_with_dates.append((trigram, row['created_date']))\n",
    "        else:\n",
    "            raise ValueError('Invalid number. Must choose between 2 or 3.')\n",
    "    \n",
    "    ngram_df = pd.DataFrame(ngrams_with_dates, columns=['ngram', 'date']).head(top_n)\n",
    "    return ngram_df\n"
   ]
  },
  {
   "cell_type": "code",
   "execution_count": 239,
   "metadata": {},
   "outputs": [],
   "source": [
    "def ngram_time_series(num, start_date, end_date, save_viz, top_n=None, ):\n",
    "\n",
    "    ngrams_df = new_ngram_generator(num=num, start_date=start_date, end_date=end_date, top_n=None)\n",
    "\n",
    "    ngrams_df['date'] = pd.to_datetime(ngrams_df['date'])\n",
    "\n",
    "    ngrams_counts = ngrams_df.groupby([ngrams_df['date'].dt.to_period('d'), 'ngram']).size().reset_index(name='count')\n",
    "\n",
    "    top_ngrams = ngrams_counts.groupby('ngram')['count'].sum().nlargest(top_n).index\n",
    "\n",
    "    top_ngrams_counts = ngrams_counts[ngrams_counts['ngram'].isin(top_ngrams)]\n",
    "\n",
    "    top_ngram_pivot = top_ngrams_counts.pivot(index='date', columns='ngram', values='count').fillna(0)\n",
    "\n",
    "    top_ngram_pivot.index = top_ngram_pivot.index.to_timestamp()\n",
    "\n",
    "    plt.figure(figsize=(10, 8))\n",
    "\n",
    "\n",
    "    top_ngram_plot = sns.lineplot(data=top_ngram_pivot)\n",
    "\n",
    "    plt.xlabel('')\n",
    "    plt.ylabel('Mention count')\n",
    "    plt.title(f'Top bigrams on the landing page of The Ronald between {start_date} and {end_date}')\n",
    "\n",
    "    plt.xticks(rotation=45) \n",
    "    plt.grid(True)\n",
    "\n",
    "    plt.legend(title='Top Bigrams', bbox_to_anchor=(1.3, 1), loc='upper right')\n",
    "    \n",
    "    if save_viz is not None:\n",
    "        plt.savefig(f\"viz/{save_viz}.jpeg\",\n",
    "                    dpi=600\n",
    "                    )\n",
    "        plt.show()\n",
    "    else:\n",
    "        plt.show()"
   ]
  },
  {
   "cell_type": "code",
   "execution_count": 240,
   "metadata": {},
   "outputs": [],
   "source": [
    "# create interactive charts with Plotly\n",
    "\n",
    "import plotly.graph_objs as go\n",
    "\n",
    "def ngram_time_series_interactive(num, start_date, end_date, save_viz, top_n=None):\n",
    "    ngrams_df = new_ngram_generator(num=num, start_date=start_date, end_date=end_date, top_n=None)\n",
    "\n",
    "    ngrams_df['date'] = pd.to_datetime(ngrams_df['date'])\n",
    "\n",
    "    ngrams_counts = ngrams_df.groupby([ngrams_df['date'].dt.to_period('d'), 'ngram']).size().reset_index(name='count')\n",
    "\n",
    "    top_ngrams = ngrams_counts.groupby('ngram')['count'].sum().nlargest(top_n).index\n",
    "\n",
    "    top_ngrams_counts = ngrams_counts[ngrams_counts['ngram'].isin(top_ngrams)]\n",
    "\n",
    "    top_ngram_pivot = top_ngrams_counts.pivot(index='date', columns='ngram', values='count').fillna(0)\n",
    "\n",
    "    top_ngram_pivot.index = top_ngram_pivot.index.to_timestamp()\n",
    "\n",
    "    fig = go.Figure()\n",
    "\n",
    "    for ngram in top_ngram_pivot.columns:\n",
    "        fig.add_trace(go.Scatter(\n",
    "            x=top_ngram_pivot.index, \n",
    "            y=top_ngram_pivot[ngram], \n",
    "            mode='lines', \n",
    "            name=str(ngram)))\n",
    "\n",
    "    fig.update_layout(\n",
    "        width=1400,\n",
    "        height=800,\n",
    "        title=f'Top bigrams on the landing page of The Ronald between {start_date} and {end_date}',\n",
    "        xaxis_title='Date',\n",
    "        yaxis_title='Mention count',\n",
    "        xaxis=dict(tickangle=45),\n",
    "        legend_title_text='Top Bigrams'\n",
    "    )\n",
    "\n",
    "    if save_viz is not None:\n",
    "        plt.savefig(f\"viz/{save_viz}.jpeg\",\n",
    "                    dpi=600\n",
    "                    )\n",
    "        plt.show()\n",
    "    else:\n",
    "        plt.show()"
   ]
  },
  {
   "cell_type": "code",
   "execution_count": 241,
   "metadata": {},
   "outputs": [],
   "source": [
    "# This function would only cover the past n days\n",
    "\n",
    "def ngram_time_last_n_days_interactive(num, last_ndays, top_n=None):\n",
    "    end_date = pd.to_datetime(df['created_date'].max())\n",
    "    start_date = end_date - pd.Timedelta(days=last_ndays)\n",
    "    start_date= start_date.strftime(\"%Y-%m-%d\")\n",
    "    end_date= end_date.strftime(\"%Y-%m-%d\")\n",
    "\n",
    "    ngrams_df = new_ngram_generator(num=num, start_date=start_date, end_date=end_date, top_n=None)\n",
    "\n",
    "    ngrams_df['date'] = pd.to_datetime(ngrams_df['date'])\n",
    "    ngrams_counts = ngrams_df.groupby([ngrams_df['date'].dt.to_period('d'), 'ngram']).size().reset_index(name='count')\n",
    "    \n",
    "    top_ngrams = ngrams_counts.groupby('ngram')['count'].sum().nlargest(top_n).index\n",
    "    top_ngrams_counts = ngrams_counts[ngrams_counts['ngram'].isin(top_ngrams)]\n",
    "\n",
    "    top_ngram_pivot = top_ngrams_counts.pivot(index='date', columns='ngram', values='count').fillna(0)\n",
    "    top_ngram_pivot.index = top_ngram_pivot.index.to_timestamp()\n",
    "\n",
    "\n",
    "    y_max=top_ngram_pivot.values.max()\n",
    "    y_range=[0, y_max * 1.1]\n",
    "\n",
    "    fig = go.Figure()\n",
    "\n",
    "    for ngram in top_ngram_pivot.columns:\n",
    "        fig.add_trace(go.Scatter(\n",
    "            x=top_ngram_pivot.index, \n",
    "            y=top_ngram_pivot[ngram], \n",
    "            mode='lines', \n",
    "            name=str(ngram)))\n",
    "        \n",
    "    fig.update_traces(line={'width': 5})\n",
    "\n",
    "    fig.update_layout(\n",
    "        width=1200,\n",
    "        height=800,\n",
    "        title=f'Top bigrams on the landing page of The Ronald between {start_date} and {end_date}',\n",
    "        xaxis=dict(title='Date',\n",
    "                   tickangle=45), \n",
    "        yaxis=dict(title='Mention count', \n",
    "                   range=y_range),\n",
    "        legend_title_text='Top Bigrams'\n",
    ")\n",
    "\n",
    "    fig.show()"
   ]
  },
  {
   "cell_type": "code",
   "execution_count": 247,
   "metadata": {},
   "outputs": [],
   "source": [
    "# This function would only cover the past 7 days\n",
    "\n",
    "def ngram_time_last_7_days_interactive(num, save_viz, top_n=None):\n",
    "    end_date = pd.to_datetime(df['created_date'].max())\n",
    "    start_date = end_date - pd.Timedelta(days=7)\n",
    "    start_date= start_date.strftime(\"%Y-%m-%d\")\n",
    "    end_date= end_date.strftime(\"%Y-%m-%d\")\n",
    "\n",
    "    ngrams_df = new_ngram_generator(num=num, start_date=start_date, end_date=end_date, top_n=None)\n",
    "\n",
    "    ngrams_df['date'] = pd.to_datetime(ngrams_df['date'])\n",
    "    ngrams_counts = ngrams_df.groupby([ngrams_df['date'].dt.to_period('d'), 'ngram']).size().reset_index(name='count')\n",
    "    \n",
    "    top_ngrams = ngrams_counts.groupby('ngram')['count'].sum().nlargest(top_n).index\n",
    "    top_ngrams_counts = ngrams_counts[ngrams_counts['ngram'].isin(top_ngrams)]\n",
    "\n",
    "    top_ngram_pivot = top_ngrams_counts.pivot(index='date', columns='ngram', values='count').fillna(0)\n",
    "    top_ngram_pivot.index = top_ngram_pivot.index.to_timestamp()\n",
    "\n",
    "\n",
    "    y_max=top_ngram_pivot.values.max()\n",
    "    y_range=[0, y_max * 1.1]\n",
    "\n",
    "    fig = go.Figure()\n",
    "\n",
    "    for ngram in top_ngram_pivot.columns:\n",
    "        fig.add_trace(go.Scatter(\n",
    "            x=top_ngram_pivot.index, \n",
    "            y=top_ngram_pivot[ngram], \n",
    "            mode='lines', \n",
    "            name=str(ngram)))\n",
    "        \n",
    "    fig.update_traces(line={'width': 5})\n",
    "\n",
    "\n",
    "    fig.update_layout(\n",
    "        width=1200,\n",
    "        height=800,\n",
    "        title = dict(\n",
    "            text = f\"Top {top_n} bigrams on The Ronald's landing page in the last 7 days\",\n",
    "            font = dict(family = \"Ariel\", \n",
    "                        size = 30),\n",
    "            pad=dict(t=20)\n",
    "        ),\n",
    "        xaxis=dict(title='Date',\n",
    "                   tickangle=45), \n",
    "        yaxis=dict(title='Mention count', \n",
    "                   range=y_range),\n",
    "        legend_title = dict(\n",
    "            text= '<b>Top Bigrams<br>(try cliking these variables)</b>',\n",
    "            font = dict(family = \"Courier\", \n",
    "                        color= 'firebrick',\n",
    "                        size = 15),\n",
    "        )   \n",
    ")\n",
    "    \n",
    "\n",
    "    if save_viz is not None:\n",
    "        fig.write_html(f\"viz/{save_viz}.html\")\n",
    "        fig.show()\n",
    "    else:\n",
    "        fig.show()\n"
   ]
  },
  {
   "cell_type": "code",
   "execution_count": 248,
   "metadata": {},
   "outputs": [
    {
     "name": "stderr",
     "output_type": "stream",
     "text": [
      "/var/folders/f2/xbsrplkj23z71l_fw6890_hr0000gn/T/ipykernel_30554/2655735208.py:9: SettingWithCopyWarning:\n",
      "\n",
      "\n",
      "A value is trying to be set on a copy of a slice from a DataFrame.\n",
      "Try using .loc[row_indexer,col_indexer] = value instead\n",
      "\n",
      "See the caveats in the documentation: https://pandas.pydata.org/pandas-docs/stable/user_guide/indexing.html#returning-a-view-versus-a-copy\n",
      "\n"
     ]
    },
    {
     "data": {
      "application/vnd.plotly.v1+json": {
       "config": {
        "plotlyServerURL": "https://plot.ly"
       },
       "data": [
        {
         "line": {
          "width": 5
         },
         "mode": "lines",
         "name": "('biden', 'harris')",
         "type": "scatter",
         "x": [
          "2024-08-11T00:00:00",
          "2024-08-12T00:00:00",
          "2024-08-13T00:00:00",
          "2024-08-14T00:00:00",
          "2024-08-15T00:00:00",
          "2024-08-16T00:00:00",
          "2024-08-17T00:00:00",
          "2024-08-18T00:00:00"
         ],
         "y": [
          1,
          2,
          8,
          3,
          9,
          5,
          6,
          4
         ]
        },
        {
         "line": {
          "width": 5
         },
         "mode": "lines",
         "name": "('donald', 'trump')",
         "type": "scatter",
         "x": [
          "2024-08-11T00:00:00",
          "2024-08-12T00:00:00",
          "2024-08-13T00:00:00",
          "2024-08-14T00:00:00",
          "2024-08-15T00:00:00",
          "2024-08-16T00:00:00",
          "2024-08-17T00:00:00",
          "2024-08-18T00:00:00"
         ],
         "y": [
          3,
          7,
          13,
          8,
          7,
          4,
          7,
          4
         ]
        },
        {
         "line": {
          "width": 5
         },
         "mode": "lines",
         "name": "('elon', 'musk')",
         "type": "scatter",
         "x": [
          "2024-08-11T00:00:00",
          "2024-08-12T00:00:00",
          "2024-08-13T00:00:00",
          "2024-08-14T00:00:00",
          "2024-08-15T00:00:00",
          "2024-08-16T00:00:00",
          "2024-08-17T00:00:00",
          "2024-08-18T00:00:00"
         ],
         "y": [
          11,
          20,
          18,
          4,
          1,
          3,
          2,
          1
         ]
        },
        {
         "line": {
          "width": 5
         },
         "mode": "lines",
         "name": "('harris', 'campaign')",
         "type": "scatter",
         "x": [
          "2024-08-11T00:00:00",
          "2024-08-12T00:00:00",
          "2024-08-13T00:00:00",
          "2024-08-14T00:00:00",
          "2024-08-15T00:00:00",
          "2024-08-16T00:00:00",
          "2024-08-17T00:00:00",
          "2024-08-18T00:00:00"
         ],
         "y": [
          2,
          2,
          10,
          8,
          4,
          2,
          1,
          3
         ]
        },
        {
         "line": {
          "width": 5
         },
         "mode": "lines",
         "name": "('jd', 'vance')",
         "type": "scatter",
         "x": [
          "2024-08-11T00:00:00",
          "2024-08-12T00:00:00",
          "2024-08-13T00:00:00",
          "2024-08-14T00:00:00",
          "2024-08-15T00:00:00",
          "2024-08-16T00:00:00",
          "2024-08-17T00:00:00",
          "2024-08-18T00:00:00"
         ],
         "y": [
          11,
          5,
          0,
          11,
          3,
          9,
          2,
          2
         ]
        },
        {
         "line": {
          "width": 5
         },
         "mode": "lines",
         "name": "('kamala', 'harris')",
         "type": "scatter",
         "x": [
          "2024-08-11T00:00:00",
          "2024-08-12T00:00:00",
          "2024-08-13T00:00:00",
          "2024-08-14T00:00:00",
          "2024-08-15T00:00:00",
          "2024-08-16T00:00:00",
          "2024-08-17T00:00:00",
          "2024-08-18T00:00:00"
         ],
         "y": [
          16,
          28,
          18,
          23,
          26,
          29,
          27,
          11
         ]
        },
        {
         "line": {
          "width": 5
         },
         "mode": "lines",
         "name": "('president', 'trump')",
         "type": "scatter",
         "x": [
          "2024-08-11T00:00:00",
          "2024-08-12T00:00:00",
          "2024-08-13T00:00:00",
          "2024-08-14T00:00:00",
          "2024-08-15T00:00:00",
          "2024-08-16T00:00:00",
          "2024-08-17T00:00:00",
          "2024-08-18T00:00:00"
         ],
         "y": [
          10,
          19,
          9,
          7,
          11,
          11,
          7,
          2
         ]
        },
        {
         "line": {
          "width": 5
         },
         "mode": "lines",
         "name": "('secret', 'service')",
         "type": "scatter",
         "x": [
          "2024-08-11T00:00:00",
          "2024-08-12T00:00:00",
          "2024-08-13T00:00:00",
          "2024-08-14T00:00:00",
          "2024-08-15T00:00:00",
          "2024-08-16T00:00:00",
          "2024-08-17T00:00:00",
          "2024-08-18T00:00:00"
         ],
         "y": [
          8,
          2,
          2,
          5,
          11,
          6,
          2,
          0
         ]
        },
        {
         "line": {
          "width": 5
         },
         "mode": "lines",
         "name": "('tim', 'walz')",
         "type": "scatter",
         "x": [
          "2024-08-11T00:00:00",
          "2024-08-12T00:00:00",
          "2024-08-13T00:00:00",
          "2024-08-14T00:00:00",
          "2024-08-15T00:00:00",
          "2024-08-16T00:00:00",
          "2024-08-17T00:00:00",
          "2024-08-18T00:00:00"
         ],
         "y": [
          24,
          18,
          12,
          14,
          3,
          5,
          3,
          5
         ]
        },
        {
         "line": {
          "width": 5
         },
         "mode": "lines",
         "name": "('year', 'old')",
         "type": "scatter",
         "x": [
          "2024-08-11T00:00:00",
          "2024-08-12T00:00:00",
          "2024-08-13T00:00:00",
          "2024-08-14T00:00:00",
          "2024-08-15T00:00:00",
          "2024-08-16T00:00:00",
          "2024-08-17T00:00:00",
          "2024-08-18T00:00:00"
         ],
         "y": [
          1,
          7,
          6,
          6,
          5,
          7,
          5,
          1
         ]
        }
       ],
       "layout": {
        "height": 800,
        "legend": {
         "title": {
          "font": {
           "color": "firebrick",
           "family": "Courier",
           "size": 15
          },
          "text": "<b>Top Bigrams<br>(try cliking these variables)</b>"
         }
        },
        "template": {
         "data": {
          "bar": [
           {
            "error_x": {
             "color": "#2a3f5f"
            },
            "error_y": {
             "color": "#2a3f5f"
            },
            "marker": {
             "line": {
              "color": "#E5ECF6",
              "width": 0.5
             },
             "pattern": {
              "fillmode": "overlay",
              "size": 10,
              "solidity": 0.2
             }
            },
            "type": "bar"
           }
          ],
          "barpolar": [
           {
            "marker": {
             "line": {
              "color": "#E5ECF6",
              "width": 0.5
             },
             "pattern": {
              "fillmode": "overlay",
              "size": 10,
              "solidity": 0.2
             }
            },
            "type": "barpolar"
           }
          ],
          "carpet": [
           {
            "aaxis": {
             "endlinecolor": "#2a3f5f",
             "gridcolor": "white",
             "linecolor": "white",
             "minorgridcolor": "white",
             "startlinecolor": "#2a3f5f"
            },
            "baxis": {
             "endlinecolor": "#2a3f5f",
             "gridcolor": "white",
             "linecolor": "white",
             "minorgridcolor": "white",
             "startlinecolor": "#2a3f5f"
            },
            "type": "carpet"
           }
          ],
          "choropleth": [
           {
            "colorbar": {
             "outlinewidth": 0,
             "ticks": ""
            },
            "type": "choropleth"
           }
          ],
          "contour": [
           {
            "colorbar": {
             "outlinewidth": 0,
             "ticks": ""
            },
            "colorscale": [
             [
              0,
              "#0d0887"
             ],
             [
              0.1111111111111111,
              "#46039f"
             ],
             [
              0.2222222222222222,
              "#7201a8"
             ],
             [
              0.3333333333333333,
              "#9c179e"
             ],
             [
              0.4444444444444444,
              "#bd3786"
             ],
             [
              0.5555555555555556,
              "#d8576b"
             ],
             [
              0.6666666666666666,
              "#ed7953"
             ],
             [
              0.7777777777777778,
              "#fb9f3a"
             ],
             [
              0.8888888888888888,
              "#fdca26"
             ],
             [
              1,
              "#f0f921"
             ]
            ],
            "type": "contour"
           }
          ],
          "contourcarpet": [
           {
            "colorbar": {
             "outlinewidth": 0,
             "ticks": ""
            },
            "type": "contourcarpet"
           }
          ],
          "heatmap": [
           {
            "colorbar": {
             "outlinewidth": 0,
             "ticks": ""
            },
            "colorscale": [
             [
              0,
              "#0d0887"
             ],
             [
              0.1111111111111111,
              "#46039f"
             ],
             [
              0.2222222222222222,
              "#7201a8"
             ],
             [
              0.3333333333333333,
              "#9c179e"
             ],
             [
              0.4444444444444444,
              "#bd3786"
             ],
             [
              0.5555555555555556,
              "#d8576b"
             ],
             [
              0.6666666666666666,
              "#ed7953"
             ],
             [
              0.7777777777777778,
              "#fb9f3a"
             ],
             [
              0.8888888888888888,
              "#fdca26"
             ],
             [
              1,
              "#f0f921"
             ]
            ],
            "type": "heatmap"
           }
          ],
          "heatmapgl": [
           {
            "colorbar": {
             "outlinewidth": 0,
             "ticks": ""
            },
            "colorscale": [
             [
              0,
              "#0d0887"
             ],
             [
              0.1111111111111111,
              "#46039f"
             ],
             [
              0.2222222222222222,
              "#7201a8"
             ],
             [
              0.3333333333333333,
              "#9c179e"
             ],
             [
              0.4444444444444444,
              "#bd3786"
             ],
             [
              0.5555555555555556,
              "#d8576b"
             ],
             [
              0.6666666666666666,
              "#ed7953"
             ],
             [
              0.7777777777777778,
              "#fb9f3a"
             ],
             [
              0.8888888888888888,
              "#fdca26"
             ],
             [
              1,
              "#f0f921"
             ]
            ],
            "type": "heatmapgl"
           }
          ],
          "histogram": [
           {
            "marker": {
             "pattern": {
              "fillmode": "overlay",
              "size": 10,
              "solidity": 0.2
             }
            },
            "type": "histogram"
           }
          ],
          "histogram2d": [
           {
            "colorbar": {
             "outlinewidth": 0,
             "ticks": ""
            },
            "colorscale": [
             [
              0,
              "#0d0887"
             ],
             [
              0.1111111111111111,
              "#46039f"
             ],
             [
              0.2222222222222222,
              "#7201a8"
             ],
             [
              0.3333333333333333,
              "#9c179e"
             ],
             [
              0.4444444444444444,
              "#bd3786"
             ],
             [
              0.5555555555555556,
              "#d8576b"
             ],
             [
              0.6666666666666666,
              "#ed7953"
             ],
             [
              0.7777777777777778,
              "#fb9f3a"
             ],
             [
              0.8888888888888888,
              "#fdca26"
             ],
             [
              1,
              "#f0f921"
             ]
            ],
            "type": "histogram2d"
           }
          ],
          "histogram2dcontour": [
           {
            "colorbar": {
             "outlinewidth": 0,
             "ticks": ""
            },
            "colorscale": [
             [
              0,
              "#0d0887"
             ],
             [
              0.1111111111111111,
              "#46039f"
             ],
             [
              0.2222222222222222,
              "#7201a8"
             ],
             [
              0.3333333333333333,
              "#9c179e"
             ],
             [
              0.4444444444444444,
              "#bd3786"
             ],
             [
              0.5555555555555556,
              "#d8576b"
             ],
             [
              0.6666666666666666,
              "#ed7953"
             ],
             [
              0.7777777777777778,
              "#fb9f3a"
             ],
             [
              0.8888888888888888,
              "#fdca26"
             ],
             [
              1,
              "#f0f921"
             ]
            ],
            "type": "histogram2dcontour"
           }
          ],
          "mesh3d": [
           {
            "colorbar": {
             "outlinewidth": 0,
             "ticks": ""
            },
            "type": "mesh3d"
           }
          ],
          "parcoords": [
           {
            "line": {
             "colorbar": {
              "outlinewidth": 0,
              "ticks": ""
             }
            },
            "type": "parcoords"
           }
          ],
          "pie": [
           {
            "automargin": true,
            "type": "pie"
           }
          ],
          "scatter": [
           {
            "fillpattern": {
             "fillmode": "overlay",
             "size": 10,
             "solidity": 0.2
            },
            "type": "scatter"
           }
          ],
          "scatter3d": [
           {
            "line": {
             "colorbar": {
              "outlinewidth": 0,
              "ticks": ""
             }
            },
            "marker": {
             "colorbar": {
              "outlinewidth": 0,
              "ticks": ""
             }
            },
            "type": "scatter3d"
           }
          ],
          "scattercarpet": [
           {
            "marker": {
             "colorbar": {
              "outlinewidth": 0,
              "ticks": ""
             }
            },
            "type": "scattercarpet"
           }
          ],
          "scattergeo": [
           {
            "marker": {
             "colorbar": {
              "outlinewidth": 0,
              "ticks": ""
             }
            },
            "type": "scattergeo"
           }
          ],
          "scattergl": [
           {
            "marker": {
             "colorbar": {
              "outlinewidth": 0,
              "ticks": ""
             }
            },
            "type": "scattergl"
           }
          ],
          "scattermapbox": [
           {
            "marker": {
             "colorbar": {
              "outlinewidth": 0,
              "ticks": ""
             }
            },
            "type": "scattermapbox"
           }
          ],
          "scatterpolar": [
           {
            "marker": {
             "colorbar": {
              "outlinewidth": 0,
              "ticks": ""
             }
            },
            "type": "scatterpolar"
           }
          ],
          "scatterpolargl": [
           {
            "marker": {
             "colorbar": {
              "outlinewidth": 0,
              "ticks": ""
             }
            },
            "type": "scatterpolargl"
           }
          ],
          "scatterternary": [
           {
            "marker": {
             "colorbar": {
              "outlinewidth": 0,
              "ticks": ""
             }
            },
            "type": "scatterternary"
           }
          ],
          "surface": [
           {
            "colorbar": {
             "outlinewidth": 0,
             "ticks": ""
            },
            "colorscale": [
             [
              0,
              "#0d0887"
             ],
             [
              0.1111111111111111,
              "#46039f"
             ],
             [
              0.2222222222222222,
              "#7201a8"
             ],
             [
              0.3333333333333333,
              "#9c179e"
             ],
             [
              0.4444444444444444,
              "#bd3786"
             ],
             [
              0.5555555555555556,
              "#d8576b"
             ],
             [
              0.6666666666666666,
              "#ed7953"
             ],
             [
              0.7777777777777778,
              "#fb9f3a"
             ],
             [
              0.8888888888888888,
              "#fdca26"
             ],
             [
              1,
              "#f0f921"
             ]
            ],
            "type": "surface"
           }
          ],
          "table": [
           {
            "cells": {
             "fill": {
              "color": "#EBF0F8"
             },
             "line": {
              "color": "white"
             }
            },
            "header": {
             "fill": {
              "color": "#C8D4E3"
             },
             "line": {
              "color": "white"
             }
            },
            "type": "table"
           }
          ]
         },
         "layout": {
          "annotationdefaults": {
           "arrowcolor": "#2a3f5f",
           "arrowhead": 0,
           "arrowwidth": 1
          },
          "autotypenumbers": "strict",
          "coloraxis": {
           "colorbar": {
            "outlinewidth": 0,
            "ticks": ""
           }
          },
          "colorscale": {
           "diverging": [
            [
             0,
             "#8e0152"
            ],
            [
             0.1,
             "#c51b7d"
            ],
            [
             0.2,
             "#de77ae"
            ],
            [
             0.3,
             "#f1b6da"
            ],
            [
             0.4,
             "#fde0ef"
            ],
            [
             0.5,
             "#f7f7f7"
            ],
            [
             0.6,
             "#e6f5d0"
            ],
            [
             0.7,
             "#b8e186"
            ],
            [
             0.8,
             "#7fbc41"
            ],
            [
             0.9,
             "#4d9221"
            ],
            [
             1,
             "#276419"
            ]
           ],
           "sequential": [
            [
             0,
             "#0d0887"
            ],
            [
             0.1111111111111111,
             "#46039f"
            ],
            [
             0.2222222222222222,
             "#7201a8"
            ],
            [
             0.3333333333333333,
             "#9c179e"
            ],
            [
             0.4444444444444444,
             "#bd3786"
            ],
            [
             0.5555555555555556,
             "#d8576b"
            ],
            [
             0.6666666666666666,
             "#ed7953"
            ],
            [
             0.7777777777777778,
             "#fb9f3a"
            ],
            [
             0.8888888888888888,
             "#fdca26"
            ],
            [
             1,
             "#f0f921"
            ]
           ],
           "sequentialminus": [
            [
             0,
             "#0d0887"
            ],
            [
             0.1111111111111111,
             "#46039f"
            ],
            [
             0.2222222222222222,
             "#7201a8"
            ],
            [
             0.3333333333333333,
             "#9c179e"
            ],
            [
             0.4444444444444444,
             "#bd3786"
            ],
            [
             0.5555555555555556,
             "#d8576b"
            ],
            [
             0.6666666666666666,
             "#ed7953"
            ],
            [
             0.7777777777777778,
             "#fb9f3a"
            ],
            [
             0.8888888888888888,
             "#fdca26"
            ],
            [
             1,
             "#f0f921"
            ]
           ]
          },
          "colorway": [
           "#636efa",
           "#EF553B",
           "#00cc96",
           "#ab63fa",
           "#FFA15A",
           "#19d3f3",
           "#FF6692",
           "#B6E880",
           "#FF97FF",
           "#FECB52"
          ],
          "font": {
           "color": "#2a3f5f"
          },
          "geo": {
           "bgcolor": "white",
           "lakecolor": "white",
           "landcolor": "#E5ECF6",
           "showlakes": true,
           "showland": true,
           "subunitcolor": "white"
          },
          "hoverlabel": {
           "align": "left"
          },
          "hovermode": "closest",
          "mapbox": {
           "style": "light"
          },
          "paper_bgcolor": "white",
          "plot_bgcolor": "#E5ECF6",
          "polar": {
           "angularaxis": {
            "gridcolor": "white",
            "linecolor": "white",
            "ticks": ""
           },
           "bgcolor": "#E5ECF6",
           "radialaxis": {
            "gridcolor": "white",
            "linecolor": "white",
            "ticks": ""
           }
          },
          "scene": {
           "xaxis": {
            "backgroundcolor": "#E5ECF6",
            "gridcolor": "white",
            "gridwidth": 2,
            "linecolor": "white",
            "showbackground": true,
            "ticks": "",
            "zerolinecolor": "white"
           },
           "yaxis": {
            "backgroundcolor": "#E5ECF6",
            "gridcolor": "white",
            "gridwidth": 2,
            "linecolor": "white",
            "showbackground": true,
            "ticks": "",
            "zerolinecolor": "white"
           },
           "zaxis": {
            "backgroundcolor": "#E5ECF6",
            "gridcolor": "white",
            "gridwidth": 2,
            "linecolor": "white",
            "showbackground": true,
            "ticks": "",
            "zerolinecolor": "white"
           }
          },
          "shapedefaults": {
           "line": {
            "color": "#2a3f5f"
           }
          },
          "ternary": {
           "aaxis": {
            "gridcolor": "white",
            "linecolor": "white",
            "ticks": ""
           },
           "baxis": {
            "gridcolor": "white",
            "linecolor": "white",
            "ticks": ""
           },
           "bgcolor": "#E5ECF6",
           "caxis": {
            "gridcolor": "white",
            "linecolor": "white",
            "ticks": ""
           }
          },
          "title": {
           "x": 0.05
          },
          "xaxis": {
           "automargin": true,
           "gridcolor": "white",
           "linecolor": "white",
           "ticks": "",
           "title": {
            "standoff": 15
           },
           "zerolinecolor": "white",
           "zerolinewidth": 2
          },
          "yaxis": {
           "automargin": true,
           "gridcolor": "white",
           "linecolor": "white",
           "ticks": "",
           "title": {
            "standoff": 15
           },
           "zerolinecolor": "white",
           "zerolinewidth": 2
          }
         }
        },
        "title": {
         "font": {
          "family": "Ariel",
          "size": 30
         },
         "pad": {
          "t": 20
         },
         "text": "Top 10 bigrams on The Ronald's landing page in the last 7 days"
        },
        "width": 1200,
        "xaxis": {
         "tickangle": 45,
         "title": {
          "text": "Date"
         }
        },
        "yaxis": {
         "range": [
          0,
          31.900000000000002
         ],
         "title": {
          "text": "Mention count"
         }
        }
       }
      }
     },
     "metadata": {},
     "output_type": "display_data"
    }
   ],
   "source": [
    "num=2\n",
    "top_n=10\n",
    "save_viz = \"interactive_bigrams_7days\"\n",
    "ngram_time_last_7_days_interactive(num=num, save_viz=save_viz, top_n=top_n)"
   ]
  },
  {
   "cell_type": "code",
   "execution_count": null,
   "metadata": {},
   "outputs": [],
   "source": []
  },
  {
   "cell_type": "code",
   "execution_count": null,
   "metadata": {},
   "outputs": [],
   "source": []
  }
 ],
 "metadata": {
  "kernelspec": {
   "display_name": "Python 3",
   "language": "python",
   "name": "python3"
  },
  "language_info": {
   "codemirror_mode": {
    "name": "ipython",
    "version": 3
   },
   "file_extension": ".py",
   "mimetype": "text/x-python",
   "name": "python",
   "nbconvert_exporter": "python",
   "pygments_lexer": "ipython3",
   "version": "3.12.0"
  }
 },
 "nbformat": 4,
 "nbformat_minor": 2
}
