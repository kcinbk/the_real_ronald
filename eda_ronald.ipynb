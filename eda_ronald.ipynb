{
 "cells": [
  {
   "cell_type": "code",
   "execution_count": null,
   "metadata": {},
   "outputs": [],
   "source": [
    "import pandas as pd\n",
    "pd.set_option(\"display.max_colwidth\", None)\n",
    "pd.set_option(\"display.max_rows\", 50)\n",
    "\n",
    "import json\n",
    "import numpy as np\n",
    "import matplotlib.pyplot as plt\n",
    "import seaborn as sns\n",
    "\n",
    "import datetime\n",
    "from datetime import datetime as dt\n",
    "import glob\n",
    "import os"
   ]
  },
  {
   "cell_type": "code",
   "execution_count": 307,
   "metadata": {},
   "outputs": [],
   "source": [
    "# importing json files\n",
    "\n",
    "dfs=[]\n",
    "for file in glob.glob(\"data/*.json\"):\n",
    "    dataframe = pd.read_json(file)['posts']\n",
    "    # flatten the structure\n",
    "    dataframe = pd.json_normalize(dataframe)\n",
    "    # insert file names\n",
    "    dataframe['file_name'] = os.path.basename(file)\n",
    "    dfs.append(dataframe)\n",
    "\n",
    "# concatenate all data and drop repeated entries\n",
    "df=pd.concat(dfs).drop_duplicates(subset='uuid', keep='last')"
   ]
  },
  {
   "cell_type": "code",
   "execution_count": 308,
   "metadata": {},
   "outputs": [
    {
     "name": "stderr",
     "output_type": "stream",
     "text": [
      "/var/folders/f2/xbsrplkj23z71l_fw6890_hr0000gn/T/ipykernel_31564/2641861775.py:24: FutureWarning:\n",
      "\n",
      "Downcasting behavior in `replace` is deprecated and will be removed in a future version. To retain the old behavior, explicitly call `result.infer_objects(copy=False)`. To opt-in to the future behavior, set `pd.set_option('future.no_silent_downcasting', True)`\n",
      "\n"
     ]
    },
    {
     "data": {
      "text/plain": [
       "created_date\n",
       "2024-07-21     62\n",
       "2024-07-22    576\n",
       "2024-07-23    615\n",
       "2024-07-24    599\n",
       "2024-07-25    620\n",
       "2024-07-26    586\n",
       "2024-07-27    629\n",
       "2024-07-28    623\n",
       "2024-07-29    646\n",
       "2024-07-30    581\n",
       "2024-07-31    622\n",
       "2024-08-01    582\n",
       "2024-08-02    624\n",
       "2024-08-03    636\n",
       "2024-08-04    635\n",
       "2024-08-05    647\n",
       "2024-08-06    614\n",
       "2024-08-07    584\n",
       "2024-08-08    608\n",
       "2024-08-09    604\n",
       "2024-08-10    585\n",
       "2024-08-11    622\n",
       "2024-08-12    674\n",
       "2024-08-13    605\n",
       "2024-08-14    612\n",
       "2024-08-15    618\n",
       "2024-08-16    609\n",
       "2024-08-17    616\n",
       "2024-08-18    590\n",
       "2024-08-19    653\n",
       "2024-08-20    589\n",
       "2024-08-21    607\n",
       "2024-08-22    621\n",
       "2024-08-23    618\n",
       "2024-08-24    588\n",
       "2024-08-25    591\n",
       "2024-08-26    626\n",
       "2024-08-27    596\n",
       "2024-08-28    599\n",
       "2024-08-29    612\n",
       "2024-08-30    607\n",
       "2024-08-31    598\n",
       "2024-09-01    576\n",
       "2024-09-02    607\n",
       "2024-09-03    622\n",
       "2024-09-04     17\n",
       "Name: count, dtype: int64"
      ]
     },
     "execution_count": 308,
     "metadata": {},
     "output_type": "execute_result"
    }
   ],
   "source": [
    "# slicing out only relevant columns \n",
    "\n",
    "selected_columns = [\n",
    "    'file_name',\n",
    "    'uuid', \n",
    "    'title',\n",
    "    'content',\n",
    "    'post_flair_text',\n",
    "    'author',\n",
    "    'author_flair_text',\n",
    "    'created',\n",
    "    'comments',\n",
    "    'score_up',\n",
    "    'preview',\n",
    "    'link',\n",
    "    'domain',\n",
    "    'is_image',\n",
    "    'is_video',\n",
    "    'video_link'\n",
    "    ]\t\n",
    "df = df[selected_columns]\n",
    "\n",
    "# Replace empty cell with Nan\n",
    "dataframe = dataframe.replace(r'^\\s*$', np.nan, regex=True)\n",
    "\n",
    "# Format datetime\n",
    "df['created'] = pd.to_datetime(df.created, unit='ms').dt.tz_localize('UTC').dt.tz_convert('US/Eastern')\n",
    "# crate a column storing \"date\" \n",
    "df['created_date'] = df['created'].dt.date\n",
    "df['created_date'] = pd.to_datetime(df['created_date'])\n",
    "\n",
    "\n",
    "# Fix empty or ill-formed domain column\n",
    "selfpost_mask = df.domain.str.match('^$')\n",
    "df.loc[selfpost_mask, 'domain'] = 'self_post'\n",
    "\n",
    "df.created_date.value_counts().sort_index()"
   ]
  },
  {
   "cell_type": "code",
   "execution_count": 309,
   "metadata": {},
   "outputs": [
    {
     "data": {
      "text/html": [
       "<div>\n",
       "<style scoped>\n",
       "    .dataframe tbody tr th:only-of-type {\n",
       "        vertical-align: middle;\n",
       "    }\n",
       "\n",
       "    .dataframe tbody tr th {\n",
       "        vertical-align: top;\n",
       "    }\n",
       "\n",
       "    .dataframe thead th {\n",
       "        text-align: right;\n",
       "    }\n",
       "</style>\n",
       "<table border=\"1\" class=\"dataframe\">\n",
       "  <thead>\n",
       "    <tr style=\"text-align: right;\">\n",
       "      <th></th>\n",
       "      <th>file_name</th>\n",
       "      <th>uuid</th>\n",
       "      <th>title</th>\n",
       "      <th>content</th>\n",
       "      <th>post_flair_text</th>\n",
       "      <th>author</th>\n",
       "      <th>author_flair_text</th>\n",
       "      <th>created</th>\n",
       "      <th>comments</th>\n",
       "      <th>score_up</th>\n",
       "      <th>preview</th>\n",
       "      <th>link</th>\n",
       "      <th>domain</th>\n",
       "      <th>is_image</th>\n",
       "      <th>is_video</th>\n",
       "      <th>video_link</th>\n",
       "      <th>created_date</th>\n",
       "    </tr>\n",
       "  </thead>\n",
       "  <tbody>\n",
       "    <tr>\n",
       "      <th>2</th>\n",
       "      <td>20240806-141246_page6.json</td>\n",
       "      <td>17txVxLh4h</td>\n",
       "      <td>🚽 Only 17% of Americans View Radical-Left Tim Walz Positively 💩</td>\n",
       "      <td></td>\n",
       "      <td>THE  BADDIES</td>\n",
       "      <td>MythArcana</td>\n",
       "      <td></td>\n",
       "      <td>2024-08-06 12:16:27.731000-04:00</td>\n",
       "      <td>9</td>\n",
       "      <td>74</td>\n",
       "      <td>https://media.patriots.win/preview/17txVxLh4h.png</td>\n",
       "      <td>https://media.scored.co/post/Te1QiisbCGPR.png</td>\n",
       "      <td>media.scored.co</td>\n",
       "      <td>True</td>\n",
       "      <td>False</td>\n",
       "      <td></td>\n",
       "      <td>2024-08-06</td>\n",
       "    </tr>\n",
       "    <tr>\n",
       "      <th>3</th>\n",
       "      <td>20240806-141246_page6.json</td>\n",
       "      <td>17txVxL8ye</td>\n",
       "      <td>Gwen Walz is just as crazy left as her husband 🤪</td>\n",
       "      <td></td>\n",
       "      <td></td>\n",
       "      <td>AZDesertRat</td>\n",
       "      <td></td>\n",
       "      <td>2024-08-06 11:10:45.696000-04:00</td>\n",
       "      <td>10</td>\n",
       "      <td>88</td>\n",
       "      <td>https://media.patriots.win/preview/17txVxL8ye.png</td>\n",
       "      <td>https://twitter.com/LauraLoomer/status/1820837157554041212</td>\n",
       "      <td>twitter.com</td>\n",
       "      <td>False</td>\n",
       "      <td>False</td>\n",
       "      <td></td>\n",
       "      <td>2024-08-06</td>\n",
       "    </tr>\n",
       "    <tr>\n",
       "      <th>4</th>\n",
       "      <td>20240806-141246_page6.json</td>\n",
       "      <td>17txVxKasX</td>\n",
       "      <td>Felony charges against teen who rode scooter, left skid marks on Spokane Pride crosswalk dismissed</td>\n",
       "      <td></td>\n",
       "      <td></td>\n",
       "      <td>Sea_Still</td>\n",
       "      <td></td>\n",
       "      <td>2024-08-06 10:11:14.820000-04:00</td>\n",
       "      <td>10</td>\n",
       "      <td>105</td>\n",
       "      <td>https://media.patriots.win/preview/17txVxKasX.png</td>\n",
       "      <td>https://thepostmillennial.com/felony-charges-against-teen-who-rode-scooter-left-skid-marks-on-spokane-pride-crosswalk-dismissed?utm_campaign=64466</td>\n",
       "      <td>thepostmillennial.com</td>\n",
       "      <td>False</td>\n",
       "      <td>False</td>\n",
       "      <td></td>\n",
       "      <td>2024-08-06</td>\n",
       "    </tr>\n",
       "    <tr>\n",
       "      <th>5</th>\n",
       "      <td>20240806-141246_page6.json</td>\n",
       "      <td>17txVxLhCw</td>\n",
       "      <td>Donald Trump:  17 million primary votes    Kamala Harris:  0 primary votes</td>\n",
       "      <td></td>\n",
       "      <td></td>\n",
       "      <td>biden_didnt_win</td>\n",
       "      <td></td>\n",
       "      <td>2024-08-06 12:21:04.849000-04:00</td>\n",
       "      <td>3</td>\n",
       "      <td>69</td>\n",
       "      <td>https://media.patriots.win/preview/17txVxLhCw.png</td>\n",
       "      <td>https://media.patriots.win/post/cS4ZO2P9yD7f.jpeg</td>\n",
       "      <td>media.patriots.win</td>\n",
       "      <td>True</td>\n",
       "      <td>False</td>\n",
       "      <td></td>\n",
       "      <td>2024-08-06</td>\n",
       "    </tr>\n",
       "    <tr>\n",
       "      <th>6</th>\n",
       "      <td>20240806-141246_page6.json</td>\n",
       "      <td>17txVxKs3q</td>\n",
       "      <td>Break the Cycle</td>\n",
       "      <td></td>\n",
       "      <td></td>\n",
       "      <td>foxhound</td>\n",
       "      <td></td>\n",
       "      <td>2024-08-06 10:50:11.440000-04:00</td>\n",
       "      <td>3</td>\n",
       "      <td>92</td>\n",
       "      <td>https://media.patriots.win/preview/17txVxKs3q.png</td>\n",
       "      <td>https://media.scored.co/post/Xej4O0IbECnu.jpeg</td>\n",
       "      <td>media.scored.co</td>\n",
       "      <td>True</td>\n",
       "      <td>False</td>\n",
       "      <td></td>\n",
       "      <td>2024-08-06</td>\n",
       "    </tr>\n",
       "  </tbody>\n",
       "</table>\n",
       "</div>"
      ],
      "text/plain": [
       "                    file_name        uuid  \\\n",
       "2  20240806-141246_page6.json  17txVxLh4h   \n",
       "3  20240806-141246_page6.json  17txVxL8ye   \n",
       "4  20240806-141246_page6.json  17txVxKasX   \n",
       "5  20240806-141246_page6.json  17txVxLhCw   \n",
       "6  20240806-141246_page6.json  17txVxKs3q   \n",
       "\n",
       "                                                                                                title  \\\n",
       "2                                     🚽 Only 17% of Americans View Radical-Left Tim Walz Positively 💩   \n",
       "3                                                    Gwen Walz is just as crazy left as her husband 🤪   \n",
       "4  Felony charges against teen who rode scooter, left skid marks on Spokane Pride crosswalk dismissed   \n",
       "5                          Donald Trump:  17 million primary votes    Kamala Harris:  0 primary votes   \n",
       "6                                                                                     Break the Cycle   \n",
       "\n",
       "  content post_flair_text           author author_flair_text  \\\n",
       "2            THE  BADDIES       MythArcana                     \n",
       "3                              AZDesertRat                     \n",
       "4                                Sea_Still                     \n",
       "5                          biden_didnt_win                     \n",
       "6                                 foxhound                     \n",
       "\n",
       "                           created  comments  score_up  \\\n",
       "2 2024-08-06 12:16:27.731000-04:00         9        74   \n",
       "3 2024-08-06 11:10:45.696000-04:00        10        88   \n",
       "4 2024-08-06 10:11:14.820000-04:00        10       105   \n",
       "5 2024-08-06 12:21:04.849000-04:00         3        69   \n",
       "6 2024-08-06 10:50:11.440000-04:00         3        92   \n",
       "\n",
       "                                             preview  \\\n",
       "2  https://media.patriots.win/preview/17txVxLh4h.png   \n",
       "3  https://media.patriots.win/preview/17txVxL8ye.png   \n",
       "4  https://media.patriots.win/preview/17txVxKasX.png   \n",
       "5  https://media.patriots.win/preview/17txVxLhCw.png   \n",
       "6  https://media.patriots.win/preview/17txVxKs3q.png   \n",
       "\n",
       "                                                                                                                                                 link  \\\n",
       "2                                                                                                       https://media.scored.co/post/Te1QiisbCGPR.png   \n",
       "3                                                                                          https://twitter.com/LauraLoomer/status/1820837157554041212   \n",
       "4  https://thepostmillennial.com/felony-charges-against-teen-who-rode-scooter-left-skid-marks-on-spokane-pride-crosswalk-dismissed?utm_campaign=64466   \n",
       "5                                                                                                   https://media.patriots.win/post/cS4ZO2P9yD7f.jpeg   \n",
       "6                                                                                                      https://media.scored.co/post/Xej4O0IbECnu.jpeg   \n",
       "\n",
       "                  domain  is_image  is_video video_link created_date  \n",
       "2        media.scored.co      True     False              2024-08-06  \n",
       "3            twitter.com     False     False              2024-08-06  \n",
       "4  thepostmillennial.com     False     False              2024-08-06  \n",
       "5     media.patriots.win      True     False              2024-08-06  \n",
       "6        media.scored.co      True     False              2024-08-06  "
      ]
     },
     "execution_count": 309,
     "metadata": {},
     "output_type": "execute_result"
    }
   ],
   "source": [
    "df.head()"
   ]
  },
  {
   "cell_type": "code",
   "execution_count": 310,
   "metadata": {},
   "outputs": [],
   "source": [
    "# Unpack shortened domains\n",
    "import requests\n",
    "from requests.adapters import HTTPAdapter\n",
    "from urllib3.util.retry import Retry\n",
    "import tldextract\n",
    "\n",
    "common_shorts = [\n",
    "    \"adf.ly\", \"adfoc.us\", \"amzn.to\", \"atominik.com\", \"ay.gy\", \"b.link\", \"bhpho.to\", \"bit.ly\", \"bit.do\", \n",
    "    \"bn.gy\", \"branch.io\", \"buff.ly\", \"ceesty.com\", \"chollo.to\", \"cli.re\", \"cli.fm\", \"cutt.ly\", \"cutt.us\", \n",
    "    \"db.tt\", \"f.ls\", \"fa.by\", \"fb.me\", \"flip.it\", \"fumacrom.com\", \"git.io\", \"geni.us\", \"goo.gl\", \"gns.io\", \n",
    "    \"hmm.rs\", \"ht.ly\", \"hyperurl.co\", \"ity.im\", \"intamema.com\", \"is.gd\", \"j.gs\", \"j.mp\", \"kutt.it\", \"ldn.im\", \n",
    "    \"linklyhq.com\", \"microify.com\", \"mzl.la\", \"nmc.sg\", \"nowlinks.net\", \"ow.ly\", \"prf.hn\", \"plu.sh\", \"q.gs\", \n",
    "    \"qr.ae\", \"qr.net\", \"rebrand.ly\", \"rb.gy\", \"rlu.ru\", \"rotf.lol\", \"s.coop\", \"s.id\", \"sh.st\", \"soo.gd\", \n",
    "    \"shortcm.xyz\", \"short.gy\", \"shortcm.xyz\", \"shorturl.at\", \"smu.sg\", \"smq.tc\", \"snip.ly\", \"snipr.com\", \n",
    "    \"snipurl.com\", \"snurl.com\", \"split.to\", \"surl.li\", \"t.co\", \"t.ly\", \"t2m.io\", \"tiny.cc\", \"tiny.pl\", \n",
    "    \"tinyium.com\", \"tinyurl.com\", \"tiny.one\", \"tny.im\", \"tny.sh\", \"tr.im\", \"trib.al\", \"u.to\", \"v.gd\", \n",
    "    \"virg.in\", \"vzturl.com\", \"waa.ai\", \"washex.am\", \"x.co\", \"y2u.be\", \"yourwish.es\", \"zpr.io\", \"1url.com\", \n",
    "    \"2.gp\", \"3.ly\", \"4sq.com\", \"6url.com\", \"7.ly\", \"9.bb\", \"amp.gs\", \"atz.bz\", \"binged.it\",\n",
    "    \"budurl.com\", \"cort.as\", \"decenturl.com\", \"dft.ba\", \"goo.gl\", \"inbound.org\", \"itsh.bo\", \"mcaf.ee\",\n",
    "    \"n.pr\", \"nyti.ms\", \"on.fb.me\", \"prsm.tc\", \"redd.it\", \"tnw.to\", \"twt.fi\", \"u.nu\", \"virl.io\", \"wapo.st\",\n",
    "    \"wp.me\", \"xrl.us\",  \"zurl.ws\", \"dlvr.it\", 'msft.it', \"lnkd.in \", 'spr.ly', 'rebelne.ws', 'scroll.in', 'ab.co',\n",
    "    'hubs.li', 'bbc.in', 'nature.ly', 'cbsn.ws' , 'brnw.ch', 'youtu.be'\n",
    "                ]\n",
    "\n",
    "# Set up a Requests session with retries\n",
    "session = requests.Session()\n",
    "headers = {\n",
    "    'User-Agent':'Mozilla/5.0 (Macintosh; Intel Mac OS X 10_14_6) AppleWebKit/537.36 (KHTML, like Gecko) Chrome/109.0.0.0 Safari/537.36',\n",
    "    'Accept': 'text/html,application/xhtml+xml,application/xml;q=0.9,image/webp,*/*;q=0.8',\n",
    "    'Accept-Encoding': 'gzip, deflate, br',\n",
    "    'Accept-Language': 'en-US,en;q=0.5',\n",
    "    'Connection': 'keep-alive',\n",
    "    'Upgrade-Insecure-Requests': '1',\n",
    "    'DNT': '1',\n",
    "    'referer': 'https://www.google.com/'\n",
    "}\n",
    "\n",
    "headers = {\n",
    "        'User-Agent':'Mozilla/5.0 (Macintosh; Intel Mac OS X 10_14_6) AppleWebKit/537.36 (KHTML, like Gecko) Chrome/109.0.0.0 Safari/537.36',\n",
    "        'referer':'https://google.com',\n",
    "        'DNT':'1'\n",
    "    }\n",
    "\n",
    "# session.headers.update(headers)\n",
    "retries = Retry(total=4, backoff_factor=1, status_forcelist=[502, 503, 504])\n",
    "session.mount('http://', HTTPAdapter(max_retries=retries))\n",
    "session.mount('https://', HTTPAdapter(max_retries=retries))\n",
    "\n",
    "def check_connection(host='http://www.google.com'):\n",
    "    try:\n",
    "        session.get(host, timeout=1)\n",
    "        return True\n",
    "    except (requests.ConnectionError, requests.Timeout):\n",
    "        return False\n",
    "\n",
    "def wait_for_connection(interval=30, max_attempts=10):\n",
    "    attempts = 0\n",
    "    while not check_connection() and attempts < max_attempts:\n",
    "        time.sleep(interval)\n",
    "        attempts += 1\n",
    "    return attempts < max_attempts\n",
    "\n",
    "def resolve_url_head(short_url):\n",
    "    if not wait_for_connection():\n",
    "        raise ConnectionError(\"Internet connection could not be re-established.\")\n",
    "    try:\n",
    "        response = requests.head(short_url, allow_redirects=True, timeout=1)\n",
    "        return response.url if response.status_code == 200 else short_url\n",
    "    except requests.RequestException:\n",
    "        return short_url\n",
    "    \n",
    "def resolve_url_get(short_url):\n",
    "    if not wait_for_connection():\n",
    "        raise ConnectionError(\"Internet connection could not be re-established.\")\n",
    "    try:\n",
    "        response = session.get(short_url, allow_redirects=True, timeout=5)\n",
    "        return response.url if response.status_code == 200 else short_url\n",
    "    except requests.RequestException:\n",
    "        return short_url\n",
    "    if not wait_for_connection():\n",
    "        raise ConnectionError(\"Internet connection could not be re-established.\")\n",
    "    try:\n",
    "        response = session.get(url=shortend_url, allow_redirects=True, timeout=1)        \n",
    "   \n",
    "    except requests.RequestException:\n",
    "        return None    \n",
    "    \n",
    "df['domain'] = df['domain'].apply(lambda x: tldextract.extract(x).domain + \".\" + tldextract.extract(x).suffix if x != 'self_post' else 'self_post')\n",
    "short_mask = df['domain'].isin(common_shorts)\n",
    "df.loc[short_mask, 'domain'] = df.loc[short_mask, 'link'].apply(lambda x: resolve_url_get(x)).apply(lambda x: tldextract.extract(x).domain + \".\" + tldextract.extract(x).suffix)"
   ]
  },
  {
   "cell_type": "code",
   "execution_count": 315,
   "metadata": {},
   "outputs": [
    {
     "data": {
      "text/plain": [
       "domain\n",
       "twitter.com             0.378253\n",
       "scored.co               0.269156\n",
       "patriots.win            0.164736\n",
       "self_post               0.029159\n",
       "thegatewaypundit.com    0.018577\n",
       "youtube.com             0.014035\n",
       "videy.co                0.010356\n",
       "breitbart.com           0.008630\n",
       "rumble.com              0.006631\n",
       "zerohedge.com           0.006540\n",
       "Name: proportion, dtype: float64"
      ]
     },
     "execution_count": 315,
     "metadata": {},
     "output_type": "execute_result"
    }
   ],
   "source": [
    "# The top 10 most-shared domains on The Ronald's landing page\n",
    "df.domain.value_counts(normalize=True).head(10)"
   ]
  },
  {
   "cell_type": "code",
   "execution_count": 316,
   "metadata": {},
   "outputs": [
    {
     "name": "stderr",
     "output_type": "stream",
     "text": [
      "/var/folders/f2/xbsrplkj23z71l_fw6890_hr0000gn/T/ipykernel_31564/1070751727.py:5: DeprecationWarning:\n",
      "\n",
      "DataFrameGroupBy.apply operated on the grouping columns. This behavior is deprecated, and in a future version of pandas the grouping columns will be excluded from the operation. Either pass `include_groups=False` to exclude the groupings or explicitly select the grouping columns after groupby to silence this warning.\n",
      "\n"
     ]
    }
   ],
   "source": [
    "# Drop posts from 2024-07-21\n",
    "df = df[df['created_date'] != '2024-07-21']\n",
    "\n",
    "# Keep only the top 500 posts by \"score_up\" from each date so that the playing field is more leveled\n",
    "df = df.groupby('created_date').apply(lambda x: x.nlargest(500, 'score_up')).reset_index(drop=True)"
   ]
  },
  {
   "cell_type": "code",
   "execution_count": 317,
   "metadata": {},
   "outputs": [
    {
     "name": "stderr",
     "output_type": "stream",
     "text": [
      "/var/folders/f2/xbsrplkj23z71l_fw6890_hr0000gn/T/ipykernel_31564/3006735851.py:4: FutureWarning:\n",
      "\n",
      "A value is trying to be set on a copy of a DataFrame or Series through chained assignment using an inplace method.\n",
      "The behavior will change in pandas 3.0. This inplace method will never work because the intermediate object on which we are setting values always behaves as a copy.\n",
      "\n",
      "For example, when doing 'df[col].method(value, inplace=True)', try using 'df.method({col: value}, inplace=True)' or df[col] = df[col].method(value) instead, to perform the operation inplace on the original object.\n",
      "\n",
      "\n",
      "\n"
     ]
    },
    {
     "data": {
      "text/plain": [
       "twitter_handle\n",
       "elonmusk        308\n",
       "behizytweets    296\n",
       "endwokeness     190\n",
       "libsoftiktok    158\n",
       "catturd2        117\n",
       "bennyjohnson    112\n",
       "dc_draino       111\n",
       "immeme0         110\n",
       "trumpwarroom    103\n",
       "nicksortor      100\n",
       "Name: count, dtype: int64"
      ]
     },
     "execution_count": 317,
     "metadata": {},
     "output_type": "execute_result"
    }
   ],
   "source": [
    "# Extract twitter handles \n",
    "df[df.domain =='twitter.com'].link.str.split('/').str[3].str.lower()\n",
    "df.loc[df.domain == 'twitter.com', 'twitter_handle'] = df[df.domain == 'twitter.com'].link.str.split('/').str[3].str.lower()\n",
    "df['twitter_handle'].fillna(np.nan, inplace=True)\n",
    "\n",
    "# Top twitter handles mentioned\n",
    "df.value_counts('twitter_handle', ascending=False).head(10)"
   ]
  },
  {
   "cell_type": "code",
   "execution_count": 324,
   "metadata": {},
   "outputs": [
    {
     "data": {
      "text/html": [
       "<div>\n",
       "<style scoped>\n",
       "    .dataframe tbody tr th:only-of-type {\n",
       "        vertical-align: middle;\n",
       "    }\n",
       "\n",
       "    .dataframe tbody tr th {\n",
       "        vertical-align: top;\n",
       "    }\n",
       "\n",
       "    .dataframe thead th {\n",
       "        text-align: right;\n",
       "    }\n",
       "</style>\n",
       "<table border=\"1\" class=\"dataframe\">\n",
       "  <thead>\n",
       "    <tr style=\"text-align: right;\">\n",
       "      <th></th>\n",
       "      <th>title</th>\n",
       "      <th>score_up</th>\n",
       "      <th>comments</th>\n",
       "      <th>author</th>\n",
       "    </tr>\n",
       "  </thead>\n",
       "  <tbody>\n",
       "    <tr>\n",
       "      <th>1</th>\n",
       "      <td>&lt;a href=\"https://patriots.win/p/1994fewnUV\"&gt;Know the differences.&lt;/a&gt;</td>\n",
       "      <td>72</td>\n",
       "      <td>1</td>\n",
       "      <td>Alecbaldwinsgun</td>\n",
       "    </tr>\n",
       "    <tr>\n",
       "      <th>2</th>\n",
       "      <td>&lt;a href=\"https://patriots.win/p/1994fex48h\"&gt;This guy!&lt;/a&gt;</td>\n",
       "      <td>67</td>\n",
       "      <td>0</td>\n",
       "      <td>John-Miller</td>\n",
       "    </tr>\n",
       "    <tr>\n",
       "      <th>3</th>\n",
       "      <td>&lt;a href=\"https://patriots.win/p/1994fex4Cr\"&gt;Scott Presler is maybe a week or two from flipping Luzerne County, PA!  Dem advantage down to 340 voters!&lt;/a&gt;</td>\n",
       "      <td>67</td>\n",
       "      <td>5</td>\n",
       "      <td>DonttrustChina</td>\n",
       "    </tr>\n",
       "    <tr>\n",
       "      <th>4</th>\n",
       "      <td>&lt;a href=\"https://patriots.win/p/1994fewnYe\"&gt;Christian teacher continues to be thrown in jail &lt;/a&gt;</td>\n",
       "      <td>60</td>\n",
       "      <td>3</td>\n",
       "      <td>deletedandreacted</td>\n",
       "    </tr>\n",
       "    <tr>\n",
       "      <th>5</th>\n",
       "      <td>&lt;a href=\"https://patriots.win/p/1994fex44a\"&gt;This guy on Tik Tok does random drops into cities on Google Maps to see if they’re shitty or not, and the Baltimore one is one of the funniest things you'll ever see&lt;/a&gt;</td>\n",
       "      <td>57</td>\n",
       "      <td>5</td>\n",
       "      <td>I-am-Orlando</td>\n",
       "    </tr>\n",
       "    <tr>\n",
       "      <th>6</th>\n",
       "      <td>&lt;a href=\"https://patriots.win/p/1994fex44b\"&gt;Christ Jesus is Our Lord. Our Savior is He.&lt;/a&gt;</td>\n",
       "      <td>57</td>\n",
       "      <td>3</td>\n",
       "      <td>Ghost_of_ADLStan</td>\n",
       "    </tr>\n",
       "    <tr>\n",
       "      <th>7</th>\n",
       "      <td>&lt;a href=\"https://patriots.win/p/1994fewnUX\"&gt;HEADLINE #1: \"Harris running mate Tim Walz marched with ‘Abolish ICE’ protesters in 2018\"  HEADLINE #2: \"ICE Arrests Illegal Immigrant Convicted of Sexual Assault Against Virginia Child (Age 13) and 7 Counts of Child Porn\"&lt;/a&gt;</td>\n",
       "      <td>52</td>\n",
       "      <td>0</td>\n",
       "      <td>Lunar</td>\n",
       "    </tr>\n",
       "    <tr>\n",
       "      <th>8</th>\n",
       "      <td>&lt;a href=\"https://patriots.win/p/1994fex4H1\"&gt;I miss Norm&lt;/a&gt;</td>\n",
       "      <td>47</td>\n",
       "      <td>6</td>\n",
       "      <td>based_trekkie</td>\n",
       "    </tr>\n",
       "    <tr>\n",
       "      <th>9</th>\n",
       "      <td>&lt;a href=\"https://patriots.win/p/1994fewnUS\"&gt;A man of focus, commitment, and sheer will.  I once saw him write three America First policies in a bar... with a pencil.  A fucking pencil!&lt;/a&gt;</td>\n",
       "      <td>39</td>\n",
       "      <td>0</td>\n",
       "      <td>saltyviewer123</td>\n",
       "    </tr>\n",
       "    <tr>\n",
       "      <th>10</th>\n",
       "      <td>&lt;a href=\"https://patriots.win/p/1994fex48g\"&gt;Biden's big boy desk is meme gold &lt;/a&gt;</td>\n",
       "      <td>39</td>\n",
       "      <td>1</td>\n",
       "      <td>I-am-Orlando</td>\n",
       "    </tr>\n",
       "  </tbody>\n",
       "</table>\n",
       "</div>"
      ],
      "text/plain": [
       "                                                                                                                                                                                                                                                                             title  \\\n",
       "1                                                                                                                                                                                                            <a href=\"https://patriots.win/p/1994fewnUV\">Know the differences.</a>   \n",
       "2                                                                                                                                                                                                                        <a href=\"https://patriots.win/p/1994fex48h\">This guy!</a>   \n",
       "3                                                                                                                        <a href=\"https://patriots.win/p/1994fex4Cr\">Scott Presler is maybe a week or two from flipping Luzerne County, PA!  Dem advantage down to 340 voters!</a>   \n",
       "4                                                                                                                                                                                <a href=\"https://patriots.win/p/1994fewnYe\">Christian teacher continues to be thrown in jail </a>   \n",
       "5                                                            <a href=\"https://patriots.win/p/1994fex44a\">This guy on Tik Tok does random drops into cities on Google Maps to see if they’re shitty or not, and the Baltimore one is one of the funniest things you'll ever see</a>   \n",
       "6                                                                                                                                                                                      <a href=\"https://patriots.win/p/1994fex44b\">Christ Jesus is Our Lord. Our Savior is He.</a>   \n",
       "7   <a href=\"https://patriots.win/p/1994fewnUX\">HEADLINE #1: \"Harris running mate Tim Walz marched with ‘Abolish ICE’ protesters in 2018\"  HEADLINE #2: \"ICE Arrests Illegal Immigrant Convicted of Sexual Assault Against Virginia Child (Age 13) and 7 Counts of Child Porn\"</a>   \n",
       "8                                                                                                                                                                                                                      <a href=\"https://patriots.win/p/1994fex4H1\">I miss Norm</a>   \n",
       "9                                                                                     <a href=\"https://patriots.win/p/1994fewnUS\">A man of focus, commitment, and sheer will.  I once saw him write three America First policies in a bar... with a pencil.  A fucking pencil!</a>   \n",
       "10                                                                                                                                                                                              <a href=\"https://patriots.win/p/1994fex48g\">Biden's big boy desk is meme gold </a>   \n",
       "\n",
       "    score_up  comments             author  \n",
       "1         72         1    Alecbaldwinsgun  \n",
       "2         67         0        John-Miller  \n",
       "3         67         5     DonttrustChina  \n",
       "4         60         3  deletedandreacted  \n",
       "5         57         5       I-am-Orlando  \n",
       "6         57         3   Ghost_of_ADLStan  \n",
       "7         52         0              Lunar  \n",
       "8         47         6      based_trekkie  \n",
       "9         39         0     saltyviewer123  \n",
       "10        39         1       I-am-Orlando  "
      ]
     },
     "execution_count": 324,
     "metadata": {},
     "output_type": "execute_result"
    }
   ],
   "source": [
    "# A function that returns the top posts in interactive format\n",
    "\n",
    "    \n",
    "def top_posts_lastNdays(num, Ndays, save_table=False):\n",
    "    end_date = datetime.datetime.now()\n",
    "    start_date = end_date - datetime.timedelta(days=Ndays)\n",
    "    top_posts = df[df.created_date >= start_date].nlargest(num,'score_up')\n",
    "    top_posts['post_link'] = \"https://patriots.win/p/\" + top_posts['uuid']\n",
    "    top_posts['title'] = top_posts.apply(lambda row: f'<a href=\"{row[\"post_link\"]}\">{row[\"title\"]}</a>', axis=1)\n",
    "    top_posts = top_posts[['title', \n",
    "                           'score_up', \n",
    "                           'comments', \n",
    "                           'author'\n",
    "                           ]]\n",
    "    \n",
    "    \n",
    "    top_posts = top_posts.reset_index().drop(columns='index')\n",
    "    top_posts.index = np.arange(1, len(top_posts)+1)\n",
    "\n",
    "    if save_table:\n",
    "        html_content = top_posts.to_html(render_links=True, \n",
    "                                         justify='center', \n",
    "                                         escape=False,\n",
    "                                         classes='table table-striped table-hover', \n",
    "                                         table_id='my_table')\n",
    "        \n",
    "        with open(f'viz/{num}_most_popular_posts_in_the_last_{Ndays}_day(s).html', \"w\") as html_file:\n",
    "            html_file.write(f\"\"\"\n",
    "                <html>\n",
    "                <head>\n",
    "                <link rel=\"stylesheet\" type=\"text/css\" href=\"https://cdn.datatables.net/1.10.21/css/jquery.dataTables.css\">\n",
    "                <script type=\"text/javascript\" charset=\"utf8\" src=\"https://code.jquery.com/jquery-3.5.1.js\"></script>\n",
    "                <script type=\"text/javascript\" charset=\"utf8\" src=\"https://cdn.datatables.net/1.10.21/js/jquery.dataTables.js\"></script>\n",
    "                <script>\n",
    "                $(document).ready( function () {{\n",
    "                    $('#my_table').DataTable();\n",
    "                }} );\n",
    "                </script>\n",
    "                </head>\n",
    "                <body>\n",
    "                {html_content}\n",
    "                </body>\n",
    "                </html>\n",
    "            \"\"\")\n",
    "                                         \n",
    "    return top_posts\n",
    "\n",
    "\n",
    "top_posts_lastNdays(num=10, Ndays=1, save_table=True)"
   ]
  },
  {
   "cell_type": "code",
   "execution_count": 325,
   "metadata": {},
   "outputs": [
    {
     "data": {
      "text/plain": [
       "author\n",
       "I-am-Orlando         2\n",
       "Alecbaldwinsgun      1\n",
       "John-Miller          1\n",
       "DonttrustChina       1\n",
       "deletedandreacted    1\n",
       "Ghost_of_ADLStan     1\n",
       "Lunar                1\n",
       "based_trekkie        1\n",
       "saltyviewer123       1\n",
       "FreeFire             1\n",
       "Name: count, dtype: int64"
      ]
     },
     "execution_count": 325,
     "metadata": {},
     "output_type": "execute_result"
    }
   ],
   "source": [
    "def top_authors_lastNdays(num, Ndays):\n",
    "    end_date = datetime.datetime.now()\n",
    "    start_date = end_date - datetime.timedelta(days=Ndays)\n",
    "\n",
    "    return df[df.created_date >=  start_date].author.value_counts().head(num)\n",
    "\n",
    "top_authors_lastNdays(num=10, Ndays=1)"
   ]
  },
  {
   "cell_type": "code",
   "execution_count": 232,
   "metadata": {},
   "outputs": [
    {
     "name": "stderr",
     "output_type": "stream",
     "text": [
      "[nltk_data] Downloading package wordnet to\n",
      "[nltk_data]     /Users/keenansmacbookairm3/nltk_data...\n",
      "[nltk_data]   Package wordnet is already up-to-date!\n"
     ]
    }
   ],
   "source": [
    "import spacy\n",
    "import nltk\n",
    "nltk.download('wordnet')\n",
    "from nltk import bigrams, trigrams\n",
    "nlp = spacy.load('en_core_web_lg')\n",
    "stopwords = list(nlp.Defaults.stop_words) \n",
    "stopwords.extend([\"ago\", 'old'])\n",
    "\n",
    "import contractions\n",
    "import emoji\n",
    "import re\n",
    "\n",
    "\n",
    "\n",
    "def clean_it_all_up (text, extra_stops):\n",
    "    text = emoji.replace_emoji(text)\n",
    "    text = contractions.fix(text)\n",
    "    text = re.sub(r'\\W+', ' ', text)\n",
    "    doc = nlp(text)\n",
    "    lemmatized_tokens = []\n",
    "    \n",
    "    for token in doc:\n",
    "        if (\n",
    "            token.text.lower() not in stopwords \n",
    "            and (extra_stops is None or token.text.lower() not in extra_stops) \n",
    "            # and token.pos_ in {'NOUN', 'PROPN', 'VERB', 'ADJ'} \n",
    "            # and token.ent_type_ not in {'GPE', 'LOC'}\n",
    "            and token.pos_ not in {\"AUX\",\n",
    "                                   \"ADP\",\n",
    "                                   \"CONJ\", \n",
    "                                   \"CCONJ\", \n",
    "                                   \"DET\", \n",
    "                                   \"INTJ\", \n",
    "                                   \"PART\", \n",
    "                                   \"PUNCT\",\n",
    "                                   \"SCONJ\", \n",
    "                                   \"SYM\", \n",
    "                                   \"X\", \n",
    "                                   \"SPACE\"}\n",
    "        ):\n",
    "          \n",
    "            \n",
    "            lemmatized_tokens.append(token.lemma_.lower())\n",
    "            \n",
    "    return \" \".join(lemmatized_tokens)   \n"
   ]
  },
  {
   "cell_type": "code",
   "execution_count": 233,
   "metadata": {},
   "outputs": [],
   "source": [
    "def date_selection(start_date, end_date):\n",
    "    start_date = datetime.datetime.strptime(start_date, \"%Y-%m-%d\")\n",
    "    end_date = end_date = datetime.datetime.strptime(end_date, \"%Y-%m-%d\")\n",
    "\n",
    "    date_list = []\n",
    "    current_date = start_date\n",
    "    date_list.append(current_date.strftime('%Y-%m-%d'))\n",
    "\n",
    "    while current_date < end_date:\n",
    "        next_date = current_date + datetime.timedelta(days=1)\n",
    "        next_date = next_date\n",
    "        if next_date >= end_date:\n",
    "            next_date = end_date\n",
    "        date_list.append(next_date.strftime('%Y-%m-%d'))\n",
    "        current_date = next_date\n",
    "\n",
    "    return date_list\n"
   ]
  },
  {
   "cell_type": "code",
   "execution_count": 234,
   "metadata": {},
   "outputs": [],
   "source": [
    "def ngram_generator(dataframe, num, start_date, end_date, extra_stops, top_n=None):\n",
    "    \n",
    "    date_list = date_selection(start_date, end_date)\n",
    "\n",
    "    cleaned_tokens = ' '.join(dataframe[dataframe.created_date.isin(date_list)]['title'].apply(lambda x: clean_it_all_up(x, extra_stops)).tolist())\n",
    "\n",
    "    if num == 1:\n",
    "        ngram = pd.Series(cleaned_tokens.split()).value_counts()\n",
    "    elif num == 2:\n",
    "        ngram = pd.Series(list(bigrams(cleaned_tokens.split()))).value_counts()\n",
    "    elif num == 3:\n",
    "        ngram = pd.Series(list(trigrams(cleaned_tokens.split()))).value_counts()\n",
    "    else:\n",
    "        raise ValueError('Invalid number. Must choose between 1, 2, or 3.')\n",
    "    \n",
    "    ngram = ngram[ngram > 1].head(top_n)\n",
    "    return ngram\n"
   ]
  },
  {
   "cell_type": "code",
   "execution_count": 235,
   "metadata": {},
   "outputs": [],
   "source": [
    "# Function of returning top ngrams from the past 24 hours\n",
    "\n",
    "def ngram_generator_24hrs(dataframe, num, extra_stops, top_n=None):\n",
    "    end_date = datetime.datetime.now()\n",
    "    start_date = end_date - datetime.timedelta(days=1)\n",
    "    \n",
    "    start_date = start_date.strftime(\"%Y-%m-%d\")\n",
    "    end_date = end_date.strftime(\"%Y-%m-%d\")\n",
    "    \n",
    "    return ngram_generator(dataframe, num, start_date, end_date, extra_stops, top_n)"
   ]
  },
  {
   "cell_type": "code",
   "execution_count": 236,
   "metadata": {},
   "outputs": [],
   "source": [
    "# A function of returning top ngrams from the past 7 days\n",
    "\n",
    "def ngram_generator_7days(dataframe, num, extra_stops, top_n=None):\n",
    "    end_date = datetime.datetime.now()\n",
    "    start_date = end_date - datetime.timedelta(days=7)\n",
    "    \n",
    "    start_date = start_date.strftime(\"%Y-%m-%d\")\n",
    "    end_date = end_date.strftime(\"%Y-%m-%d\")\n",
    "    \n",
    "    return ngram_generator(dataframe, num, start_date, end_date, extra_stops, top_n)"
   ]
  },
  {
   "cell_type": "code",
   "execution_count": 237,
   "metadata": {},
   "outputs": [],
   "source": [
    "# A function to return a wordcloud chart covering a specific period of dates\n",
    "from wordcloud import WordCloud\n",
    "\n",
    "def ngram_cloud(dataframe, num, start_date, end_date, extra_stops, top_n=None):\n",
    "    ngram = ngram_generator(dataframe, num, start_date, end_date, extra_stops, top_n)\n",
    "    words_cloud = pd.DataFrame(ngram, columns=['count']).reset_index().rename(columns={'index': 'phrases'})\n",
    "    words_cloud['phrases'] = words_cloud['phrases'].apply(lambda x: ', '.join(x) if isinstance(x,tuple) else x)\n",
    "    words_cloud['phrases'] = words_cloud['phrases'].str.replace(',', '')\n",
    "    wordcloud = WordCloud(width=800, height=400, background_color='white', colormap='flag_r').\\\n",
    "    generate_from_frequencies(words_cloud.set_index('phrases')['count'].to_dict())\n",
    "    plt.figure(figsize=(10,8))\n",
    "    plt.imshow(wordcloud, interpolation='bilinear')\n",
    "    plt.axis('off')"
   ]
  },
  {
   "cell_type": "code",
   "execution_count": 269,
   "metadata": {},
   "outputs": [],
   "source": [
    "# A function to return a wordcloud chart covering ONLY the past 24 hours\n",
    "\n",
    "def ngram_24hrs_cloud(dataframe, num, save_viz, extra_stops, set_title=False, top_n=None):\n",
    "    ngram = ngram_generator_24hrs(dataframe, num, extra_stops, top_n)\n",
    "    words_cloud = pd.DataFrame(ngram, columns=['count']).reset_index().rename(columns={'index': 'phrases'})\n",
    "    words_cloud['phrases'] = words_cloud['phrases'].apply(lambda x: ', '.join(x) if isinstance(x,tuple) else x)\n",
    "    words_cloud['phrases'] = words_cloud['phrases'].str.replace(',', '')\n",
    "    wordcloud = WordCloud(width=800, height=400, background_color='white', colormap='flag_r').\\\n",
    "    generate_from_frequencies(words_cloud.set_index('phrases')['count'].to_dict())\n",
    "    plt.figure(figsize=(10,8))\n",
    "    plt.imshow(wordcloud, \n",
    "               interpolation='nearest',\n",
    "               aspect=\"auto\"\n",
    "               )\n",
    "    \n",
    "    if set_title:\n",
    "        plt.title(f\"Most-mentioned {top_n} bigrams in the last 24 hours\",\n",
    "                fontsize=20,\n",
    "                pad=25,\n",
    "                )\n",
    "    plt.axis('off')\n",
    "\n",
    "    if save_viz is not None:\n",
    "        plt.savefig(f\"viz/{save_viz}.jpeg\",\n",
    "                    dpi=600\n",
    "                    )\n",
    "        plt.show()\n",
    "    else:\n",
    "        plt.show()"
   ]
  },
  {
   "cell_type": "code",
   "execution_count": 270,
   "metadata": {},
   "outputs": [
    {
     "name": "stderr",
     "output_type": "stream",
     "text": [
      "/var/folders/f2/xbsrplkj23z71l_fw6890_hr0000gn/T/ipykernel_31564/2951235605.py:5: FutureWarning:\n",
      "\n",
      "The behavior of 'isin' with dtype=datetime64[ns] and castable values (e.g. strings) is deprecated. In a future version, these will not be considered matching by isin. Explicitly cast to the appropriate dtype before calling isin instead.\n",
      "\n"
     ]
    },
    {
     "data": {
      "image/png": "[encoded data removed]",
      "text/plain": [
       "<Figure size 1000x800 with 1 Axes>"
      ]
     },
     "metadata": {},
     "output_type": "display_data"
    }
   ],
   "source": [
    "# creating and saving the top 50 bigrams from the last 24 hours\n",
    "dataframe = df\n",
    "num = 2\n",
    "top_n = 50\n",
    "save_viz = 'bigrams_wordcloud_24hrs'\n",
    "extra_stops=['trump']\n",
    "ngram_24hrs_cloud(dataframe = dataframe, num=num, top_n=top_n, save_viz=save_viz, extra_stops=extra_stops)\n",
    "\n"
   ]
  },
  {
   "cell_type": "code",
   "execution_count": 240,
   "metadata": {},
   "outputs": [],
   "source": [
    "# A function to return a wordcloud chart covering ONLY the past 7 days\n",
    "\n",
    "def ngram_7days_cloud(dataframe, num, save_viz, extra_stops, top_n=None):\n",
    "    ngram = ngram_generator_7days(dataframe, num, extra_stops, top_n=None)\n",
    "    words_cloud = pd.DataFrame(ngram, columns=['count']).reset_index().rename(columns={'index': 'phrases'})\n",
    "    words_cloud['phrases'] = words_cloud['phrases'].apply(lambda x: ', '.join(x) if isinstance(x,tuple) else x)\n",
    "    words_cloud['phrases'] = words_cloud['phrases'].str.replace(',', '')\n",
    "    wordcloud = WordCloud(width=800, height=400, background_color='white').\\\n",
    "    generate_from_frequencies(words_cloud.set_index('phrases')['count'].to_dict())\n",
    "    plt.figure(figsize=(10,8))\n",
    "    plt.imshow(wordcloud, interpolation='bilinear')\n",
    "    plt.axis('off')\n",
    "    plt.title(f\"Top {top_n} bigrams in the last 7 days\",\n",
    "              fontsize=20,\n",
    "              pad=25,\n",
    "              )\n",
    "\n",
    "    if save_viz is not None:\n",
    "        plt.savefig(f\"viz/{save_viz}.jpeg\",\n",
    "                    dpi=600\n",
    "                    )\n",
    "        plt.show()\n",
    "    else:\n",
    "        plt.show()"
   ]
  },
  {
   "cell_type": "code",
   "execution_count": 241,
   "metadata": {},
   "outputs": [],
   "source": [
    "# A summary table of authors based on a given date\n",
    "def top_acounts(dataframe, start_date, end_date, top_n=None):\n",
    "    date_list = date_selection(start_date, end_date)\n",
    "    top_authors = dataframe[dataframe['created_date'].isin(date_list)]['author'].value_counts().reset_index()\n",
    "    top_authors = top_authors[top_authors['count']>1]\n",
    "    comments_total = dataframe.groupby('author').comments.sum()\n",
    "    upvotes_total = dataframe.groupby('author').score_up.sum()\n",
    "    top_authors =  top_authors.merge(comments_total, on='author').merge(upvotes_total, on='author')\n",
    "    top_authors = top_authors.rename(columns={\n",
    "                                        'author': 'top_authors',\n",
    "                                        'count' : 'posts',\n",
    "                                        'comments': 'accumulated_comments',\n",
    "                                        'score_up': 'accumulated_upvotes'\n",
    "                                        })\n",
    "    top_authors = top_authors.sort_values('posts', ascending=False).head(top_n)\n",
    "    return  top_authors"
   ]
  },
  {
   "cell_type": "code",
   "execution_count": 242,
   "metadata": {},
   "outputs": [],
   "source": [
    "# This function returns the most posted domains from a specific period of time\n",
    "\n",
    "def top_domains(dataframe, start_date, end_date, top_n=None):\n",
    "    date_list = date_selection(start_date, end_date)\n",
    "    top_urls = dataframe[dataframe['created_date'].isin(date_list)]['domain'].value_counts(dropna=False, normalize=True).head(top_n)\n",
    "    return top_urls"
   ]
  },
  {
   "cell_type": "code",
   "execution_count": 243,
   "metadata": {},
   "outputs": [],
   "source": [
    "# This function returns the most posted domains from the last 7 days\n",
    "\n",
    "def top_domains_7days(dataframe, top_n=None):\n",
    "    end_date = datetime.datetime.now()\n",
    "    start_date = end_date - datetime.timedelta(days=7)\n",
    "    \n",
    "    start_date = start_date.strftime(\"%Y-%m-%d\")\n",
    "    end_date = end_date.strftime(\"%Y-%m-%d\")\n",
    "\n",
    "    date_list = date_selection(start_date, end_date)\n",
    "    top_urls = dataframe[dataframe['created_date'].isin(date_list)]['domain'].value_counts(dropna=False, normalize=True).head(top_n)\n",
    "    return top_urls"
   ]
  },
  {
   "cell_type": "code",
   "execution_count": 244,
   "metadata": {},
   "outputs": [],
   "source": [
    "# Popular Twitter accounts on The Ronald\n",
    "\n",
    "def top_xitter(dataframe, start_date, end_date, top_n=None):\n",
    "    date_list = date_selection(start_date, end_date)\n",
    "    xiter_accounts = dataframe[(dataframe.link.str.contains('twitter.com'))& (dataframe['created_date'].isin(date_list))]\n",
    "    top_xitter = xiter_accounts['link'].str.split('/').str[3].str.lower().value_counts(normalize=False, dropna=False).head(top_n)\n",
    "    return top_xitter"
   ]
  },
  {
   "cell_type": "code",
   "execution_count": 245,
   "metadata": {},
   "outputs": [],
   "source": [
    "# A date-based n-gram generator\n",
    "# useful for making time-series charts \n",
    "\n",
    "def new_ngram_generator(dataframe, num, start_date, end_date, extra_stops, top_n=None):\n",
    "    # Filter dates\n",
    "    date_list = date_selection(start_date, end_date)\n",
    "    \n",
    "    # Filter and process data\n",
    "    filtered_df = dataframe[dataframe.created_date.isin(date_list)]\n",
    "    filtered_df['cleaned_title'] = filtered_df['title'].apply(lambda x: clean_it_all_up(x, extra_stops))\n",
    "\n",
    "    \n",
    "    ngrams_with_dates = []\n",
    "    \n",
    "    for index, row in filtered_df.iterrows():\n",
    "        tokens = row['cleaned_title'].split()\n",
    "        if num ==1:\n",
    "            unigrams_list = list(tokens)\n",
    "            for unigram in unigrams_list:\n",
    "                ngrams_with_dates.append((unigram, row['created_date']))\n",
    "        elif num == 2:\n",
    "            bigrams_list = list(bigrams(tokens))\n",
    "            for bigram in bigrams_list:\n",
    "                ngrams_with_dates.append((bigram, row['created_date']))\n",
    "        elif num == 3:\n",
    "            trigrams_list = list(trigrams(tokens))\n",
    "            for trigram in trigrams_list:\n",
    "                ngrams_with_dates.append((trigram, row['created_date']))\n",
    "        else:\n",
    "            raise ValueError('Invalid number. Must choose between 2 or 3.')\n",
    "    \n",
    "    ngram_df = pd.DataFrame(ngrams_with_dates, columns=['ngram', 'date']).head(top_n)\n",
    "    return ngram_df\n"
   ]
  },
  {
   "cell_type": "code",
   "execution_count": 246,
   "metadata": {},
   "outputs": [],
   "source": [
    "def ngram_time_series(dataframe, num, start_date, end_date, save_viz, extra_stops, top_n=None):\n",
    "\n",
    "    ngrams_df = new_ngram_generator(dataframe, num, start_date, end_date, extra_stops)\n",
    "\n",
    "    ngrams_df['date'] = pd.to_datetime(ngrams_df['date'])\n",
    "\n",
    "    ngrams_counts = ngrams_df.groupby([ngrams_df['date'].dt.to_period('d'), 'ngram']).size().reset_index(name='count')\n",
    "\n",
    "    top_ngrams = ngrams_counts.groupby('ngram')['count'].sum().nlargest(top_n).index\n",
    "\n",
    "    top_ngrams_counts = ngrams_counts[ngrams_counts['ngram'].isin(top_ngrams)]\n",
    "\n",
    "    top_ngram_pivot = top_ngrams_counts.pivot(index='date', columns='ngram', values='count').fillna(0)\n",
    "\n",
    "    top_ngram_pivot.index = top_ngram_pivot.index.to_timestamp()\n",
    "\n",
    "    plt.figure(figsize=(10, 8))\n",
    "\n",
    "\n",
    "    top_ngram_plot = sns.lineplot(data=top_ngram_pivot)\n",
    "\n",
    "    plt.xlabel('')\n",
    "    plt.ylabel('Mention count')\n",
    "    plt.title(f'Top bigrams on the landing page of The Ronald between {start_date} and {end_date}')\n",
    "\n",
    "    plt.xticks(rotation=45) \n",
    "    plt.grid(True)\n",
    "\n",
    "    plt.legend(title='Top Bigrams', bbox_to_anchor=(1.3, 1), loc='upper right')\n",
    "    \n",
    "    if save_viz is not None:\n",
    "        plt.savefig(f\"viz/{save_viz}.jpeg\",\n",
    "                    dpi=600\n",
    "                    )\n",
    "        plt.show()\n",
    "    else:\n",
    "        plt.show()"
   ]
  },
  {
   "cell_type": "code",
   "execution_count": 247,
   "metadata": {},
   "outputs": [],
   "source": [
    "# create interactive charts with Plotly\n",
    "\n",
    "import plotly.graph_objs as go\n",
    "\n",
    "def ngram_time_series_interactive(dataframe, num, start_date, end_date, save_viz, extra_stops, top_n=None):\n",
    "    ngrams_df = new_ngram_generator(dataframe, num, start_date, end_date, extra_stops)\n",
    "\n",
    "    ngrams_df['date'] = pd.to_datetime(ngrams_df['date'])\n",
    "\n",
    "    ngrams_counts = ngrams_df.groupby([ngrams_df['date'].dt.to_period('d'), 'ngram']).size().reset_index(name='count')\n",
    "\n",
    "    top_ngrams = ngrams_counts.groupby('ngram')['count'].sum().nlargest(top_n).index\n",
    "\n",
    "    top_ngrams_counts = ngrams_counts[ngrams_counts['ngram'].isin(top_ngrams)]\n",
    "\n",
    "    top_ngram_pivot = top_ngrams_counts.pivot(index='date', columns='ngram', values='count').fillna(0)\n",
    "\n",
    "    top_ngram_pivot.index = top_ngram_pivot.index.to_timestamp()\n",
    "\n",
    "    fig = go.Figure()\n",
    "\n",
    "    for ngram in top_ngram_pivot.columns:\n",
    "        fig.add_trace(go.Scatter(\n",
    "            x=top_ngram_pivot.index, \n",
    "            y=top_ngram_pivot[ngram], \n",
    "            mode='lines', \n",
    "            name=str(ngram)))\n",
    "\n",
    "    fig.update_layout(\n",
    "        width=1400,\n",
    "        height=800,\n",
    "        title=f'Top bigrams on the landing page of The Ronald between {start_date} and {end_date}',\n",
    "        xaxis_title='Date',\n",
    "        yaxis_title='Mention count',\n",
    "        xaxis=dict(tickangle=45),\n",
    "        legend_title_text='Top Bigrams'\n",
    "    )\n",
    "\n",
    "    if save_viz is not None:\n",
    "        fig.savefig(f\"viz/{save_viz}.jpeg\",\n",
    "                    dpi=600\n",
    "                    )\n",
    "        fig.show()\n",
    "    else:\n",
    "        fig.show()"
   ]
  },
  {
   "cell_type": "code",
   "execution_count": 248,
   "metadata": {},
   "outputs": [],
   "source": [
    "# This function would only cover the past n days\n",
    "\n",
    "def ngram_time_last_n_days_interactive(dataframe, num, last_ndays, extra_stops, top_n=None):\n",
    "    end_date = pd.to_datetime(dataframe['created_date'].max())\n",
    "    start_date = end_date - pd.Timedelta(days=last_ndays)\n",
    "    start_date= start_date.strftime(\"%Y-%m-%d\")\n",
    "    end_date= end_date.strftime(\"%Y-%m-%d\")\n",
    "\n",
    "    ngrams_df = new_ngram_generator(dataframe, num, start_date, end_date, extra_stops)\n",
    "\n",
    "    ngrams_df['date'] = pd.to_datetime(ngrams_df['date'])\n",
    "    ngrams_counts = ngrams_df.groupby([ngrams_df['date'].dt.to_period('d'), 'ngram']).size().reset_index(name='count')\n",
    "    \n",
    "    top_ngrams = ngrams_counts.groupby('ngram')['count'].sum().nlargest(top_n).index\n",
    "    top_ngrams_counts = ngrams_counts[ngrams_counts['ngram'].isin(top_ngrams)]\n",
    "\n",
    "    top_ngram_pivot = top_ngrams_counts.pivot(index='date', columns='ngram', values='count').fillna(0)\n",
    "    top_ngram_pivot.index = top_ngram_pivot.index.to_timestamp()\n",
    "\n",
    "\n",
    "    y_max=top_ngram_pivot.values.max()\n",
    "    y_range=[0, y_max * 1.1]\n",
    "\n",
    "    fig = go.Figure()\n",
    "\n",
    "    for ngram in top_ngram_pivot.columns:\n",
    "        fig.add_trace(go.Scatter(\n",
    "            x=top_ngram_pivot.index, \n",
    "            y=top_ngram_pivot[ngram], \n",
    "            mode='lines', \n",
    "            name=str(ngram)))\n",
    "        \n",
    "    fig.update_traces(line={'width': 5})\n",
    "\n",
    "    fig.update_layout(\n",
    "        width=1200,\n",
    "        height=800,\n",
    "        title=f'Top bigrams on the landing page of The Ronald between {start_date} and {end_date}',\n",
    "        xaxis=dict(title='Date',\n",
    "                   tickangle=45), \n",
    "        yaxis=dict(title='Mention count', \n",
    "                   range=y_range),\n",
    "        legend_title_text='Top Bigrams'\n",
    ")\n",
    "\n",
    "    fig.show()"
   ]
  },
  {
   "cell_type": "code",
   "execution_count": 277,
   "metadata": {},
   "outputs": [],
   "source": [
    "\n",
    "# This function would only cover the past 7 days\n",
    "\n",
    "def ngram_time_last_7_days_interactive(dataframe, num, save_viz,extra_stops, set_title=False, top_n=None):\n",
    "    end_date = pd.to_datetime(df['created_date'].max())\n",
    "    start_date = end_date - pd.Timedelta(days=7)\n",
    "    start_date= start_date.strftime(\"%Y-%m-%d\")\n",
    "    end_date= end_date.strftime(\"%Y-%m-%d\")\n",
    "\n",
    "    ngrams_df = new_ngram_generator(dataframe, num, start_date, end_date, extra_stops)\n",
    "\n",
    "    ngrams_df['date'] = pd.to_datetime(ngrams_df['date'])\n",
    "    ngrams_counts = ngrams_df.groupby([ngrams_df['date'].dt.to_period('d'), 'ngram']).size().reset_index(name='count')\n",
    "    \n",
    "    top_ngrams = ngrams_counts.groupby('ngram')['count'].sum().nlargest(top_n).index\n",
    "    top_ngrams_counts = ngrams_counts[ngrams_counts['ngram'].isin(top_ngrams)]\n",
    "\n",
    "    top_ngram_pivot = top_ngrams_counts.pivot(index='date', columns='ngram', values='count').fillna(0)\n",
    "    top_ngram_pivot.index = top_ngram_pivot.index.to_timestamp()\n",
    "\n",
    "\n",
    "    y_max=top_ngram_pivot.values.max()\n",
    "    y_range=[0, y_max * 1.1]\n",
    "\n",
    "    fig = go.Figure()\n",
    "\n",
    "    for ngram in top_ngram_pivot.columns:\n",
    "        fig.add_trace(go.Scatter(\n",
    "            x=top_ngram_pivot.index, \n",
    "            y=top_ngram_pivot[ngram], \n",
    "            mode='lines', \n",
    "            name=str(ngram)))\n",
    "        \n",
    "    fig.update_traces(line={'width': 5})\n",
    "\n",
    "\n",
    "    layout= dict(\n",
    "        width=1200,\n",
    "        height=800,\n",
    "        xaxis=dict(title='Date',\n",
    "                   tickangle=45), \n",
    "        yaxis=dict(title='Mention count', \n",
    "                   range=y_range),\n",
    "        legend_title = dict(\n",
    "            text= '<b>Top Bigrams<br>(try cliking these variables)</b>',\n",
    "            font = dict(family = \"Courier\", \n",
    "                        color= 'firebrick',\n",
    "                        size = 15),\n",
    "        )   \n",
    ")\n",
    "    if set_title:\n",
    "        layout['title'] = dict(\n",
    "            text = f\"Top {top_n} bigrams on The Ronald's landing page in the last 7 days\",\n",
    "            font = dict(family = \"Ariel\", \n",
    "                        size = 30),\n",
    "            pad=dict(t=20)\n",
    "        )\n",
    "    \n",
    "\n",
    "    if save_viz is not None:\n",
    "        fig.write_html(f\"viz/{save_viz}.html\")\n",
    "        fig.show()\n",
    "    else:\n",
    "        fig.show()\n"
   ]
  },
  {
   "cell_type": "code",
   "execution_count": 278,
   "metadata": {},
   "outputs": [
    {
     "name": "stderr",
     "output_type": "stream",
     "text": [
      "/var/folders/f2/xbsrplkj23z71l_fw6890_hr0000gn/T/ipykernel_31564/1221168534.py:9: FutureWarning:\n",
      "\n",
      "The behavior of 'isin' with dtype=datetime64[ns] and castable values (e.g. strings) is deprecated. In a future version, these will not be considered matching by isin. Explicitly cast to the appropriate dtype before calling isin instead.\n",
      "\n",
      "/var/folders/f2/xbsrplkj23z71l_fw6890_hr0000gn/T/ipykernel_31564/1221168534.py:10: SettingWithCopyWarning:\n",
      "\n",
      "\n",
      "A value is trying to be set on a copy of a slice from a DataFrame.\n",
      "Try using .loc[row_indexer,col_indexer] = value instead\n",
      "\n",
      "See the caveats in the documentation: https://pandas.pydata.org/pandas-docs/stable/user_guide/indexing.html#returning-a-view-versus-a-copy\n",
      "\n"
     ]
    },
    {
     "data": {
      "application/vnd.plotly.v1+json": {
       "config": {
        "plotlyServerURL": "https://plot.ly"
       },
       "data": [
        {
         "line": {
          "width": 5
         },
         "mode": "lines",
         "name": "('biden', 'harris')",
         "type": "scatter",
         "x": [
          "2024-08-27T00:00:00",
          "2024-08-28T00:00:00",
          "2024-08-29T00:00:00",
          "2024-08-30T00:00:00",
          "2024-08-31T00:00:00",
          "2024-09-01T00:00:00",
          "2024-09-02T00:00:00",
          "2024-09-03T00:00:00"
         ],
         "y": [
          7,
          5,
          7,
          5,
          3,
          3,
          3,
          3
         ]
        },
        {
         "line": {
          "width": 5
         },
         "mode": "lines",
         "name": "('cnn', 'interview')",
         "type": "scatter",
         "x": [
          "2024-08-27T00:00:00",
          "2024-08-28T00:00:00",
          "2024-08-29T00:00:00",
          "2024-08-30T00:00:00",
          "2024-08-31T00:00:00",
          "2024-09-01T00:00:00",
          "2024-09-02T00:00:00",
          "2024-09-03T00:00:00"
         ],
         "y": [
          2,
          1,
          5,
          7,
          1,
          1,
          0,
          1
         ]
        },
        {
         "line": {
          "width": 5
         },
         "mode": "lines",
         "name": "('elon', 'musk')",
         "type": "scatter",
         "x": [
          "2024-08-27T00:00:00",
          "2024-08-28T00:00:00",
          "2024-08-29T00:00:00",
          "2024-08-30T00:00:00",
          "2024-08-31T00:00:00",
          "2024-09-01T00:00:00",
          "2024-09-02T00:00:00",
          "2024-09-03T00:00:00"
         ],
         "y": [
          3,
          1,
          5,
          6,
          5,
          6,
          8,
          5
         ]
        },
        {
         "line": {
          "width": 5
         },
         "mode": "lines",
         "name": "('fake', 'news')",
         "type": "scatter",
         "x": [
          "2024-08-27T00:00:00",
          "2024-08-28T00:00:00",
          "2024-08-29T00:00:00",
          "2024-08-30T00:00:00",
          "2024-08-31T00:00:00",
          "2024-09-01T00:00:00",
          "2024-09-02T00:00:00",
          "2024-09-03T00:00:00"
         ],
         "y": [
          3,
          3,
          6,
          2,
          0,
          2,
          2,
          2
         ]
        },
        {
         "line": {
          "width": 5
         },
         "mode": "lines",
         "name": "('free', 'speech')",
         "type": "scatter",
         "x": [
          "2024-08-27T00:00:00",
          "2024-08-28T00:00:00",
          "2024-08-29T00:00:00",
          "2024-08-30T00:00:00",
          "2024-08-31T00:00:00",
          "2024-09-01T00:00:00",
          "2024-09-02T00:00:00",
          "2024-09-03T00:00:00"
         ],
         "y": [
          3,
          5,
          5,
          8,
          8,
          4,
          1,
          2
         ]
        },
        {
         "line": {
          "width": 5
         },
         "mode": "lines",
         "name": "('gold', 'star')",
         "type": "scatter",
         "x": [
          "2024-08-27T00:00:00",
          "2024-08-28T00:00:00",
          "2024-08-29T00:00:00",
          "2024-08-30T00:00:00",
          "2024-08-31T00:00:00",
          "2024-09-01T00:00:00",
          "2024-09-02T00:00:00",
          "2024-09-03T00:00:00"
         ],
         "y": [
          2,
          3,
          4,
          1,
          7,
          15,
          9,
          1
         ]
        },
        {
         "line": {
          "width": 5
         },
         "mode": "lines",
         "name": "('illegal', 'alien')",
         "type": "scatter",
         "x": [
          "2024-08-27T00:00:00",
          "2024-08-28T00:00:00",
          "2024-08-29T00:00:00",
          "2024-08-30T00:00:00",
          "2024-08-31T00:00:00",
          "2024-09-01T00:00:00",
          "2024-09-02T00:00:00",
          "2024-09-03T00:00:00"
         ],
         "y": [
          3,
          5,
          8,
          4,
          5,
          3,
          4,
          1
         ]
        },
        {
         "line": {
          "width": 5
         },
         "mode": "lines",
         "name": "('illegal', 'migrant')",
         "type": "scatter",
         "x": [
          "2024-08-27T00:00:00",
          "2024-08-28T00:00:00",
          "2024-08-29T00:00:00",
          "2024-08-30T00:00:00",
          "2024-08-31T00:00:00",
          "2024-09-01T00:00:00",
          "2024-09-02T00:00:00",
          "2024-09-03T00:00:00"
         ],
         "y": [
          3,
          4,
          2,
          5,
          1,
          0,
          3,
          0
         ]
        },
        {
         "line": {
          "width": 5
         },
         "mode": "lines",
         "name": "('jd', 'vance')",
         "type": "scatter",
         "x": [
          "2024-08-27T00:00:00",
          "2024-08-28T00:00:00",
          "2024-08-29T00:00:00",
          "2024-08-30T00:00:00",
          "2024-08-31T00:00:00",
          "2024-09-01T00:00:00",
          "2024-09-02T00:00:00",
          "2024-09-03T00:00:00"
         ],
         "y": [
          2,
          5,
          3,
          3,
          3,
          0,
          2,
          0
         ]
        },
        {
         "line": {
          "width": 5
         },
         "mode": "lines",
         "name": "('joe', 'biden')",
         "type": "scatter",
         "x": [
          "2024-08-27T00:00:00",
          "2024-08-28T00:00:00",
          "2024-08-29T00:00:00",
          "2024-08-30T00:00:00",
          "2024-08-31T00:00:00",
          "2024-09-01T00:00:00",
          "2024-09-02T00:00:00",
          "2024-09-03T00:00:00"
         ],
         "y": [
          7,
          3,
          6,
          0,
          0,
          2,
          6,
          3
         ]
        },
        {
         "line": {
          "width": 5
         },
         "mode": "lines",
         "name": "('kamala', 'harris')",
         "type": "scatter",
         "x": [
          "2024-08-27T00:00:00",
          "2024-08-28T00:00:00",
          "2024-08-29T00:00:00",
          "2024-08-30T00:00:00",
          "2024-08-31T00:00:00",
          "2024-09-01T00:00:00",
          "2024-09-02T00:00:00",
          "2024-09-03T00:00:00"
         ],
         "y": [
          21,
          39,
          25,
          22,
          26,
          16,
          26,
          22
         ]
        },
        {
         "line": {
          "width": 5
         },
         "mode": "lines",
         "name": "('new', 'york')",
         "type": "scatter",
         "x": [
          "2024-08-27T00:00:00",
          "2024-08-28T00:00:00",
          "2024-08-29T00:00:00",
          "2024-08-30T00:00:00",
          "2024-08-31T00:00:00",
          "2024-09-01T00:00:00",
          "2024-09-02T00:00:00",
          "2024-09-03T00:00:00"
         ],
         "y": [
          2,
          2,
          3,
          2,
          3,
          3,
          5,
          3
         ]
        },
        {
         "line": {
          "width": 5
         },
         "mode": "lines",
         "name": "('pavel', 'durov')",
         "type": "scatter",
         "x": [
          "2024-08-27T00:00:00",
          "2024-08-28T00:00:00",
          "2024-08-29T00:00:00",
          "2024-08-30T00:00:00",
          "2024-08-31T00:00:00",
          "2024-09-01T00:00:00",
          "2024-09-02T00:00:00",
          "2024-09-03T00:00:00"
         ],
         "y": [
          8,
          6,
          4,
          1,
          0,
          0,
          0,
          0
         ]
        },
        {
         "line": {
          "width": 5
         },
         "mode": "lines",
         "name": "('presidential', 'election')",
         "type": "scatter",
         "x": [
          "2024-08-27T00:00:00",
          "2024-08-28T00:00:00",
          "2024-08-29T00:00:00",
          "2024-08-30T00:00:00",
          "2024-08-31T00:00:00",
          "2024-09-01T00:00:00",
          "2024-09-02T00:00:00",
          "2024-09-03T00:00:00"
         ],
         "y": [
          4,
          4,
          0,
          1,
          3,
          1,
          3,
          2
         ]
        },
        {
         "line": {
          "width": 5
         },
         "mode": "lines",
         "name": "('rfk', 'jr')",
         "type": "scatter",
         "x": [
          "2024-08-27T00:00:00",
          "2024-08-28T00:00:00",
          "2024-08-29T00:00:00",
          "2024-08-30T00:00:00",
          "2024-08-31T00:00:00",
          "2024-09-01T00:00:00",
          "2024-09-02T00:00:00",
          "2024-09-03T00:00:00"
         ],
         "y": [
          25,
          8,
          3,
          2,
          7,
          9,
          3,
          0
         ]
        },
        {
         "line": {
          "width": 5
         },
         "mode": "lines",
         "name": "('star', 'family')",
         "type": "scatter",
         "x": [
          "2024-08-27T00:00:00",
          "2024-08-28T00:00:00",
          "2024-08-29T00:00:00",
          "2024-08-30T00:00:00",
          "2024-08-31T00:00:00",
          "2024-09-01T00:00:00",
          "2024-09-02T00:00:00",
          "2024-09-03T00:00:00"
         ],
         "y": [
          1,
          3,
          4,
          1,
          2,
          7,
          6,
          0
         ]
        },
        {
         "line": {
          "width": 5
         },
         "mode": "lines",
         "name": "('supreme', 'court')",
         "type": "scatter",
         "x": [
          "2024-08-27T00:00:00",
          "2024-08-28T00:00:00",
          "2024-08-29T00:00:00",
          "2024-08-30T00:00:00",
          "2024-08-31T00:00:00",
          "2024-09-01T00:00:00",
          "2024-09-02T00:00:00",
          "2024-09-03T00:00:00"
         ],
         "y": [
          7,
          3,
          3,
          4,
          3,
          0,
          4,
          2
         ]
        },
        {
         "line": {
          "width": 5
         },
         "mode": "lines",
         "name": "('take', 'apartment')",
         "type": "scatter",
         "x": [
          "2024-08-27T00:00:00",
          "2024-08-28T00:00:00",
          "2024-08-29T00:00:00",
          "2024-08-30T00:00:00",
          "2024-08-31T00:00:00",
          "2024-09-01T00:00:00",
          "2024-09-02T00:00:00",
          "2024-09-03T00:00:00"
         ],
         "y": [
          0,
          1,
          3,
          5,
          1,
          0,
          0,
          8
         ]
        },
        {
         "line": {
          "width": 5
         },
         "mode": "lines",
         "name": "('tim', 'walz')",
         "type": "scatter",
         "x": [
          "2024-08-27T00:00:00",
          "2024-08-28T00:00:00",
          "2024-08-29T00:00:00",
          "2024-08-30T00:00:00",
          "2024-08-31T00:00:00",
          "2024-09-01T00:00:00",
          "2024-09-02T00:00:00",
          "2024-09-03T00:00:00"
         ],
         "y": [
          6,
          3,
          4,
          7,
          9,
          12,
          11,
          8
         ]
        },
        {
         "line": {
          "width": 5
         },
         "mode": "lines",
         "name": "('united', 'states')",
         "type": "scatter",
         "x": [
          "2024-08-27T00:00:00",
          "2024-08-28T00:00:00",
          "2024-08-29T00:00:00",
          "2024-08-30T00:00:00",
          "2024-08-31T00:00:00",
          "2024-09-01T00:00:00",
          "2024-09-02T00:00:00",
          "2024-09-03T00:00:00"
         ],
         "y": [
          3,
          2,
          3,
          0,
          5,
          3,
          3,
          1
         ]
        }
       ],
       "layout": {
        "template": {
         "data": {
          "bar": [
           {
            "error_x": {
             "color": "#2a3f5f"
            },
            "error_y": {
             "color": "#2a3f5f"
            },
            "marker": {
             "line": {
              "color": "#E5ECF6",
              "width": 0.5
             },
             "pattern": {
              "fillmode": "overlay",
              "size": 10,
              "solidity": 0.2
             }
            },
            "type": "bar"
           }
          ],
          "barpolar": [
           {
            "marker": {
             "line": {
              "color": "#E5ECF6",
              "width": 0.5
             },
             "pattern": {
              "fillmode": "overlay",
              "size": 10,
              "solidity": 0.2
             }
            },
            "type": "barpolar"
           }
          ],
          "carpet": [
           {
            "aaxis": {
             "endlinecolor": "#2a3f5f",
             "gridcolor": "white",
             "linecolor": "white",
             "minorgridcolor": "white",
             "startlinecolor": "#2a3f5f"
            },
            "baxis": {
             "endlinecolor": "#2a3f5f",
             "gridcolor": "white",
             "linecolor": "white",
             "minorgridcolor": "white",
             "startlinecolor": "#2a3f5f"
            },
            "type": "carpet"
           }
          ],
          "choropleth": [
           {
            "colorbar": {
             "outlinewidth": 0,
             "ticks": ""
            },
            "type": "choropleth"
           }
          ],
          "contour": [
           {
            "colorbar": {
             "outlinewidth": 0,
             "ticks": ""
            },
            "colorscale": [
             [
              0,
              "#0d0887"
             ],
             [
              0.1111111111111111,
              "#46039f"
             ],
             [
              0.2222222222222222,
              "#7201a8"
             ],
             [
              0.3333333333333333,
              "#9c179e"
             ],
             [
              0.4444444444444444,
              "#bd3786"
             ],
             [
              0.5555555555555556,
              "#d8576b"
             ],
             [
              0.6666666666666666,
              "#ed7953"
             ],
             [
              0.7777777777777778,
              "#fb9f3a"
             ],
             [
              0.8888888888888888,
              "#fdca26"
             ],
             [
              1,
              "#f0f921"
             ]
            ],
            "type": "contour"
           }
          ],
          "contourcarpet": [
           {
            "colorbar": {
             "outlinewidth": 0,
             "ticks": ""
            },
            "type": "contourcarpet"
           }
          ],
          "heatmap": [
           {
            "colorbar": {
             "outlinewidth": 0,
             "ticks": ""
            },
            "colorscale": [
             [
              0,
              "#0d0887"
             ],
             [
              0.1111111111111111,
              "#46039f"
             ],
             [
              0.2222222222222222,
              "#7201a8"
             ],
             [
              0.3333333333333333,
              "#9c179e"
             ],
             [
              0.4444444444444444,
              "#bd3786"
             ],
             [
              0.5555555555555556,
              "#d8576b"
             ],
             [
              0.6666666666666666,
              "#ed7953"
             ],
             [
              0.7777777777777778,
              "#fb9f3a"
             ],
             [
              0.8888888888888888,
              "#fdca26"
             ],
             [
              1,
              "#f0f921"
             ]
            ],
            "type": "heatmap"
           }
          ],
          "heatmapgl": [
           {
            "colorbar": {
             "outlinewidth": 0,
             "ticks": ""
            },
            "colorscale": [
             [
              0,
              "#0d0887"
             ],
             [
              0.1111111111111111,
              "#46039f"
             ],
             [
              0.2222222222222222,
              "#7201a8"
             ],
             [
              0.3333333333333333,
              "#9c179e"
             ],
             [
              0.4444444444444444,
              "#bd3786"
             ],
             [
              0.5555555555555556,
              "#d8576b"
             ],
             [
              0.6666666666666666,
              "#ed7953"
             ],
             [
              0.7777777777777778,
              "#fb9f3a"
             ],
             [
              0.8888888888888888,
              "#fdca26"
             ],
             [
              1,
              "#f0f921"
             ]
            ],
            "type": "heatmapgl"
           }
          ],
          "histogram": [
           {
            "marker": {
             "pattern": {
              "fillmode": "overlay",
              "size": 10,
              "solidity": 0.2
             }
            },
            "type": "histogram"
           }
          ],
          "histogram2d": [
           {
            "colorbar": {
             "outlinewidth": 0,
             "ticks": ""
            },
            "colorscale": [
             [
              0,
              "#0d0887"
             ],
             [
              0.1111111111111111,
              "#46039f"
             ],
             [
              0.2222222222222222,
              "#7201a8"
             ],
             [
              0.3333333333333333,
              "#9c179e"
             ],
             [
              0.4444444444444444,
              "#bd3786"
             ],
             [
              0.5555555555555556,
              "#d8576b"
             ],
             [
              0.6666666666666666,
              "#ed7953"
             ],
             [
              0.7777777777777778,
              "#fb9f3a"
             ],
             [
              0.8888888888888888,
              "#fdca26"
             ],
             [
              1,
              "#f0f921"
             ]
            ],
            "type": "histogram2d"
           }
          ],
          "histogram2dcontour": [
           {
            "colorbar": {
             "outlinewidth": 0,
             "ticks": ""
            },
            "colorscale": [
             [
              0,
              "#0d0887"
             ],
             [
              0.1111111111111111,
              "#46039f"
             ],
             [
              0.2222222222222222,
              "#7201a8"
             ],
             [
              0.3333333333333333,
              "#9c179e"
             ],
             [
              0.4444444444444444,
              "#bd3786"
             ],
             [
              0.5555555555555556,
              "#d8576b"
             ],
             [
              0.6666666666666666,
              "#ed7953"
             ],
             [
              0.7777777777777778,
              "#fb9f3a"
             ],
             [
              0.8888888888888888,
              "#fdca26"
             ],
             [
              1,
              "#f0f921"
             ]
            ],
            "type": "histogram2dcontour"
           }
          ],
          "mesh3d": [
           {
            "colorbar": {
             "outlinewidth": 0,
             "ticks": ""
            },
            "type": "mesh3d"
           }
          ],
          "parcoords": [
           {
            "line": {
             "colorbar": {
              "outlinewidth": 0,
              "ticks": ""
             }
            },
            "type": "parcoords"
           }
          ],
          "pie": [
           {
            "automargin": true,
            "type": "pie"
           }
          ],
          "scatter": [
           {
            "fillpattern": {
             "fillmode": "overlay",
             "size": 10,
             "solidity": 0.2
            },
            "type": "scatter"
           }
          ],
          "scatter3d": [
           {
            "line": {
             "colorbar": {
              "outlinewidth": 0,
              "ticks": ""
             }
            },
            "marker": {
             "colorbar": {
              "outlinewidth": 0,
              "ticks": ""
             }
            },
            "type": "scatter3d"
           }
          ],
          "scattercarpet": [
           {
            "marker": {
             "colorbar": {
              "outlinewidth": 0,
              "ticks": ""
             }
            },
            "type": "scattercarpet"
           }
          ],
          "scattergeo": [
           {
            "marker": {
             "colorbar": {
              "outlinewidth": 0,
              "ticks": ""
             }
            },
            "type": "scattergeo"
           }
          ],
          "scattergl": [
           {
            "marker": {
             "colorbar": {
              "outlinewidth": 0,
              "ticks": ""
             }
            },
            "type": "scattergl"
           }
          ],
          "scattermapbox": [
           {
            "marker": {
             "colorbar": {
              "outlinewidth": 0,
              "ticks": ""
             }
            },
            "type": "scattermapbox"
           }
          ],
          "scatterpolar": [
           {
            "marker": {
             "colorbar": {
              "outlinewidth": 0,
              "ticks": ""
             }
            },
            "type": "scatterpolar"
           }
          ],
          "scatterpolargl": [
           {
            "marker": {
             "colorbar": {
              "outlinewidth": 0,
              "ticks": ""
             }
            },
            "type": "scatterpolargl"
           }
          ],
          "scatterternary": [
           {
            "marker": {
             "colorbar": {
              "outlinewidth": 0,
              "ticks": ""
             }
            },
            "type": "scatterternary"
           }
          ],
          "surface": [
           {
            "colorbar": {
             "outlinewidth": 0,
             "ticks": ""
            },
            "colorscale": [
             [
              0,
              "#0d0887"
             ],
             [
              0.1111111111111111,
              "#46039f"
             ],
             [
              0.2222222222222222,
              "#7201a8"
             ],
             [
              0.3333333333333333,
              "#9c179e"
             ],
             [
              0.4444444444444444,
              "#bd3786"
             ],
             [
              0.5555555555555556,
              "#d8576b"
             ],
             [
              0.6666666666666666,
              "#ed7953"
             ],
             [
              0.7777777777777778,
              "#fb9f3a"
             ],
             [
              0.8888888888888888,
              "#fdca26"
             ],
             [
              1,
              "#f0f921"
             ]
            ],
            "type": "surface"
           }
          ],
          "table": [
           {
            "cells": {
             "fill": {
              "color": "#EBF0F8"
             },
             "line": {
              "color": "white"
             }
            },
            "header": {
             "fill": {
              "color": "#C8D4E3"
             },
             "line": {
              "color": "white"
             }
            },
            "type": "table"
           }
          ]
         },
         "layout": {
          "annotationdefaults": {
           "arrowcolor": "#2a3f5f",
           "arrowhead": 0,
           "arrowwidth": 1
          },
          "autotypenumbers": "strict",
          "coloraxis": {
           "colorbar": {
            "outlinewidth": 0,
            "ticks": ""
           }
          },
          "colorscale": {
           "diverging": [
            [
             0,
             "#8e0152"
            ],
            [
             0.1,
             "#c51b7d"
            ],
            [
             0.2,
             "#de77ae"
            ],
            [
             0.3,
             "#f1b6da"
            ],
            [
             0.4,
             "#fde0ef"
            ],
            [
             0.5,
             "#f7f7f7"
            ],
            [
             0.6,
             "#e6f5d0"
            ],
            [
             0.7,
             "#b8e186"
            ],
            [
             0.8,
             "#7fbc41"
            ],
            [
             0.9,
             "#4d9221"
            ],
            [
             1,
             "#276419"
            ]
           ],
           "sequential": [
            [
             0,
             "#0d0887"
            ],
            [
             0.1111111111111111,
             "#46039f"
            ],
            [
             0.2222222222222222,
             "#7201a8"
            ],
            [
             0.3333333333333333,
             "#9c179e"
            ],
            [
             0.4444444444444444,
             "#bd3786"
            ],
            [
             0.5555555555555556,
             "#d8576b"
            ],
            [
             0.6666666666666666,
             "#ed7953"
            ],
            [
             0.7777777777777778,
             "#fb9f3a"
            ],
            [
             0.8888888888888888,
             "#fdca26"
            ],
            [
             1,
             "#f0f921"
            ]
           ],
           "sequentialminus": [
            [
             0,
             "#0d0887"
            ],
            [
             0.1111111111111111,
             "#46039f"
            ],
            [
             0.2222222222222222,
             "#7201a8"
            ],
            [
             0.3333333333333333,
             "#9c179e"
            ],
            [
             0.4444444444444444,
             "#bd3786"
            ],
            [
             0.5555555555555556,
             "#d8576b"
            ],
            [
             0.6666666666666666,
             "#ed7953"
            ],
            [
             0.7777777777777778,
             "#fb9f3a"
            ],
            [
             0.8888888888888888,
             "#fdca26"
            ],
            [
             1,
             "#f0f921"
            ]
           ]
          },
          "colorway": [
           "#636efa",
           "#EF553B",
           "#00cc96",
           "#ab63fa",
           "#FFA15A",
           "#19d3f3",
           "#FF6692",
           "#B6E880",
           "#FF97FF",
           "#FECB52"
          ],
          "font": {
           "color": "#2a3f5f"
          },
          "geo": {
           "bgcolor": "white",
           "lakecolor": "white",
           "landcolor": "#E5ECF6",
           "showlakes": true,
           "showland": true,
           "subunitcolor": "white"
          },
          "hoverlabel": {
           "align": "left"
          },
          "hovermode": "closest",
          "mapbox": {
           "style": "light"
          },
          "paper_bgcolor": "white",
          "plot_bgcolor": "#E5ECF6",
          "polar": {
           "angularaxis": {
            "gridcolor": "white",
            "linecolor": "white",
            "ticks": ""
           },
           "bgcolor": "#E5ECF6",
           "radialaxis": {
            "gridcolor": "white",
            "linecolor": "white",
            "ticks": ""
           }
          },
          "scene": {
           "xaxis": {
            "backgroundcolor": "#E5ECF6",
            "gridcolor": "white",
            "gridwidth": 2,
            "linecolor": "white",
            "showbackground": true,
            "ticks": "",
            "zerolinecolor": "white"
           },
           "yaxis": {
            "backgroundcolor": "#E5ECF6",
            "gridcolor": "white",
            "gridwidth": 2,
            "linecolor": "white",
            "showbackground": true,
            "ticks": "",
            "zerolinecolor": "white"
           },
           "zaxis": {
            "backgroundcolor": "#E5ECF6",
            "gridcolor": "white",
            "gridwidth": 2,
            "linecolor": "white",
            "showbackground": true,
            "ticks": "",
            "zerolinecolor": "white"
           }
          },
          "shapedefaults": {
           "line": {
            "color": "#2a3f5f"
           }
          },
          "ternary": {
           "aaxis": {
            "gridcolor": "white",
            "linecolor": "white",
            "ticks": ""
           },
           "baxis": {
            "gridcolor": "white",
            "linecolor": "white",
            "ticks": ""
           },
           "bgcolor": "#E5ECF6",
           "caxis": {
            "gridcolor": "white",
            "linecolor": "white",
            "ticks": ""
           }
          },
          "title": {
           "x": 0.05
          },
          "xaxis": {
           "automargin": true,
           "gridcolor": "white",
           "linecolor": "white",
           "ticks": "",
           "title": {
            "standoff": 15
           },
           "zerolinecolor": "white",
           "zerolinewidth": 2
          },
          "yaxis": {
           "automargin": true,
           "gridcolor": "white",
           "linecolor": "white",
           "ticks": "",
           "title": {
            "standoff": 15
           },
           "zerolinecolor": "white",
           "zerolinewidth": 2
          }
         }
        }
       }
      }
     },
     "metadata": {},
     "output_type": "display_data"
    }
   ],
   "source": [
    "dataframe=df\n",
    "num=2\n",
    "top_n=20\n",
    "save_viz = \"interactive_bigrams_7days\"\n",
    "extra_stops=['trump']\n",
    "ngram_time_last_7_days_interactive(dataframe=dataframe, \n",
    "                                   num=num, \n",
    "                                   save_viz=save_viz, \n",
    "                                   extra_stops=extra_stops, \n",
    "                                   top_n=top_n)"
   ]
  },
  {
   "cell_type": "code",
   "execution_count": null,
   "metadata": {},
   "outputs": [],
   "source": []
  },
  {
   "cell_type": "code",
   "execution_count": null,
   "metadata": {},
   "outputs": [],
   "source": []
  }
 ],
 "metadata": {
  "kernelspec": {
   "display_name": "Python 3",
   "language": "python",
   "name": "python3"
  },
  "language_info": {
   "codemirror_mode": {
    "name": "ipython",
    "version": 3
   },
   "file_extension": ".py",
   "mimetype": "text/x-python",
   "name": "python",
   "nbconvert_exporter": "python",
   "pygments_lexer": "ipython3",
   "version": "3.12.0"
  }
 },
 "nbformat": 4,
 "nbformat_minor": 2
}
