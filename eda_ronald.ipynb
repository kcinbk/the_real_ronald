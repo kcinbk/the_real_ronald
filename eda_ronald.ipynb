{
 "cells": [
  {
   "cell_type": "code",
   "execution_count": 42,
   "metadata": {},
   "outputs": [],
   "source": [
    "import pandas as pd\n",
    "import json\n",
    "import numpy as np\n",
    "import matplotlib.pyplot as plt\n",
    "import os\n",
    "import glob\n",
    "\n",
    "dfs=[]\n",
    "for file in glob.glob(\"*.json\"):\n",
    "    dataframe = pd.read_json(file)['posts']\n",
    "    # flatten the structure\n",
    "    dataframe = pd.json_normalize(dataframe)\n",
    "    dataframe = dataframe.drop_duplicates(subset='uuid')\n",
    "    # insert file names\n",
    "    dataframe['file_name'] = os.path.basename(file)\n",
    "    dfs.append(dataframe)\n",
    "\n",
    "df=pd.concat(dfs)     "
   ]
  },
  {
   "cell_type": "code",
   "execution_count": 44,
   "metadata": {},
   "outputs": [
    {
     "name": "stdout",
     "output_type": "stream",
     "text": [
      "<class 'pandas.core.frame.DataFrame'>\n",
      "Index: 29 entries, 0 to 28\n",
      "Data columns (total 16 columns):\n",
      " #   Column             Non-Null Count  Dtype                     \n",
      "---  ------             --------------  -----                     \n",
      " 0   file_name          29 non-null     object                    \n",
      " 1   uuid               29 non-null     object                    \n",
      " 2   title              29 non-null     object                    \n",
      " 3   content            29 non-null     object                    \n",
      " 4   post_flair_text    29 non-null     object                    \n",
      " 5   author             29 non-null     object                    \n",
      " 6   author_flair_text  29 non-null     object                    \n",
      " 7   created            29 non-null     datetime64[ns, US/Eastern]\n",
      " 8   comments           29 non-null     int64                     \n",
      " 9   score_up           29 non-null     int64                     \n",
      " 10  preview            29 non-null     object                    \n",
      " 11  tweet_id           29 non-null     object                    \n",
      " 12  domain             29 non-null     object                    \n",
      " 13  is_image           29 non-null     bool                      \n",
      " 14  is_video           29 non-null     bool                      \n",
      " 15  video_link         29 non-null     object                    \n",
      "dtypes: bool(2), datetime64[ns, US/Eastern](1), int64(2), object(11)\n",
      "memory usage: 3.5+ KB\n"
     ]
    },
    {
     "name": "stderr",
     "output_type": "stream",
     "text": [
      "/var/folders/f2/xbsrplkj23z71l_fw6890_hr0000gn/T/ipykernel_98269/2490293429.py:22: FutureWarning: Downcasting behavior in `replace` is deprecated and will be removed in a future version. To retain the old behavior, explicitly call `result.infer_objects(copy=False)`. To opt-in to the future behavior, set `pd.set_option('future.no_silent_downcasting', True)`\n",
      "  dataframe = dataframe.replace(r'^\\s*$', np.nan, regex=True)\n"
     ]
    }
   ],
   "source": [
    "selected_columns = [\n",
    "    'file_name',\n",
    "    'uuid', \n",
    "    'title',\n",
    "    'content',\n",
    "    'post_flair_text',\n",
    "    'author',\n",
    "    'author_flair_text',\n",
    "    'created',\n",
    "    'comments',\n",
    "    'score_up',\n",
    "    'preview',\n",
    "    'tweet_id',\n",
    "    'domain',\n",
    "    'is_image',\n",
    "    'is_video',\n",
    "    'video_link'\n",
    "    ]\t\n",
    "\n",
    "df = df[selected_columns]\n",
    "# replace empty cell with Nan\n",
    "dataframe = dataframe.replace(r'^\\s*$', np.nan, regex=True)\n",
    "# format datetime\n",
    "df['created'] = pd.to_datetime(df.created, unit='ms').dt.tz_localize('UTC').dt.tz_convert('US/Eastern')\n",
    "\n",
    "df.info()"
   ]
  },
  {
   "cell_type": "code",
   "execution_count": null,
   "metadata": {},
   "outputs": [],
   "source": []
  }
 ],
 "metadata": {
  "kernelspec": {
   "display_name": "Python 3",
   "language": "python",
   "name": "python3"
  },
  "language_info": {
   "codemirror_mode": {
    "name": "ipython",
    "version": 3
   },
   "file_extension": ".py",
   "mimetype": "text/x-python",
   "name": "python",
   "nbconvert_exporter": "python",
   "pygments_lexer": "ipython3",
   "version": "3.12.0"
  }
 },
 "nbformat": 4,
 "nbformat_minor": 2
}
